{
 "cells": [
  {
   "cell_type": "code",
   "execution_count": 89,
   "metadata": {},
   "outputs": [],
   "source": [
    "import json\n",
    "import random\n",
    "import textwrap\n",
    "import numpy as np\n",
    "import pandas as pd \n",
    "import matplotlib.pyplot as plt\n",
    "from bellem.utils import jprint"
   ]
  },
  {
   "cell_type": "code",
   "execution_count": null,
   "metadata": {},
   "outputs": [
    {
     "name": "stdout",
     "output_type": "stream",
     "text": [
      "2417\n"
     ]
    },
    {
     "data": {
      "text/html": [
       "<div>\n",
       "<style scoped>\n",
       "    .dataframe tbody tr th:only-of-type {\n",
       "        vertical-align: middle;\n",
       "    }\n",
       "\n",
       "    .dataframe tbody tr th {\n",
       "        vertical-align: top;\n",
       "    }\n",
       "\n",
       "    .dataframe thead th {\n",
       "        text-align: right;\n",
       "    }\n",
       "</style>\n",
       "<table border=\"1\" class=\"dataframe\">\n",
       "  <thead>\n",
       "    <tr style=\"text-align: right;\">\n",
       "      <th></th>\n",
       "      <th>id</th>\n",
       "      <th>n_hops</th>\n",
       "      <th>answer</th>\n",
       "      <th>hops</th>\n",
       "      <th>predicted_answer</th>\n",
       "      <th>reference_answers</th>\n",
       "      <th>exact_match</th>\n",
       "      <th>f1</th>\n",
       "      <th>fuzzy_match</th>\n",
       "    </tr>\n",
       "  </thead>\n",
       "  <tbody>\n",
       "    <tr>\n",
       "      <th>0</th>\n",
       "      <td>2hop__460946_294723</td>\n",
       "      <td>2</td>\n",
       "      <td>Miquette Giraudy</td>\n",
       "      <td>[{'question': 'Who is the spouse of the Green ...</td>\n",
       "      <td>Miquette Giraudy</td>\n",
       "      <td>[Miquette Giraudy]</td>\n",
       "      <td>1</td>\n",
       "      <td>1.0</td>\n",
       "      <td>1</td>\n",
       "    </tr>\n",
       "    <tr>\n",
       "      <th>1</th>\n",
       "      <td>2hop__252311_366220</td>\n",
       "      <td>2</td>\n",
       "      <td>Mike Medavoy</td>\n",
       "      <td>[{'question': 'Who founded the company that di...</td>\n",
       "      <td>Mike Medavoy</td>\n",
       "      <td>[Mike Medavoy]</td>\n",
       "      <td>1</td>\n",
       "      <td>1.0</td>\n",
       "      <td>1</td>\n",
       "    </tr>\n",
       "    <tr>\n",
       "      <th>2</th>\n",
       "      <td>2hop__701895_752697</td>\n",
       "      <td>2</td>\n",
       "      <td>Nuevo Laredo Municipality</td>\n",
       "      <td>[{'question': 'What administrative territorial...</td>\n",
       "      <td>Nuevo Laredo Municipality</td>\n",
       "      <td>[Tamaulipas]</td>\n",
       "      <td>0</td>\n",
       "      <td>0.0</td>\n",
       "      <td>0</td>\n",
       "    </tr>\n",
       "    <tr>\n",
       "      <th>3</th>\n",
       "      <td>2hop__259228_793698</td>\n",
       "      <td>2</td>\n",
       "      <td>German Aerospace Center</td>\n",
       "      <td>[{'question': 'Where is Ulrich Walter's employ...</td>\n",
       "      <td>German Aerospace Center</td>\n",
       "      <td>[Cologne]</td>\n",
       "      <td>0</td>\n",
       "      <td>0.0</td>\n",
       "      <td>0</td>\n",
       "    </tr>\n",
       "    <tr>\n",
       "      <th>4</th>\n",
       "      <td>2hop__481349_302087</td>\n",
       "      <td>2</td>\n",
       "      <td>Bombardier Inc.</td>\n",
       "      <td>[{'question': 'Which company owns the manufact...</td>\n",
       "      <td>Bombardier Inc.</td>\n",
       "      <td>[Bombardier, Bombardier Inc.]</td>\n",
       "      <td>1</td>\n",
       "      <td>1.0</td>\n",
       "      <td>1</td>\n",
       "    </tr>\n",
       "  </tbody>\n",
       "</table>\n",
       "</div>"
      ],
      "text/plain": [
       "                    id  n_hops                     answer  \\\n",
       "0  2hop__460946_294723       2           Miquette Giraudy   \n",
       "1  2hop__252311_366220       2               Mike Medavoy   \n",
       "2  2hop__701895_752697       2  Nuevo Laredo Municipality   \n",
       "3  2hop__259228_793698       2    German Aerospace Center   \n",
       "4  2hop__481349_302087       2            Bombardier Inc.   \n",
       "\n",
       "                                                hops  \\\n",
       "0  [{'question': 'Who is the spouse of the Green ...   \n",
       "1  [{'question': 'Who founded the company that di...   \n",
       "2  [{'question': 'What administrative territorial...   \n",
       "3  [{'question': 'Where is Ulrich Walter's employ...   \n",
       "4  [{'question': 'Which company owns the manufact...   \n",
       "\n",
       "            predicted_answer              reference_answers  exact_match   f1  \\\n",
       "0           Miquette Giraudy             [Miquette Giraudy]            1  1.0   \n",
       "1               Mike Medavoy                 [Mike Medavoy]            1  1.0   \n",
       "2  Nuevo Laredo Municipality                   [Tamaulipas]            0  0.0   \n",
       "3    German Aerospace Center                      [Cologne]            0  0.0   \n",
       "4            Bombardier Inc.  [Bombardier, Bombardier Inc.]            1  1.0   \n",
       "\n",
       "   fuzzy_match  \n",
       "0            1  \n",
       "1            1  \n",
       "2            0  \n",
       "3            0  \n",
       "4            1  "
      ]
     },
     "execution_count": 90,
     "metadata": {},
     "output_type": "execute_result"
    }
   ],
   "source": [
    "df = pd.read_json('../data/generated/reports/results.jsonl', lines=True)\n",
    "print(len(df))\n",
    "df.head()"
   ]
  },
  {
   "cell_type": "code",
   "execution_count": 91,
   "metadata": {},
   "outputs": [],
   "source": [
    "def _parse_triplets(generation):\n",
    "    seen_triplets_header = False\n",
    "    for line in generation.split('\\n'):\n",
    "        if line.startswith('Triplets'):\n",
    "            seen_triplets_header = True\n",
    "            continue\n",
    "        if line.startswith(\"Answer\"):\n",
    "            return\n",
    "        if seen_triplets_header and line.strip():\n",
    "            yield line.strip()\n",
    "\n",
    "def parse_triplets(generation):\n",
    "    return [triplet.strip() for triplet in _parse_triplets(generation) if triplet.strip()]"
   ]
  },
  {
   "cell_type": "code",
   "execution_count": 92,
   "metadata": {},
   "outputs": [
    {
     "data": {
      "text/html": [
       "<div>\n",
       "<style scoped>\n",
       "    .dataframe tbody tr th:only-of-type {\n",
       "        vertical-align: middle;\n",
       "    }\n",
       "\n",
       "    .dataframe tbody tr th {\n",
       "        vertical-align: top;\n",
       "    }\n",
       "\n",
       "    .dataframe thead th {\n",
       "        text-align: right;\n",
       "    }\n",
       "</style>\n",
       "<table border=\"1\" class=\"dataframe\">\n",
       "  <thead>\n",
       "    <tr style=\"text-align: right;\">\n",
       "      <th></th>\n",
       "      <th>id</th>\n",
       "      <th>n_hops</th>\n",
       "      <th>answer</th>\n",
       "      <th>hops</th>\n",
       "      <th>predicted_answer</th>\n",
       "      <th>reference_answers</th>\n",
       "      <th>exact_match</th>\n",
       "      <th>f1</th>\n",
       "      <th>fuzzy_match</th>\n",
       "      <th>generation</th>\n",
       "      <th>triplets</th>\n",
       "    </tr>\n",
       "  </thead>\n",
       "  <tbody>\n",
       "    <tr>\n",
       "      <th>0</th>\n",
       "      <td>2hop__460946_294723</td>\n",
       "      <td>2</td>\n",
       "      <td>Miquette Giraudy</td>\n",
       "      <td>[{'question': 'Who is the spouse of the Green ...</td>\n",
       "      <td>Miquette Giraudy</td>\n",
       "      <td>[Miquette Giraudy]</td>\n",
       "      <td>1</td>\n",
       "      <td>1.0</td>\n",
       "      <td>1</td>\n",
       "      <td>Triplets:\\nMiquette Giraudy | partner | Steve ...</td>\n",
       "      <td>[Miquette Giraudy | partner | Steve Hillage, S...</td>\n",
       "    </tr>\n",
       "    <tr>\n",
       "      <th>1</th>\n",
       "      <td>2hop__252311_366220</td>\n",
       "      <td>2</td>\n",
       "      <td>Mike Medavoy</td>\n",
       "      <td>[{'question': 'Who founded the company that di...</td>\n",
       "      <td>Mike Medavoy</td>\n",
       "      <td>[Mike Medavoy]</td>\n",
       "      <td>1</td>\n",
       "      <td>1.0</td>\n",
       "      <td>1</td>\n",
       "      <td>Triplets:\\nMike Medavoy | co-founder of | Orio...</td>\n",
       "      <td>[Mike Medavoy | co-founder of | Orion Pictures...</td>\n",
       "    </tr>\n",
       "    <tr>\n",
       "      <th>2</th>\n",
       "      <td>2hop__701895_752697</td>\n",
       "      <td>2</td>\n",
       "      <td>Nuevo Laredo Municipality</td>\n",
       "      <td>[{'question': 'What administrative territorial...</td>\n",
       "      <td>Nuevo Laredo Municipality</td>\n",
       "      <td>[Tamaulipas]</td>\n",
       "      <td>0</td>\n",
       "      <td>0.0</td>\n",
       "      <td>0</td>\n",
       "      <td>Triplets:\\nCiudad Deportiva | located in | Nue...</td>\n",
       "      <td>[Ciudad Deportiva | located in | Nuevo Laredo,...</td>\n",
       "    </tr>\n",
       "    <tr>\n",
       "      <th>3</th>\n",
       "      <td>2hop__259228_793698</td>\n",
       "      <td>2</td>\n",
       "      <td>German Aerospace Center</td>\n",
       "      <td>[{'question': 'Where is Ulrich Walter's employ...</td>\n",
       "      <td>German Aerospace Center</td>\n",
       "      <td>[Cologne]</td>\n",
       "      <td>0</td>\n",
       "      <td>0.0</td>\n",
       "      <td>0</td>\n",
       "      <td>Triplets:\\nUlrich Walter | trained at | German...</td>\n",
       "      <td>[Ulrich Walter | trained at | German Aerospace...</td>\n",
       "    </tr>\n",
       "    <tr>\n",
       "      <th>4</th>\n",
       "      <td>2hop__481349_302087</td>\n",
       "      <td>2</td>\n",
       "      <td>Bombardier Inc.</td>\n",
       "      <td>[{'question': 'Which company owns the manufact...</td>\n",
       "      <td>Bombardier Inc.</td>\n",
       "      <td>[Bombardier, Bombardier Inc.]</td>\n",
       "      <td>1</td>\n",
       "      <td>1.0</td>\n",
       "      <td>1</td>\n",
       "      <td>Triplets:\\nLearjet 60 | manufactured by | Bomb...</td>\n",
       "      <td>[Learjet 60 | manufactured by | Bombardier Aer...</td>\n",
       "    </tr>\n",
       "  </tbody>\n",
       "</table>\n",
       "</div>"
      ],
      "text/plain": [
       "                    id  n_hops                     answer  \\\n",
       "0  2hop__460946_294723       2           Miquette Giraudy   \n",
       "1  2hop__252311_366220       2               Mike Medavoy   \n",
       "2  2hop__701895_752697       2  Nuevo Laredo Municipality   \n",
       "3  2hop__259228_793698       2    German Aerospace Center   \n",
       "4  2hop__481349_302087       2            Bombardier Inc.   \n",
       "\n",
       "                                                hops  \\\n",
       "0  [{'question': 'Who is the spouse of the Green ...   \n",
       "1  [{'question': 'Who founded the company that di...   \n",
       "2  [{'question': 'What administrative territorial...   \n",
       "3  [{'question': 'Where is Ulrich Walter's employ...   \n",
       "4  [{'question': 'Which company owns the manufact...   \n",
       "\n",
       "            predicted_answer              reference_answers  exact_match   f1  \\\n",
       "0           Miquette Giraudy             [Miquette Giraudy]            1  1.0   \n",
       "1               Mike Medavoy                 [Mike Medavoy]            1  1.0   \n",
       "2  Nuevo Laredo Municipality                   [Tamaulipas]            0  0.0   \n",
       "3    German Aerospace Center                      [Cologne]            0  0.0   \n",
       "4            Bombardier Inc.  [Bombardier, Bombardier Inc.]            1  1.0   \n",
       "\n",
       "   fuzzy_match                                         generation  \\\n",
       "0            1  Triplets:\\nMiquette Giraudy | partner | Steve ...   \n",
       "1            1  Triplets:\\nMike Medavoy | co-founder of | Orio...   \n",
       "2            0  Triplets:\\nCiudad Deportiva | located in | Nue...   \n",
       "3            0  Triplets:\\nUlrich Walter | trained at | German...   \n",
       "4            1  Triplets:\\nLearjet 60 | manufactured by | Bomb...   \n",
       "\n",
       "                                            triplets  \n",
       "0  [Miquette Giraudy | partner | Steve Hillage, S...  \n",
       "1  [Mike Medavoy | co-founder of | Orion Pictures...  \n",
       "2  [Ciudad Deportiva | located in | Nuevo Laredo,...  \n",
       "3  [Ulrich Walter | trained at | German Aerospace...  \n",
       "4  [Learjet 60 | manufactured by | Bombardier Aer...  "
      ]
     },
     "execution_count": 92,
     "metadata": {},
     "output_type": "execute_result"
    }
   ],
   "source": [
    "df['generation'] = df['hops'].map(lambda x: x[-1]['qa_result']['generation'])\n",
    "df['triplets'] = df['generation'].map(parse_triplets)\n",
    "df.head()"
   ]
  },
  {
   "cell_type": "code",
   "execution_count": 93,
   "metadata": {},
   "outputs": [
    {
     "data": {
      "text/plain": [
       "0"
      ]
     },
     "execution_count": 93,
     "metadata": {},
     "output_type": "execute_result"
    }
   ],
   "source": [
    "missing_triplets = ~(df['generation'].str.contains(\"Triplets\"))\n",
    "len(df.loc[missing_triplets])"
   ]
  },
  {
   "cell_type": "code",
   "execution_count": 94,
   "metadata": {},
   "outputs": [
    {
     "name": "stdout",
     "output_type": "stream",
     "text": [
      "763 1654 2417\n",
      "0.684\n"
     ]
    }
   ],
   "source": [
    "success_mask = df['f1'] > 0.7\n",
    "fail_df = df[~success_mask]\n",
    "success_df = df[success_mask]\n",
    "print(len(fail_df), len(success_df), len(df))\n",
    "print(\"{:.3f}\".format(len(success_df)/len(df)))"
   ]
  },
  {
   "cell_type": "code",
   "execution_count": 95,
   "metadata": {},
   "outputs": [],
   "source": [
    "def format_paragraph(paragraph):\n",
    "    return f\"Paragraph {paragraph['idx']} - {paragraph['paragraph_text']}\"\n",
    "\n",
    "def present_hop(hop):\n",
    "    print('-'*80)\n",
    "    print(hop['context'])\n",
    "    print('-'*80)\n",
    "    print(hop['question'])\n",
    "    print('-'*80)\n",
    "    print(hop['qa_result']['generation'])\n",
    "\n",
    "def present_row(row):\n",
    "    print(row['id'])\n",
    "    print()\n",
    "    print(\"Success\" if row['f1']>0.99 else \"Fail\")\n",
    "    print()\n",
    "    for hop in row['hops']:\n",
    "        present_hop(hop)\n",
    "    print()\n",
    "    print(f\"Reference: {row['reference_answers']}\")"
   ]
  },
  {
   "cell_type": "code",
   "execution_count": 96,
   "metadata": {},
   "outputs": [
    {
     "name": "stdout",
     "output_type": "stream",
     "text": [
      "2hop__460946_294723\n",
      "\n",
      "Success\n",
      "\n",
      "--------------------------------------------------------------------------------\n",
      "# Miquette Giraudy\n",
      "Miquette Giraudy (born 9 February 1953, Nice, France) is a keyboard player and vocalist, best known for her work in Gong and with her partner Steve Hillage. She and Hillage currently form the core of the ambient band System 7. In addition to her performances in music, she has also worked as an actress, film editor and writer. In each role, she has used different stage names.\n",
      "\n",
      "# Green (Steve Hillage album)\n",
      "Green is the fourth studio album by British progressive rock musician Steve Hillage. Written in spring 1977 at the same time as his previous album, the funk-inflected \"Motivation Radio\" (1977), \"Green\" was originally going to be released as \"The Green Album\" as a companion to \"The Red Album\" (the originally intended name for \"Motivation Radio\"). However, this plan was dropped and after a US tour in late 1977, \"Green\" was recorded alone, primarily in Dorking, Surrey, and in London.\n",
      "--------------------------------------------------------------------------------\n",
      "Who is the spouse of the Green performer?\n",
      "--------------------------------------------------------------------------------\n",
      "Triplets:\n",
      "Miquette Giraudy | partner | Steve Hillage\n",
      "Steve Hillage | performer of | Green\n",
      "\n",
      "Answer: Miquette Giraudy\n",
      "\n",
      "Reference: ['Miquette Giraudy']\n"
     ]
    }
   ],
   "source": [
    "i = 0\n",
    "row = df.iloc[i]\n",
    "present_row(row)"
   ]
  },
  {
   "cell_type": "code",
   "execution_count": 97,
   "metadata": {},
   "outputs": [
    {
     "name": "stdout",
     "output_type": "stream",
     "text": [
      "2hop__259228_793698\n",
      "\n",
      "Fail\n",
      "\n",
      "--------------------------------------------------------------------------------\n",
      "# Philae (spacecraft)\n",
      "The lander is named after the Philae obelisk, which bears a bilingual inscription and was used along with the Rosetta Stone to decipher Egyptian hieroglyphs. \"Philae\" was monitored and operated from DLR's Lander Control Center in Cologne, Germany.\n",
      "\n",
      "# Ulrich Walter\n",
      "After two post-doc positions at the Argonne National Laboratory, Chicago, Illinois, and the University of California at Berkeley, California, he was selected in 1987 to join the German astronaut team. From 1988 to 1990, he completed basic training at the German Aerospace Center, and was then nominated to be in the prime crew for the second German Spacelab mission.\n",
      "--------------------------------------------------------------------------------\n",
      "Where is Ulrich Walter's employer headquartered?\n",
      "--------------------------------------------------------------------------------\n",
      "Triplets:\n",
      "Ulrich Walter | trained at | German Aerospace Center\n",
      "\n",
      "Answer: German Aerospace Center\n",
      "\n",
      "Reference: ['Cologne']\n"
     ]
    }
   ],
   "source": [
    "i = 1\n",
    "row = fail_df.iloc[i]\n",
    "present_row(row)"
   ]
  },
  {
   "cell_type": "code",
   "execution_count": 98,
   "metadata": {},
   "outputs": [
    {
     "data": {
      "text/plain": [
       "count    2417.000000\n",
       "mean        2.894084\n",
       "std         1.077480\n",
       "min         1.000000\n",
       "25%         2.000000\n",
       "50%         3.000000\n",
       "75%         3.000000\n",
       "max         9.000000\n",
       "Name: n_triplets, dtype: float64"
      ]
     },
     "execution_count": 98,
     "metadata": {},
     "output_type": "execute_result"
    }
   ],
   "source": [
    "df['n_triplets'] = df['triplets'].map(len)\n",
    "df['n_triplets'].describe()"
   ]
  },
  {
   "cell_type": "code",
   "execution_count": 99,
   "metadata": {},
   "outputs": [
    {
     "data": {
      "text/html": [
       "<div>\n",
       "<style scoped>\n",
       "    .dataframe tbody tr th:only-of-type {\n",
       "        vertical-align: middle;\n",
       "    }\n",
       "\n",
       "    .dataframe tbody tr th {\n",
       "        vertical-align: top;\n",
       "    }\n",
       "\n",
       "    .dataframe thead th {\n",
       "        text-align: right;\n",
       "    }\n",
       "</style>\n",
       "<table border=\"1\" class=\"dataframe\">\n",
       "  <thead>\n",
       "    <tr style=\"text-align: right;\">\n",
       "      <th></th>\n",
       "      <th>n_hops</th>\n",
       "      <th>exact_match</th>\n",
       "      <th>f1</th>\n",
       "      <th>fuzzy_match</th>\n",
       "      <th>n_triplets</th>\n",
       "    </tr>\n",
       "  </thead>\n",
       "  <tbody>\n",
       "    <tr>\n",
       "      <th>count</th>\n",
       "      <td>349.000000</td>\n",
       "      <td>349.000000</td>\n",
       "      <td>349.000000</td>\n",
       "      <td>349.000000</td>\n",
       "      <td>349.000000</td>\n",
       "    </tr>\n",
       "    <tr>\n",
       "      <th>mean</th>\n",
       "      <td>3.303725</td>\n",
       "      <td>0.547278</td>\n",
       "      <td>0.638062</td>\n",
       "      <td>0.587393</td>\n",
       "      <td>2.214900</td>\n",
       "    </tr>\n",
       "    <tr>\n",
       "      <th>std</th>\n",
       "      <td>0.746265</td>\n",
       "      <td>0.498474</td>\n",
       "      <td>0.440480</td>\n",
       "      <td>0.493010</td>\n",
       "      <td>0.736726</td>\n",
       "    </tr>\n",
       "    <tr>\n",
       "      <th>min</th>\n",
       "      <td>2.000000</td>\n",
       "      <td>0.000000</td>\n",
       "      <td>0.000000</td>\n",
       "      <td>0.000000</td>\n",
       "      <td>1.000000</td>\n",
       "    </tr>\n",
       "    <tr>\n",
       "      <th>25%</th>\n",
       "      <td>3.000000</td>\n",
       "      <td>0.000000</td>\n",
       "      <td>0.000000</td>\n",
       "      <td>0.000000</td>\n",
       "      <td>2.000000</td>\n",
       "    </tr>\n",
       "    <tr>\n",
       "      <th>50%</th>\n",
       "      <td>3.000000</td>\n",
       "      <td>1.000000</td>\n",
       "      <td>1.000000</td>\n",
       "      <td>1.000000</td>\n",
       "      <td>2.000000</td>\n",
       "    </tr>\n",
       "    <tr>\n",
       "      <th>75%</th>\n",
       "      <td>4.000000</td>\n",
       "      <td>1.000000</td>\n",
       "      <td>1.000000</td>\n",
       "      <td>1.000000</td>\n",
       "      <td>3.000000</td>\n",
       "    </tr>\n",
       "    <tr>\n",
       "      <th>max</th>\n",
       "      <td>4.000000</td>\n",
       "      <td>1.000000</td>\n",
       "      <td>1.000000</td>\n",
       "      <td>1.000000</td>\n",
       "      <td>3.000000</td>\n",
       "    </tr>\n",
       "  </tbody>\n",
       "</table>\n",
       "</div>"
      ],
      "text/plain": [
       "           n_hops  exact_match          f1  fuzzy_match  n_triplets\n",
       "count  349.000000   349.000000  349.000000   349.000000  349.000000\n",
       "mean     3.303725     0.547278    0.638062     0.587393    2.214900\n",
       "std      0.746265     0.498474    0.440480     0.493010    0.736726\n",
       "min      2.000000     0.000000    0.000000     0.000000    1.000000\n",
       "25%      3.000000     0.000000    0.000000     0.000000    2.000000\n",
       "50%      3.000000     1.000000    1.000000     1.000000    2.000000\n",
       "75%      4.000000     1.000000    1.000000     1.000000    3.000000\n",
       "max      4.000000     1.000000    1.000000     1.000000    3.000000"
      ]
     },
     "execution_count": 99,
     "metadata": {},
     "output_type": "execute_result"
    }
   ],
   "source": [
    "poor_triplets_mask = df['n_triplets'] < df['n_hops']\n",
    "df[poor_triplets_mask].describe()"
   ]
  },
  {
   "cell_type": "code",
   "execution_count": 100,
   "metadata": {},
   "outputs": [
    {
     "data": {
      "text/plain": [
       "199"
      ]
     },
     "execution_count": 100,
     "metadata": {},
     "output_type": "execute_result"
    }
   ],
   "source": [
    "surprise_success_df = df[poor_triplets_mask&success_mask]\n",
    "len(surprise_success_df)"
   ]
  },
  {
   "cell_type": "code",
   "execution_count": 102,
   "metadata": {},
   "outputs": [
    {
     "name": "stdout",
     "output_type": "stream",
     "text": [
      "3hop1__33845_42197_18397\n",
      "\n",
      "Success\n",
      "\n",
      "--------------------------------------------------------------------------------\n",
      "# Korean War\n",
      "On 27 June 1950, two days after the KPA invaded and three months before the Chinese entered the war, President Truman dispatched the United States Seventh Fleet to the Taiwan Strait, to prevent hostilities between the Nationalist Republic of China (Taiwan) and the People's Republic of China (PRC). On 4 August 1950, with the PRC invasion of Taiwan aborted, Mao Zedong reported to the Politburo that he would intervene in Korea when the People's Liberation Army's (PLA) Taiwan invasion force was reorganized into the PLA North East Frontier Force. China justified its entry into the war as a response to \"American aggression in the guise of the UN\".\n",
      "\n",
      "# Imperialism\n",
      "Trotsky, and others, believed that the revolution could only succeed in Russia as part of a world revolution. Lenin wrote extensively on the matter and famously declared that Imperialism was the highest stage of capitalism. However, after Lenin's death, Joseph Stalin established 'socialism in one country' for the Soviet Union, creating the model for subsequent inward looking Stalinist states and purging the early Internationalist elements. The internationalist tendencies of the early revolution would be abandoned until they returned in the framework of a client state in competition with the Americans during the Cold War. With the beginning of the new era, the after Stalin period called the \"thaw\", in the late 1950s, the new political leader Nikita Khrushchev put even more pressure on the Soviet-American relations starting a new wave of anti-imperialist propaganda. In his speech on the UN conference in 1960, he announced the continuation of the war on imperialism, stating that soon the people of different countries will come together and overthrow their imperialist leaders. Although the Soviet Union declared itself anti-imperialist, critics argue that it exhibited tendencies common to historic empires. Some scholars hold that the Soviet Union was a hybrid entity containing elements common to both multinational empires and nation states. It has also been argued that the USSR practiced colonialism as did other imperial powers and was carrying on the old Russian tradition of expansion and control. Mao Zedong once argued that the Soviet Union had itself become an imperialist power while maintaining a socialist façade. Moreover, the ideas of imperialism were widely spread in action on the higher levels of government. Non Russian Marxists within the Russian Federation and later the USSR, like Sultan Galiev and Vasyl Shakhrai, considered the Soviet Regime a renewed version of the Russian imperialism and colonialism.\n",
      "\n",
      "# Central Intelligence Agency\n",
      "On 18 June 1948, the National Security Council issued Directive 10/2 calling for covert action against the USSR, and granting the authority to carry out covert operations against \"hostile foreign states or groups\" that could, if needed, be denied by the U.S. government. To this end, the Office of Policy Coordination was created inside the new CIA. The OPC was quite unique; Frank Wisner, the head of the OPC, answered not to the CIA Director, but to the secretaries of defense, state, and the NSC, and the OPC's actions were a secret even from the head of the CIA. Most CIA stations had two station chiefs, one working for the OSO, and one working for the OPC.\n",
      "--------------------------------------------------------------------------------\n",
      "Where did the arguer that the country Directive 10/2 called for actions against had become an imperialist power declare he would intervene in the Korean conflict?\n",
      "--------------------------------------------------------------------------------\n",
      "Triplets:\n",
      "Mao Zedong | declared | he would intervene in Korea\n",
      "Mao Zedong | reported to | Politburo\n",
      "\n",
      "Answer: Politburo\n",
      "\n",
      "Reference: ['the Politburo', 'Politburo']\n"
     ]
    }
   ],
   "source": [
    "i = random.randint(0, len(surprise_success_df))\n",
    "row = surprise_success_df.iloc[i]\n",
    "present_row(row)"
   ]
  },
  {
   "cell_type": "code",
   "execution_count": null,
   "metadata": {},
   "outputs": [],
   "source": []
  }
 ],
 "metadata": {
  "kernelspec": {
   "display_name": "baris",
   "language": "python",
   "name": "python3"
  },
  "language_info": {
   "codemirror_mode": {
    "name": "ipython",
    "version": 3
   },
   "file_extension": ".py",
   "mimetype": "text/x-python",
   "name": "python",
   "nbconvert_exporter": "python",
   "pygments_lexer": "ipython3",
   "version": "3.10.14"
  }
 },
 "nbformat": 4,
 "nbformat_minor": 2
}
