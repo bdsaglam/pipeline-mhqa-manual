{
 "cells": [
  {
   "cell_type": "code",
   "execution_count": 9,
   "metadata": {},
   "outputs": [],
   "source": [
    "import json\n",
    "from pathlib import Path\n",
    "\n",
    "import pandas as pd"
   ]
  },
  {
   "cell_type": "code",
   "execution_count": 10,
   "metadata": {},
   "outputs": [
    {
     "data": {
      "text/html": [
       "<div>\n",
       "<style scoped>\n",
       "    .dataframe tbody tr th:only-of-type {\n",
       "        vertical-align: middle;\n",
       "    }\n",
       "\n",
       "    .dataframe tbody tr th {\n",
       "        vertical-align: top;\n",
       "    }\n",
       "\n",
       "    .dataframe thead th {\n",
       "        text-align: right;\n",
       "    }\n",
       "</style>\n",
       "<table border=\"1\" class=\"dataframe\">\n",
       "  <thead>\n",
       "    <tr style=\"text-align: right;\">\n",
       "      <th></th>\n",
       "      <th>id</th>\n",
       "      <th>context</th>\n",
       "      <th>question</th>\n",
       "      <th>generation</th>\n",
       "      <th>n_hops</th>\n",
       "    </tr>\n",
       "  </thead>\n",
       "  <tbody>\n",
       "    <tr>\n",
       "      <th>0</th>\n",
       "      <td>2hop__71611_90450</td>\n",
       "      <td># Corn production in the United States\\nIowa, ...</td>\n",
       "      <td>Who was president when the place where the maj...</td>\n",
       "      <td>Thought:\\nIowa is the largest producer of corn...</td>\n",
       "      <td>2</td>\n",
       "    </tr>\n",
       "    <tr>\n",
       "      <th>1</th>\n",
       "      <td>2hop__612535_47295</td>\n",
       "      <td># Thomas H. Makiyama\\nThomas H. Makiyama (1928...</td>\n",
       "      <td>What is the area code for the state where Thom...</td>\n",
       "      <td>Thought:\\nThomas H. Makiyama was born in Hawai...</td>\n",
       "      <td>2</td>\n",
       "    </tr>\n",
       "    <tr>\n",
       "      <th>2</th>\n",
       "      <td>2hop__281903_421645</td>\n",
       "      <td># The Night We Called It a Day (film)\\nThe Nig...</td>\n",
       "      <td>Who is the spouse of the performer of Mistleto...</td>\n",
       "      <td>Thought:\\nFrank Sinatra performed \"Mistletoe a...</td>\n",
       "      <td>2</td>\n",
       "    </tr>\n",
       "    <tr>\n",
       "      <th>3</th>\n",
       "      <td>2hop__497910_351187</td>\n",
       "      <td># Bernalillo County Metropolitan Court\\nThe Be...</td>\n",
       "      <td>What county is the city where Kristen Graczyk ...</td>\n",
       "      <td>Thought:\\nKristen Graczyk was born in Albuquer...</td>\n",
       "      <td>2</td>\n",
       "    </tr>\n",
       "    <tr>\n",
       "      <th>4</th>\n",
       "      <td>2hop__777932_77346</td>\n",
       "      <td># Clyde Werner\\nClyde Werner (born December 10...</td>\n",
       "      <td>The quarterback for the team Clyde Werner play...</td>\n",
       "      <td>Thought:\\nClyde Werner played for the Kansas C...</td>\n",
       "      <td>2</td>\n",
       "    </tr>\n",
       "    <tr>\n",
       "      <th>...</th>\n",
       "      <td>...</td>\n",
       "      <td>...</td>\n",
       "      <td>...</td>\n",
       "      <td>...</td>\n",
       "      <td>...</td>\n",
       "    </tr>\n",
       "    <tr>\n",
       "      <th>163</th>\n",
       "      <td>4hop3__695568_769559_129926_718885</td>\n",
       "      <td># 11/6/00 – Seattle, Washington\\n11/6/00 – Sea...</td>\n",
       "      <td>What is the country of origin of the album cal...</td>\n",
       "      <td>Thought:\\nThe album 11/6/00 is by Pearl Jam, f...</td>\n",
       "      <td>4</td>\n",
       "    </tr>\n",
       "    <tr>\n",
       "      <th>164</th>\n",
       "      <td>4hop1__314513_106790_158589_81091</td>\n",
       "      <td># Syria\\nSyria (Arabic: سوريا ‎ Sūriyā), offic...</td>\n",
       "      <td>In which part of the world is one source of fo...</td>\n",
       "      <td>Thought:\\nThe Cardigans are from Sweden. One s...</td>\n",
       "      <td>4</td>\n",
       "    </tr>\n",
       "    <tr>\n",
       "      <th>165</th>\n",
       "      <td>4hop2__724536_733536_75897_36009</td>\n",
       "      <td># Culture of Aruba\\nThe culture of Aruba, one ...</td>\n",
       "      <td>When was the SNES released in the colonial hol...</td>\n",
       "      <td>Thought:\\nAruba is located in the Caribbean, w...</td>\n",
       "      <td>4</td>\n",
       "    </tr>\n",
       "    <tr>\n",
       "      <th>166</th>\n",
       "      <td>4hop1__106947_221169_833580_61459</td>\n",
       "      <td># Queen Elisabeth Medical Foundation\\nThe Quee...</td>\n",
       "      <td>When did Italy fight in the same was as did Al...</td>\n",
       "      <td>Thought:\\nAlbert I was the King of Belgium, wh...</td>\n",
       "      <td>4</td>\n",
       "    </tr>\n",
       "    <tr>\n",
       "      <th>167</th>\n",
       "      <td>4hop3__491655_858588_68869_274317</td>\n",
       "      <td># National Register of Historic Places listing...</td>\n",
       "      <td>In what country are the National Register of H...</td>\n",
       "      <td>Thought:\\nCameron Health is based in San Cleme...</td>\n",
       "      <td>4</td>\n",
       "    </tr>\n",
       "  </tbody>\n",
       "</table>\n",
       "<p>168 rows × 5 columns</p>\n",
       "</div>"
      ],
      "text/plain": [
       "                                     id  \\\n",
       "0                     2hop__71611_90450   \n",
       "1                    2hop__612535_47295   \n",
       "2                   2hop__281903_421645   \n",
       "3                   2hop__497910_351187   \n",
       "4                    2hop__777932_77346   \n",
       "..                                  ...   \n",
       "163  4hop3__695568_769559_129926_718885   \n",
       "164   4hop1__314513_106790_158589_81091   \n",
       "165    4hop2__724536_733536_75897_36009   \n",
       "166   4hop1__106947_221169_833580_61459   \n",
       "167   4hop3__491655_858588_68869_274317   \n",
       "\n",
       "                                               context  \\\n",
       "0    # Corn production in the United States\\nIowa, ...   \n",
       "1    # Thomas H. Makiyama\\nThomas H. Makiyama (1928...   \n",
       "2    # The Night We Called It a Day (film)\\nThe Nig...   \n",
       "3    # Bernalillo County Metropolitan Court\\nThe Be...   \n",
       "4    # Clyde Werner\\nClyde Werner (born December 10...   \n",
       "..                                                 ...   \n",
       "163  # 11/6/00 – Seattle, Washington\\n11/6/00 – Sea...   \n",
       "164  # Syria\\nSyria (Arabic: سوريا ‎ Sūriyā), offic...   \n",
       "165  # Culture of Aruba\\nThe culture of Aruba, one ...   \n",
       "166  # Queen Elisabeth Medical Foundation\\nThe Quee...   \n",
       "167  # National Register of Historic Places listing...   \n",
       "\n",
       "                                              question  \\\n",
       "0    Who was president when the place where the maj...   \n",
       "1    What is the area code for the state where Thom...   \n",
       "2    Who is the spouse of the performer of Mistleto...   \n",
       "3    What county is the city where Kristen Graczyk ...   \n",
       "4    The quarterback for the team Clyde Werner play...   \n",
       "..                                                 ...   \n",
       "163  What is the country of origin of the album cal...   \n",
       "164  In which part of the world is one source of fo...   \n",
       "165  When was the SNES released in the colonial hol...   \n",
       "166  When did Italy fight in the same was as did Al...   \n",
       "167  In what country are the National Register of H...   \n",
       "\n",
       "                                            generation  n_hops  \n",
       "0    Thought:\\nIowa is the largest producer of corn...       2  \n",
       "1    Thought:\\nThomas H. Makiyama was born in Hawai...       2  \n",
       "2    Thought:\\nFrank Sinatra performed \"Mistletoe a...       2  \n",
       "3    Thought:\\nKristen Graczyk was born in Albuquer...       2  \n",
       "4    Thought:\\nClyde Werner played for the Kansas C...       2  \n",
       "..                                                 ...     ...  \n",
       "163  Thought:\\nThe album 11/6/00 is by Pearl Jam, f...       4  \n",
       "164  Thought:\\nThe Cardigans are from Sweden. One s...       4  \n",
       "165  Thought:\\nAruba is located in the Caribbean, w...       4  \n",
       "166  Thought:\\nAlbert I was the King of Belgium, wh...       4  \n",
       "167  Thought:\\nCameron Health is based in San Cleme...       4  \n",
       "\n",
       "[168 rows x 5 columns]"
      ]
     },
     "execution_count": 10,
     "metadata": {},
     "output_type": "execute_result"
    }
   ],
   "source": [
    "filepaths = list(Path(\".\").glob(\"*-auto.json\"))\n",
    "dfs = [pd.read_json(filepath) for filepath in filepaths]\n",
    "dfs[0]"
   ]
  },
  {
   "cell_type": "code",
   "execution_count": 11,
   "metadata": {},
   "outputs": [],
   "source": [
    "ids_list = [df['id'].values for df in dfs]"
   ]
  },
  {
   "cell_type": "code",
   "execution_count": 12,
   "metadata": {},
   "outputs": [
    {
     "data": {
      "text/plain": [
       "123"
      ]
     },
     "execution_count": 12,
     "metadata": {},
     "output_type": "execute_result"
    }
   ],
   "source": [
    "common_ids = set(ids_list[0]).intersection(*ids_list[1:])\n",
    "len(common_ids)"
   ]
  },
  {
   "cell_type": "code",
   "execution_count": 13,
   "metadata": {},
   "outputs": [],
   "source": [
    "from itertools import zip_longest\n",
    "\n",
    "def interweave(*args):\n",
    "    result = []\n",
    "    for items in zip_longest(*args, fillvalue=None):\n",
    "        result.extend(item for item in items if item is not None)\n",
    "    return result\n"
   ]
  },
  {
   "cell_type": "code",
   "execution_count": 14,
   "metadata": {},
   "outputs": [],
   "source": [
    "# test interweave function\n",
    "# cover happy path and edge cases\n",
    "assert interweave([1, 2, 3], [4, 5, 6]) == [1, 4, 2, 5, 3, 6]\n",
    "assert interweave([1, 2, 3], [4, 5]) == [1, 4, 2, 5, 3]\n",
    "assert interweave([1, 2], [4, 5, 6]) == [1, 4, 2, 5, 6]\n",
    "assert interweave([1], [4]) == [1, 4]\n",
    "assert interweave([], []) == []"
   ]
  },
  {
   "cell_type": "code",
   "execution_count": 15,
   "metadata": {},
   "outputs": [],
   "source": [
    "def sort_special(df):\n",
    "    # interweave per n_hops, i.e. one 2-hop, one 3-hop, one 4-hop, etc. repeat\n",
    "    n_hops = df['n_hops'].unique()\n",
    "    n_hops.sort()\n",
    "    batches = [df[df['n_hops'] == n_hop].sort_values('id').to_dict(orient='records') for n_hop in n_hops]\n",
    "    return pd.DataFrame(interweave(*batches))"
   ]
  },
  {
   "cell_type": "code",
   "execution_count": 18,
   "metadata": {},
   "outputs": [
    {
     "name": "stdout",
     "output_type": "stream",
     "text": [
      "ccot-auto\n",
      "168\n",
      "123\n",
      "123\n",
      "cot-auto\n",
      "150\n",
      "123\n",
      "123\n",
      "cte-auto\n",
      "174\n",
      "123\n",
      "123\n",
      "direct-auto\n",
      "159\n",
      "123\n",
      "123\n"
     ]
    }
   ],
   "source": [
    "final_dfs = []\n",
    "for filepath, df in zip(filepaths, dfs):\n",
    "    print(filepath.stem)\n",
    "    print(len(df))\n",
    "    common_df = df[df['id'].isin(common_ids)].copy()\n",
    "    print(len(common_df))\n",
    "    common_df = sort_special(common_df)\n",
    "    print(len(common_df))\n",
    "    common_df.to_json(filepath.with_name(f\"{filepath.stem}-common.json\"), orient=\"records\", indent=2)\n",
    "    final_dfs.append(common_df)"
   ]
  },
  {
   "cell_type": "code",
   "execution_count": 20,
   "metadata": {},
   "outputs": [],
   "source": [
    "# assert that all final dfs have the same id column order\n",
    "assert all((final_df['id'] == final_dfs[0]['id']).all() for final_df in final_dfs[1:])"
   ]
  },
  {
   "cell_type": "code",
   "execution_count": null,
   "metadata": {},
   "outputs": [],
   "source": []
  }
 ],
 "metadata": {
  "kernelspec": {
   "display_name": "thesis",
   "language": "python",
   "name": "python3"
  },
  "language_info": {
   "codemirror_mode": {
    "name": "ipython",
    "version": 3
   },
   "file_extension": ".py",
   "mimetype": "text/x-python",
   "name": "python",
   "nbconvert_exporter": "python",
   "pygments_lexer": "ipython3",
   "version": "3.10.16"
  }
 },
 "nbformat": 4,
 "nbformat_minor": 2
}
