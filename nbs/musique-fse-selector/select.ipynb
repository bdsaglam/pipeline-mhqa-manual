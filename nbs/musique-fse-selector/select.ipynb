{
 "cells": [
  {
   "cell_type": "code",
   "execution_count": 1,
   "metadata": {},
   "outputs": [],
   "source": [
    "import json\n",
    "\n",
    "import pandas as pd\n",
    "import yaml"
   ]
  },
  {
   "cell_type": "code",
   "execution_count": 2,
   "metadata": {},
   "outputs": [
    {
     "data": {
      "text/plain": [
       "'ccot'"
      ]
     },
     "execution_count": 2,
     "metadata": {},
     "output_type": "execute_result"
    }
   ],
   "source": [
    "# read the technique from params.yaml\n",
    "with open('../../params.yaml') as f:\n",
    "    params = yaml.safe_load(f)\n",
    "\n",
    "technique = params['qa']['system_prompt'].split(\"/\")[0]\n",
    "technique"
   ]
  },
  {
   "cell_type": "code",
   "execution_count": null,
   "metadata": {},
   "outputs": [
    {
     "name": "stdout",
     "output_type": "stream",
     "text": [
      "300\n"
     ]
    },
    {
     "data": {
      "text/html": [
       "<div>\n",
       "<style scoped>\n",
       "    .dataframe tbody tr th:only-of-type {\n",
       "        vertical-align: middle;\n",
       "    }\n",
       "\n",
       "    .dataframe tbody tr th {\n",
       "        vertical-align: top;\n",
       "    }\n",
       "\n",
       "    .dataframe thead th {\n",
       "        text-align: right;\n",
       "    }\n",
       "</style>\n",
       "<table border=\"1\" class=\"dataframe\">\n",
       "  <thead>\n",
       "    <tr style=\"text-align: right;\">\n",
       "      <th></th>\n",
       "      <th>id</th>\n",
       "      <th>n_hops</th>\n",
       "      <th>answer</th>\n",
       "      <th>hops</th>\n",
       "      <th>predicted_answer</th>\n",
       "      <th>reference_answers</th>\n",
       "      <th>exact_match</th>\n",
       "      <th>f1</th>\n",
       "      <th>fuzzy_match</th>\n",
       "    </tr>\n",
       "  </thead>\n",
       "  <tbody>\n",
       "    <tr>\n",
       "      <th>0</th>\n",
       "      <td>2hop__129127_90527</td>\n",
       "      <td>2</td>\n",
       "      <td>24 °C (75 °F)</td>\n",
       "      <td>[{'question': 'What is the average summer temp...</td>\n",
       "      <td>24 °C (75 °F)</td>\n",
       "      <td>[75 ° F]</td>\n",
       "      <td>0</td>\n",
       "      <td>0.285714</td>\n",
       "      <td>0</td>\n",
       "    </tr>\n",
       "    <tr>\n",
       "      <th>1</th>\n",
       "      <td>2hop__97238_154727</td>\n",
       "      <td>2</td>\n",
       "      <td>1990</td>\n",
       "      <td>[{'question': 'What year did the war Jameel Sa...</td>\n",
       "      <td>1990</td>\n",
       "      <td>[2 August 1990]</td>\n",
       "      <td>0</td>\n",
       "      <td>0.500000</td>\n",
       "      <td>0</td>\n",
       "    </tr>\n",
       "    <tr>\n",
       "      <th>2</th>\n",
       "      <td>2hop__819850_32467</td>\n",
       "      <td>2</td>\n",
       "      <td>About 150 years old</td>\n",
       "      <td>[{'question': 'How old are some of the private...</td>\n",
       "      <td>About 150 years old</td>\n",
       "      <td>[150 years]</td>\n",
       "      <td>0</td>\n",
       "      <td>0.666667</td>\n",
       "      <td>0</td>\n",
       "    </tr>\n",
       "    <tr>\n",
       "      <th>3</th>\n",
       "      <td>2hop__71611_90450</td>\n",
       "      <td>2</td>\n",
       "      <td>James K. Polk</td>\n",
       "      <td>[{'question': 'Who was president when the plac...</td>\n",
       "      <td>James K. Polk</td>\n",
       "      <td>[James K. Polk, President James K. Polk]</td>\n",
       "      <td>1</td>\n",
       "      <td>1.000000</td>\n",
       "      <td>1</td>\n",
       "    </tr>\n",
       "    <tr>\n",
       "      <th>4</th>\n",
       "      <td>2hop__612535_47295</td>\n",
       "      <td>2</td>\n",
       "      <td>808</td>\n",
       "      <td>[{'question': 'What is the area code for the s...</td>\n",
       "      <td>808</td>\n",
       "      <td>[808]</td>\n",
       "      <td>1</td>\n",
       "      <td>1.000000</td>\n",
       "      <td>1</td>\n",
       "    </tr>\n",
       "  </tbody>\n",
       "</table>\n",
       "</div>"
      ],
      "text/plain": [
       "                   id  n_hops               answer  \\\n",
       "0  2hop__129127_90527       2        24 °C (75 °F)   \n",
       "1  2hop__97238_154727       2                 1990   \n",
       "2  2hop__819850_32467       2  About 150 years old   \n",
       "3   2hop__71611_90450       2        James K. Polk   \n",
       "4  2hop__612535_47295       2                  808   \n",
       "\n",
       "                                                hops     predicted_answer  \\\n",
       "0  [{'question': 'What is the average summer temp...        24 °C (75 °F)   \n",
       "1  [{'question': 'What year did the war Jameel Sa...                 1990   \n",
       "2  [{'question': 'How old are some of the private...  About 150 years old   \n",
       "3  [{'question': 'Who was president when the plac...        James K. Polk   \n",
       "4  [{'question': 'What is the area code for the s...                  808   \n",
       "\n",
       "                          reference_answers  exact_match        f1  \\\n",
       "0                                  [75 ° F]            0  0.285714   \n",
       "1                           [2 August 1990]            0  0.500000   \n",
       "2                               [150 years]            0  0.666667   \n",
       "3  [James K. Polk, President James K. Polk]            1  1.000000   \n",
       "4                                     [808]            1  1.000000   \n",
       "\n",
       "   fuzzy_match  \n",
       "0            0  \n",
       "1            0  \n",
       "2            0  \n",
       "3            1  \n",
       "4            1  "
      ]
     },
     "execution_count": 3,
     "metadata": {},
     "output_type": "execute_result"
    }
   ],
   "source": [
    "df = pd.read_json('../../data/generated/reports/results.jsonl', lines=True)\n",
    "print(len(df))\n",
    "df.head()"
   ]
  },
  {
   "cell_type": "code",
   "execution_count": 4,
   "metadata": {},
   "outputs": [
    {
     "data": {
      "text/plain": [
       "(168, 132)"
      ]
     },
     "execution_count": 4,
     "metadata": {},
     "output_type": "execute_result"
    }
   ],
   "source": [
    "success_mask = df['exact_match'] == 1\n",
    "success_df, fail_df = df[success_mask], df[~success_mask]\n",
    "len(success_df), len(fail_df)"
   ]
  },
  {
   "cell_type": "code",
   "execution_count": 5,
   "metadata": {},
   "outputs": [],
   "source": [
    "def format_paragraph(paragraph):\n",
    "    return f\"Paragraph {paragraph['idx']} - {paragraph['paragraph_text']}\"\n",
    "\n",
    "def present_hop(hop):\n",
    "    print('-'*80)\n",
    "    print(hop['context'])\n",
    "    print('-'*80)\n",
    "    print(hop['question'])\n",
    "    print('-'*80)\n",
    "    print(hop['qa_result']['generation'])\n",
    "\n",
    "def present_row(row):\n",
    "    print(row['id'])\n",
    "    print()\n",
    "    print(\"Success\" if row['f1']>0.99 else \"Fail\")\n",
    "    print()\n",
    "    for hop in row['hops']:\n",
    "        present_hop(hop)\n",
    "    print()\n",
    "    print(f\"Reference: {row['reference_answers']}\")"
   ]
  },
  {
   "cell_type": "code",
   "execution_count": 6,
   "metadata": {},
   "outputs": [
    {
     "name": "stdout",
     "output_type": "stream",
     "text": [
      "2hop__129127_90527\n",
      "\n",
      "Fail\n",
      "\n",
      "--------------------------------------------------------------------------------\n",
      "# Climate of Missouri\n",
      "Summer, June through August, is the hottest time of the year with a mean temperature of 24 ° C (75 ° F) and a mean precipitation of 300 mm (12 inches) with June having more precipitation than either July or August. The extreme highs for the year often occur in July or August. Tropical cyclones and their remains can impact the state during this time of the year, contributing to area rainfall.\n",
      "\n",
      "# Centerpoint Medical Center\n",
      "Centerpoint Medical Center is a hospital located in Independence, Missouri at 19600 East 39th Street. It is part of the HCA Midwest Division.\n",
      "--------------------------------------------------------------------------------\n",
      "What is the average summer temperature in the state which holds Centerpoint Medical Center?\n",
      "--------------------------------------------------------------------------------\n",
      "Thought:\n",
      "Centerpoint Medical Center is located in Independence, Missouri.\n",
      "The average summer temperature in Missouri is 24 °C (75 °F).\n",
      "Answer: 24 °C (75 °F)\n",
      "\n",
      "Reference: ['75 ° F']\n"
     ]
    }
   ],
   "source": [
    "i = 0\n",
    "row = df.iloc[i]\n",
    "present_row(row)"
   ]
  },
  {
   "cell_type": "code",
   "execution_count": 7,
   "metadata": {},
   "outputs": [],
   "source": [
    "def make_example(row):\n",
    "    return {\n",
    "        'id': row['id'],\n",
    "        'context': row['hops'][0]['context'],\n",
    "        'question': row['hops'][0]['question'],\n",
    "        'generation': row['hops'][0]['qa_result']['generation'],\n",
    "        'n_hops': row['n_hops'],\n",
    "    }"
   ]
  },
  {
   "cell_type": "code",
   "execution_count": 8,
   "metadata": {},
   "outputs": [],
   "source": [
    "filepath = f'{technique}-auto.json'\n",
    "with open(filepath, 'w') as f:\n",
    "    json.dump([make_example(row) for i, row in success_df.iterrows()], f, indent=4)"
   ]
  },
  {
   "cell_type": "code",
   "execution_count": null,
   "metadata": {},
   "outputs": [],
   "source": []
  }
 ],
 "metadata": {
  "kernelspec": {
   "display_name": "thesis",
   "language": "python",
   "name": "python3"
  },
  "language_info": {
   "codemirror_mode": {
    "name": "ipython",
    "version": 3
   },
   "file_extension": ".py",
   "mimetype": "text/x-python",
   "name": "python",
   "nbconvert_exporter": "python",
   "pygments_lexer": "ipython3",
   "version": "3.10.16"
  }
 },
 "nbformat": 4,
 "nbformat_minor": 2
}
