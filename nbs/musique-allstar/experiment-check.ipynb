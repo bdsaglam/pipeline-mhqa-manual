{
 "cells": [
  {
   "cell_type": "code",
   "execution_count": 8,
   "metadata": {},
   "outputs": [],
   "source": [
    "import itertools\n",
    "import json\n",
    "from pathlib import Path\n",
    "\n",
    "import numpy as np\n",
    "import pandas as pd"
   ]
  },
  {
   "cell_type": "code",
   "execution_count": 9,
   "metadata": {},
   "outputs": [],
   "source": [
    "def product_experiment_configs(params_record):\n",
    "    # Generate all possible combinations of parameters\n",
    "    keys = params_record.keys()\n",
    "    values = params_record.values()\n",
    "    for instance in itertools.product(*values):\n",
    "        yield dict(zip(keys, instance))"
   ]
  },
  {
   "cell_type": "code",
   "execution_count": 10,
   "metadata": {},
   "outputs": [
    {
     "name": "stdout",
     "output_type": "stream",
     "text": [
      "72 experiment configurations\n"
     ]
    }
   ],
   "source": [
    "params_records = [\n",
    "    {\n",
    "        \"params.qa.temperature\": [0.1, 0.5],\n",
    "        \"params.qa.system_prompt\": [\"direct/helpful-output-format-few.txt\"],\n",
    "        \"params.qa.user_prompt_template\": [\"cq.txt\"],\n",
    "        \"params.qa.few_shot_examples\": [\"direct.json\"],\n",
    "        \"params.qa.n_shot\": [0, 1, 2],\n",
    "        \"params.run\": [1, 2, 3],\n",
    "    },\n",
    "    {\n",
    "        \"params.qa.temperature\": [0.1, 0.5],\n",
    "        \"params.qa.system_prompt\": [\"cot/format-minimal.txt\"],\n",
    "        \"params.qa.user_prompt_template\": [\"cq.txt\"],\n",
    "        \"params.qa.few_shot_examples\": [\"cot.json\"],\n",
    "        \"params.qa.n_shot\": [0, 1, 2],\n",
    "        \"params.run\": [1, 2, 3],\n",
    "    },\n",
    "    {\n",
    "        \"params.qa.temperature\": [0.1, 0.5],\n",
    "        \"params.qa.system_prompt\": [\"format-thought.txt\"],\n",
    "        \"params.qa.user_prompt_template\": [\"cq.txt\"],\n",
    "        \"params.qa.few_shot_examples\": [\"ccot.json\"],\n",
    "        \"params.qa.n_shot\": [0, 1, 2],\n",
    "        \"params.run\": [1, 2, 3],\n",
    "    },\n",
    "    {\n",
    "        \"params.qa.temperature\": [0.1, 0.5],\n",
    "        \"params.qa.system_prompt\": \"cte/excellent-format-few.txt\".split(\",\"),\n",
    "        \"params.qa.user_prompt_template\": [\"cq.txt\"],\n",
    "        \"params.qa.few_shot_examples\": [\"cte.json\"],\n",
    "        \"params.qa.n_shot\": [0, 1, 2],\n",
    "        \"params.run\": [1, 2, 3],\n",
    "    },\n",
    "]\n",
    "\n",
    "exp_configs = [\n",
    "    exp_config\n",
    "    for params_record in params_records\n",
    "    for exp_config in product_experiment_configs(params_record)\n",
    "]\n",
    "print(f\"{len(exp_configs)} experiment configurations\")"
   ]
  },
  {
   "cell_type": "code",
   "execution_count": 11,
   "metadata": {},
   "outputs": [
    {
     "data": {
      "text/plain": [
       "dict_keys(['params.qa.temperature', 'params.qa.system_prompt', 'params.qa.user_prompt_template', 'params.qa.few_shot_examples', 'params.run'])"
      ]
     },
     "execution_count": 11,
     "metadata": {},
     "output_type": "execute_result"
    }
   ],
   "source": [
    "target_params = exp_configs[0].keys()\n",
    "target_params"
   ]
  },
  {
   "cell_type": "code",
   "execution_count": 12,
   "metadata": {},
   "outputs": [
    {
     "name": "stdout",
     "output_type": "stream",
     "text": [
      "36 experiments\n"
     ]
    },
    {
     "data": {
      "text/plain": [
       "{'id': '05690bfc0f3a3c439a3729d7eef5d8d4a639df14',\n",
       " 'name': 'loose-kiwi',\n",
       " 'params.dataset.path': 'bdsaglam/musique',\n",
       " 'params.dataset.name': 'answerable',\n",
       " 'params.dataset.split': 'validation',\n",
       " 'params.qa.model': 'llama-3-70b-tgi',\n",
       " 'params.qa.temperature': 0.3,\n",
       " 'params.qa.system_prompt': 'cot/format-think.txt',\n",
       " 'params.qa.user_prompt_template': 'cq.txt',\n",
       " 'params.qa.few_shot_examples': 'cot-2-shot.json',\n",
       " 'params.run': 3,\n",
       " 'metrics.exact_match': 0.5126189491,\n",
       " 'metrics.f1': 0.6198736993,\n",
       " 'metrics.2hops.exact_match': 0.5934504792,\n",
       " 'metrics.2hops.f1': 0.6986704254,\n",
       " 'metrics.3hops.exact_match': 0.4473684211,\n",
       " 'metrics.3hops.f1': 0.564732113,\n",
       " 'metrics.4hops.exact_match': 0.3851851852,\n",
       " 'metrics.4hops.f1': 0.4797603768,\n",
       " 'params.qa.technique': 'COT',\n",
       " 'params.qa.n_shot': 2}"
      ]
     },
     "execution_count": 12,
     "metadata": {},
     "output_type": "execute_result"
    }
   ],
   "source": [
    "results_path = Path(\"results.jsonl\")\n",
    "if results_path.exists():\n",
    "    with open(results_path) as f:\n",
    "        experiments = [json.loads(line) for line in f]\n",
    "else:\n",
    "    experiments = []\n",
    "\n",
    "print(f\"{len(experiments)} experiments\")\n",
    "next(iter(experiments), None)"
   ]
  },
  {
   "cell_type": "code",
   "execution_count": 13,
   "metadata": {},
   "outputs": [
    {
     "name": "stdout",
     "output_type": "stream",
     "text": [
      "36 experiments after preprocessing\n"
     ]
    }
   ],
   "source": [
    "df = pd.DataFrame(experiments)\n",
    "\n",
    "param_cols = [col for col in df.columns if col.startswith(\"params.\")]\n",
    "metric_cols = [col for col in df.columns if col.startswith(\"metrics.\")]\n",
    "\n",
    "df.dropna(subset=param_cols, inplace=True, how=\"any\")\n",
    "df.drop_duplicates(subset=param_cols, inplace=True)\n",
    "\n",
    "print(f\"{len(df)} experiments after preprocessing\")"
   ]
  },
  {
   "cell_type": "code",
   "execution_count": 14,
   "metadata": {},
   "outputs": [
    {
     "data": {
      "text/plain": [
       "{'params.qa.temperature': 0.3,\n",
       " 'params.qa.system_prompt': 'cot/format-think.txt',\n",
       " 'params.qa.user_prompt_template': 'cq.txt',\n",
       " 'params.qa.few_shot_examples': 'cot-2-shot.json',\n",
       " 'params.run': 3}"
      ]
     },
     "execution_count": 14,
     "metadata": {},
     "output_type": "execute_result"
    }
   ],
   "source": [
    "existing_configs = df[target_params].to_dict(orient=\"records\")\n",
    "existing_configs[0]"
   ]
  },
  {
   "cell_type": "code",
   "execution_count": 15,
   "metadata": {},
   "outputs": [
    {
     "data": {
      "text/html": [
       "<div>\n",
       "<style scoped>\n",
       "    .dataframe tbody tr th:only-of-type {\n",
       "        vertical-align: middle;\n",
       "    }\n",
       "\n",
       "    .dataframe tbody tr th {\n",
       "        vertical-align: top;\n",
       "    }\n",
       "\n",
       "    .dataframe thead th {\n",
       "        text-align: right;\n",
       "    }\n",
       "</style>\n",
       "<table border=\"1\" class=\"dataframe\">\n",
       "  <thead>\n",
       "    <tr style=\"text-align: right;\">\n",
       "      <th></th>\n",
       "      <th>params.qa.system_prompt</th>\n",
       "      <th>params.qa.user_prompt_template</th>\n",
       "      <th>params.qa.few_shot_examples</th>\n",
       "      <th>params.qa.temperature</th>\n",
       "      <th>params.run</th>\n",
       "    </tr>\n",
       "  </thead>\n",
       "  <tbody>\n",
       "  </tbody>\n",
       "</table>\n",
       "</div>"
      ],
      "text/plain": [
       "Empty DataFrame\n",
       "Columns: [params.qa.system_prompt, params.qa.user_prompt_template, params.qa.few_shot_examples, params.qa.temperature, params.run]\n",
       "Index: []"
      ]
     },
     "execution_count": 15,
     "metadata": {},
     "output_type": "execute_result"
    }
   ],
   "source": [
    "run_counts = (\n",
    "    df.groupby([\"params.qa.system_prompt\", \"params.qa.user_prompt_template\", \"params.qa.few_shot_examples\", \"params.qa.temperature\"])[\n",
    "        \"params.run\"\n",
    "    ]\n",
    "    .aggregate(tuple)\n",
    "    .reset_index()\n",
    ")\n",
    "mask = run_counts[\"params.run\"].map(len) < 3\n",
    "run_counts.loc[mask]"
   ]
  },
  {
   "cell_type": "code",
   "execution_count": 16,
   "metadata": {},
   "outputs": [
    {
     "name": "stdout",
     "output_type": "stream",
     "text": [
      "36 missing configurations\n"
     ]
    },
    {
     "data": {
      "text/plain": [
       "{'params.qa.few_shot_examples': 'cot-2-shot.json',\n",
       " 'params.qa.system_prompt': 'cot/format-think.txt',\n",
       " 'params.qa.temperature': 0.7,\n",
       " 'params.qa.user_prompt_template': 'cq.txt',\n",
       " 'params.run': 2}"
      ]
     },
     "execution_count": 16,
     "metadata": {},
     "output_type": "execute_result"
    }
   ],
   "source": [
    "# find the missing configurations\n",
    "missing_configs = [dict(kv) for kv in list({tuple(sorted(config.items())) for config in exp_configs} - {tuple(sorted(config.items())) for config in existing_configs})]\n",
    "print(f\"{len(missing_configs)} missing configurations\")\n",
    "missing_configs[0]\n"
   ]
  },
  {
   "cell_type": "code",
   "execution_count": 17,
   "metadata": {},
   "outputs": [],
   "source": [
    "def make_command(exp_config):\n",
    "    run = exp_config['params.run']\n",
    "    temperature = exp_config['params.qa.temperature']\n",
    "    system_prompt = exp_config['params.qa.system_prompt']\n",
    "    user_prompt_template = exp_config['params.qa.user_prompt_template']\n",
    "    few_shot_examples = exp_config['params.qa.few_shot_examples']\n",
    "    command = f\"\"\"\n",
    "dvc exp run --queue \\\\\n",
    "    -S qa.temperature='{temperature}' \\\\\n",
    "    -S qa.system_prompt='{system_prompt}' \\\\\n",
    "    -S qa.user_prompt_template='{user_prompt_template}' \\\\\n",
    "    -S qa.few_shot_examples='{few_shot_examples}' \\\\\n",
    "    -S run='{run}'\n",
    "    \"\"\"\n",
    "    return command"
   ]
  },
  {
   "cell_type": "code",
   "execution_count": 19,
   "metadata": {},
   "outputs": [],
   "source": [
    "with open(\"../../tmp/missing_configs.sh\", \"w\") as f:\n",
    "    f.write('#!/bin/sh\\n')\n",
    "    for exp_config in missing_configs:\n",
    "        f.write(make_command(exp_config))\n",
    "        f.write(\"\\n\")"
   ]
  },
  {
   "cell_type": "code",
   "execution_count": null,
   "metadata": {},
   "outputs": [],
   "source": []
  }
 ],
 "metadata": {
  "kernelspec": {
   "display_name": "thesis",
   "language": "python",
   "name": "python3"
  },
  "language_info": {
   "codemirror_mode": {
    "name": "ipython",
    "version": 3
   },
   "file_extension": ".py",
   "mimetype": "text/x-python",
   "name": "python",
   "nbconvert_exporter": "python",
   "pygments_lexer": "ipython3",
   "version": "3.10.16"
  }
 },
 "nbformat": 4,
 "nbformat_minor": 2
}
