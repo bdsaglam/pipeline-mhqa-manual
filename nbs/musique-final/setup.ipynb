{
 "cells": [
  {
   "cell_type": "code",
   "execution_count": 1,
   "metadata": {},
   "outputs": [],
   "source": [
    "import itertools\n",
    "import json\n",
    "from pathlib import Path\n",
    "\n",
    "import pandas as pd"
   ]
  },
  {
   "cell_type": "code",
   "execution_count": 2,
   "metadata": {},
   "outputs": [],
   "source": [
    "def product_experiment_configs(params_record):\n",
    "    # Generate all possible combinations of parameters\n",
    "    keys = params_record.keys()\n",
    "    values = params_record.values()\n",
    "    for instance in itertools.product(*values):\n",
    "        yield dict(zip(keys, instance))"
   ]
  },
  {
   "cell_type": "code",
   "execution_count": 3,
   "metadata": {},
   "outputs": [
    {
     "name": "stdout",
     "output_type": "stream",
     "text": [
      "80 experiment configurations\n"
     ]
    }
   ],
   "source": [
    "common_params = {\n",
    "    \"params.dataset.path\": [\"bdsaglam/musique\"],\n",
    "    \"params.dataset.split\": [\"validation\"],\n",
    "    \"params.qa.model\": [\"llama-3-70b-tgi\"],\n",
    "    \"params.qa.temperature\": [0.1, 0.5],\n",
    "    \"params.qa.user_prompt_template\": [\"cq.txt\"],\n",
    "    \"params.qa.n_shot\": [0, 3, 6, 9],\n",
    "    \"params.run\": [1, 2],\n",
    "}\n",
    "params_records = [\n",
    "    {\n",
    "        \"params.qa.system_prompt\": [\n",
    "            \"direct/format-few.txt\",\n",
    "        ],\n",
    "        \"params.qa.few_shot_examples\": [\"auto/direct.json\"],\n",
    "    },\n",
    "    {\n",
    "        \"params.qa.system_prompt\": [\n",
    "            \"cot/format-thought.txt\",\n",
    "        ],\n",
    "        \"params.qa.few_shot_examples\": [\"auto/cot.json\"],\n",
    "    },\n",
    "    {\n",
    "        \"params.qa.system_prompt\": [\n",
    "            \"ccot/format-thought.txt\",\n",
    "        ],\n",
    "        \"params.qa.few_shot_examples\": [\"auto/ccot.json\"],\n",
    "    },\n",
    "    {\n",
    "        \"params.qa.system_prompt\": [\n",
    "            \"cte/format-triplets-few.txt\",\n",
    "            \"cte/excellent-format-triplets-few.txt\",\n",
    "        ],\n",
    "        \"params.qa.few_shot_examples\": [\"auto/cte.json\"],\n",
    "    },\n",
    "]\n",
    "\n",
    "exp_configs = [\n",
    "    exp_config\n",
    "    for params_record in params_records\n",
    "    for exp_config in product_experiment_configs({**common_params, **params_record})\n",
    "]\n",
    "print(f\"{len(exp_configs)} experiment configurations\")"
   ]
  },
  {
   "cell_type": "code",
   "execution_count": 4,
   "metadata": {},
   "outputs": [
    {
     "data": {
      "text/plain": [
       "dict_keys(['params.dataset.path', 'params.dataset.split', 'params.qa.model', 'params.qa.temperature', 'params.qa.user_prompt_template', 'params.qa.n_shot', 'params.run', 'params.qa.system_prompt', 'params.qa.few_shot_examples'])"
      ]
     },
     "execution_count": 4,
     "metadata": {},
     "output_type": "execute_result"
    }
   ],
   "source": [
    "target_params = exp_configs[0].keys()\n",
    "target_params"
   ]
  },
  {
   "cell_type": "code",
   "execution_count": 5,
   "metadata": {},
   "outputs": [
    {
     "name": "stdout",
     "output_type": "stream",
     "text": [
      "40 experiments\n"
     ]
    },
    {
     "data": {
      "text/plain": [
       "{'id': '0152de539c6e56dd68ead8e1c10b6bea9e9f4fd2',\n",
       " 'name': 'dowdy-ambo',\n",
       " 'params.dataset.path': 'bdsaglam/musique',\n",
       " 'params.dataset.name': 'answerable',\n",
       " 'params.dataset.split': 'validation',\n",
       " 'params.qa.model': 'llama-3-70b-tgi',\n",
       " 'params.qa.temperature': 0.1,\n",
       " 'params.qa.system_prompt': 'cot/format-thought.txt',\n",
       " 'params.qa.user_prompt_template': 'cq.txt',\n",
       " 'params.qa.few_shot_examples': 'auto/cot.json',\n",
       " 'params.qa.n_shot': 9,\n",
       " 'params.run': 1,\n",
       " 'metrics.exact_match': 0.216383947,\n",
       " 'metrics.f1': 0.2815707584,\n",
       " 'metrics.2hops.exact_match': 0.1853035144,\n",
       " 'metrics.2hops.f1': 0.234171679,\n",
       " 'metrics.3hops.exact_match': 0.25,\n",
       " 'metrics.3hops.f1': 0.3438679866,\n",
       " 'metrics.4hops.exact_match': 0.249382716,\n",
       " 'metrics.4hops.f1': 0.3111948426,\n",
       " 'metrics.gen_token_count.all.count': 2417.0,\n",
       " 'metrics.gen_token_count.all.mean': 40.682250724,\n",
       " 'metrics.gen_token_count.all.std': 40.4291546199,\n",
       " 'metrics.gen_token_count.all.min': 0.0,\n",
       " 'metrics.gen_token_count.all.25%': 2.0,\n",
       " 'metrics.gen_token_count.all.50%': 44.0,\n",
       " 'metrics.gen_token_count.all.75%': 66.0,\n",
       " 'metrics.gen_token_count.all.max': 839.0,\n",
       " 'metrics.gen_token_count.success.count': 650.0,\n",
       " 'metrics.gen_token_count.success.mean': 62.5492307692,\n",
       " 'metrics.gen_token_count.success.std': 21.2855313249,\n",
       " 'metrics.gen_token_count.success.min': 13.0,\n",
       " 'metrics.gen_token_count.success.25%': 47.0,\n",
       " 'metrics.gen_token_count.success.50%': 59.0,\n",
       " 'metrics.gen_token_count.success.75%': 75.0,\n",
       " 'metrics.gen_token_count.success.max': 195.0,\n",
       " 'metrics.gen_token_count.fail.count': 1767.0,\n",
       " 'metrics.gen_token_count.fail.mean': 32.6383701188,\n",
       " 'metrics.gen_token_count.fail.std': 42.765445234,\n",
       " 'metrics.gen_token_count.fail.min': 0.0,\n",
       " 'metrics.gen_token_count.fail.25%': 0.0,\n",
       " 'metrics.gen_token_count.fail.50%': 10.0,\n",
       " 'metrics.gen_token_count.fail.75%': 60.0,\n",
       " 'metrics.gen_token_count.fail.max': 839.0,\n",
       " 'params.qa.technique': 'cot'}"
      ]
     },
     "execution_count": 5,
     "metadata": {},
     "output_type": "execute_result"
    }
   ],
   "source": [
    "results_path = Path(\"results.jsonl\")\n",
    "if results_path.exists():\n",
    "    with open(results_path) as f:\n",
    "        experiments = [json.loads(line) for line in f]\n",
    "else:\n",
    "    experiments = []\n",
    "\n",
    "print(f\"{len(experiments)} experiments\")\n",
    "next(iter(experiments), None)"
   ]
  },
  {
   "cell_type": "code",
   "execution_count": 6,
   "metadata": {},
   "outputs": [
    {
     "name": "stdout",
     "output_type": "stream",
     "text": [
      "40 experiments after preprocessing\n"
     ]
    }
   ],
   "source": [
    "df = pd.DataFrame(experiments)\n",
    "\n",
    "param_cols = [col for col in df.columns if col.startswith(\"params.\")]\n",
    "metric_cols = [col for col in df.columns if col.startswith(\"metrics.\")]\n",
    "\n",
    "df.dropna(subset=param_cols, inplace=True, how=\"any\")\n",
    "df.drop_duplicates(subset=param_cols, inplace=True)\n",
    "\n",
    "print(f\"{len(df)} experiments after preprocessing\")"
   ]
  },
  {
   "cell_type": "code",
   "execution_count": 7,
   "metadata": {},
   "outputs": [],
   "source": [
    "if len(df):\n",
    "    existing_configs = df[target_params].to_dict(orient=\"records\")\n",
    "    existing_configs[0]\n",
    "else:\n",
    "    existing_configs = []"
   ]
  },
  {
   "cell_type": "code",
   "execution_count": 8,
   "metadata": {},
   "outputs": [
    {
     "data": {
      "text/plain": [
       "['params.dataset.path',\n",
       " 'params.dataset.split',\n",
       " 'params.qa.model',\n",
       " 'params.qa.temperature',\n",
       " 'params.qa.user_prompt_template',\n",
       " 'params.qa.n_shot',\n",
       " 'params.qa.system_prompt',\n",
       " 'params.qa.few_shot_examples']"
      ]
     },
     "execution_count": 8,
     "metadata": {},
     "output_type": "execute_result"
    }
   ],
   "source": [
    "target_params = list({**common_params, **params_records[0]}.keys())\n",
    "target_params.remove(\"params.run\")\n",
    "target_params"
   ]
  },
  {
   "cell_type": "code",
   "execution_count": 9,
   "metadata": {},
   "outputs": [
    {
     "name": "stdout",
     "output_type": "stream",
     "text": [
      "40 missing configurations\n"
     ]
    },
    {
     "data": {
      "text/plain": [
       "{'params.dataset.path': 'bdsaglam/musique',\n",
       " 'params.dataset.split': 'validation',\n",
       " 'params.qa.few_shot_examples': 'auto/cte.json',\n",
       " 'params.qa.model': 'llama-3-70b-tgi',\n",
       " 'params.qa.n_shot': 0,\n",
       " 'params.qa.system_prompt': 'cte/format-triplets-few.txt',\n",
       " 'params.qa.temperature': 0.1,\n",
       " 'params.qa.user_prompt_template': 'cq.txt',\n",
       " 'params.run': 2}"
      ]
     },
     "execution_count": 9,
     "metadata": {},
     "output_type": "execute_result"
    }
   ],
   "source": [
    "# find the missing configurations\n",
    "missing_configs = [\n",
    "    dict(kv)\n",
    "    for kv in list(\n",
    "        {tuple(sorted(config.items())) for config in exp_configs}\n",
    "        - {tuple(sorted(config.items())) for config in existing_configs}\n",
    "    )\n",
    "]\n",
    "print(f\"{len(missing_configs)} missing configurations\")\n",
    "next(iter(missing_configs), None)\n"
   ]
  },
  {
   "cell_type": "code",
   "execution_count": 10,
   "metadata": {},
   "outputs": [],
   "source": [
    "def make_command(exp_config):\n",
    "    run = exp_config[\"params.run\"]\n",
    "    lines = [\"dvc exp run --queue\", f\"-S run={run}\"]\n",
    "    for target_param in target_params:\n",
    "        arg_name = target_param.split(\".\", 1)[-1]\n",
    "        arg_value = exp_config[target_param]\n",
    "        lines.append(f\"-S {arg_name}='{arg_value}'\")\n",
    "\n",
    "    command = \" \\\\\\n    \".join(lines)\n",
    "    return command"
   ]
  },
  {
   "cell_type": "code",
   "execution_count": 11,
   "metadata": {},
   "outputs": [],
   "source": [
    "with open(\"run.sh\", \"w\") as f:\n",
    "    f.write(\"#!/bin/sh\\n\")\n",
    "    for exp_config in missing_configs:\n",
    "        f.write(make_command(exp_config))\n",
    "        f.write(\"\\n\\n\")"
   ]
  },
  {
   "cell_type": "code",
   "execution_count": null,
   "metadata": {},
   "outputs": [],
   "source": []
  }
 ],
 "metadata": {
  "kernelspec": {
   "display_name": "thesis",
   "language": "python",
   "name": "python3"
  },
  "language_info": {
   "codemirror_mode": {
    "name": "ipython",
    "version": 3
   },
   "file_extension": ".py",
   "mimetype": "text/x-python",
   "name": "python",
   "nbconvert_exporter": "python",
   "pygments_lexer": "ipython3",
   "version": "3.10.16"
  }
 },
 "nbformat": 4,
 "nbformat_minor": 2
}
