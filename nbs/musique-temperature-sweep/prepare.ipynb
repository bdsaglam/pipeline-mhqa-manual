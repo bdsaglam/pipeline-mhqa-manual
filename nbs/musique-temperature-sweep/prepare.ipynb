{
 "cells": [
  {
   "cell_type": "code",
   "execution_count": 1,
   "metadata": {},
   "outputs": [],
   "source": [
    "import json\n",
    "from pathlib import Path\n",
    "\n",
    "import pandas as pd"
   ]
  },
  {
   "cell_type": "code",
   "execution_count": 2,
   "metadata": {},
   "outputs": [
    {
     "name": "stdout",
     "output_type": "stream",
     "text": [
      "157 experiments\n"
     ]
    },
    {
     "data": {
      "text/plain": [
       "{'commit': 'workspace',\n",
       " 'id': 'workspace',\n",
       " 'name': None,\n",
       " 'params': {'dataset': {'path': 'bdsaglam/musique',\n",
       "   'name': 'answerable',\n",
       "   'split': 'validation'},\n",
       "  'qa': {'model': 'llama-3-70b-tgi',\n",
       "   'temperature': 0.1,\n",
       "   'system_prompt': 'no-role.txt',\n",
       "   'user_prompt_template': 'cq.txt',\n",
       "   'few_shot_examples': 'empty.json'},\n",
       "  'run': 1},\n",
       " 'metrics': {}}"
      ]
     },
     "execution_count": 2,
     "metadata": {},
     "output_type": "execute_result"
    }
   ],
   "source": [
    "from bellem.dvc.experiment import load_experiments\n",
    "\n",
    "filepaths = list(Path(\"../../tmp/musique-temperature-sweep2/\").glob(\"*.json\"))\n",
    "experiments = [exp for fp in filepaths for exp in load_experiments(fp)]\n",
    "print(f\"{len(experiments)} experiments\")\n",
    "experiments[0]"
   ]
  },
  {
   "cell_type": "code",
   "execution_count": 3,
   "metadata": {},
   "outputs": [
    {
     "name": "stdout",
     "output_type": "stream",
     "text": [
      "117 experiments after preprocessing\n"
     ]
    }
   ],
   "source": [
    "df = pd.json_normalize(experiments).drop(columns=[\"commit\"])\n",
    "mask = (\n",
    "    (df[\"params.dataset.path\"] == \"bdsaglam/musique\")\n",
    "    & (df[\"params.qa.system_prompt\"] != \"no-role.txt\")\n",
    ")\n",
    "\n",
    "df = df.loc[mask].copy()\n",
    "df.drop(columns=[col for col in df.columns if \"fuzzy\" in col], inplace=True)\n",
    "\n",
    "param_cols = [col for col in df.columns if col.startswith(\"params.\")]\n",
    "metric_cols = [col for col in df.columns if col.startswith(\"metrics.\")]\n",
    "df.dropna(subset=param_cols + metric_cols, inplace=True, how=\"any\")\n",
    "df.drop_duplicates(subset=param_cols, inplace=True)\n",
    "\n",
    "print(f\"{len(df)} experiments after preprocessing\")"
   ]
  },
  {
   "cell_type": "code",
   "execution_count": 4,
   "metadata": {},
   "outputs": [],
   "source": [
    "df[\"params.qa.system_prompt\"] = df[\"params.qa.system_prompt\"].map(lambda x: x.replace('standard/', 'direct/'))\n",
    "df[\"params.qa.few_shot_examples\"] = df[\"params.qa.few_shot_examples\"].map(lambda x: x.replace('standard', 'direct'))"
   ]
  },
  {
   "cell_type": "code",
   "execution_count": 5,
   "metadata": {},
   "outputs": [],
   "source": [
    "def parse_qa_technique(system_prompt_filename):\n",
    "    if \"cte\" in system_prompt_filename:\n",
    "        return \"CTE\"\n",
    "    if \"ccot\" in system_prompt_filename:\n",
    "        return \"CCOT\"\n",
    "    if \"cot\" in system_prompt_filename:\n",
    "        return \"COT\"\n",
    "    return \"Direct\"\n",
    "\n",
    "df[\"params.qa.technique\"] = df[\"params.qa.system_prompt\"].map(parse_qa_technique)"
   ]
  },
  {
   "cell_type": "code",
   "execution_count": 6,
   "metadata": {},
   "outputs": [],
   "source": [
    "import re\n",
    "\n",
    "\n",
    "def parse_n_shot(x):\n",
    "    if 'empty' in x:\n",
    "        return 0\n",
    "    # match the digit in the string\n",
    "    x = re.search(r'\\d+', x).group()\n",
    "    return int(x)\n",
    "\n",
    "assert parse_n_shot('empty.json') == 0\n",
    "assert parse_n_shot('cot-2-shot.json') == 2"
   ]
  },
  {
   "cell_type": "code",
   "execution_count": 7,
   "metadata": {},
   "outputs": [],
   "source": [
    "df['params.qa.n_shot'] = df['params.qa.few_shot_examples'].map(parse_n_shot)"
   ]
  },
  {
   "cell_type": "code",
   "execution_count": 8,
   "metadata": {},
   "outputs": [
    {
     "data": {
      "text/html": [
       "<div>\n",
       "<style scoped>\n",
       "    .dataframe tbody tr th:only-of-type {\n",
       "        vertical-align: middle;\n",
       "    }\n",
       "\n",
       "    .dataframe tbody tr th {\n",
       "        vertical-align: top;\n",
       "    }\n",
       "\n",
       "    .dataframe thead th {\n",
       "        text-align: right;\n",
       "    }\n",
       "</style>\n",
       "<table border=\"1\" class=\"dataframe\">\n",
       "  <thead>\n",
       "    <tr style=\"text-align: right;\">\n",
       "      <th></th>\n",
       "      <th>params.qa.system_prompt</th>\n",
       "      <th>params.qa.user_prompt_template</th>\n",
       "      <th>params.qa.few_shot_examples</th>\n",
       "      <th>params.qa.temperature</th>\n",
       "      <th>params.run</th>\n",
       "    </tr>\n",
       "  </thead>\n",
       "  <tbody>\n",
       "    <tr>\n",
       "      <th>4</th>\n",
       "      <td>ccot/format-reasoning.txt</td>\n",
       "      <td>cq.txt</td>\n",
       "      <td>ccot-2-shot-thought.json</td>\n",
       "      <td>0.1</td>\n",
       "      <td>(1, 3)</td>\n",
       "    </tr>\n",
       "    <tr>\n",
       "      <th>8</th>\n",
       "      <td>ccot/format-thought.txt</td>\n",
       "      <td>cq.txt</td>\n",
       "      <td>ccot-2-shot-reasoning.json</td>\n",
       "      <td>0.1</td>\n",
       "      <td>(1, 2)</td>\n",
       "    </tr>\n",
       "    <tr>\n",
       "      <th>12</th>\n",
       "      <td>ccot/format-thought.txt</td>\n",
       "      <td>cq.txt</td>\n",
       "      <td>ccot-2-shot-thought.json</td>\n",
       "      <td>0.1</td>\n",
       "      <td>(1, 3)</td>\n",
       "    </tr>\n",
       "  </tbody>\n",
       "</table>\n",
       "</div>"
      ],
      "text/plain": [
       "      params.qa.system_prompt params.qa.user_prompt_template  \\\n",
       "4   ccot/format-reasoning.txt                         cq.txt   \n",
       "8     ccot/format-thought.txt                         cq.txt   \n",
       "12    ccot/format-thought.txt                         cq.txt   \n",
       "\n",
       "   params.qa.few_shot_examples  params.qa.temperature params.run  \n",
       "4     ccot-2-shot-thought.json                    0.1     (1, 3)  \n",
       "8   ccot-2-shot-reasoning.json                    0.1     (1, 2)  \n",
       "12    ccot-2-shot-thought.json                    0.1     (1, 3)  "
      ]
     },
     "execution_count": 8,
     "metadata": {},
     "output_type": "execute_result"
    }
   ],
   "source": [
    "def sorted_tuple(x):\n",
    "    return tuple(sorted(x))\n",
    "\n",
    "run_counts = (\n",
    "    df.groupby([\"params.qa.system_prompt\", \"params.qa.user_prompt_template\", \"params.qa.few_shot_examples\", \"params.qa.temperature\"])[\n",
    "        \"params.run\"\n",
    "    ]\n",
    "    .aggregate(sorted_tuple)\n",
    "    .reset_index()\n",
    ")\n",
    "run_counts.loc[run_counts[\"params.run\"].map(len) < 3]"
   ]
  },
  {
   "cell_type": "code",
   "execution_count": 9,
   "metadata": {},
   "outputs": [
    {
     "data": {
      "text/html": [
       "<div>\n",
       "<style scoped>\n",
       "    .dataframe tbody tr th:only-of-type {\n",
       "        vertical-align: middle;\n",
       "    }\n",
       "\n",
       "    .dataframe tbody tr th {\n",
       "        vertical-align: top;\n",
       "    }\n",
       "\n",
       "    .dataframe thead th {\n",
       "        text-align: right;\n",
       "    }\n",
       "</style>\n",
       "<table border=\"1\" class=\"dataframe\">\n",
       "  <thead>\n",
       "    <tr style=\"text-align: right;\">\n",
       "      <th></th>\n",
       "      <th>params.qa.system_prompt</th>\n",
       "      <th>params.qa.user_prompt_template</th>\n",
       "      <th>params.qa.few_shot_examples</th>\n",
       "      <th>params.qa.temperature</th>\n",
       "      <th>params.run</th>\n",
       "    </tr>\n",
       "  </thead>\n",
       "  <tbody>\n",
       "  </tbody>\n",
       "</table>\n",
       "</div>"
      ],
      "text/plain": [
       "Empty DataFrame\n",
       "Columns: [params.qa.system_prompt, params.qa.user_prompt_template, params.qa.few_shot_examples, params.qa.temperature, params.run]\n",
       "Index: []"
      ]
     },
     "execution_count": 9,
     "metadata": {},
     "output_type": "execute_result"
    }
   ],
   "source": [
    "run_counts.loc[run_counts[\"params.run\"].map(len) > 3]"
   ]
  },
  {
   "cell_type": "code",
   "execution_count": 10,
   "metadata": {},
   "outputs": [],
   "source": [
    "def is_wrong_config(row):\n",
    "    if row['params.qa.technique'] != 'CCOT':\n",
    "        return False\n",
    "    sp = row['params.qa.system_prompt']\n",
    "    fse = row['params.qa.few_shot_examples']\n",
    "    return sp.rsplit(\"-\")[-1].split(\".\")[0] != fse.rsplit(\"-\")[-1].split(\".\")[0]"
   ]
  },
  {
   "cell_type": "code",
   "execution_count": 11,
   "metadata": {},
   "outputs": [
    {
     "name": "stdout",
     "output_type": "stream",
     "text": [
      "22\n"
     ]
    }
   ],
   "source": [
    "mask = df.apply(is_wrong_config, axis=1)\n",
    "print(mask.sum())"
   ]
  },
  {
   "cell_type": "code",
   "execution_count": 12,
   "metadata": {},
   "outputs": [],
   "source": [
    "df = df.loc[~mask].copy()"
   ]
  },
  {
   "cell_type": "code",
   "execution_count": 13,
   "metadata": {},
   "outputs": [
    {
     "name": "stdout",
     "output_type": "stream",
     "text": [
      "- params.qa.system_prompt\n",
      "\tccot/format-reasoning.txt\n",
      "\tccot/format-thought.txt\n",
      "\tcot/format-minimal.txt\n",
      "\tcot/format-think.txt\n",
      "\tcte/excellent-format-few.txt\n",
      "\tdirect/helpful-output-format-few.txt\n",
      "\tdirect/minimal-output-format-few.txt\n",
      "- params.qa.user_prompt_template\n",
      "\tcq.txt\n",
      "- params.qa.few_shot_examples\n",
      "\tccot-2-shot-reasoning.json\n",
      "\tccot-2-shot-thought.json\n",
      "\tcot-2-shot.json\n",
      "\tcte-2-shot-delim-1.json\n",
      "\tcte-2-shot-delim-2.json\n",
      "\tdirect-2-shot.json\n",
      "- params.qa.temperature\n",
      "\t0.1\n",
      "\t0.3\n",
      "\t0.5\n",
      "\t0.7\n",
      "- params.run\n",
      "\t(1, 2, 3)\n",
      "\t(1, 3)\n",
      "\t(1, 2)\n"
     ]
    }
   ],
   "source": [
    "for col in run_counts.columns:\n",
    "    print(f\"- {col}\")\n",
    "    for value in run_counts[col].unique():\n",
    "        print(f\"\\t{value}\")"
   ]
  },
  {
   "cell_type": "code",
   "execution_count": 14,
   "metadata": {},
   "outputs": [],
   "source": [
    "df.to_json('results.jsonl', orient='records', lines=True)"
   ]
  }
 ],
 "metadata": {
  "kernelspec": {
   "display_name": "thesis",
   "language": "python",
   "name": "python3"
  },
  "language_info": {
   "codemirror_mode": {
    "name": "ipython",
    "version": 3
   },
   "file_extension": ".py",
   "mimetype": "text/x-python",
   "name": "python",
   "nbconvert_exporter": "python",
   "pygments_lexer": "ipython3",
   "version": "3.10.16"
  }
 },
 "nbformat": 4,
 "nbformat_minor": 2
}
