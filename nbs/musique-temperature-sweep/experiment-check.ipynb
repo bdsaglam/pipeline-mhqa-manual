{
 "cells": [
  {
   "cell_type": "code",
   "execution_count": 6,
   "metadata": {},
   "outputs": [],
   "source": [
    "import itertools\n",
    "import json\n",
    "from pathlib import Path\n",
    "\n",
    "import numpy as np\n",
    "import pandas as pd \n",
    "\n",
    "from bellem.dvc.experiment import load_experiments"
   ]
  },
  {
   "cell_type": "code",
   "execution_count": 7,
   "metadata": {},
   "outputs": [],
   "source": [
    "def product_experiment_configs(params_record):\n",
    "    # Generate all possible combinations of parameters\n",
    "    keys = params_record.keys()\n",
    "    values = params_record.values()\n",
    "    for instance in itertools.product(*values):\n",
    "        yield dict(zip(keys, instance))"
   ]
  },
  {
   "cell_type": "code",
   "execution_count": 8,
   "metadata": {},
   "outputs": [
    {
     "name": "stdout",
     "output_type": "stream",
     "text": [
      "336 experiment configurations\n"
     ]
    }
   ],
   "source": [
    "params_records = [\n",
    "    {\n",
    "        \"params.qa.temperature\": [0.0, 0.1, 0.3, 0.5, 0.7, 1.0, 1.5, 2.0],\n",
    "        \"params.qa.system_prompt\": \"standard/excellent-fewest.txt,standard/excellent-few.txt,standard/helpful-output-format-few.txt,standard/minimal-output-format-fewest.txt,standard/minimal-output-format-few-no-prio.txt,standard/minimal-output-format-few.txt,standard/minimal-output-format.txt\".split(\n",
    "            \",\"\n",
    "        ),\n",
    "        \"params.qa.user_prompt_template\": [\"cq.txt\"],\n",
    "        \"params.qa.few_shot_examples\": [\"empty.json\", \"standard-2-shot.json\"],\n",
    "        \"params.run\": [1, 2, 3],\n",
    "    },\n",
    "    # {\n",
    "    #     \"params.qa.temperature\": [0.0, 0.1, 0.3, 0.5, 0.7, 1.0, 1.5, 2.0],\n",
    "    #     \"params.qa.system_prompt\": \"cot/format-minimal.txt,cot/format-reasoning.txt,cot/excellent-format-reasoning.txt,cot/format-think.txt\".split(\n",
    "    #         \",\"\n",
    "    #     ),\n",
    "    #     \"params.qa.user_prompt_template\": [\"cq.txt\"],\n",
    "    #     \"params.qa.few_shot_examples\": [\"empty.json\"],\n",
    "    #     \"params.run\": [1, 2, 3],\n",
    "    # },\n",
    "    # {\n",
    "    #     \"params.qa.temperature\": [0.0, 0.1, 0.3, 0.5, 0.7, 1.0, 1.5, 2.0],\n",
    "    #     \"params.qa.system_prompt\": \"cte/excellent-format-fewest.txt,cte/excellent-format-few.txt,cte/format-few.txt,cte/format-relevant-few.txt\".split(\n",
    "    #         \",\"\n",
    "    #     ),\n",
    "    #     \"params.qa.user_prompt_template\": [\"cq.txt\"],\n",
    "    #     \"params.qa.few_shot_examples\": \"empty.json,cte-2-shot-delim-1.json,cte-2-shot-delim-2.json,cte-2-shot-delim-3.json\".split(\n",
    "    #         \",\"\n",
    "    #     ),\n",
    "    #     \"params.run\": [1, 2, 3],\n",
    "    # },\n",
    "]\n",
    "\n",
    "exp_configs = [\n",
    "    exp_config\n",
    "    for params_record in params_records\n",
    "    for exp_config in product_experiment_configs(params_record)\n",
    "]\n",
    "print(f\"{len(exp_configs)} experiment configurations\")"
   ]
  },
  {
   "cell_type": "code",
   "execution_count": 9,
   "metadata": {},
   "outputs": [
    {
     "data": {
      "text/plain": [
       "dict_keys(['params.qa.temperature', 'params.qa.system_prompt', 'params.qa.user_prompt_template', 'params.qa.few_shot_examples', 'params.run'])"
      ]
     },
     "execution_count": 9,
     "metadata": {},
     "output_type": "execute_result"
    }
   ],
   "source": [
    "target_params = exp_configs[0].keys()\n",
    "target_params"
   ]
  },
  {
   "cell_type": "code",
   "execution_count": 10,
   "metadata": {},
   "outputs": [
    {
     "name": "stdout",
     "output_type": "stream",
     "text": [
      "392 experiments\n"
     ]
    },
    {
     "data": {
      "text/plain": [
       "{'id': '3ddffbe7f93b656485c8735c86e935dc825f48c7',\n",
       " 'name': 'worse-yolk',\n",
       " 'params.dataset.path': 'bdsaglam/musique',\n",
       " 'params.dataset.name': 'answerable',\n",
       " 'params.dataset.split': 'validation',\n",
       " 'params.qa.model': 'llama-3-70b-tgi',\n",
       " 'params.qa.temperature': 2.0,\n",
       " 'params.qa.system_prompt': 'cte/excellent-format-few',\n",
       " 'params.qa.user_prompt_template': 'cq',\n",
       " 'params.qa.few_shot_examples': 'empty.json',\n",
       " 'params.run': 3,\n",
       " 'metrics.exact_match': 0.0173769135,\n",
       " 'metrics.f1': 0.0232922283,\n",
       " 'metrics.2hops.exact_match': 0.0271565495,\n",
       " 'metrics.2hops.f1': 0.0352128314,\n",
       " 'metrics.3hops.exact_match': 0.0065789474,\n",
       " 'metrics.3hops.f1': 0.0118271431,\n",
       " 'metrics.4hops.exact_match': 0.0074074074,\n",
       " 'metrics.4hops.f1': 0.0079561043,\n",
       " 'params.qa.technique': 'CTE',\n",
       " 'params.qa.n_shot': 0}"
      ]
     },
     "execution_count": 10,
     "metadata": {},
     "output_type": "execute_result"
    }
   ],
   "source": [
    "results_path = Path(\"experiments.jsonl\")\n",
    "if results_path.exists():\n",
    "    with open(results_path) as f:\n",
    "        experiments = [json.loads(line) for line in f]\n",
    "else:\n",
    "    experiments = []\n",
    "\n",
    "print(f\"{len(experiments)} experiments\")\n",
    "next(iter(experiments), None)"
   ]
  },
  {
   "cell_type": "code",
   "execution_count": 11,
   "metadata": {},
   "outputs": [
    {
     "name": "stdout",
     "output_type": "stream",
     "text": [
      "392 experiments after preprocessing\n"
     ]
    }
   ],
   "source": [
    "df = pd.DataFrame(experiments)\n",
    "\n",
    "param_cols = [col for col in df.columns if col.startswith(\"params.\")]\n",
    "metric_cols = [col for col in df.columns if col.startswith(\"metrics.\")]\n",
    "\n",
    "df.dropna(subset=param_cols, inplace=True, how=\"any\")\n",
    "df.drop_duplicates(subset=param_cols, inplace=True)\n",
    "\n",
    "print(f\"{len(df)} experiments after preprocessing\")"
   ]
  },
  {
   "cell_type": "code",
   "execution_count": 12,
   "metadata": {},
   "outputs": [
    {
     "data": {
      "text/plain": [
       "{'params.qa.temperature': 2.0,\n",
       " 'params.qa.system_prompt': 'cte/excellent-format-few',\n",
       " 'params.qa.user_prompt_template': 'cq',\n",
       " 'params.qa.few_shot_examples': 'empty.json',\n",
       " 'params.run': 3}"
      ]
     },
     "execution_count": 12,
     "metadata": {},
     "output_type": "execute_result"
    }
   ],
   "source": [
    "existing_configs = df[target_params].to_dict(orient=\"records\")\n",
    "existing_configs[0]"
   ]
  },
  {
   "cell_type": "code",
   "execution_count": 13,
   "metadata": {},
   "outputs": [
    {
     "data": {
      "text/html": [
       "<div>\n",
       "<style scoped>\n",
       "    .dataframe tbody tr th:only-of-type {\n",
       "        vertical-align: middle;\n",
       "    }\n",
       "\n",
       "    .dataframe tbody tr th {\n",
       "        vertical-align: top;\n",
       "    }\n",
       "\n",
       "    .dataframe thead th {\n",
       "        text-align: right;\n",
       "    }\n",
       "</style>\n",
       "<table border=\"1\" class=\"dataframe\">\n",
       "  <thead>\n",
       "    <tr style=\"text-align: right;\">\n",
       "      <th></th>\n",
       "      <th>params.qa.system_prompt</th>\n",
       "      <th>params.qa.user_prompt_template</th>\n",
       "      <th>params.qa.few_shot_examples</th>\n",
       "      <th>params.qa.temperature</th>\n",
       "      <th>params.run</th>\n",
       "    </tr>\n",
       "  </thead>\n",
       "  <tbody>\n",
       "    <tr>\n",
       "      <th>72</th>\n",
       "      <td>standard/excellent-few</td>\n",
       "      <td>cq</td>\n",
       "      <td>standard-2-shot.json</td>\n",
       "      <td>0.0</td>\n",
       "      <td>(3, 2)</td>\n",
       "    </tr>\n",
       "  </tbody>\n",
       "</table>\n",
       "</div>"
      ],
      "text/plain": [
       "   params.qa.system_prompt params.qa.user_prompt_template  \\\n",
       "72  standard/excellent-few                             cq   \n",
       "\n",
       "   params.qa.few_shot_examples  params.qa.temperature params.run  \n",
       "72        standard-2-shot.json                    0.0     (3, 2)  "
      ]
     },
     "execution_count": 13,
     "metadata": {},
     "output_type": "execute_result"
    }
   ],
   "source": [
    "run_counts = (\n",
    "    df.groupby([\"params.qa.system_prompt\", \"params.qa.user_prompt_template\", \"params.qa.few_shot_examples\", \"params.qa.temperature\"])[\n",
    "        \"params.run\"\n",
    "    ]\n",
    "    .aggregate(tuple)\n",
    "    .reset_index()\n",
    ")\n",
    "mask = run_counts[\"params.run\"].map(len) < 3\n",
    "run_counts.loc[mask]"
   ]
  },
  {
   "cell_type": "code",
   "execution_count": 14,
   "metadata": {},
   "outputs": [
    {
     "name": "stdout",
     "output_type": "stream",
     "text": [
      "336 missing configurations\n"
     ]
    },
    {
     "data": {
      "text/plain": [
       "{'params.qa.few_shot_examples': 'standard-2-shot.json',\n",
       " 'params.qa.system_prompt': 'standard/minimal-output-format-few-no-prio.txt',\n",
       " 'params.qa.temperature': 0.5,\n",
       " 'params.qa.user_prompt_template': 'cq.txt',\n",
       " 'params.run': 2}"
      ]
     },
     "execution_count": 14,
     "metadata": {},
     "output_type": "execute_result"
    }
   ],
   "source": [
    "# find the missing configurations\n",
    "missing_configs = [dict(kv) for kv in list({tuple(sorted(config.items())) for config in exp_configs} - {tuple(sorted(config.items())) for config in existing_configs})]\n",
    "print(f\"{len(missing_configs)} missing configurations\")\n",
    "missing_configs[0]\n"
   ]
  },
  {
   "cell_type": "code",
   "execution_count": 15,
   "metadata": {},
   "outputs": [],
   "source": [
    "def make_command(exp_config):\n",
    "    run = exp_config['params.run']\n",
    "    temperature = exp_config['params.qa.temperature']\n",
    "    system_prompt = exp_config['params.qa.system_prompt']\n",
    "    user_prompt_template = exp_config['params.qa.user_prompt_template']\n",
    "    few_shot_examples = exp_config['params.qa.few_shot_examples']\n",
    "    command = f\"\"\"\n",
    "dvc exp run --queue \\\\\n",
    "    -S qa.temperature='{temperature}' \\\\\n",
    "    -S qa.system_prompt='{system_prompt}' \\\\\n",
    "    -S qa.user_prompt_template='{user_prompt_template}' \\\\\n",
    "    -S qa.few_shot_examples='{few_shot_examples}' \\\\\n",
    "    -S run='{run}'\n",
    "    \"\"\"\n",
    "    return command"
   ]
  },
  {
   "cell_type": "code",
   "execution_count": 11,
   "metadata": {},
   "outputs": [],
   "source": [
    "with open(\"../tmp/missing_configs.sh\", \"w\") as f:\n",
    "    f.write('#!/bin/sh\\n')\n",
    "    for exp_config in missing_configs:\n",
    "        f.write(make_command(exp_config))\n",
    "        f.write(\"\\n\")"
   ]
  },
  {
   "cell_type": "code",
   "execution_count": null,
   "metadata": {},
   "outputs": [],
   "source": []
  }
 ],
 "metadata": {
  "kernelspec": {
   "display_name": "thesis",
   "language": "python",
   "name": "python3"
  },
  "language_info": {
   "codemirror_mode": {
    "name": "ipython",
    "version": 3
   },
   "file_extension": ".py",
   "mimetype": "text/x-python",
   "name": "python",
   "nbconvert_exporter": "python",
   "pygments_lexer": "ipython3",
   "version": "3.10.16"
  }
 },
 "nbformat": 4,
 "nbformat_minor": 2
}
