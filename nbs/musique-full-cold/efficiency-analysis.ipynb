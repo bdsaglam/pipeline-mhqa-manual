{
 "cells": [
  {
   "cell_type": "code",
   "execution_count": 4,
   "metadata": {},
   "outputs": [],
   "source": [
    "from pathlib import Path\n",
    "\n",
    "import numpy as np\n",
    "import pandas as pd\n",
    "import seaborn as sns\n",
    "import matplotlib.pyplot as plt\n",
    "import matplotlib as mpl"
   ]
  },
  {
   "cell_type": "code",
   "execution_count": 5,
   "metadata": {},
   "outputs": [],
   "source": [
    "# Set a classic serif font and adjust global styling for academic appearance\n",
    "mpl.rcParams.update({\n",
    "    'font.family': 'serif',\n",
    "    'font.size': 12,\n",
    "    'axes.labelsize': 14,\n",
    "    'axes.titlesize': 16,\n",
    "    'axes.edgecolor': 'black',\n",
    "    'axes.linewidth': 1.0,\n",
    "    'xtick.direction': 'out',\n",
    "    'ytick.direction': 'out',\n",
    "    'xtick.major.size': 5,\n",
    "    'ytick.major.size': 5,\n",
    "    'xtick.minor.size': 2.5,\n",
    "    'ytick.minor.size': 2.5,\n",
    "    'xtick.major.width': 1,\n",
    "    'ytick.major.width': 1,\n",
    "    'figure.dpi': 300,  # High resolution for publication\n",
    "    'savefig.dpi': 300\n",
    "})"
   ]
  },
  {
   "cell_type": "code",
   "execution_count": null,
   "metadata": {},
   "outputs": [],
   "source": [
    "df = pd.read_json(\"exps.jsonl\", lines=True)\n",
    "print(len(df))\n",
    "df.head()"
   ]
  },
  {
   "cell_type": "code",
   "execution_count": 7,
   "metadata": {},
   "outputs": [],
   "source": [
    "param_cols = [col for col in df.columns if col.startswith(\"params.\")]\n",
    "metric_cols = [col for col in df.columns if col.startswith(\"metrics.\")]\n",
    "df.drop(\n",
    "    columns=[\n",
    "        \"id\",\n",
    "        \"params.dataset.path\",\n",
    "        \"params.dataset.name\",\n",
    "        \"params.dataset.split\",\n",
    "        \"params.qa.model\",\n",
    "    ],\n",
    "    inplace=True,\n",
    ")"
   ]
  },
  {
   "cell_type": "code",
   "execution_count": null,
   "metadata": {},
   "outputs": [],
   "source": [
    "target_param_cols = [\n",
    "    \"params.qa.technique\",\n",
    "    \"params.qa.system_prompt\",\n",
    "    \"params.qa.user_prompt_template\",\n",
    "    \"params.qa.few_shot_examples\",\n",
    "    \"params.qa.n_shot\",\n",
    "    \"params.qa.n_sc\",\n",
    "    \"params.qa.temperature\",\n",
    "]\n",
    "df = df.sort_values(target_param_cols + [\"params.run\"])\n",
    "df.reset_index(drop=True, inplace=True)\n",
    "df.head()"
   ]
  },
  {
   "cell_type": "code",
   "execution_count": null,
   "metadata": {},
   "outputs": [],
   "source": [
    "# find the rows with max f1 score for each technique group\n",
    "avg_df = df.groupby(target_param_cols)[metric_cols].mean().reset_index()\n",
    "max_f1_rows = avg_df.groupby('params.qa.technique')[\"metrics.f1\"].idxmax()\n",
    "best_df = avg_df.loc[max_f1_rows, target_param_cols + metric_cols].sort_values('metrics.f1', ascending=False)\n",
    "best_df"
   ]
  },
  {
   "cell_type": "code",
   "execution_count": null,
   "metadata": {},
   "outputs": [],
   "source": [
    "# Extract and prepare the data\n",
    "efficiency_metrics = [\n",
    "    \"metrics.gen_token_count.success.mean\",\n",
    "    \"metrics.gen_token_count.success.std\",\n",
    "    \"metrics.gen_token_count.success.min\",\n",
    "    \"metrics.gen_token_count.success.max\",\n",
    "]\n",
    "data = best_df[[\"params.qa.technique\"] + efficiency_metrics].copy()\n",
    "data.columns = [\"Technique\", \"Mean Tokens\", \"Std Tokens\", \"Min Tokens\", \"Max Tokens\"]\n",
    "data['Technique'] = data['Technique'].map(lambda x: x.capitalize() if x == 'direct' else x.upper())\n",
    "\n",
    "# Identify the mean for the \"Direct\" technique\n",
    "lower_bound = data.loc[data[\"Technique\"] == \"Direct\", \"Mean Tokens\"].values[0]\n",
    "\n",
    "# Compute the multiplication factor relative to Direct\n",
    "data[\"Relative Verbosity Ratio\"] = data[\"Mean Tokens\"] / lower_bound\n",
    "\n",
    "# Sort techniques by RVR\n",
    "data.sort_values(\"Relative Verbosity Ratio\", inplace=True)\n",
    "data"
   ]
  },
  {
   "cell_type": "code",
   "execution_count": null,
   "metadata": {},
   "outputs": [],
   "source": [
    "plt.figure(figsize=(10, 6))\n",
    "plt.errorbar(data[\"Technique\"], data[\"Mean Tokens\"], \n",
    "             yerr=[data[\"Mean Tokens\"] - data[\"Min Tokens\"], data[\"Max Tokens\"] - data[\"Mean Tokens\"]],\n",
    "             fmt='o', capsize=5, ecolor='red', color='blue')\n",
    "plt.title(\"Mean with Min/Max Ranges of Generated Tokens by QA Technique\")\n",
    "plt.xlabel(\"QA Technique\")\n",
    "plt.ylabel(\"Number of Tokens\")\n",
    "plt.xticks(rotation=45)\n",
    "plt.tight_layout()\n",
    "plt.show()\n"
   ]
  },
  {
   "cell_type": "code",
   "execution_count": null,
   "metadata": {},
   "outputs": [],
   "source": [
    "# Create a bar plot with error bars\n",
    "plt.figure(figsize=(10, 6))\n",
    "plt.bar(data[\"Technique\"], data[\"Mean Tokens\"], \n",
    "        yerr=data[\"Std Tokens\"], capsize=5, \n",
    "        color='skyblue', edgecolor='black')\n",
    "plt.title(\"Mean and Standard Deviation of Generated Tokens by QA Technique\")\n",
    "plt.xlabel(\"QA Technique\")\n",
    "plt.ylabel(\"Number of Tokens\")\n",
    "plt.xticks(rotation=45)\n",
    "plt.tight_layout()\n",
    "plt.show()\n"
   ]
  },
  {
   "cell_type": "code",
   "execution_count": null,
   "metadata": {},
   "outputs": [],
   "source": [
    "# Create a bar plot with error bars\n",
    "fig, ax = plt.subplots(figsize=(10, 6))\n",
    "\n",
    "bars = ax.bar(data[\"Technique\"], data[\"Mean Tokens\"], \n",
    "              yerr=data[\"Std Tokens\"], capsize=5, \n",
    "              color='white', edgecolor='black', linewidth=1)\n",
    "\n",
    "# Set titles and labels with appropriate font sizes\n",
    "ax.set_title(\"Mean and Standard Deviation of Generated Tokens by QA Technique\", pad=15)\n",
    "ax.set_xlabel(\"QA Technique\", labelpad=10)\n",
    "ax.set_ylabel(\"Number of Tokens\", labelpad=10)\n",
    "\n",
    "# Rotate x-axis labels for readability\n",
    "plt.xticks(rotation=45, ha='right')\n",
    "\n",
    "# Remove top and right spines for a cleaner look\n",
    "ax.spines['top'].set_visible(False)\n",
    "ax.spines['right'].set_visible(False)\n",
    "\n",
    "# Enable minor ticks for additional precision\n",
    "ax.minorticks_on()\n",
    "\n",
    "# Adjust layout for publication quality\n",
    "plt.tight_layout()\n",
    "\n",
    "# Show or save the figure as needed (e.g., plt.savefig(\"figure.png\"))\n",
    "plt.show()\n"
   ]
  },
  {
   "cell_type": "code",
   "execution_count": null,
   "metadata": {},
   "outputs": [],
   "source": [
    "plt.figure(figsize=(10, 6))\n",
    "plt.bar(data[\"Technique\"], data[\"Mean Tokens\"], \n",
    "        yerr=data[\"Std Tokens\"], capsize=5, \n",
    "        color='skyblue', edgecolor='black')\n",
    "plt.title(\"Mean and Standard Deviation of Generated Tokens by QA Technique\")\n",
    "plt.xlabel(\"QA Technique\")\n",
    "plt.ylabel(\"Number of Tokens\")\n",
    "plt.xticks(rotation=45)\n",
    "plt.tight_layout()\n",
    "plt.show()\n"
   ]
  },
  {
   "cell_type": "code",
   "execution_count": null,
   "metadata": {},
   "outputs": [],
   "source": [
    "# Create the lollipop chart\n",
    "fig, ax = plt.subplots(figsize=(10, 6))\n",
    "\n",
    "# Plot a vertical line for each technique from min to max\n",
    "for idx, row in data.iterrows():\n",
    "    ax.plot([row[\"Technique\"], row[\"Technique\"]], [row[\"Min Tokens\"], row[\"Max Tokens\"]],\n",
    "            color='grey', lw=2, zorder=1)\n",
    "\n",
    "# Plot mean points with error bars (mean ± std) as small horizontal ticks\n",
    "for idx, row in data.iterrows():\n",
    "    # Vertical line for std range centered on the mean\n",
    "    ax.plot([row[\"Technique\"], row[\"Technique\"]],\n",
    "            [row[\"Mean Tokens\"] - row[\"Std Tokens\"], row[\"Mean Tokens\"] + row[\"Std Tokens\"]],\n",
    "            color='darkblue', lw=3, zorder=2)\n",
    "    # Marker at the mean\n",
    "    ax.scatter(row[\"Technique\"], row[\"Mean Tokens\"], \n",
    "               color='skyblue', edgecolor='black', s=100, zorder=3)\n",
    "\n",
    "# Set titles and labels\n",
    "ax.set_title(\"Token Generation Statistics by QA Technique\", pad=15)\n",
    "ax.set_xlabel(\"QA Technique\", labelpad=10)\n",
    "ax.set_ylabel(\"Number of Tokens\", labelpad=10)\n",
    "\n",
    "# Rotate x-axis labels for readability\n",
    "plt.xticks(rotation=45, ha='right')\n",
    "\n",
    "# Remove top and right\n"
   ]
  },
  {
   "cell_type": "code",
   "execution_count": null,
   "metadata": {},
   "outputs": [],
   "source": [
    "# Create synthetic data assuming normal distribution for each technique\n",
    "synthetic_data = []\n",
    "for _, row in data.iterrows():\n",
    "    # Generate 500 sample points from a normal distribution with given mean and std\n",
    "    samples = np.random.normal(loc=row[\"Mean Tokens\"], scale=row[\"Std Tokens\"], size=500)\n",
    "    # Clip to min and max bounds\n",
    "    samples = np.clip(samples, row[\"Min Tokens\"], row[\"Max Tokens\"])\n",
    "    synthetic_data.extend(zip([row[\"Technique\"]]*len(samples), samples))\n",
    "\n",
    "# Convert to DataFrame\n",
    "synthetic_df = pd.DataFrame(synthetic_data, columns=[\"Technique\", \"Token Count\"])\n",
    "\n",
    "# Plot violin plot using Seaborn\n",
    "plt.figure(figsize=(10, 6))\n",
    "sns.violinplot(x=\"Technique\", y=\"Token Count\", data=synthetic_df, palette=\"pastel\", inner=\"quartile\")\n",
    "plt.title(\"Approximate Distribution of Generated Tokens by QA Technique\")\n",
    "plt.xlabel(\"QA Technique\")\n",
    "plt.ylabel(\"Number of Tokens\")\n",
    "plt.xticks(rotation=45, ha='right')\n",
    "plt.tight_layout()\n",
    "plt.show()\n"
   ]
  },
  {
   "cell_type": "code",
   "execution_count": null,
   "metadata": {},
   "outputs": [],
   "source": [
    "fig, ax = plt.subplots(figsize=(10, 6))\n",
    "\n",
    "bars = ax.bar(\n",
    "    data[\"Technique\"], \n",
    "    data[\"Relative Verbosity Ratio\"], \n",
    "    color='skyblue', \n",
    "    edgecolor='black', \n",
    "    linewidth=1\n",
    ")\n",
    "\n",
    "# Highlight the Direct technique bar (which should have a ratio of 1.0)\n",
    "for bar, tech in zip(bars, data[\"Technique\"]):\n",
    "    if tech == \"Direct\":\n",
    "        bar.set_color('lightgreen')\n",
    "        bar.set_edgecolor('darkgreen')\n",
    "\n",
    "# Add a horizontal reference line at ratio = 1\n",
    "ax.axhline(1, color='grey', linestyle='--', linewidth=1)\n",
    "\n",
    "# Set titles and labels\n",
    "ax.set_title(\"Relative Verbosity of QA Techniques Compared to 'Direct'\", pad=15)\n",
    "ax.set_xlabel(\"QA Technique\", labelpad=10)\n",
    "ax.set_ylabel(\"Relative Verbosity Ratio\", labelpad=10)\n",
    "\n",
    "plt.xticks(rotation=45, ha='right')\n",
    "plt.tight_layout()\n",
    "plt.show()\n"
   ]
  },
  {
   "cell_type": "code",
   "execution_count": null,
   "metadata": {},
   "outputs": [],
   "source": []
  }
 ],
 "metadata": {
  "kernelspec": {
   "display_name": "thesis",
   "language": "python",
   "name": "python3"
  },
  "language_info": {
   "codemirror_mode": {
    "name": "ipython",
    "version": 3
   },
   "file_extension": ".py",
   "mimetype": "text/x-python",
   "name": "python",
   "nbconvert_exporter": "python",
   "pygments_lexer": "ipython3",
   "version": "3.10.16"
  }
 },
 "nbformat": 4,
 "nbformat_minor": 2
}
