{
 "cells": [
  {
   "cell_type": "code",
   "execution_count": 210,
   "metadata": {},
   "outputs": [],
   "source": [
    "from pathlib import Path\n",
    "\n",
    "import matplotlib.pyplot as plt\n",
    "import pandas as pd\n",
    "import seaborn as sns"
   ]
  },
  {
   "cell_type": "code",
   "execution_count": null,
   "metadata": {},
   "outputs": [],
   "source": [
    "df = pd.read_json(\"exps.jsonl\", lines=True)\n",
    "print(len(df))\n",
    "df.head()"
   ]
  },
  {
   "cell_type": "code",
   "execution_count": 212,
   "metadata": {},
   "outputs": [],
   "source": [
    "param_cols = [col for col in df.columns if col.startswith(\"params.\")]\n",
    "metric_cols = [col for col in df.columns if col.startswith(\"metrics.\")]\n",
    "df.drop(\n",
    "    columns=[\n",
    "        \"id\",\n",
    "        \"params.dataset.path\",\n",
    "        \"params.dataset.name\",\n",
    "        \"params.dataset.split\",\n",
    "        \"params.qa.model\",\n",
    "    ],\n",
    "    inplace=True,\n",
    ")"
   ]
  },
  {
   "cell_type": "code",
   "execution_count": null,
   "metadata": {},
   "outputs": [],
   "source": [
    "target_param_cols = [\n",
    "    \"params.qa.technique\",\n",
    "    \"params.qa.system_prompt\",\n",
    "    \"params.qa.user_prompt_template\",\n",
    "    \"params.qa.few_shot_examples\",\n",
    "    \"params.qa.n_shot\",\n",
    "    \"params.qa.n_sc\",\n",
    "    \"params.qa.temperature\",\n",
    "]\n",
    "df = df.sort_values(target_param_cols + [\"params.run\"])\n",
    "df.reset_index(drop=True, inplace=True)\n",
    "df.head()"
   ]
  },
  {
   "cell_type": "code",
   "execution_count": null,
   "metadata": {},
   "outputs": [],
   "source": [
    "run_counts = df.groupby(target_param_cols)[\"params.run\"].aggregate(tuple).reset_index()\n",
    "mask = run_counts[\"params.run\"].map(len) != 3\n",
    "run_counts.loc[mask]"
   ]
  },
  {
   "cell_type": "code",
   "execution_count": 215,
   "metadata": {},
   "outputs": [],
   "source": [
    "def remove_ext(filename):\n",
    "    return filename.split(\".\", 1)[0]\n",
    "\n",
    "\n",
    "for col in [\n",
    "    \"params.qa.system_prompt\",\n",
    "    \"params.qa.user_prompt_template\",\n",
    "    \"params.qa.few_shot_examples\",\n",
    "]:\n",
    "    df[col] = df[col].map(remove_ext)"
   ]
  },
  {
   "cell_type": "code",
   "execution_count": null,
   "metadata": {},
   "outputs": [],
   "source": [
    "avg_df = df.groupby(target_param_cols)[metric_cols].max().reset_index()\n",
    "avg_df.head()"
   ]
  },
  {
   "cell_type": "code",
   "execution_count": null,
   "metadata": {},
   "outputs": [],
   "source": [
    "# find the rows with max f1 score for each technique group\n",
    "max_f1_rows = avg_df.groupby('params.qa.technique')[\"metrics.f1\"].idxmax()\n",
    "best_df = avg_df.loc[max_f1_rows, target_param_cols + metric_cols].sort_values('metrics.f1', ascending=False)\n",
    "best_df"
   ]
  },
  {
   "cell_type": "markdown",
   "metadata": {},
   "source": [
    "## Visualizations"
   ]
  },
  {
   "cell_type": "code",
   "execution_count": 219,
   "metadata": {},
   "outputs": [],
   "source": [
    "def prepare_data(dataf):\n",
    "    # Simplify column names for use in formula\n",
    "    dataf = dataf[target_param_cols + ['params.run'] + metric_cols[:2]].rename(\n",
    "        columns={\n",
    "            col: col.replace(\"params.qa.\", \"\").replace(\"params.\", \"\").replace(\"metrics.\", \"\")\n",
    "            for col in dataf.columns\n",
    "        }\n",
    "    )\n",
    "\n",
    "    # Combine prompts into a single column for simplicity\n",
    "    dataf[\"prompt\"] = (\n",
    "        dataf[\"system_prompt\"]\n",
    "        + \" | \"\n",
    "        + dataf[\"user_prompt_template\"]\n",
    "        + \" | \"\n",
    "        + dataf[\"n_shot\"].map(str)\n",
    "    )\n",
    "\n",
    "    return dataf\n"
   ]
  },
  {
   "cell_type": "code",
   "execution_count": 220,
   "metadata": {},
   "outputs": [],
   "source": [
    "def plot_variance(dataf, x='temperature', y='f1', hue='prompt', technique=None, figsize=(12, 8), legend='auto', legend_loc='lower left'):  \n",
    "    if technique:\n",
    "        dataf = dataf[dataf['technique'] == technique]\n",
    "    plt.figure(figsize=figsize)\n",
    "    sns.lineplot(x=x, y=y, hue=hue, data=dataf, linewidth=2.5, legend=legend)\n",
    "    plt.xlabel(x.title())\n",
    "    plt.ylabel(y.title())\n",
    "    if legend:\n",
    "        plt.legend(loc=legend_loc)\n",
    "    plt.tight_layout()\n",
    "    plt.show()"
   ]
  },
  {
   "cell_type": "code",
   "execution_count": 221,
   "metadata": {},
   "outputs": [],
   "source": [
    "def plot_variance_grid(dataf, x='temperature', y='f1', hue='prompt', figsize=(6, 4), legend='auto', legend_loc='lower left'):\n",
    "    techniques = dataf['technique'].unique()\n",
    "    n = len(techniques)\n",
    "    n_cols = 2\n",
    "    n_rows = (n + 1) // n_cols  # Calculate the number of rows needed for nx2 grid\n",
    "    figsize = (figsize[0] * n_cols, figsize[1] * n_rows)  # Adjust the figure size based on the number of rows\n",
    "    fig, axes = plt.subplots(n_rows, n_cols, figsize=figsize)\n",
    "    axes = axes.flatten()  # Flatten the axes array for easy iteration\n",
    "\n",
    "    for i, technique in enumerate(techniques):\n",
    "        ax = axes[i]\n",
    "        subset = dataf[dataf['technique'] == technique]\n",
    "        sns.lineplot(x=x, y=y, hue=hue, data=subset, linewidth=2.5, legend=False, ax=ax)\n",
    "        ax.set_title(technique)\n",
    "        ax.set_xlabel(x.title())\n",
    "        ax.set_ylabel(y.title())\n",
    "\n",
    "    # Remove any unused subplots\n",
    "    for j in range(i + 1, len(axes)):\n",
    "        fig.delaxes(axes[j])\n",
    "\n",
    "    plt.tight_layout()\n",
    "    plt.show()"
   ]
  },
  {
   "cell_type": "code",
   "execution_count": null,
   "metadata": {},
   "outputs": [],
   "source": [
    "prepared_df = prepare_data(df)\n",
    "zero_shot_mask = prepared_df[\"n_shot\"] == 0\n",
    "prepared_df"
   ]
  },
  {
   "cell_type": "code",
   "execution_count": null,
   "metadata": {},
   "outputs": [],
   "source": [
    "plot_variance_grid(prepared_df, x='temperature', y='f1', hue='prompt', legend_loc='upper left')"
   ]
  },
  {
   "cell_type": "code",
   "execution_count": null,
   "metadata": {},
   "outputs": [],
   "source": [
    "for technique in prepared_df['technique'].unique():\n",
    "    plot_variance(prepared_df, technique='DIRECT', legend='brief', figsize=(6, 4))"
   ]
  },
  {
   "cell_type": "code",
   "execution_count": null,
   "metadata": {},
   "outputs": [],
   "source": [
    "plot_variance(prepared_df, technique='CTE', legend='brief')"
   ]
  },
  {
   "cell_type": "code",
   "execution_count": null,
   "metadata": {},
   "outputs": [],
   "source": [
    "plot_variance(prepared_df, technique='CCOT', legend='brief')"
   ]
  },
  {
   "cell_type": "code",
   "execution_count": null,
   "metadata": {},
   "outputs": [],
   "source": [
    "best_df['params.run'] = 0\n",
    "best_prompts = prepare_data(best_df).prompt.values.tolist()\n",
    "_data = prepared_df.copy()\n",
    "prompt_mask = _data['prompt'].isin(best_prompts)\n",
    "best_prepared_df = _data.loc[prompt_mask]\n",
    "best_prepared_df"
   ]
  },
  {
   "cell_type": "code",
   "execution_count": null,
   "metadata": {},
   "outputs": [],
   "source": [
    "plot_variance(best_prepared_df, figsize=(12, 8), legend_loc='lower right')"
   ]
  },
  {
   "cell_type": "code",
   "execution_count": null,
   "metadata": {},
   "outputs": [],
   "source": [
    "plot_variance(best_prepared_df, figsize=(12, 8), legend_loc='lower left')"
   ]
  },
  {
   "cell_type": "code",
   "execution_count": null,
   "metadata": {},
   "outputs": [],
   "source": [
    "plot_variance(best_prepared_df[best_prepared_df['temperature'] <= 1.0], figsize=(12, 8), legend_loc='lower left')"
   ]
  },
  {
   "cell_type": "code",
   "execution_count": null,
   "metadata": {},
   "outputs": [],
   "source": [
    "plot_variance(best_prepared_df[best_prepared_df['temperature'] <= 1.0], technique='CCOT', figsize=(12, 8), legend_loc='lower left')"
   ]
  },
  {
   "cell_type": "code",
   "execution_count": null,
   "metadata": {},
   "outputs": [],
   "source": [
    "plot_variance(best_prepared_df[best_prepared_df['temperature'] <= 1.0], technique='CTE', figsize=(12, 8), legend_loc='lower left')"
   ]
  },
  {
   "cell_type": "markdown",
   "metadata": {},
   "source": [
    "## Inspect"
   ]
  },
  {
   "cell_type": "code",
   "execution_count": 233,
   "metadata": {},
   "outputs": [],
   "source": [
    "# # box-whisker plot\n",
    "# plt.figure(figsize=(12, 8))\n",
    "# sns.boxplot(\n",
    "#     x=\"prompt\",\n",
    "#     y=\"f1\",\n",
    "#     data=prepared_df.sort_values(by=\"f1\"),\n",
    "# )\n",
    "# plt.xticks(rotation=60, ha=\"right\");"
   ]
  },
  {
   "cell_type": "code",
   "execution_count": null,
   "metadata": {},
   "outputs": [],
   "source": [
    "plot_variance(prepared_df[prepared_df['temperature'] == 0.1], x='n_shot', hue='technique', figsize=(12, 8), legend_loc='lower right')"
   ]
  },
  {
   "cell_type": "code",
   "execution_count": null,
   "metadata": {},
   "outputs": [],
   "source": [
    "plot_variance(prepared_df[prepared_df['temperature'] < 1.0], x='n_shot', hue='technique', figsize=(12, 8), legend_loc='lower right')"
   ]
  },
  {
   "cell_type": "code",
   "execution_count": null,
   "metadata": {},
   "outputs": [],
   "source": [
    "df"
   ]
  },
  {
   "cell_type": "code",
   "execution_count": null,
   "metadata": {},
   "outputs": [],
   "source": [
    "mask = (df['params.run'] == 2) & (df['params.qa.temperature'] == 0.1)\n",
    "df.loc[mask].sort_values('metrics.f1', ascending=False)"
   ]
  },
  {
   "cell_type": "code",
   "execution_count": null,
   "metadata": {},
   "outputs": [],
   "source": []
  }
 ],
 "metadata": {
  "kernelspec": {
   "display_name": "thesis",
   "language": "python",
   "name": "python3"
  },
  "language_info": {
   "codemirror_mode": {
    "name": "ipython",
    "version": 3
   },
   "file_extension": ".py",
   "mimetype": "text/x-python",
   "name": "python",
   "nbconvert_exporter": "python",
   "pygments_lexer": "ipython3",
   "version": "3.10.16"
  }
 },
 "nbformat": 4,
 "nbformat_minor": 2
}
