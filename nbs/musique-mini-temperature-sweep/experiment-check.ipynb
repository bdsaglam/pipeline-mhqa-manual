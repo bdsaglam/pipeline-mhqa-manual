{
 "cells": [
  {
   "cell_type": "code",
   "execution_count": 52,
   "metadata": {},
   "outputs": [],
   "source": [
    "import itertools\n",
    "import json\n",
    "from pathlib import Path\n",
    "\n",
    "import numpy as np\n",
    "import pandas as pd \n",
    "\n",
    "from bellem.dvc.experiment import load_experiments"
   ]
  },
  {
   "cell_type": "code",
   "execution_count": 53,
   "metadata": {},
   "outputs": [],
   "source": [
    "def product_experiment_configs(params_record):\n",
    "    # Generate all possible combinations of parameters\n",
    "    keys = params_record.keys()\n",
    "    values = params_record.values()\n",
    "    for instance in itertools.product(*values):\n",
    "        yield dict(zip(keys, instance))"
   ]
  },
  {
   "cell_type": "code",
   "execution_count": 54,
   "metadata": {},
   "outputs": [
    {
     "name": "stdout",
     "output_type": "stream",
     "text": [
      "168 experiment configurations\n"
     ]
    }
   ],
   "source": [
    "params_records = [\n",
    "    {\n",
    "        \"params.dataset.path\": [\"bdsaglam/musique-mini\"],\n",
    "        \"params.qa.temperature\": [0.1, 0.3, 0.5, 0.7, 1.0, 1.5, 2.0],\n",
    "        \"params.qa.system_prompt\": \"standard/excellent-few.txt,standard/helpful-output-format-few.txt,standard/minimal-output-format-few.txt,standard/minimal-output-format.txt\".split(\n",
    "            \",\"\n",
    "        ),\n",
    "        \"params.qa.user_prompt_template\": [\"cq.txt\"],\n",
    "        \"params.qa.few_shot_examples\": [\"empty.json\", \"standard-2-shot.json\"],\n",
    "        \"params.run\": [1, 2, 3],\n",
    "    },\n",
    "    # {\n",
    "        # \"params.dataset.path\": [\"bdsaglam/musique-mini\"],\n",
    "    #     \"params.qa.temperature\": [0.1, 0.3, 0.5, 0.7, 1.0, 1.5, 2.0],\n",
    "    #     \"params.qa.system_prompt\": \"cot/format-minimal.txt,cot/format-reasoning.txt,cot/excellent-format-reasoning.txt,cot/format-think.txt\".split(\n",
    "    #         \",\"\n",
    "    #     ),\n",
    "    #     \"params.qa.user_prompt_template\": [\"cq.txt\"],\n",
    "    #     \"params.qa.few_shot_examples\": [\"empty.json\"],\n",
    "    #     \"params.run\": [1, 2, 3],\n",
    "    # },\n",
    "    # {\n",
    "        # \"params.dataset.path\": [\"bdsaglam/musique-mini\"],\n",
    "    #     \"params.qa.temperature\": [0.1, 0.3, 0.5, 0.7, 1.0, 1.5, 2.0],\n",
    "    #     \"params.qa.system_prompt\": \"cte/excellent-format-few.txt,cte/format-few.txt,cte/format-relevant-few.txt\".split(\n",
    "    #         \",\"\n",
    "    #     ),\n",
    "    #     \"params.qa.user_prompt_template\": [\"cq.txt\"],\n",
    "    #     \"params.qa.few_shot_examples\": \"empty.json,cte-2-shot-delim-1.json,cte-2-shot-delim-2.json\".split(\n",
    "    #         \",\"\n",
    "    #     ),\n",
    "    #     \"params.run\": [1, 2, 3],\n",
    "    # },\n",
    "]\n",
    "\n",
    "exp_configs = [\n",
    "    exp_config\n",
    "    for params_record in params_records\n",
    "    for exp_config in product_experiment_configs(params_record)\n",
    "]\n",
    "print(f\"{len(exp_configs)} experiment configurations\")"
   ]
  },
  {
   "cell_type": "code",
   "execution_count": 55,
   "metadata": {},
   "outputs": [
    {
     "data": {
      "text/plain": [
       "dict_keys(['params.dataset.path', 'params.qa.temperature', 'params.qa.system_prompt', 'params.qa.user_prompt_template', 'params.qa.few_shot_examples', 'params.run'])"
      ]
     },
     "execution_count": 55,
     "metadata": {},
     "output_type": "execute_result"
    }
   ],
   "source": [
    "target_params = exp_configs[0].keys()\n",
    "target_params"
   ]
  },
  {
   "cell_type": "code",
   "execution_count": 56,
   "metadata": {},
   "outputs": [
    {
     "name": "stdout",
     "output_type": "stream",
     "text": [
      "168 experiments\n"
     ]
    },
    {
     "data": {
      "text/plain": [
       "{'id': '177391d1391156fbd525e4fcd99fba991e9178b5',\n",
       " 'name': 'loony-berk',\n",
       " 'params.dataset.path': 'bdsaglam/musique-mini',\n",
       " 'params.dataset.name': 'answerable',\n",
       " 'params.dataset.split': 'validation',\n",
       " 'params.qa.model': 'llama-3-70b-tgi',\n",
       " 'params.qa.temperature': 2.0,\n",
       " 'params.qa.system_prompt': 'standard/minimal-output-format.txt',\n",
       " 'params.qa.user_prompt_template': 'cq.txt',\n",
       " 'params.qa.few_shot_examples': 'standard-2-shot.json',\n",
       " 'params.run': 3,\n",
       " 'metrics.exact_match': 0.21,\n",
       " 'metrics.f1': 0.2977443089,\n",
       " 'metrics.2hops.exact_match': 0.27,\n",
       " 'metrics.2hops.f1': 0.3662393718,\n",
       " 'metrics.3hops.exact_match': 0.24,\n",
       " 'metrics.3hops.f1': 0.3187659105,\n",
       " 'metrics.4hops.exact_match': 0.12,\n",
       " 'metrics.4hops.f1': 0.2082276446,\n",
       " 'params.qa.technique': 'Standard',\n",
       " 'params.qa.n_shot': 2}"
      ]
     },
     "execution_count": 56,
     "metadata": {},
     "output_type": "execute_result"
    }
   ],
   "source": [
    "results_path = Path(\"results.jsonl\")\n",
    "if results_path.exists():\n",
    "    with open(results_path) as f:\n",
    "        experiments = [json.loads(line) for line in f]\n",
    "else:\n",
    "    experiments = []\n",
    "\n",
    "print(f\"{len(experiments)} experiments\")\n",
    "next(iter(experiments), None)"
   ]
  },
  {
   "cell_type": "code",
   "execution_count": 57,
   "metadata": {},
   "outputs": [
    {
     "name": "stdout",
     "output_type": "stream",
     "text": [
      "168 experiments after preprocessing\n"
     ]
    },
    {
     "data": {
      "text/html": [
       "<div>\n",
       "<style scoped>\n",
       "    .dataframe tbody tr th:only-of-type {\n",
       "        vertical-align: middle;\n",
       "    }\n",
       "\n",
       "    .dataframe tbody tr th {\n",
       "        vertical-align: top;\n",
       "    }\n",
       "\n",
       "    .dataframe thead th {\n",
       "        text-align: right;\n",
       "    }\n",
       "</style>\n",
       "<table border=\"1\" class=\"dataframe\">\n",
       "  <thead>\n",
       "    <tr style=\"text-align: right;\">\n",
       "      <th></th>\n",
       "      <th>id</th>\n",
       "      <th>name</th>\n",
       "      <th>params.dataset.path</th>\n",
       "      <th>params.dataset.name</th>\n",
       "      <th>params.dataset.split</th>\n",
       "      <th>params.qa.model</th>\n",
       "      <th>params.qa.temperature</th>\n",
       "      <th>params.qa.system_prompt</th>\n",
       "      <th>params.qa.user_prompt_template</th>\n",
       "      <th>params.qa.few_shot_examples</th>\n",
       "      <th>...</th>\n",
       "      <th>metrics.exact_match</th>\n",
       "      <th>metrics.f1</th>\n",
       "      <th>metrics.2hops.exact_match</th>\n",
       "      <th>metrics.2hops.f1</th>\n",
       "      <th>metrics.3hops.exact_match</th>\n",
       "      <th>metrics.3hops.f1</th>\n",
       "      <th>metrics.4hops.exact_match</th>\n",
       "      <th>metrics.4hops.f1</th>\n",
       "      <th>params.qa.technique</th>\n",
       "      <th>params.qa.n_shot</th>\n",
       "    </tr>\n",
       "  </thead>\n",
       "  <tbody>\n",
       "    <tr>\n",
       "      <th>0</th>\n",
       "      <td>177391d1391156fbd525e4fcd99fba991e9178b5</td>\n",
       "      <td>loony-berk</td>\n",
       "      <td>bdsaglam/musique-mini</td>\n",
       "      <td>answerable</td>\n",
       "      <td>validation</td>\n",
       "      <td>llama-3-70b-tgi</td>\n",
       "      <td>2.0</td>\n",
       "      <td>standard/minimal-output-format.txt</td>\n",
       "      <td>cq.txt</td>\n",
       "      <td>standard-2-shot.json</td>\n",
       "      <td>...</td>\n",
       "      <td>0.210000</td>\n",
       "      <td>0.297744</td>\n",
       "      <td>0.27</td>\n",
       "      <td>0.366239</td>\n",
       "      <td>0.24</td>\n",
       "      <td>0.318766</td>\n",
       "      <td>0.12</td>\n",
       "      <td>0.208228</td>\n",
       "      <td>Standard</td>\n",
       "      <td>2</td>\n",
       "    </tr>\n",
       "    <tr>\n",
       "      <th>1</th>\n",
       "      <td>4ce51d7185befed6bcfeabe4ed2202e8968a5c3c</td>\n",
       "      <td>filar-duke</td>\n",
       "      <td>bdsaglam/musique-mini</td>\n",
       "      <td>answerable</td>\n",
       "      <td>validation</td>\n",
       "      <td>llama-3-70b-tgi</td>\n",
       "      <td>2.0</td>\n",
       "      <td>standard/minimal-output-format.txt</td>\n",
       "      <td>cq.txt</td>\n",
       "      <td>empty.json</td>\n",
       "      <td>...</td>\n",
       "      <td>0.206667</td>\n",
       "      <td>0.292214</td>\n",
       "      <td>0.21</td>\n",
       "      <td>0.337016</td>\n",
       "      <td>0.26</td>\n",
       "      <td>0.322345</td>\n",
       "      <td>0.15</td>\n",
       "      <td>0.217281</td>\n",
       "      <td>Standard</td>\n",
       "      <td>0</td>\n",
       "    </tr>\n",
       "    <tr>\n",
       "      <th>2</th>\n",
       "      <td>8fcdc9286cda2c1d442f504a40bf17ed88578d1a</td>\n",
       "      <td>catty-curb</td>\n",
       "      <td>bdsaglam/musique-mini</td>\n",
       "      <td>answerable</td>\n",
       "      <td>validation</td>\n",
       "      <td>llama-3-70b-tgi</td>\n",
       "      <td>2.0</td>\n",
       "      <td>standard/minimal-output-format.txt</td>\n",
       "      <td>cq.txt</td>\n",
       "      <td>standard-2-shot.json</td>\n",
       "      <td>...</td>\n",
       "      <td>0.230000</td>\n",
       "      <td>0.320007</td>\n",
       "      <td>0.23</td>\n",
       "      <td>0.337095</td>\n",
       "      <td>0.25</td>\n",
       "      <td>0.347237</td>\n",
       "      <td>0.21</td>\n",
       "      <td>0.275689</td>\n",
       "      <td>Standard</td>\n",
       "      <td>2</td>\n",
       "    </tr>\n",
       "    <tr>\n",
       "      <th>3</th>\n",
       "      <td>6ae8b97043204637fac39dd958cad633472a5387</td>\n",
       "      <td>shock-jump</td>\n",
       "      <td>bdsaglam/musique-mini</td>\n",
       "      <td>answerable</td>\n",
       "      <td>validation</td>\n",
       "      <td>llama-3-70b-tgi</td>\n",
       "      <td>2.0</td>\n",
       "      <td>standard/minimal-output-format.txt</td>\n",
       "      <td>cq.txt</td>\n",
       "      <td>empty.json</td>\n",
       "      <td>...</td>\n",
       "      <td>0.223333</td>\n",
       "      <td>0.312181</td>\n",
       "      <td>0.32</td>\n",
       "      <td>0.431108</td>\n",
       "      <td>0.19</td>\n",
       "      <td>0.256472</td>\n",
       "      <td>0.16</td>\n",
       "      <td>0.248964</td>\n",
       "      <td>Standard</td>\n",
       "      <td>0</td>\n",
       "    </tr>\n",
       "    <tr>\n",
       "      <th>4</th>\n",
       "      <td>bb812c86f9ae256834ec7cc40f3b53aaa0e38d0c</td>\n",
       "      <td>beady-coze</td>\n",
       "      <td>bdsaglam/musique-mini</td>\n",
       "      <td>answerable</td>\n",
       "      <td>validation</td>\n",
       "      <td>llama-3-70b-tgi</td>\n",
       "      <td>2.0</td>\n",
       "      <td>standard/minimal-output-format-few.txt</td>\n",
       "      <td>cq.txt</td>\n",
       "      <td>standard-2-shot.json</td>\n",
       "      <td>...</td>\n",
       "      <td>0.296667</td>\n",
       "      <td>0.382108</td>\n",
       "      <td>0.30</td>\n",
       "      <td>0.394228</td>\n",
       "      <td>0.30</td>\n",
       "      <td>0.394629</td>\n",
       "      <td>0.29</td>\n",
       "      <td>0.357468</td>\n",
       "      <td>Standard</td>\n",
       "      <td>2</td>\n",
       "    </tr>\n",
       "  </tbody>\n",
       "</table>\n",
       "<p>5 rows × 21 columns</p>\n",
       "</div>"
      ],
      "text/plain": [
       "                                         id        name  \\\n",
       "0  177391d1391156fbd525e4fcd99fba991e9178b5  loony-berk   \n",
       "1  4ce51d7185befed6bcfeabe4ed2202e8968a5c3c  filar-duke   \n",
       "2  8fcdc9286cda2c1d442f504a40bf17ed88578d1a  catty-curb   \n",
       "3  6ae8b97043204637fac39dd958cad633472a5387  shock-jump   \n",
       "4  bb812c86f9ae256834ec7cc40f3b53aaa0e38d0c  beady-coze   \n",
       "\n",
       "     params.dataset.path params.dataset.name params.dataset.split  \\\n",
       "0  bdsaglam/musique-mini          answerable           validation   \n",
       "1  bdsaglam/musique-mini          answerable           validation   \n",
       "2  bdsaglam/musique-mini          answerable           validation   \n",
       "3  bdsaglam/musique-mini          answerable           validation   \n",
       "4  bdsaglam/musique-mini          answerable           validation   \n",
       "\n",
       "   params.qa.model  params.qa.temperature  \\\n",
       "0  llama-3-70b-tgi                    2.0   \n",
       "1  llama-3-70b-tgi                    2.0   \n",
       "2  llama-3-70b-tgi                    2.0   \n",
       "3  llama-3-70b-tgi                    2.0   \n",
       "4  llama-3-70b-tgi                    2.0   \n",
       "\n",
       "                  params.qa.system_prompt params.qa.user_prompt_template  \\\n",
       "0      standard/minimal-output-format.txt                         cq.txt   \n",
       "1      standard/minimal-output-format.txt                         cq.txt   \n",
       "2      standard/minimal-output-format.txt                         cq.txt   \n",
       "3      standard/minimal-output-format.txt                         cq.txt   \n",
       "4  standard/minimal-output-format-few.txt                         cq.txt   \n",
       "\n",
       "  params.qa.few_shot_examples  ...  metrics.exact_match  metrics.f1  \\\n",
       "0        standard-2-shot.json  ...             0.210000    0.297744   \n",
       "1                  empty.json  ...             0.206667    0.292214   \n",
       "2        standard-2-shot.json  ...             0.230000    0.320007   \n",
       "3                  empty.json  ...             0.223333    0.312181   \n",
       "4        standard-2-shot.json  ...             0.296667    0.382108   \n",
       "\n",
       "   metrics.2hops.exact_match  metrics.2hops.f1  metrics.3hops.exact_match  \\\n",
       "0                       0.27          0.366239                       0.24   \n",
       "1                       0.21          0.337016                       0.26   \n",
       "2                       0.23          0.337095                       0.25   \n",
       "3                       0.32          0.431108                       0.19   \n",
       "4                       0.30          0.394228                       0.30   \n",
       "\n",
       "   metrics.3hops.f1  metrics.4hops.exact_match  metrics.4hops.f1  \\\n",
       "0          0.318766                       0.12          0.208228   \n",
       "1          0.322345                       0.15          0.217281   \n",
       "2          0.347237                       0.21          0.275689   \n",
       "3          0.256472                       0.16          0.248964   \n",
       "4          0.394629                       0.29          0.357468   \n",
       "\n",
       "   params.qa.technique params.qa.n_shot  \n",
       "0             Standard                2  \n",
       "1             Standard                0  \n",
       "2             Standard                2  \n",
       "3             Standard                0  \n",
       "4             Standard                2  \n",
       "\n",
       "[5 rows x 21 columns]"
      ]
     },
     "execution_count": 57,
     "metadata": {},
     "output_type": "execute_result"
    }
   ],
   "source": [
    "df = pd.DataFrame(experiments)\n",
    "\n",
    "param_cols = [col for col in df.columns if col.startswith(\"params.\")]\n",
    "metric_cols = [col for col in df.columns if col.startswith(\"metrics.\")]\n",
    "\n",
    "df.dropna(subset=param_cols, inplace=True, how=\"any\")\n",
    "df.drop_duplicates(subset=param_cols, inplace=True)\n",
    "\n",
    "print(f\"{len(df)} experiments after preprocessing\")\n",
    "df.head()"
   ]
  },
  {
   "cell_type": "code",
   "execution_count": 58,
   "metadata": {},
   "outputs": [
    {
     "data": {
      "text/plain": [
       "{'params.dataset.path': 'bdsaglam/musique-mini',\n",
       " 'params.qa.temperature': 2.0,\n",
       " 'params.qa.system_prompt': 'standard/minimal-output-format.txt',\n",
       " 'params.qa.user_prompt_template': 'cq.txt',\n",
       " 'params.qa.few_shot_examples': 'standard-2-shot.json',\n",
       " 'params.run': 3}"
      ]
     },
     "execution_count": 58,
     "metadata": {},
     "output_type": "execute_result"
    }
   ],
   "source": [
    "existing_configs = df[target_params].to_dict(orient=\"records\")\n",
    "existing_configs[0]"
   ]
  },
  {
   "cell_type": "code",
   "execution_count": 59,
   "metadata": {},
   "outputs": [
    {
     "data": {
      "text/html": [
       "<div>\n",
       "<style scoped>\n",
       "    .dataframe tbody tr th:only-of-type {\n",
       "        vertical-align: middle;\n",
       "    }\n",
       "\n",
       "    .dataframe tbody tr th {\n",
       "        vertical-align: top;\n",
       "    }\n",
       "\n",
       "    .dataframe thead th {\n",
       "        text-align: right;\n",
       "    }\n",
       "</style>\n",
       "<table border=\"1\" class=\"dataframe\">\n",
       "  <thead>\n",
       "    <tr style=\"text-align: right;\">\n",
       "      <th></th>\n",
       "      <th>params.qa.system_prompt</th>\n",
       "      <th>params.qa.user_prompt_template</th>\n",
       "      <th>params.qa.few_shot_examples</th>\n",
       "      <th>params.qa.temperature</th>\n",
       "      <th>params.run</th>\n",
       "    </tr>\n",
       "  </thead>\n",
       "  <tbody>\n",
       "  </tbody>\n",
       "</table>\n",
       "</div>"
      ],
      "text/plain": [
       "Empty DataFrame\n",
       "Columns: [params.qa.system_prompt, params.qa.user_prompt_template, params.qa.few_shot_examples, params.qa.temperature, params.run]\n",
       "Index: []"
      ]
     },
     "execution_count": 59,
     "metadata": {},
     "output_type": "execute_result"
    }
   ],
   "source": [
    "run_counts = (\n",
    "    df.groupby([\"params.qa.system_prompt\", \"params.qa.user_prompt_template\", \"params.qa.few_shot_examples\", \"params.qa.temperature\"])[\n",
    "        \"params.run\"\n",
    "    ]\n",
    "    .aggregate(tuple)\n",
    "    .reset_index()\n",
    ")\n",
    "mask = run_counts[\"params.run\"].map(len) < 3\n",
    "run_counts.loc[mask]"
   ]
  },
  {
   "cell_type": "code",
   "execution_count": 60,
   "metadata": {},
   "outputs": [
    {
     "data": {
      "text/plain": [
       "{'params.dataset.path': 'bdsaglam/musique-mini',\n",
       " 'params.qa.temperature': 0.1,\n",
       " 'params.qa.system_prompt': 'standard/excellent-few.txt',\n",
       " 'params.qa.user_prompt_template': 'cq.txt',\n",
       " 'params.qa.few_shot_examples': 'empty.json',\n",
       " 'params.run': 1}"
      ]
     },
     "execution_count": 60,
     "metadata": {},
     "output_type": "execute_result"
    }
   ],
   "source": [
    "exp_configs[0]"
   ]
  },
  {
   "cell_type": "code",
   "execution_count": 61,
   "metadata": {},
   "outputs": [
    {
     "data": {
      "text/plain": [
       "{'params.dataset.path': 'bdsaglam/musique-mini',\n",
       " 'params.qa.temperature': 2.0,\n",
       " 'params.qa.system_prompt': 'standard/minimal-output-format.txt',\n",
       " 'params.qa.user_prompt_template': 'cq.txt',\n",
       " 'params.qa.few_shot_examples': 'standard-2-shot.json',\n",
       " 'params.run': 3}"
      ]
     },
     "execution_count": 61,
     "metadata": {},
     "output_type": "execute_result"
    }
   ],
   "source": [
    "existing_configs[0]"
   ]
  },
  {
   "cell_type": "code",
   "execution_count": 62,
   "metadata": {},
   "outputs": [
    {
     "data": {
      "text/plain": [
       "(('params.dataset.path', 'bdsaglam/musique-mini'),\n",
       " ('params.qa.few_shot_examples', 'empty.json'),\n",
       " ('params.qa.system_prompt', 'standard/excellent-few.txt'),\n",
       " ('params.qa.temperature', 0.1),\n",
       " ('params.qa.user_prompt_template', 'cq.txt'),\n",
       " ('params.run', 1))"
      ]
     },
     "execution_count": 62,
     "metadata": {},
     "output_type": "execute_result"
    }
   ],
   "source": [
    "tuple(sorted(exp_configs[0].items()))"
   ]
  },
  {
   "cell_type": "code",
   "execution_count": 63,
   "metadata": {},
   "outputs": [
    {
     "data": {
      "text/plain": [
       "(('params.dataset.path', 'bdsaglam/musique-mini'),\n",
       " ('params.qa.few_shot_examples', 'standard-2-shot.json'),\n",
       " ('params.qa.system_prompt', 'standard/minimal-output-format.txt'),\n",
       " ('params.qa.temperature', 2.0),\n",
       " ('params.qa.user_prompt_template', 'cq.txt'),\n",
       " ('params.run', 3))"
      ]
     },
     "execution_count": 63,
     "metadata": {},
     "output_type": "execute_result"
    }
   ],
   "source": [
    "tuple(sorted(existing_configs[0].items()))"
   ]
  },
  {
   "cell_type": "code",
   "execution_count": 65,
   "metadata": {},
   "outputs": [
    {
     "name": "stdout",
     "output_type": "stream",
     "text": [
      "0 missing configurations\n"
     ]
    }
   ],
   "source": [
    "# find the missing configurations\n",
    "missing_configs = [\n",
    "    dict(kv)\n",
    "    for kv in list(\n",
    "        {tuple(sorted(config.items())) for config in exp_configs}\n",
    "        - {tuple(sorted(config.items())) for config in existing_configs}\n",
    "    )\n",
    "]\n",
    "print(f\"{len(missing_configs)} missing configurations\")\n",
    "next(iter(missing_configs), None)\n"
   ]
  },
  {
   "cell_type": "code",
   "execution_count": 66,
   "metadata": {},
   "outputs": [],
   "source": [
    "def make_command(exp_config):\n",
    "    run = exp_config['params.run']\n",
    "    dataset_path = exp_config['params.dataset.path']\n",
    "    temperature = exp_config['params.qa.temperature']\n",
    "    system_prompt = exp_config['params.qa.system_prompt']\n",
    "    user_prompt_template = exp_config['params.qa.user_prompt_template']\n",
    "    few_shot_examples = exp_config['params.qa.few_shot_examples']\n",
    "    command = f\"\"\"\n",
    "dvc exp run --queue \\\\\n",
    "    -S params.dataset.path='{dataset_path}' \\\\\n",
    "    -S qa.temperature='{temperature}' \\\\\n",
    "    -S qa.system_prompt='{system_prompt}' \\\\\n",
    "    -S qa.user_prompt_template='{user_prompt_template}' \\\\\n",
    "    -S qa.few_shot_examples='{few_shot_examples}' \\\\\n",
    "    -S run='{run}'\n",
    "    \"\"\"\n",
    "    return command"
   ]
  },
  {
   "cell_type": "code",
   "execution_count": 67,
   "metadata": {},
   "outputs": [],
   "source": [
    "with open(\"../../tmp/missing_configs.sh\", \"w\") as f:\n",
    "    f.write('#!/bin/sh\\n')\n",
    "    for exp_config in missing_configs:\n",
    "        f.write(make_command(exp_config))\n",
    "        f.write(\"\\n\")"
   ]
  },
  {
   "cell_type": "code",
   "execution_count": null,
   "metadata": {},
   "outputs": [],
   "source": []
  }
 ],
 "metadata": {
  "kernelspec": {
   "display_name": "thesis",
   "language": "python",
   "name": "python3"
  },
  "language_info": {
   "codemirror_mode": {
    "name": "ipython",
    "version": 3
   },
   "file_extension": ".py",
   "mimetype": "text/x-python",
   "name": "python",
   "nbconvert_exporter": "python",
   "pygments_lexer": "ipython3",
   "version": "3.10.16"
  }
 },
 "nbformat": 4,
 "nbformat_minor": 2
}
