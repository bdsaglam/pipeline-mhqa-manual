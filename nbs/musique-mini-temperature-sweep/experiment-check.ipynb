{
 "cells": [
  {
   "cell_type": "code",
   "execution_count": 1,
   "metadata": {},
   "outputs": [],
   "source": [
    "import itertools\n",
    "import json\n",
    "from pathlib import Path\n",
    "\n",
    "import numpy as np\n",
    "import pandas as pd\n",
    "from bellem.dvc.experiment import load_experiments\n",
    "from bellem.utils import jprint"
   ]
  },
  {
   "cell_type": "code",
   "execution_count": 2,
   "metadata": {},
   "outputs": [],
   "source": [
    "def product_experiment_configs(params_record):\n",
    "    # Generate all possible combinations of parameters\n",
    "    keys = params_record.keys()\n",
    "    values = params_record.values()\n",
    "    for instance in itertools.product(*values):\n",
    "        yield dict(zip(keys, instance))"
   ]
  },
  {
   "cell_type": "code",
   "execution_count": 3,
   "metadata": {},
   "outputs": [
    {
     "name": "stdout",
     "output_type": "stream",
     "text": [
      "441 experiment configurations\n"
     ]
    }
   ],
   "source": [
    "params_records = [\n",
    "    {\n",
    "        \"params.dataset.path\": [\"bdsaglam/musique-mini\"],\n",
    "        \"params.qa.temperature\": [0.1, 0.3, 0.5, 0.7, 1.0, 1.5, 2.0],\n",
    "        \"params.qa.system_prompt\": \"direct/excellent-few.txt,direct/helpful-output-format-few.txt,direct/minimal-output-format-few.txt,direct/minimal-output-format.txt\".split(\n",
    "            \",\"\n",
    "        ),\n",
    "        \"params.qa.user_prompt_template\": [\"cq.txt\"],\n",
    "        \"params.qa.few_shot_examples\": [\"empty.json\", \"direct-2-shot.json\"],\n",
    "        \"params.run\": [1, 2, 3],\n",
    "    },\n",
    "    {\n",
    "    \"params.dataset.path\": [\"bdsaglam/musique-mini\"],\n",
    "        \"params.qa.temperature\": [0.1, 0.3, 0.5, 0.7, 1.0, 1.5, 2.0],\n",
    "        \"params.qa.system_prompt\": \"cot/format-minimal.txt,cot/format-reasoning.txt,cot/excellent-format-reasoning.txt,cot/format-think.txt\".split(\n",
    "            \",\"\n",
    "        ),\n",
    "        \"params.qa.user_prompt_template\": [\"cq.txt\"],\n",
    "        \"params.qa.few_shot_examples\": [\"empty.json\"],\n",
    "        \"params.run\": [1, 2, 3],\n",
    "    },\n",
    "    {\n",
    "        \"params.dataset.path\": [\"bdsaglam/musique-mini\"],\n",
    "        \"params.qa.temperature\": [0.1, 0.3, 0.5, 0.7, 1.0, 1.5, 2.0],\n",
    "        \"params.qa.system_prompt\": \"cte/excellent-format-few.txt,cte/format-few.txt,cte/format-relevant-few.txt\".split(\n",
    "            \",\"\n",
    "        ),\n",
    "        \"params.qa.user_prompt_template\": [\"cq.txt\"],\n",
    "        \"params.qa.few_shot_examples\": \"empty.json,cte-2-shot-delim-1.json,cte-2-shot-delim-2.json\".split(\n",
    "            \",\"\n",
    "        ),\n",
    "        \"params.run\": [1, 2, 3],\n",
    "    },\n",
    "]\n",
    "\n",
    "exp_configs = [\n",
    "    exp_config\n",
    "    for params_record in params_records\n",
    "    for exp_config in product_experiment_configs(params_record)\n",
    "]\n",
    "print(f\"{len(exp_configs)} experiment configurations\")"
   ]
  },
  {
   "cell_type": "code",
   "execution_count": 4,
   "metadata": {},
   "outputs": [
    {
     "data": {
      "text/plain": [
       "dict_keys(['params.dataset.path', 'params.qa.temperature', 'params.qa.system_prompt', 'params.qa.user_prompt_template', 'params.qa.few_shot_examples', 'params.run'])"
      ]
     },
     "execution_count": 4,
     "metadata": {},
     "output_type": "execute_result"
    }
   ],
   "source": [
    "target_params = exp_configs[0].keys()\n",
    "target_params"
   ]
  },
  {
   "cell_type": "code",
   "execution_count": 5,
   "metadata": {},
   "outputs": [
    {
     "name": "stdout",
     "output_type": "stream",
     "text": [
      "525 experiments\n"
     ]
    },
    {
     "data": {
      "text/plain": [
       "{'id': '673332d7597d678ec85a3c829f02f47ff80356cd',\n",
       " 'name': 'wrong-mome',\n",
       " 'params.dataset.path': 'bdsaglam/musique-mini',\n",
       " 'params.dataset.name': 'answerable',\n",
       " 'params.dataset.split': 'validation',\n",
       " 'params.qa.model': 'llama-3-70b-tgi',\n",
       " 'params.qa.temperature': 2.0,\n",
       " 'params.qa.system_prompt': 'cot/format-think.txt',\n",
       " 'params.qa.user_prompt_template': 'cq.txt',\n",
       " 'params.qa.few_shot_examples': 'cot-2-shot.json',\n",
       " 'params.run': 2,\n",
       " 'metrics.exact_match': 0.1166666667,\n",
       " 'metrics.f1': 0.1516770781,\n",
       " 'metrics.2hops.exact_match': 0.21,\n",
       " 'metrics.2hops.f1': 0.2645693278,\n",
       " 'metrics.3hops.exact_match': 0.1,\n",
       " 'metrics.3hops.f1': 0.12,\n",
       " 'metrics.4hops.exact_match': 0.04,\n",
       " 'metrics.4hops.f1': 0.0704619065,\n",
       " 'params.qa.technique': 'COT',\n",
       " 'params.qa.n_shot': 2}"
      ]
     },
     "execution_count": 5,
     "metadata": {},
     "output_type": "execute_result"
    }
   ],
   "source": [
    "results_path = Path(\"results.jsonl\")\n",
    "if results_path.exists():\n",
    "    with open(results_path) as f:\n",
    "        experiments = [json.loads(line) for line in f]\n",
    "else:\n",
    "    experiments = []\n",
    "\n",
    "print(f\"{len(experiments)} experiments\")\n",
    "next(iter(experiments), None)"
   ]
  },
  {
   "cell_type": "code",
   "execution_count": 6,
   "metadata": {},
   "outputs": [
    {
     "name": "stdout",
     "output_type": "stream",
     "text": [
      "525 experiments after preprocessing\n"
     ]
    },
    {
     "data": {
      "text/html": [
       "<div>\n",
       "<style scoped>\n",
       "    .dataframe tbody tr th:only-of-type {\n",
       "        vertical-align: middle;\n",
       "    }\n",
       "\n",
       "    .dataframe tbody tr th {\n",
       "        vertical-align: top;\n",
       "    }\n",
       "\n",
       "    .dataframe thead th {\n",
       "        text-align: right;\n",
       "    }\n",
       "</style>\n",
       "<table border=\"1\" class=\"dataframe\">\n",
       "  <thead>\n",
       "    <tr style=\"text-align: right;\">\n",
       "      <th></th>\n",
       "      <th>id</th>\n",
       "      <th>name</th>\n",
       "      <th>params.dataset.path</th>\n",
       "      <th>params.dataset.name</th>\n",
       "      <th>params.dataset.split</th>\n",
       "      <th>params.qa.model</th>\n",
       "      <th>params.qa.temperature</th>\n",
       "      <th>params.qa.system_prompt</th>\n",
       "      <th>params.qa.user_prompt_template</th>\n",
       "      <th>params.qa.few_shot_examples</th>\n",
       "      <th>...</th>\n",
       "      <th>metrics.exact_match</th>\n",
       "      <th>metrics.f1</th>\n",
       "      <th>metrics.2hops.exact_match</th>\n",
       "      <th>metrics.2hops.f1</th>\n",
       "      <th>metrics.3hops.exact_match</th>\n",
       "      <th>metrics.3hops.f1</th>\n",
       "      <th>metrics.4hops.exact_match</th>\n",
       "      <th>metrics.4hops.f1</th>\n",
       "      <th>params.qa.technique</th>\n",
       "      <th>params.qa.n_shot</th>\n",
       "    </tr>\n",
       "  </thead>\n",
       "  <tbody>\n",
       "    <tr>\n",
       "      <th>0</th>\n",
       "      <td>673332d7597d678ec85a3c829f02f47ff80356cd</td>\n",
       "      <td>wrong-mome</td>\n",
       "      <td>bdsaglam/musique-mini</td>\n",
       "      <td>answerable</td>\n",
       "      <td>validation</td>\n",
       "      <td>llama-3-70b-tgi</td>\n",
       "      <td>2.0</td>\n",
       "      <td>cot/format-think.txt</td>\n",
       "      <td>cq.txt</td>\n",
       "      <td>cot-2-shot.json</td>\n",
       "      <td>...</td>\n",
       "      <td>0.116667</td>\n",
       "      <td>0.151677</td>\n",
       "      <td>0.21</td>\n",
       "      <td>0.264569</td>\n",
       "      <td>0.10</td>\n",
       "      <td>0.120000</td>\n",
       "      <td>0.04</td>\n",
       "      <td>0.070462</td>\n",
       "      <td>COT</td>\n",
       "      <td>2</td>\n",
       "    </tr>\n",
       "    <tr>\n",
       "      <th>1</th>\n",
       "      <td>5bcf06a7621f96e6319c54f6111dbeeeb831a3b6</td>\n",
       "      <td>wacky-juts</td>\n",
       "      <td>bdsaglam/musique-mini</td>\n",
       "      <td>answerable</td>\n",
       "      <td>validation</td>\n",
       "      <td>llama-3-70b-tgi</td>\n",
       "      <td>2.0</td>\n",
       "      <td>cot/format-think.txt</td>\n",
       "      <td>cq.txt</td>\n",
       "      <td>empty.json</td>\n",
       "      <td>...</td>\n",
       "      <td>0.053333</td>\n",
       "      <td>0.102588</td>\n",
       "      <td>0.06</td>\n",
       "      <td>0.134806</td>\n",
       "      <td>0.07</td>\n",
       "      <td>0.108380</td>\n",
       "      <td>0.03</td>\n",
       "      <td>0.064579</td>\n",
       "      <td>COT</td>\n",
       "      <td>0</td>\n",
       "    </tr>\n",
       "    <tr>\n",
       "      <th>2</th>\n",
       "      <td>601025d8649e1c8a131d4ee5aa1fc2321800353d</td>\n",
       "      <td>focal-bort</td>\n",
       "      <td>bdsaglam/musique-mini</td>\n",
       "      <td>answerable</td>\n",
       "      <td>validation</td>\n",
       "      <td>llama-3-70b-tgi</td>\n",
       "      <td>2.0</td>\n",
       "      <td>cot/excellent-format-reasoning.txt</td>\n",
       "      <td>cq.txt</td>\n",
       "      <td>cot-2-shot.json</td>\n",
       "      <td>...</td>\n",
       "      <td>0.163333</td>\n",
       "      <td>0.195460</td>\n",
       "      <td>0.26</td>\n",
       "      <td>0.318119</td>\n",
       "      <td>0.18</td>\n",
       "      <td>0.201705</td>\n",
       "      <td>0.05</td>\n",
       "      <td>0.066556</td>\n",
       "      <td>COT</td>\n",
       "      <td>2</td>\n",
       "    </tr>\n",
       "    <tr>\n",
       "      <th>3</th>\n",
       "      <td>ae06cd16088072e3c045d9037627bffbdd42a6d4</td>\n",
       "      <td>yolky-whit</td>\n",
       "      <td>bdsaglam/musique-mini</td>\n",
       "      <td>answerable</td>\n",
       "      <td>validation</td>\n",
       "      <td>llama-3-70b-tgi</td>\n",
       "      <td>2.0</td>\n",
       "      <td>cot/excellent-format-reasoning.txt</td>\n",
       "      <td>cq.txt</td>\n",
       "      <td>empty.json</td>\n",
       "      <td>...</td>\n",
       "      <td>0.060000</td>\n",
       "      <td>0.082742</td>\n",
       "      <td>0.08</td>\n",
       "      <td>0.109836</td>\n",
       "      <td>0.06</td>\n",
       "      <td>0.084391</td>\n",
       "      <td>0.04</td>\n",
       "      <td>0.054000</td>\n",
       "      <td>COT</td>\n",
       "      <td>0</td>\n",
       "    </tr>\n",
       "    <tr>\n",
       "      <th>4</th>\n",
       "      <td>7f07eeb51d8036d8a74f54aacb59dc33bc2744a7</td>\n",
       "      <td>lippy-joss</td>\n",
       "      <td>bdsaglam/musique-mini</td>\n",
       "      <td>answerable</td>\n",
       "      <td>validation</td>\n",
       "      <td>llama-3-70b-tgi</td>\n",
       "      <td>2.0</td>\n",
       "      <td>cot/format-reasoning.txt</td>\n",
       "      <td>cq.txt</td>\n",
       "      <td>cot-2-shot.json</td>\n",
       "      <td>...</td>\n",
       "      <td>0.120000</td>\n",
       "      <td>0.173731</td>\n",
       "      <td>0.21</td>\n",
       "      <td>0.298313</td>\n",
       "      <td>0.11</td>\n",
       "      <td>0.155691</td>\n",
       "      <td>0.04</td>\n",
       "      <td>0.067190</td>\n",
       "      <td>COT</td>\n",
       "      <td>2</td>\n",
       "    </tr>\n",
       "  </tbody>\n",
       "</table>\n",
       "<p>5 rows × 21 columns</p>\n",
       "</div>"
      ],
      "text/plain": [
       "                                         id        name  \\\n",
       "0  673332d7597d678ec85a3c829f02f47ff80356cd  wrong-mome   \n",
       "1  5bcf06a7621f96e6319c54f6111dbeeeb831a3b6  wacky-juts   \n",
       "2  601025d8649e1c8a131d4ee5aa1fc2321800353d  focal-bort   \n",
       "3  ae06cd16088072e3c045d9037627bffbdd42a6d4  yolky-whit   \n",
       "4  7f07eeb51d8036d8a74f54aacb59dc33bc2744a7  lippy-joss   \n",
       "\n",
       "     params.dataset.path params.dataset.name params.dataset.split  \\\n",
       "0  bdsaglam/musique-mini          answerable           validation   \n",
       "1  bdsaglam/musique-mini          answerable           validation   \n",
       "2  bdsaglam/musique-mini          answerable           validation   \n",
       "3  bdsaglam/musique-mini          answerable           validation   \n",
       "4  bdsaglam/musique-mini          answerable           validation   \n",
       "\n",
       "   params.qa.model  params.qa.temperature             params.qa.system_prompt  \\\n",
       "0  llama-3-70b-tgi                    2.0                cot/format-think.txt   \n",
       "1  llama-3-70b-tgi                    2.0                cot/format-think.txt   \n",
       "2  llama-3-70b-tgi                    2.0  cot/excellent-format-reasoning.txt   \n",
       "3  llama-3-70b-tgi                    2.0  cot/excellent-format-reasoning.txt   \n",
       "4  llama-3-70b-tgi                    2.0            cot/format-reasoning.txt   \n",
       "\n",
       "  params.qa.user_prompt_template params.qa.few_shot_examples  ...  \\\n",
       "0                         cq.txt             cot-2-shot.json  ...   \n",
       "1                         cq.txt                  empty.json  ...   \n",
       "2                         cq.txt             cot-2-shot.json  ...   \n",
       "3                         cq.txt                  empty.json  ...   \n",
       "4                         cq.txt             cot-2-shot.json  ...   \n",
       "\n",
       "   metrics.exact_match  metrics.f1  metrics.2hops.exact_match  \\\n",
       "0             0.116667    0.151677                       0.21   \n",
       "1             0.053333    0.102588                       0.06   \n",
       "2             0.163333    0.195460                       0.26   \n",
       "3             0.060000    0.082742                       0.08   \n",
       "4             0.120000    0.173731                       0.21   \n",
       "\n",
       "   metrics.2hops.f1  metrics.3hops.exact_match  metrics.3hops.f1  \\\n",
       "0          0.264569                       0.10          0.120000   \n",
       "1          0.134806                       0.07          0.108380   \n",
       "2          0.318119                       0.18          0.201705   \n",
       "3          0.109836                       0.06          0.084391   \n",
       "4          0.298313                       0.11          0.155691   \n",
       "\n",
       "   metrics.4hops.exact_match  metrics.4hops.f1  params.qa.technique  \\\n",
       "0                       0.04          0.070462                  COT   \n",
       "1                       0.03          0.064579                  COT   \n",
       "2                       0.05          0.066556                  COT   \n",
       "3                       0.04          0.054000                  COT   \n",
       "4                       0.04          0.067190                  COT   \n",
       "\n",
       "  params.qa.n_shot  \n",
       "0                2  \n",
       "1                0  \n",
       "2                2  \n",
       "3                0  \n",
       "4                2  \n",
       "\n",
       "[5 rows x 21 columns]"
      ]
     },
     "execution_count": 6,
     "metadata": {},
     "output_type": "execute_result"
    }
   ],
   "source": [
    "df = pd.DataFrame(experiments)\n",
    "\n",
    "param_cols = [col for col in df.columns if col.startswith(\"params.\")]\n",
    "metric_cols = [col for col in df.columns if col.startswith(\"metrics.\")]\n",
    "\n",
    "df.dropna(subset=param_cols, inplace=True, how=\"any\")\n",
    "df.drop_duplicates(subset=param_cols, inplace=True)\n",
    "\n",
    "print(f\"{len(df)} experiments after preprocessing\")\n",
    "df.head()"
   ]
  },
  {
   "cell_type": "code",
   "execution_count": 7,
   "metadata": {},
   "outputs": [
    {
     "data": {
      "text/plain": [
       "{'params.dataset.path': 'bdsaglam/musique-mini',\n",
       " 'params.qa.temperature': 2.0,\n",
       " 'params.qa.system_prompt': 'cot/format-think.txt',\n",
       " 'params.qa.user_prompt_template': 'cq.txt',\n",
       " 'params.qa.few_shot_examples': 'cot-2-shot.json',\n",
       " 'params.run': 2}"
      ]
     },
     "execution_count": 7,
     "metadata": {},
     "output_type": "execute_result"
    }
   ],
   "source": [
    "existing_configs = df[target_params].to_dict(orient=\"records\")\n",
    "existing_configs[0]"
   ]
  },
  {
   "cell_type": "code",
   "execution_count": 8,
   "metadata": {},
   "outputs": [
    {
     "data": {
      "text/plain": [
       "dict_keys(['params.dataset.path', 'params.qa.temperature', 'params.qa.system_prompt', 'params.qa.user_prompt_template', 'params.qa.few_shot_examples', 'params.run'])"
      ]
     },
     "execution_count": 8,
     "metadata": {},
     "output_type": "execute_result"
    }
   ],
   "source": [
    "target_params"
   ]
  },
  {
   "cell_type": "code",
   "execution_count": 9,
   "metadata": {},
   "outputs": [
    {
     "data": {
      "text/html": [
       "<div>\n",
       "<style scoped>\n",
       "    .dataframe tbody tr th:only-of-type {\n",
       "        vertical-align: middle;\n",
       "    }\n",
       "\n",
       "    .dataframe tbody tr th {\n",
       "        vertical-align: top;\n",
       "    }\n",
       "\n",
       "    .dataframe thead th {\n",
       "        text-align: right;\n",
       "    }\n",
       "</style>\n",
       "<table border=\"1\" class=\"dataframe\">\n",
       "  <thead>\n",
       "    <tr style=\"text-align: right;\">\n",
       "      <th></th>\n",
       "      <th>params.qa.system_prompt</th>\n",
       "      <th>params.qa.user_prompt_template</th>\n",
       "      <th>params.qa.few_shot_examples</th>\n",
       "      <th>params.qa.temperature</th>\n",
       "      <th>params.run</th>\n",
       "    </tr>\n",
       "  </thead>\n",
       "  <tbody>\n",
       "  </tbody>\n",
       "</table>\n",
       "</div>"
      ],
      "text/plain": [
       "Empty DataFrame\n",
       "Columns: [params.qa.system_prompt, params.qa.user_prompt_template, params.qa.few_shot_examples, params.qa.temperature, params.run]\n",
       "Index: []"
      ]
     },
     "execution_count": 9,
     "metadata": {},
     "output_type": "execute_result"
    }
   ],
   "source": [
    "run_counts = (\n",
    "    df.groupby(\n",
    "        [\n",
    "            \"params.qa.system_prompt\",\n",
    "            \"params.qa.user_prompt_template\",\n",
    "            \"params.qa.few_shot_examples\",\n",
    "            \"params.qa.temperature\",\n",
    "        ]\n",
    "    )[\"params.run\"]\n",
    "    .aggregate(tuple)\n",
    "    .reset_index()\n",
    ")\n",
    "mask = run_counts[\"params.run\"].map(len) < 3\n",
    "run_counts.loc[mask]"
   ]
  },
  {
   "cell_type": "code",
   "execution_count": 10,
   "metadata": {},
   "outputs": [
    {
     "data": {
      "text/plain": [
       "{'params.dataset.path': 'bdsaglam/musique-mini',\n",
       " 'params.qa.temperature': 0.1,\n",
       " 'params.qa.system_prompt': 'direct/excellent-few.txt',\n",
       " 'params.qa.user_prompt_template': 'cq.txt',\n",
       " 'params.qa.few_shot_examples': 'empty.json',\n",
       " 'params.run': 1}"
      ]
     },
     "execution_count": 10,
     "metadata": {},
     "output_type": "execute_result"
    }
   ],
   "source": [
    "exp_configs[0]"
   ]
  },
  {
   "cell_type": "code",
   "execution_count": 11,
   "metadata": {},
   "outputs": [
    {
     "data": {
      "text/plain": [
       "{'params.dataset.path': 'bdsaglam/musique-mini',\n",
       " 'params.qa.temperature': 2.0,\n",
       " 'params.qa.system_prompt': 'cot/format-think.txt',\n",
       " 'params.qa.user_prompt_template': 'cq.txt',\n",
       " 'params.qa.few_shot_examples': 'cot-2-shot.json',\n",
       " 'params.run': 2}"
      ]
     },
     "execution_count": 11,
     "metadata": {},
     "output_type": "execute_result"
    }
   ],
   "source": [
    "existing_configs[0]"
   ]
  },
  {
   "cell_type": "code",
   "execution_count": 12,
   "metadata": {},
   "outputs": [
    {
     "data": {
      "text/plain": [
       "(('params.dataset.path', 'bdsaglam/musique-mini'),\n",
       " ('params.qa.few_shot_examples', 'empty.json'),\n",
       " ('params.qa.system_prompt', 'direct/excellent-few.txt'),\n",
       " ('params.qa.temperature', 0.1),\n",
       " ('params.qa.user_prompt_template', 'cq.txt'),\n",
       " ('params.run', 1))"
      ]
     },
     "execution_count": 12,
     "metadata": {},
     "output_type": "execute_result"
    }
   ],
   "source": [
    "tuple(sorted(exp_configs[0].items()))"
   ]
  },
  {
   "cell_type": "code",
   "execution_count": 13,
   "metadata": {},
   "outputs": [
    {
     "data": {
      "text/plain": [
       "(('params.dataset.path', 'bdsaglam/musique-mini'),\n",
       " ('params.qa.few_shot_examples', 'cot-2-shot.json'),\n",
       " ('params.qa.system_prompt', 'cot/format-think.txt'),\n",
       " ('params.qa.temperature', 2.0),\n",
       " ('params.qa.user_prompt_template', 'cq.txt'),\n",
       " ('params.run', 2))"
      ]
     },
     "execution_count": 13,
     "metadata": {},
     "output_type": "execute_result"
    }
   ],
   "source": [
    "tuple(sorted(existing_configs[0].items()))"
   ]
  },
  {
   "cell_type": "code",
   "execution_count": 19,
   "metadata": {},
   "outputs": [
    {
     "name": "stdout",
     "output_type": "stream",
     "text": [
      "0 missing configurations\n",
      "null\n"
     ]
    }
   ],
   "source": [
    "missing_configs = [\n",
    "    dict(kv)\n",
    "    for kv in list(\n",
    "        {tuple(sorted(config.items())) for config in exp_configs}\n",
    "        - {tuple(sorted(config.items())) for config in existing_configs}\n",
    "    )\n",
    "]\n",
    "print(f\"{len(missing_configs)} missing configurations\")\n",
    "jprint(next(iter(missing_configs), None))"
   ]
  },
  {
   "cell_type": "code",
   "execution_count": 15,
   "metadata": {},
   "outputs": [],
   "source": [
    "def make_command(exp_config):\n",
    "    run = exp_config['params.run']\n",
    "    dataset_path = exp_config['params.dataset.path']\n",
    "    temperature = exp_config['params.qa.temperature']\n",
    "    system_prompt = exp_config['params.qa.system_prompt']\n",
    "    user_prompt_template = exp_config['params.qa.user_prompt_template']\n",
    "    few_shot_examples = exp_config['params.qa.few_shot_examples']\n",
    "    command = f\"\"\"\n",
    "dvc exp run --queue \\\\\n",
    "    -S params.dataset.path='{dataset_path}' \\\\\n",
    "    -S qa.temperature='{temperature}' \\\\\n",
    "    -S qa.system_prompt='{system_prompt}' \\\\\n",
    "    -S qa.user_prompt_template='{user_prompt_template}' \\\\\n",
    "    -S qa.few_shot_examples='{few_shot_examples}' \\\\\n",
    "    -S run='{run}'\n",
    "    \"\"\"\n",
    "    return command"
   ]
  },
  {
   "cell_type": "code",
   "execution_count": 16,
   "metadata": {},
   "outputs": [],
   "source": [
    "if missing_configs:\n",
    "    with open(\"../../tmp/missing_configs.sh\", \"w\") as f:\n",
    "        f.write('#!/bin/sh\\n')\n",
    "        for exp_config in missing_configs:\n",
    "            f.write(make_command(exp_config))\n",
    "            f.write(\"\\n\")"
   ]
  }
 ],
 "metadata": {
  "kernelspec": {
   "display_name": "thesis",
   "language": "python",
   "name": "python3"
  },
  "language_info": {
   "codemirror_mode": {
    "name": "ipython",
    "version": 3
   },
   "file_extension": ".py",
   "mimetype": "text/x-python",
   "name": "python",
   "nbconvert_exporter": "python",
   "pygments_lexer": "ipython3",
   "version": "3.10.16"
  }
 },
 "nbformat": 4,
 "nbformat_minor": 2
}
