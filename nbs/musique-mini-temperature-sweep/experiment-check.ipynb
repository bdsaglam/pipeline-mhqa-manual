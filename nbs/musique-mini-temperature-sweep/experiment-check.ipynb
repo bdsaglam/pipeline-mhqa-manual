{
 "cells": [
  {
   "cell_type": "code",
   "execution_count": 27,
   "metadata": {},
   "outputs": [],
   "source": [
    "import itertools\n",
    "import json\n",
    "from pathlib import Path\n",
    "\n",
    "import numpy as np\n",
    "import pandas as pd\n",
    "from bellem.dvc.experiment import load_experiments"
   ]
  },
  {
   "cell_type": "code",
   "execution_count": 28,
   "metadata": {},
   "outputs": [],
   "source": [
    "def product_experiment_configs(params_record):\n",
    "    # Generate all possible combinations of parameters\n",
    "    keys = params_record.keys()\n",
    "    values = params_record.values()\n",
    "    for instance in itertools.product(*values):\n",
    "        yield dict(zip(keys, instance))"
   ]
  },
  {
   "cell_type": "code",
   "execution_count": 29,
   "metadata": {},
   "outputs": [
    {
     "name": "stdout",
     "output_type": "stream",
     "text": [
      "357 experiment configurations\n"
     ]
    }
   ],
   "source": [
    "params_records = [\n",
    "    {\n",
    "        \"params.dataset.path\": [\"bdsaglam/musique-mini\"],\n",
    "        \"params.qa.temperature\": [0.1, 0.3, 0.5, 0.7, 1.0, 1.5, 2.0],\n",
    "        \"params.qa.system_prompt\": \"standard/excellent-few.txt,standard/helpful-output-format-few.txt,standard/minimal-output-format-few.txt,standard/minimal-output-format.txt\".split(\n",
    "            \",\"\n",
    "        ),\n",
    "        \"params.qa.user_prompt_template\": [\"cq.txt\"],\n",
    "        \"params.qa.few_shot_examples\": [\"empty.json\", \"standard-2-shot.json\"],\n",
    "        \"params.run\": [1, 2, 3],\n",
    "    },\n",
    "    # {\n",
    "    # \"params.dataset.path\": [\"bdsaglam/musique-mini\"],\n",
    "    #     \"params.qa.temperature\": [0.1, 0.3, 0.5, 0.7, 1.0, 1.5, 2.0],\n",
    "    #     \"params.qa.system_prompt\": \"cot/format-minimal.txt,cot/format-reasoning.txt,cot/excellent-format-reasoning.txt,cot/format-think.txt\".split(\n",
    "    #         \",\"\n",
    "    #     ),\n",
    "    #     \"params.qa.user_prompt_template\": [\"cq.txt\"],\n",
    "    #     \"params.qa.few_shot_examples\": [\"empty.json\"],\n",
    "    #     \"params.run\": [1, 2, 3],\n",
    "    # },\n",
    "    {\n",
    "        \"params.dataset.path\": [\"bdsaglam/musique-mini\"],\n",
    "        \"params.qa.temperature\": [0.1, 0.3, 0.5, 0.7, 1.0, 1.5, 2.0],\n",
    "        \"params.qa.system_prompt\": \"cte/excellent-format-few.txt,cte/format-few.txt,cte/format-relevant-few.txt\".split(\n",
    "            \",\"\n",
    "        ),\n",
    "        \"params.qa.user_prompt_template\": [\"cq.txt\"],\n",
    "        \"params.qa.few_shot_examples\": \"empty.json,cte-2-shot-delim-1.json,cte-2-shot-delim-2.json\".split(\n",
    "            \",\"\n",
    "        ),\n",
    "        \"params.run\": [1, 2, 3],\n",
    "    },\n",
    "]\n",
    "\n",
    "exp_configs = [\n",
    "    exp_config\n",
    "    for params_record in params_records\n",
    "    for exp_config in product_experiment_configs(params_record)\n",
    "]\n",
    "print(f\"{len(exp_configs)} experiment configurations\")"
   ]
  },
  {
   "cell_type": "code",
   "execution_count": 30,
   "metadata": {},
   "outputs": [
    {
     "data": {
      "text/plain": [
       "dict_keys(['params.dataset.path', 'params.qa.temperature', 'params.qa.system_prompt', 'params.qa.user_prompt_template', 'params.qa.few_shot_examples', 'params.run'])"
      ]
     },
     "execution_count": 30,
     "metadata": {},
     "output_type": "execute_result"
    }
   ],
   "source": [
    "target_params = exp_configs[0].keys()\n",
    "target_params"
   ]
  },
  {
   "cell_type": "code",
   "execution_count": 31,
   "metadata": {},
   "outputs": [
    {
     "name": "stdout",
     "output_type": "stream",
     "text": [
      "357 experiments\n"
     ]
    },
    {
     "data": {
      "text/plain": [
       "{'id': '2eea485f9fada3ab346e4930dd791bcf69f615d2',\n",
       " 'name': 'adunc-wife',\n",
       " 'params.dataset.path': 'bdsaglam/musique-mini',\n",
       " 'params.dataset.name': 'answerable',\n",
       " 'params.dataset.split': 'validation',\n",
       " 'params.qa.model': 'llama-3-70b-tgi',\n",
       " 'params.qa.temperature': 2.0,\n",
       " 'params.qa.system_prompt': 'cte/format-relevant-few.txt',\n",
       " 'params.qa.user_prompt_template': 'cq.txt',\n",
       " 'params.qa.few_shot_examples': 'cte-2-shot-delim-2.json',\n",
       " 'params.run': 3,\n",
       " 'metrics.exact_match': 0.08,\n",
       " 'metrics.f1': 0.1006194363,\n",
       " 'metrics.2hops.exact_match': 0.16,\n",
       " 'metrics.2hops.f1': 0.2044984755,\n",
       " 'metrics.3hops.exact_match': 0.06,\n",
       " 'metrics.3hops.f1': 0.0687884047,\n",
       " 'metrics.4hops.exact_match': 0.02,\n",
       " 'metrics.4hops.f1': 0.0285714286,\n",
       " 'params.qa.technique': 'CTE',\n",
       " 'params.qa.n_shot': 2}"
      ]
     },
     "execution_count": 31,
     "metadata": {},
     "output_type": "execute_result"
    }
   ],
   "source": [
    "results_path = Path(\"results.jsonl\")\n",
    "if results_path.exists():\n",
    "    with open(results_path) as f:\n",
    "        experiments = [json.loads(line) for line in f]\n",
    "else:\n",
    "    experiments = []\n",
    "\n",
    "print(f\"{len(experiments)} experiments\")\n",
    "next(iter(experiments), None)"
   ]
  },
  {
   "cell_type": "code",
   "execution_count": 32,
   "metadata": {},
   "outputs": [
    {
     "name": "stdout",
     "output_type": "stream",
     "text": [
      "357 experiments after preprocessing\n"
     ]
    },
    {
     "data": {
      "text/html": [
       "<div>\n",
       "<style scoped>\n",
       "    .dataframe tbody tr th:only-of-type {\n",
       "        vertical-align: middle;\n",
       "    }\n",
       "\n",
       "    .dataframe tbody tr th {\n",
       "        vertical-align: top;\n",
       "    }\n",
       "\n",
       "    .dataframe thead th {\n",
       "        text-align: right;\n",
       "    }\n",
       "</style>\n",
       "<table border=\"1\" class=\"dataframe\">\n",
       "  <thead>\n",
       "    <tr style=\"text-align: right;\">\n",
       "      <th></th>\n",
       "      <th>id</th>\n",
       "      <th>name</th>\n",
       "      <th>params.dataset.path</th>\n",
       "      <th>params.dataset.name</th>\n",
       "      <th>params.dataset.split</th>\n",
       "      <th>params.qa.model</th>\n",
       "      <th>params.qa.temperature</th>\n",
       "      <th>params.qa.system_prompt</th>\n",
       "      <th>params.qa.user_prompt_template</th>\n",
       "      <th>params.qa.few_shot_examples</th>\n",
       "      <th>...</th>\n",
       "      <th>metrics.exact_match</th>\n",
       "      <th>metrics.f1</th>\n",
       "      <th>metrics.2hops.exact_match</th>\n",
       "      <th>metrics.2hops.f1</th>\n",
       "      <th>metrics.3hops.exact_match</th>\n",
       "      <th>metrics.3hops.f1</th>\n",
       "      <th>metrics.4hops.exact_match</th>\n",
       "      <th>metrics.4hops.f1</th>\n",
       "      <th>params.qa.technique</th>\n",
       "      <th>params.qa.n_shot</th>\n",
       "    </tr>\n",
       "  </thead>\n",
       "  <tbody>\n",
       "    <tr>\n",
       "      <th>0</th>\n",
       "      <td>2eea485f9fada3ab346e4930dd791bcf69f615d2</td>\n",
       "      <td>adunc-wife</td>\n",
       "      <td>bdsaglam/musique-mini</td>\n",
       "      <td>answerable</td>\n",
       "      <td>validation</td>\n",
       "      <td>llama-3-70b-tgi</td>\n",
       "      <td>2.0</td>\n",
       "      <td>cte/format-relevant-few.txt</td>\n",
       "      <td>cq.txt</td>\n",
       "      <td>cte-2-shot-delim-2.json</td>\n",
       "      <td>...</td>\n",
       "      <td>0.080000</td>\n",
       "      <td>0.100619</td>\n",
       "      <td>0.16</td>\n",
       "      <td>0.204498</td>\n",
       "      <td>0.06</td>\n",
       "      <td>0.068788</td>\n",
       "      <td>0.02</td>\n",
       "      <td>0.028571</td>\n",
       "      <td>CTE</td>\n",
       "      <td>2</td>\n",
       "    </tr>\n",
       "    <tr>\n",
       "      <th>1</th>\n",
       "      <td>c48d065577d2b1f2c78e1e4904e70d85117a5c11</td>\n",
       "      <td>dress-puck</td>\n",
       "      <td>bdsaglam/musique-mini</td>\n",
       "      <td>answerable</td>\n",
       "      <td>validation</td>\n",
       "      <td>llama-3-70b-tgi</td>\n",
       "      <td>2.0</td>\n",
       "      <td>cte/format-relevant-few.txt</td>\n",
       "      <td>cq.txt</td>\n",
       "      <td>cte-2-shot-delim-2.json</td>\n",
       "      <td>...</td>\n",
       "      <td>0.090000</td>\n",
       "      <td>0.100029</td>\n",
       "      <td>0.16</td>\n",
       "      <td>0.176028</td>\n",
       "      <td>0.07</td>\n",
       "      <td>0.082726</td>\n",
       "      <td>0.04</td>\n",
       "      <td>0.041333</td>\n",
       "      <td>CTE</td>\n",
       "      <td>2</td>\n",
       "    </tr>\n",
       "    <tr>\n",
       "      <th>2</th>\n",
       "      <td>24d95edf9f3a0a20071cd7633221d50a6d9f2e84</td>\n",
       "      <td>moody-trug</td>\n",
       "      <td>bdsaglam/musique-mini</td>\n",
       "      <td>answerable</td>\n",
       "      <td>validation</td>\n",
       "      <td>llama-3-70b-tgi</td>\n",
       "      <td>2.0</td>\n",
       "      <td>cte/format-relevant-few.txt</td>\n",
       "      <td>cq.txt</td>\n",
       "      <td>cte-2-shot-delim-2.json</td>\n",
       "      <td>...</td>\n",
       "      <td>0.096667</td>\n",
       "      <td>0.114228</td>\n",
       "      <td>0.17</td>\n",
       "      <td>0.203247</td>\n",
       "      <td>0.11</td>\n",
       "      <td>0.120667</td>\n",
       "      <td>0.01</td>\n",
       "      <td>0.018769</td>\n",
       "      <td>CTE</td>\n",
       "      <td>2</td>\n",
       "    </tr>\n",
       "    <tr>\n",
       "      <th>3</th>\n",
       "      <td>f779879e21e0a38c23ba832c99a364f63cd0c4cd</td>\n",
       "      <td>lying-over</td>\n",
       "      <td>bdsaglam/musique-mini</td>\n",
       "      <td>answerable</td>\n",
       "      <td>validation</td>\n",
       "      <td>llama-3-70b-tgi</td>\n",
       "      <td>2.0</td>\n",
       "      <td>cte/format-relevant-few.txt</td>\n",
       "      <td>cq.txt</td>\n",
       "      <td>cte-2-shot-delim-1.json</td>\n",
       "      <td>...</td>\n",
       "      <td>0.180000</td>\n",
       "      <td>0.229397</td>\n",
       "      <td>0.28</td>\n",
       "      <td>0.355347</td>\n",
       "      <td>0.15</td>\n",
       "      <td>0.207989</td>\n",
       "      <td>0.11</td>\n",
       "      <td>0.124856</td>\n",
       "      <td>CTE</td>\n",
       "      <td>2</td>\n",
       "    </tr>\n",
       "    <tr>\n",
       "      <th>4</th>\n",
       "      <td>c348b5aec10150fdbcef567c4d15946e627a039d</td>\n",
       "      <td>sober-saga</td>\n",
       "      <td>bdsaglam/musique-mini</td>\n",
       "      <td>answerable</td>\n",
       "      <td>validation</td>\n",
       "      <td>llama-3-70b-tgi</td>\n",
       "      <td>2.0</td>\n",
       "      <td>cte/format-relevant-few.txt</td>\n",
       "      <td>cq.txt</td>\n",
       "      <td>cte-2-shot-delim-1.json</td>\n",
       "      <td>...</td>\n",
       "      <td>0.173333</td>\n",
       "      <td>0.214778</td>\n",
       "      <td>0.27</td>\n",
       "      <td>0.348005</td>\n",
       "      <td>0.19</td>\n",
       "      <td>0.212121</td>\n",
       "      <td>0.06</td>\n",
       "      <td>0.084207</td>\n",
       "      <td>CTE</td>\n",
       "      <td>2</td>\n",
       "    </tr>\n",
       "  </tbody>\n",
       "</table>\n",
       "<p>5 rows × 21 columns</p>\n",
       "</div>"
      ],
      "text/plain": [
       "                                         id        name  \\\n",
       "0  2eea485f9fada3ab346e4930dd791bcf69f615d2  adunc-wife   \n",
       "1  c48d065577d2b1f2c78e1e4904e70d85117a5c11  dress-puck   \n",
       "2  24d95edf9f3a0a20071cd7633221d50a6d9f2e84  moody-trug   \n",
       "3  f779879e21e0a38c23ba832c99a364f63cd0c4cd  lying-over   \n",
       "4  c348b5aec10150fdbcef567c4d15946e627a039d  sober-saga   \n",
       "\n",
       "     params.dataset.path params.dataset.name params.dataset.split  \\\n",
       "0  bdsaglam/musique-mini          answerable           validation   \n",
       "1  bdsaglam/musique-mini          answerable           validation   \n",
       "2  bdsaglam/musique-mini          answerable           validation   \n",
       "3  bdsaglam/musique-mini          answerable           validation   \n",
       "4  bdsaglam/musique-mini          answerable           validation   \n",
       "\n",
       "   params.qa.model  params.qa.temperature      params.qa.system_prompt  \\\n",
       "0  llama-3-70b-tgi                    2.0  cte/format-relevant-few.txt   \n",
       "1  llama-3-70b-tgi                    2.0  cte/format-relevant-few.txt   \n",
       "2  llama-3-70b-tgi                    2.0  cte/format-relevant-few.txt   \n",
       "3  llama-3-70b-tgi                    2.0  cte/format-relevant-few.txt   \n",
       "4  llama-3-70b-tgi                    2.0  cte/format-relevant-few.txt   \n",
       "\n",
       "  params.qa.user_prompt_template params.qa.few_shot_examples  ...  \\\n",
       "0                         cq.txt     cte-2-shot-delim-2.json  ...   \n",
       "1                         cq.txt     cte-2-shot-delim-2.json  ...   \n",
       "2                         cq.txt     cte-2-shot-delim-2.json  ...   \n",
       "3                         cq.txt     cte-2-shot-delim-1.json  ...   \n",
       "4                         cq.txt     cte-2-shot-delim-1.json  ...   \n",
       "\n",
       "   metrics.exact_match  metrics.f1  metrics.2hops.exact_match  \\\n",
       "0             0.080000    0.100619                       0.16   \n",
       "1             0.090000    0.100029                       0.16   \n",
       "2             0.096667    0.114228                       0.17   \n",
       "3             0.180000    0.229397                       0.28   \n",
       "4             0.173333    0.214778                       0.27   \n",
       "\n",
       "   metrics.2hops.f1  metrics.3hops.exact_match  metrics.3hops.f1  \\\n",
       "0          0.204498                       0.06          0.068788   \n",
       "1          0.176028                       0.07          0.082726   \n",
       "2          0.203247                       0.11          0.120667   \n",
       "3          0.355347                       0.15          0.207989   \n",
       "4          0.348005                       0.19          0.212121   \n",
       "\n",
       "   metrics.4hops.exact_match  metrics.4hops.f1  params.qa.technique  \\\n",
       "0                       0.02          0.028571                  CTE   \n",
       "1                       0.04          0.041333                  CTE   \n",
       "2                       0.01          0.018769                  CTE   \n",
       "3                       0.11          0.124856                  CTE   \n",
       "4                       0.06          0.084207                  CTE   \n",
       "\n",
       "  params.qa.n_shot  \n",
       "0                2  \n",
       "1                2  \n",
       "2                2  \n",
       "3                2  \n",
       "4                2  \n",
       "\n",
       "[5 rows x 21 columns]"
      ]
     },
     "execution_count": 32,
     "metadata": {},
     "output_type": "execute_result"
    }
   ],
   "source": [
    "df = pd.DataFrame(experiments)\n",
    "\n",
    "param_cols = [col for col in df.columns if col.startswith(\"params.\")]\n",
    "metric_cols = [col for col in df.columns if col.startswith(\"metrics.\")]\n",
    "\n",
    "df.dropna(subset=param_cols, inplace=True, how=\"any\")\n",
    "df.drop_duplicates(subset=param_cols, inplace=True)\n",
    "\n",
    "print(f\"{len(df)} experiments after preprocessing\")\n",
    "df.head()"
   ]
  },
  {
   "cell_type": "code",
   "execution_count": 33,
   "metadata": {},
   "outputs": [
    {
     "data": {
      "text/plain": [
       "{'params.dataset.path': 'bdsaglam/musique-mini',\n",
       " 'params.qa.temperature': 2.0,\n",
       " 'params.qa.system_prompt': 'cte/format-relevant-few.txt',\n",
       " 'params.qa.user_prompt_template': 'cq.txt',\n",
       " 'params.qa.few_shot_examples': 'cte-2-shot-delim-2.json',\n",
       " 'params.run': 3}"
      ]
     },
     "execution_count": 33,
     "metadata": {},
     "output_type": "execute_result"
    }
   ],
   "source": [
    "existing_configs = df[target_params].to_dict(orient=\"records\")\n",
    "existing_configs[0]"
   ]
  },
  {
   "cell_type": "code",
   "execution_count": 34,
   "metadata": {},
   "outputs": [
    {
     "data": {
      "text/plain": [
       "dict_keys(['params.dataset.path', 'params.qa.temperature', 'params.qa.system_prompt', 'params.qa.user_prompt_template', 'params.qa.few_shot_examples', 'params.run'])"
      ]
     },
     "execution_count": 34,
     "metadata": {},
     "output_type": "execute_result"
    }
   ],
   "source": [
    "target_params"
   ]
  },
  {
   "cell_type": "code",
   "execution_count": 35,
   "metadata": {},
   "outputs": [
    {
     "data": {
      "text/html": [
       "<div>\n",
       "<style scoped>\n",
       "    .dataframe tbody tr th:only-of-type {\n",
       "        vertical-align: middle;\n",
       "    }\n",
       "\n",
       "    .dataframe tbody tr th {\n",
       "        vertical-align: top;\n",
       "    }\n",
       "\n",
       "    .dataframe thead th {\n",
       "        text-align: right;\n",
       "    }\n",
       "</style>\n",
       "<table border=\"1\" class=\"dataframe\">\n",
       "  <thead>\n",
       "    <tr style=\"text-align: right;\">\n",
       "      <th></th>\n",
       "      <th>params.qa.system_prompt</th>\n",
       "      <th>params.qa.user_prompt_template</th>\n",
       "      <th>params.qa.few_shot_examples</th>\n",
       "      <th>params.qa.temperature</th>\n",
       "      <th>params.run</th>\n",
       "    </tr>\n",
       "  </thead>\n",
       "  <tbody>\n",
       "  </tbody>\n",
       "</table>\n",
       "</div>"
      ],
      "text/plain": [
       "Empty DataFrame\n",
       "Columns: [params.qa.system_prompt, params.qa.user_prompt_template, params.qa.few_shot_examples, params.qa.temperature, params.run]\n",
       "Index: []"
      ]
     },
     "execution_count": 35,
     "metadata": {},
     "output_type": "execute_result"
    }
   ],
   "source": [
    "run_counts = (\n",
    "    df.groupby(\n",
    "        [\n",
    "            \"params.qa.system_prompt\",\n",
    "            \"params.qa.user_prompt_template\",\n",
    "            \"params.qa.few_shot_examples\",\n",
    "            \"params.qa.temperature\",\n",
    "        ]\n",
    "    )[\"params.run\"]\n",
    "    .aggregate(tuple)\n",
    "    .reset_index()\n",
    ")\n",
    "mask = run_counts[\"params.run\"].map(len) < 3\n",
    "run_counts.loc[mask]"
   ]
  },
  {
   "cell_type": "code",
   "execution_count": 36,
   "metadata": {},
   "outputs": [
    {
     "data": {
      "text/plain": [
       "{'params.dataset.path': 'bdsaglam/musique-mini',\n",
       " 'params.qa.temperature': 0.1,\n",
       " 'params.qa.system_prompt': 'standard/excellent-few.txt',\n",
       " 'params.qa.user_prompt_template': 'cq.txt',\n",
       " 'params.qa.few_shot_examples': 'empty.json',\n",
       " 'params.run': 1}"
      ]
     },
     "execution_count": 36,
     "metadata": {},
     "output_type": "execute_result"
    }
   ],
   "source": [
    "exp_configs[0]"
   ]
  },
  {
   "cell_type": "code",
   "execution_count": 37,
   "metadata": {},
   "outputs": [
    {
     "data": {
      "text/plain": [
       "{'params.dataset.path': 'bdsaglam/musique-mini',\n",
       " 'params.qa.temperature': 2.0,\n",
       " 'params.qa.system_prompt': 'cte/format-relevant-few.txt',\n",
       " 'params.qa.user_prompt_template': 'cq.txt',\n",
       " 'params.qa.few_shot_examples': 'cte-2-shot-delim-2.json',\n",
       " 'params.run': 3}"
      ]
     },
     "execution_count": 37,
     "metadata": {},
     "output_type": "execute_result"
    }
   ],
   "source": [
    "existing_configs[0]"
   ]
  },
  {
   "cell_type": "code",
   "execution_count": 38,
   "metadata": {},
   "outputs": [
    {
     "data": {
      "text/plain": [
       "(('params.dataset.path', 'bdsaglam/musique-mini'),\n",
       " ('params.qa.few_shot_examples', 'empty.json'),\n",
       " ('params.qa.system_prompt', 'standard/excellent-few.txt'),\n",
       " ('params.qa.temperature', 0.1),\n",
       " ('params.qa.user_prompt_template', 'cq.txt'),\n",
       " ('params.run', 1))"
      ]
     },
     "execution_count": 38,
     "metadata": {},
     "output_type": "execute_result"
    }
   ],
   "source": [
    "tuple(sorted(exp_configs[0].items()))"
   ]
  },
  {
   "cell_type": "code",
   "execution_count": 39,
   "metadata": {},
   "outputs": [
    {
     "data": {
      "text/plain": [
       "(('params.dataset.path', 'bdsaglam/musique-mini'),\n",
       " ('params.qa.few_shot_examples', 'cte-2-shot-delim-2.json'),\n",
       " ('params.qa.system_prompt', 'cte/format-relevant-few.txt'),\n",
       " ('params.qa.temperature', 2.0),\n",
       " ('params.qa.user_prompt_template', 'cq.txt'),\n",
       " ('params.run', 3))"
      ]
     },
     "execution_count": 39,
     "metadata": {},
     "output_type": "execute_result"
    }
   ],
   "source": [
    "tuple(sorted(existing_configs[0].items()))"
   ]
  },
  {
   "cell_type": "code",
   "execution_count": 40,
   "metadata": {},
   "outputs": [
    {
     "name": "stdout",
     "output_type": "stream",
     "text": [
      "0 missing configurations\n"
     ]
    }
   ],
   "source": [
    "# find the missing configurations\n",
    "missing_configs = [\n",
    "    dict(kv)\n",
    "    for kv in list(\n",
    "        {tuple(sorted(config.items())) for config in exp_configs}\n",
    "        - {tuple(sorted(config.items())) for config in existing_configs}\n",
    "    )\n",
    "]\n",
    "print(f\"{len(missing_configs)} missing configurations\")\n",
    "next(iter(missing_configs), None)\n"
   ]
  },
  {
   "cell_type": "code",
   "execution_count": 41,
   "metadata": {},
   "outputs": [],
   "source": [
    "def make_command(exp_config):\n",
    "    run = exp_config['params.run']\n",
    "    dataset_path = exp_config['params.dataset.path']\n",
    "    temperature = exp_config['params.qa.temperature']\n",
    "    system_prompt = exp_config['params.qa.system_prompt']\n",
    "    user_prompt_template = exp_config['params.qa.user_prompt_template']\n",
    "    few_shot_examples = exp_config['params.qa.few_shot_examples']\n",
    "    command = f\"\"\"\n",
    "dvc exp run --queue \\\\\n",
    "    -S params.dataset.path='{dataset_path}' \\\\\n",
    "    -S qa.temperature='{temperature}' \\\\\n",
    "    -S qa.system_prompt='{system_prompt}' \\\\\n",
    "    -S qa.user_prompt_template='{user_prompt_template}' \\\\\n",
    "    -S qa.few_shot_examples='{few_shot_examples}' \\\\\n",
    "    -S run='{run}'\n",
    "    \"\"\"\n",
    "    return command"
   ]
  },
  {
   "cell_type": "code",
   "execution_count": 42,
   "metadata": {},
   "outputs": [],
   "source": [
    "with open(\"../../tmp/missing_configs.sh\", \"w\") as f:\n",
    "    f.write('#!/bin/sh\\n')\n",
    "    for exp_config in missing_configs:\n",
    "        f.write(make_command(exp_config))\n",
    "        f.write(\"\\n\")"
   ]
  },
  {
   "cell_type": "code",
   "execution_count": null,
   "metadata": {},
   "outputs": [],
   "source": []
  }
 ],
 "metadata": {
  "kernelspec": {
   "display_name": "thesis",
   "language": "python",
   "name": "python3"
  },
  "language_info": {
   "codemirror_mode": {
    "name": "ipython",
    "version": 3
   },
   "file_extension": ".py",
   "mimetype": "text/x-python",
   "name": "python",
   "nbconvert_exporter": "python",
   "pygments_lexer": "ipython3",
   "version": "3.10.16"
  }
 },
 "nbformat": 4,
 "nbformat_minor": 2
}
