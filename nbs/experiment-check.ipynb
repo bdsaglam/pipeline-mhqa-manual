{
 "cells": [
  {
   "cell_type": "code",
   "execution_count": 49,
   "metadata": {},
   "outputs": [],
   "source": [
    "import json\n",
    "import numpy as np\n",
    "import pandas as pd \n",
    "import itertools"
   ]
  },
  {
   "cell_type": "code",
   "execution_count": 50,
   "metadata": {},
   "outputs": [],
   "source": [
    "def product_experiment_configs(params_record):\n",
    "    # Generate all possible combinations of parameters\n",
    "    keys = params_record.keys()\n",
    "    values = params_record.values()\n",
    "    for instance in itertools.product(*values):\n",
    "        yield dict(zip(keys, instance))"
   ]
  },
  {
   "cell_type": "code",
   "execution_count": 51,
   "metadata": {},
   "outputs": [
    {
     "name": "stdout",
     "output_type": "stream",
     "text": [
      "360 experiment configurations\n"
     ]
    }
   ],
   "source": [
    "params_records = [\n",
    "    {\n",
    "        \"params.qa.temperature\": [0.0, 0.1, 0.3, 0.5, 0.7, 1.0, 1.5, 2.0],\n",
    "        \"params.qa.system_prompt\": \"standard/excellent-fewest.txt,standard/excellent-few.txt,standard/helpful-output-format-few.txt,standard/minimal-output-format-fewest.txt,standard/minimal-output-format-few-no-prio.txt,standard/minimal-output-format-few.txt,standard/minimal-output-format.txt\".split(\n",
    "            \",\"\n",
    "        ),\n",
    "        \"params.qa.user_prompt_template\": [\"cq.txt\"],\n",
    "        \"params.qa.few_shot_examples\": [\"empty.json\"],\n",
    "        \"params.run\": [1, 2, 3],\n",
    "    },\n",
    "    {\n",
    "        \"params.qa.temperature\": [0.0, 0.1, 0.3, 0.5, 0.7, 1.0, 1.5, 2.0],\n",
    "        \"params.qa.system_prompt\": \"cot/format-minimal.txt,cot/format-reasoning.txt,cot/excellent-format-reasoning.txt,cot/format-think.txt\".split(\n",
    "            \",\"\n",
    "        ),\n",
    "        \"params.qa.user_prompt_template\": [\"cq.txt\"],\n",
    "        \"params.qa.few_shot_examples\": [\"empty.json\"],\n",
    "        \"params.run\": [1, 2, 3],\n",
    "    },\n",
    "    {\n",
    "        \"params.qa.temperature\": [0.0, 0.1, 0.3, 0.5, 0.7, 1.0, 1.5, 2.0],\n",
    "        \"params.qa.system_prompt\": \"cte/excellent-format-fewest.txt,cte/excellent-format-few.txt,cte/format-few.txt,cte/format-relevant-few.txt\".split(\n",
    "            \",\"\n",
    "        ),\n",
    "        \"params.qa.user_prompt_template\": [\"cq.txt\"],\n",
    "        \"params.qa.few_shot_examples\": [\"empty.json\"],\n",
    "        \"params.run\": [1, 2, 3],\n",
    "    },\n",
    "]\n",
    "\n",
    "exp_configs = [\n",
    "    exp_config\n",
    "    for params_record in params_records\n",
    "    for exp_config in product_experiment_configs(params_record)\n",
    "]\n",
    "print(f\"{len(exp_configs)} experiment configurations\")"
   ]
  },
  {
   "cell_type": "code",
   "execution_count": 52,
   "metadata": {},
   "outputs": [
    {
     "data": {
      "text/plain": [
       "dict_keys(['params.qa.temperature', 'params.qa.system_prompt', 'params.qa.user_prompt_template', 'params.qa.few_shot_examples', 'params.run'])"
      ]
     },
     "execution_count": 52,
     "metadata": {},
     "output_type": "execute_result"
    }
   ],
   "source": [
    "target_params = exp_configs[0].keys()\n",
    "target_params"
   ]
  },
  {
   "cell_type": "code",
   "execution_count": 53,
   "metadata": {},
   "outputs": [
    {
     "name": "stdout",
     "output_type": "stream",
     "text": [
      "525 experiments\n"
     ]
    },
    {
     "data": {
      "text/plain": [
       "{'commit': 'workspace',\n",
       " 'id': 'workspace',\n",
       " 'name': None,\n",
       " 'params': {'dataset': {'path': 'bdsaglam/musique',\n",
       "   'name': 'answerable',\n",
       "   'split': 'validation'},\n",
       "  'qa': {'model': 'llama-3-70b-tgi',\n",
       "   'temperature': 0.1,\n",
       "   'system_prompt': 'no-role.txt',\n",
       "   'user_prompt_template': 'cq.txt',\n",
       "   'few_shot_examples': 'empty.json'},\n",
       "  'run': 1},\n",
       " 'metrics': {}}"
      ]
     },
     "execution_count": 53,
     "metadata": {},
     "output_type": "execute_result"
    }
   ],
   "source": [
    "from bellem.dvc.experiment import load_experiments\n",
    "\n",
    "filenames = [\n",
    "    \"temperature-sweep-1.json\",\n",
    "    \"temperature-sweep-2.json\",\n",
    "    \"temperature-sweep-3.json\",\n",
    "]\n",
    "\n",
    "experiments = [exp for filename in filenames for exp in load_experiments(filename)]\n",
    "print(f\"{len(experiments)} experiments\")\n",
    "experiments[0]"
   ]
  },
  {
   "cell_type": "code",
   "execution_count": 54,
   "metadata": {},
   "outputs": [
    {
     "name": "stdout",
     "output_type": "stream",
     "text": [
      "525 experiments\n",
      "300 experiments after deduplication\n"
     ]
    }
   ],
   "source": [
    "df = pd.json_normalize(experiments).drop(columns=[\"commit\", \"id\", \"name\"])\n",
    "\n",
    "param_cols = [col for col in df.columns if col.startswith(\"params.\")]\n",
    "metric_cols = [col for col in df.columns if col.startswith(\"metrics.\")]\n",
    "\n",
    "df.dropna(subset=param_cols, inplace=True, how=\"any\")\n",
    "print(f\"{len(df)} experiments\")\n",
    "\n",
    "df.drop_duplicates(subset=param_cols, inplace=True)\n",
    "print(f\"{len(df)} experiments after deduplication\")"
   ]
  },
  {
   "cell_type": "code",
   "execution_count": 55,
   "metadata": {},
   "outputs": [
    {
     "data": {
      "text/plain": [
       "{'params.qa.temperature': 0.1,\n",
       " 'params.qa.system_prompt': 'no-role.txt',\n",
       " 'params.qa.user_prompt_template': 'cq.txt',\n",
       " 'params.qa.few_shot_examples': 'empty.json',\n",
       " 'params.run': 1}"
      ]
     },
     "execution_count": 55,
     "metadata": {},
     "output_type": "execute_result"
    }
   ],
   "source": [
    "existing_configs = df[target_params].to_dict(orient=\"records\")\n",
    "existing_configs[0]"
   ]
  },
  {
   "cell_type": "code",
   "execution_count": 56,
   "metadata": {},
   "outputs": [
    {
     "data": {
      "text/html": [
       "<div>\n",
       "<style scoped>\n",
       "    .dataframe tbody tr th:only-of-type {\n",
       "        vertical-align: middle;\n",
       "    }\n",
       "\n",
       "    .dataframe tbody tr th {\n",
       "        vertical-align: top;\n",
       "    }\n",
       "\n",
       "    .dataframe thead th {\n",
       "        text-align: right;\n",
       "    }\n",
       "</style>\n",
       "<table border=\"1\" class=\"dataframe\">\n",
       "  <thead>\n",
       "    <tr style=\"text-align: right;\">\n",
       "      <th></th>\n",
       "      <th>params.qa.system_prompt</th>\n",
       "      <th>params.qa.user_prompt_template</th>\n",
       "      <th>params.qa.few_shot_examples</th>\n",
       "      <th>params.qa.temperature</th>\n",
       "      <th>params.run</th>\n",
       "    </tr>\n",
       "  </thead>\n",
       "  <tbody>\n",
       "    <tr>\n",
       "      <th>35</th>\n",
       "      <td>cte/format-relevant-few.txt</td>\n",
       "      <td>cq.txt</td>\n",
       "      <td>empty.json</td>\n",
       "      <td>0.0</td>\n",
       "      <td>(2, 1)</td>\n",
       "    </tr>\n",
       "    <tr>\n",
       "      <th>36</th>\n",
       "      <td>no-role.txt</td>\n",
       "      <td>cq.txt</td>\n",
       "      <td>empty.json</td>\n",
       "      <td>0.1</td>\n",
       "      <td>(1,)</td>\n",
       "    </tr>\n",
       "  </tbody>\n",
       "</table>\n",
       "</div>"
      ],
      "text/plain": [
       "        params.qa.system_prompt params.qa.user_prompt_template  \\\n",
       "35  cte/format-relevant-few.txt                         cq.txt   \n",
       "36                  no-role.txt                         cq.txt   \n",
       "\n",
       "   params.qa.few_shot_examples  params.qa.temperature params.run  \n",
       "35                  empty.json                    0.0     (2, 1)  \n",
       "36                  empty.json                    0.1       (1,)  "
      ]
     },
     "execution_count": 56,
     "metadata": {},
     "output_type": "execute_result"
    }
   ],
   "source": [
    "run_counts = (\n",
    "    df.groupby([\"params.qa.system_prompt\", \"params.qa.user_prompt_template\", \"params.qa.few_shot_examples\", \"params.qa.temperature\"])[\n",
    "        \"params.run\"\n",
    "    ]\n",
    "    .aggregate(tuple)\n",
    "    .reset_index()\n",
    ")\n",
    "mask = run_counts[\"params.run\"].map(len) < 3\n",
    "run_counts.loc[mask]"
   ]
  },
  {
   "cell_type": "code",
   "execution_count": 57,
   "metadata": {},
   "outputs": [
    {
     "name": "stdout",
     "output_type": "stream",
     "text": [
      "85 missing configurations\n"
     ]
    },
    {
     "data": {
      "text/plain": [
       "{'params.qa.few_shot_examples': 'empty.json',\n",
       " 'params.qa.system_prompt': 'cte/excellent-format-few.txt',\n",
       " 'params.qa.temperature': 0.3,\n",
       " 'params.qa.user_prompt_template': 'cq.txt',\n",
       " 'params.run': 2}"
      ]
     },
     "execution_count": 57,
     "metadata": {},
     "output_type": "execute_result"
    }
   ],
   "source": [
    "# find the missing configurations\n",
    "missing_configs = [dict(kv) for kv in list({tuple(sorted(config.items())) for config in exp_configs} - {tuple(sorted(config.items())) for config in existing_configs})]\n",
    "print(f\"{len(missing_configs)} missing configurations\")\n",
    "missing_configs[0]\n"
   ]
  },
  {
   "cell_type": "code",
   "execution_count": 58,
   "metadata": {},
   "outputs": [],
   "source": [
    "def make_command(exp_config):\n",
    "    run = exp_config['params.run']\n",
    "    temperature = exp_config['params.qa.temperature']\n",
    "    system_prompt = exp_config['params.qa.system_prompt']\n",
    "    user_prompt_template = exp_config['params.qa.user_prompt_template']\n",
    "    few_shot_examples = exp_config['params.qa.few_shot_examples']\n",
    "    command = f\"\"\"\n",
    "    dvc exp run --queue \\\\\n",
    "        -S qa.temperature='{temperature}' \\\\\n",
    "        -S qa.system_prompt='{system_prompt}' \\\\\n",
    "        -S qa.user_prompt_template='{user_prompt_template}' \\\\\n",
    "        -S qa.few_shot_examples='{few_shot_examples}' \\\\\n",
    "        -S run='{run}'\n",
    "    \"\"\"\n",
    "    return command"
   ]
  },
  {
   "cell_type": "code",
   "execution_count": 60,
   "metadata": {},
   "outputs": [],
   "source": [
    "with open(\"missing_configs.sh\", \"w\") as f:\n",
    "    for exp_config in missing_configs:\n",
    "        f.write(make_command(exp_config))\n",
    "        f.write(\"\\n\")"
   ]
  },
  {
   "cell_type": "code",
   "execution_count": null,
   "metadata": {},
   "outputs": [],
   "source": []
  }
 ],
 "metadata": {
  "kernelspec": {
   "display_name": "thesis",
   "language": "python",
   "name": "python3"
  },
  "language_info": {
   "codemirror_mode": {
    "name": "ipython",
    "version": 3
   },
   "file_extension": ".py",
   "mimetype": "text/x-python",
   "name": "python",
   "nbconvert_exporter": "python",
   "pygments_lexer": "ipython3",
   "version": "3.10.16"
  }
 },
 "nbformat": 4,
 "nbformat_minor": 2
}
