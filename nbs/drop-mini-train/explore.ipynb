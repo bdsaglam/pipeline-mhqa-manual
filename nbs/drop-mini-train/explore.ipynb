{
 "cells": [
  {
   "cell_type": "code",
   "execution_count": 1,
   "metadata": {},
   "outputs": [
    {
     "data": {
      "text/plain": [
       "True"
      ]
     },
     "execution_count": 1,
     "metadata": {},
     "output_type": "execute_result"
    }
   ],
   "source": [
    "from datasets import load_dataset\n",
    "from dotenv import load_dotenv\n",
    "\n",
    "load_dotenv()"
   ]
  },
  {
   "cell_type": "code",
   "execution_count": 2,
   "metadata": {},
   "outputs": [
    {
     "data": {
      "text/plain": [
       "DatasetDict({\n",
       "    train: Dataset({\n",
       "        features: ['question', 'id', 'paragraphs', 'question_decomposition', 'answer', 'answer_aliases', 'answerable'],\n",
       "        num_rows: 100\n",
       "    })\n",
       "    validation: Dataset({\n",
       "        features: ['question', 'id', 'paragraphs', 'question_decomposition', 'answer', 'answer_aliases', 'answerable'],\n",
       "        num_rows: 100\n",
       "    })\n",
       "})"
      ]
     },
     "execution_count": 2,
     "metadata": {},
     "output_type": "execute_result"
    }
   ],
   "source": [
    "dsd = load_dataset(\"bdsaglam/drop-musique-mini\")\n",
    "dsd"
   ]
  },
  {
   "cell_type": "code",
   "execution_count": 7,
   "metadata": {},
   "outputs": [],
   "source": [
    "import openai\n",
    "\n",
    "client = openai.OpenAI()\n",
    "\n",
    "prompt = \"\"\"\n",
    "Answer the question about the given context.\n",
    "Context: {context}\n",
    "Question: {question}\n",
    "\n",
    "# Output format\n",
    "Thought: <your thoughts>\n",
    "Answer: <answer in a few words>\n",
    "\"\"\"\n",
    "\n",
    "\n",
    "def answer_question(context, question, model=\"qwen-2.5-32b\", temperature=0.0, top_p: float = 0.95):\n",
    "    response = client.chat.completions.create(\n",
    "        model=model,\n",
    "        temperature=temperature,\n",
    "        top_p=top_p,\n",
    "        messages=[\n",
    "            {\n",
    "                \"role\": \"user\",\n",
    "                \"content\": prompt.format(context=context, question=question),\n",
    "            }\n",
    "        ],\n",
    "    )\n",
    "    return response.choices[0].message.content"
   ]
  },
  {
   "cell_type": "code",
   "execution_count": 8,
   "metadata": {},
   "outputs": [
    {
     "name": "stdout",
     "output_type": "stream",
     "text": [
      "Playing in their second straight Thanksgiving game, the Eagles struggled especially on defense, where they were unable to stop the much-hyped Lions offense, led by Matthew Stafford and Calvin Johnson, all game. The worst of it all was how unproven rookie Eric Rowe was tasked with covering wide receiver Calvin Johnson for the majority of the games, leading to Johnson catching 3 touchdowns. Philadelphia's offense was no help, either and frustrations, especially from the team's sideline boiled over. Stafford's five passing touchdowns, including three of them to Johnson was too much for the Eagles to overcome and for the second consecutive time this season, the Eagles gave up 45 points in a game. With the loss, the Eagles drop to 4-7 on the season and 6-1 when playing on Thanksgiving. However, hope was revived for the team when the Giants, who could have moved to a commanding 3 game lead in the NFC East, fell to the Washington Redskins, meaning the Eagles were only down 1 game from the Giants and Redskins.\n",
      "\n",
      "How many games did Eagles play in this season?\n",
      "\n",
      "11\n"
     ]
    }
   ],
   "source": [
    "example = dsd['train'][1]\n",
    "context = '\\n'.join([p['paragraph_text'] for p in example['paragraphs'] if p['is_supporting']])\n",
    "reference_answer = example['answer']\n",
    "question = example['question']\n",
    "\n",
    "print(context)\n",
    "print()\n",
    "print(question)\n",
    "print()\n",
    "print(reference_answer)"
   ]
  },
  {
   "cell_type": "code",
   "execution_count": 9,
   "metadata": {},
   "outputs": [
    {
     "name": "stdout",
     "output_type": "stream",
     "text": [
      "Thought: The context provided does not explicitly state the total number of games the Eagles played in the season. However, the information given indicates their record is 4-7, suggesting they have played 11 games in total as of the Thanksgiving game mentioned.\n",
      "Answer: 11 games\n"
     ]
    }
   ],
   "source": [
    "generation = answer_question(context, question)\n",
    "print(generation)"
   ]
  }
 ],
 "metadata": {
  "language_info": {
   "name": "python"
  }
 },
 "nbformat": 4,
 "nbformat_minor": 2
}
