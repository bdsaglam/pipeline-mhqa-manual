{
 "cells": [
  {
   "cell_type": "code",
   "execution_count": 13,
   "metadata": {},
   "outputs": [],
   "source": [
    "import itertools\n",
    "import json\n",
    "from pathlib import Path\n",
    "\n",
    "import numpy as np\n",
    "import pandas as pd"
   ]
  },
  {
   "cell_type": "code",
   "execution_count": 14,
   "metadata": {},
   "outputs": [],
   "source": [
    "def product_experiment_configs(params_record):\n",
    "    # Generate all possible combinations of parameters\n",
    "    keys = params_record.keys()\n",
    "    values = params_record.values()\n",
    "    for instance in itertools.product(*values):\n",
    "        yield dict(zip(keys, instance))"
   ]
  },
  {
   "cell_type": "code",
   "execution_count": 15,
   "metadata": {},
   "outputs": [
    {
     "name": "stdout",
     "output_type": "stream",
     "text": [
      "180 experiment configurations\n"
     ]
    }
   ],
   "source": [
    "common_params = {\n",
    "        \"params.dataset.path\": [\"bdsaglam/musique-mini\"],\n",
    "        \"params.qa.temperature\": [0.1, 0.7],\n",
    "        \"params.qa.user_prompt_template\": [\"cq.txt\"],\n",
    "        \"params.qa.n_shot\": [0,1,2,3,6,9],\n",
    "        \"params.run\": [1, 2, 3],\n",
    "}\n",
    "params_records = [\n",
    "    {\n",
    "        \"params.qa.system_prompt\": [\"direct/helpful-output-format-few.txt\"],\n",
    "        \"params.qa.few_shot_examples\": [\"auto/direct.json\"],\n",
    "    },\n",
    "    {\n",
    "        \"params.qa.system_prompt\": [\"cot/format-thought.txt\"],\n",
    "        \"params.qa.few_shot_examples\": [\"auto/cot.json\"],\n",
    "    },\n",
    "    {\n",
    "        \"params.qa.system_prompt\": [\"ccot/format-thought.txt\"],\n",
    "        \"params.qa.few_shot_examples\": [\"auto/ccot.json\"],\n",
    "    },\n",
    "    {\n",
    "        \"params.qa.system_prompt\": [\"cte/excellent-format-few.txt\", \"cte/format-relevant-few.txt\"],\n",
    "        \"params.qa.few_shot_examples\": [\"auto/cte.json\"],\n",
    "    },\n",
    "]\n",
    "\n",
    "exp_configs = [\n",
    "    exp_config\n",
    "    for params_record in params_records\n",
    "    for exp_config in product_experiment_configs({**common_params, **params_record})\n",
    "]\n",
    "print(f\"{len(exp_configs)} experiment configurations\")"
   ]
  },
  {
   "cell_type": "code",
   "execution_count": 16,
   "metadata": {},
   "outputs": [
    {
     "data": {
      "text/plain": [
       "dict_keys(['params.dataset.path', 'params.qa.temperature', 'params.qa.user_prompt_template', 'params.qa.n_shot', 'params.run', 'params.qa.system_prompt', 'params.qa.few_shot_examples'])"
      ]
     },
     "execution_count": 16,
     "metadata": {},
     "output_type": "execute_result"
    }
   ],
   "source": [
    "target_params = exp_configs[0].keys()\n",
    "target_params"
   ]
  },
  {
   "cell_type": "code",
   "execution_count": 17,
   "metadata": {},
   "outputs": [
    {
     "name": "stdout",
     "output_type": "stream",
     "text": [
      "144 experiments\n"
     ]
    },
    {
     "data": {
      "text/plain": [
       "{'id': 'workspace',\n",
       " 'name': None,\n",
       " 'params.dataset.path': 'bdsaglam/musique-mini',\n",
       " 'params.dataset.name': 'answerable',\n",
       " 'params.dataset.split': 'validation',\n",
       " 'params.qa.model': 'llama-3-70b-tgi',\n",
       " 'params.qa.temperature': 0.7,\n",
       " 'params.qa.system_prompt': 'direct/helpful-output-format-few.txt',\n",
       " 'params.qa.user_prompt_template': 'cq.txt',\n",
       " 'params.qa.few_shot_examples': 'auto/direct.json',\n",
       " 'params.qa.n_shot': 0,\n",
       " 'params.run': 1,\n",
       " 'metrics.exact_match': 0.55,\n",
       " 'metrics.f1': 0.6719070243,\n",
       " 'metrics.2hops.exact_match': 0.65,\n",
       " 'metrics.2hops.f1': 0.7548031968,\n",
       " 'metrics.3hops.exact_match': 0.54,\n",
       " 'metrics.3hops.f1': 0.6851904762,\n",
       " 'metrics.4hops.exact_match': 0.46,\n",
       " 'metrics.4hops.f1': 0.5757274001,\n",
       " 'metrics.gen_token_count.all.count': 300.0,\n",
       " 'metrics.gen_token_count.all.mean': 5.76,\n",
       " 'metrics.gen_token_count.all.std': 1.9394858471,\n",
       " 'metrics.gen_token_count.all.min': 3.0,\n",
       " 'metrics.gen_token_count.all.25%': 5.0,\n",
       " 'metrics.gen_token_count.all.50%': 5.0,\n",
       " 'metrics.gen_token_count.all.75%': 7.0,\n",
       " 'metrics.gen_token_count.all.max': 13.0,\n",
       " 'metrics.gen_token_count.success.count': 198.0,\n",
       " 'metrics.gen_token_count.success.mean': 5.7777777778,\n",
       " 'metrics.gen_token_count.success.std': 1.6093354277,\n",
       " 'metrics.gen_token_count.success.min': 3.0,\n",
       " 'metrics.gen_token_count.success.25%': 5.0,\n",
       " 'metrics.gen_token_count.success.50%': 5.0,\n",
       " 'metrics.gen_token_count.success.75%': 6.0,\n",
       " 'metrics.gen_token_count.success.max': 12.0,\n",
       " 'metrics.gen_token_count.fail.count': 102.0,\n",
       " 'metrics.gen_token_count.fail.mean': 5.7254901961,\n",
       " 'metrics.gen_token_count.fail.std': 2.4662348051,\n",
       " 'metrics.gen_token_count.fail.min': 3.0,\n",
       " 'metrics.gen_token_count.fail.25%': 4.0,\n",
       " 'metrics.gen_token_count.fail.50%': 5.0,\n",
       " 'metrics.gen_token_count.fail.75%': 7.0,\n",
       " 'metrics.gen_token_count.fail.max': 13.0,\n",
       " 'params.qa.technique': 'direct'}"
      ]
     },
     "execution_count": 17,
     "metadata": {},
     "output_type": "execute_result"
    }
   ],
   "source": [
    "results_path = Path(\"results.jsonl\")\n",
    "if results_path.exists():\n",
    "    with open(results_path) as f:\n",
    "        experiments = [json.loads(line) for line in f]\n",
    "else:\n",
    "    experiments = []\n",
    "\n",
    "print(f\"{len(experiments)} experiments\")\n",
    "next(iter(experiments), None)"
   ]
  },
  {
   "cell_type": "code",
   "execution_count": 18,
   "metadata": {},
   "outputs": [
    {
     "name": "stdout",
     "output_type": "stream",
     "text": [
      "144 experiments after preprocessing\n"
     ]
    }
   ],
   "source": [
    "df = pd.DataFrame(experiments)\n",
    "\n",
    "param_cols = [col for col in df.columns if col.startswith(\"params.\")]\n",
    "metric_cols = [col for col in df.columns if col.startswith(\"metrics.\")]\n",
    "\n",
    "df.dropna(subset=param_cols, inplace=True, how=\"any\")\n",
    "df.drop_duplicates(subset=param_cols, inplace=True)\n",
    "\n",
    "print(f\"{len(df)} experiments after preprocessing\")"
   ]
  },
  {
   "cell_type": "code",
   "execution_count": 19,
   "metadata": {},
   "outputs": [
    {
     "data": {
      "text/plain": [
       "{'params.dataset.path': 'bdsaglam/musique-mini',\n",
       " 'params.qa.temperature': 0.7,\n",
       " 'params.qa.user_prompt_template': 'cq.txt',\n",
       " 'params.qa.n_shot': 0,\n",
       " 'params.run': 1,\n",
       " 'params.qa.system_prompt': 'direct/helpful-output-format-few.txt',\n",
       " 'params.qa.few_shot_examples': 'auto/direct.json'}"
      ]
     },
     "execution_count": 19,
     "metadata": {},
     "output_type": "execute_result"
    }
   ],
   "source": [
    "existing_configs = df[target_params].to_dict(orient=\"records\")\n",
    "existing_configs[0]"
   ]
  },
  {
   "cell_type": "code",
   "execution_count": 20,
   "metadata": {},
   "outputs": [
    {
     "data": {
      "text/plain": [
       "['params.dataset.path',\n",
       " 'params.qa.temperature',\n",
       " 'params.qa.user_prompt_template',\n",
       " 'params.qa.n_shot',\n",
       " 'params.qa.system_prompt',\n",
       " 'params.qa.few_shot_examples']"
      ]
     },
     "execution_count": 20,
     "metadata": {},
     "output_type": "execute_result"
    }
   ],
   "source": [
    "target_params = list({**common_params, **params_records[0]}.keys())\n",
    "target_params.remove(\"params.run\")\n",
    "target_params"
   ]
  },
  {
   "cell_type": "code",
   "execution_count": 21,
   "metadata": {},
   "outputs": [
    {
     "data": {
      "text/html": [
       "<div>\n",
       "<style scoped>\n",
       "    .dataframe tbody tr th:only-of-type {\n",
       "        vertical-align: middle;\n",
       "    }\n",
       "\n",
       "    .dataframe tbody tr th {\n",
       "        vertical-align: top;\n",
       "    }\n",
       "\n",
       "    .dataframe thead th {\n",
       "        text-align: right;\n",
       "    }\n",
       "</style>\n",
       "<table border=\"1\" class=\"dataframe\">\n",
       "  <thead>\n",
       "    <tr style=\"text-align: right;\">\n",
       "      <th></th>\n",
       "      <th>params.dataset.path</th>\n",
       "      <th>params.qa.temperature</th>\n",
       "      <th>params.qa.user_prompt_template</th>\n",
       "      <th>params.qa.n_shot</th>\n",
       "      <th>params.qa.system_prompt</th>\n",
       "      <th>params.qa.few_shot_examples</th>\n",
       "      <th>params.run</th>\n",
       "    </tr>\n",
       "  </thead>\n",
       "  <tbody>\n",
       "  </tbody>\n",
       "</table>\n",
       "</div>"
      ],
      "text/plain": [
       "Empty DataFrame\n",
       "Columns: [params.dataset.path, params.qa.temperature, params.qa.user_prompt_template, params.qa.n_shot, params.qa.system_prompt, params.qa.few_shot_examples, params.run]\n",
       "Index: []"
      ]
     },
     "execution_count": 21,
     "metadata": {},
     "output_type": "execute_result"
    }
   ],
   "source": [
    "run_counts = df.groupby(target_params)[\"params.run\"].aggregate(tuple).reset_index()\n",
    "mask = run_counts[\"params.run\"].map(len) != 3\n",
    "run_counts.loc[mask]"
   ]
  },
  {
   "cell_type": "code",
   "execution_count": 22,
   "metadata": {},
   "outputs": [
    {
     "name": "stdout",
     "output_type": "stream",
     "text": [
      "36 missing configurations\n"
     ]
    },
    {
     "data": {
      "text/plain": [
       "{'params.dataset.path': 'bdsaglam/musique-mini',\n",
       " 'params.qa.few_shot_examples': 'auto/cte.json',\n",
       " 'params.qa.n_shot': 9,\n",
       " 'params.qa.system_prompt': 'cte/format-relevant-few.txt',\n",
       " 'params.qa.temperature': 0.7,\n",
       " 'params.qa.user_prompt_template': 'cq.txt',\n",
       " 'params.run': 2}"
      ]
     },
     "execution_count": 22,
     "metadata": {},
     "output_type": "execute_result"
    }
   ],
   "source": [
    "# find the missing configurations\n",
    "missing_configs = [dict(kv) for kv in list({tuple(sorted(config.items())) for config in exp_configs} - {tuple(sorted(config.items())) for config in existing_configs})]\n",
    "print(f\"{len(missing_configs)} missing configurations\")\n",
    "next(iter(missing_configs), None)\n"
   ]
  },
  {
   "cell_type": "code",
   "execution_count": 23,
   "metadata": {},
   "outputs": [],
   "source": [
    "def make_command(exp_config):\n",
    "    run = exp_config['params.run']\n",
    "    lines = [\"dvc exp run --queue\", f\"-S run={run}\"]\n",
    "    for target_param in target_params:\n",
    "        arg_name = target_param.split(\".\", 1)[-1]\n",
    "        arg_value = exp_config[target_param]\n",
    "        lines.append(f\"-S {arg_name}='{arg_value}'\")\n",
    "    \n",
    "    command = \" \\\\\\n    \".join(lines)\n",
    "    return command"
   ]
  },
  {
   "cell_type": "code",
   "execution_count": 24,
   "metadata": {},
   "outputs": [],
   "source": [
    "with open(\"../../tmp/missing_configs.sh\", \"w\") as f:\n",
    "    f.write('#!/bin/sh\\n')\n",
    "    for exp_config in missing_configs:\n",
    "        f.write(make_command(exp_config))\n",
    "        f.write(\"\\n\\n\")"
   ]
  }
 ],
 "metadata": {
  "kernelspec": {
   "display_name": "thesis",
   "language": "python",
   "name": "python3"
  },
  "language_info": {
   "codemirror_mode": {
    "name": "ipython",
    "version": 3
   },
   "file_extension": ".py",
   "mimetype": "text/x-python",
   "name": "python",
   "nbconvert_exporter": "python",
   "pygments_lexer": "ipython3",
   "version": "3.10.16"
  }
 },
 "nbformat": 4,
 "nbformat_minor": 2
}
