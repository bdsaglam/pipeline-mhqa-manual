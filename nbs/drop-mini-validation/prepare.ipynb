{
 "cells": [
  {
   "cell_type": "code",
   "execution_count": 76,
   "metadata": {},
   "outputs": [],
   "source": [
    "import itertools\n",
    "import json\n",
    "from pathlib import Path\n",
    "\n",
    "import pandas as pd"
   ]
  },
  {
   "cell_type": "code",
   "execution_count": 77,
   "metadata": {},
   "outputs": [],
   "source": [
    "def sorted_tuple(x):\n",
    "    return tuple(sorted(x))"
   ]
  },
  {
   "cell_type": "code",
   "execution_count": 78,
   "metadata": {},
   "outputs": [
    {
     "name": "stdout",
     "output_type": "stream",
     "text": [
      "0 experiments\n"
     ]
    }
   ],
   "source": [
    "from bellem.dvc.experiment import load_experiments\n",
    "\n",
    "filepaths = list(Path(\"../../tmp/drop-mini-validation\").glob(\"*.json\"))\n",
    "experiments = [exp for fp in filepaths for exp in load_experiments(fp)]\n",
    "print(f\"{len(experiments)} experiments\")\n",
    "next(iter(experiments), None)"
   ]
  },
  {
   "cell_type": "code",
   "execution_count": 79,
   "metadata": {},
   "outputs": [
    {
     "name": "stdout",
     "output_type": "stream",
     "text": [
      "0 experiments before preprocessing\n"
     ]
    },
    {
     "data": {
      "text/html": [
       "<div>\n",
       "<style scoped>\n",
       "    .dataframe tbody tr th:only-of-type {\n",
       "        vertical-align: middle;\n",
       "    }\n",
       "\n",
       "    .dataframe tbody tr th {\n",
       "        vertical-align: top;\n",
       "    }\n",
       "\n",
       "    .dataframe thead th {\n",
       "        text-align: right;\n",
       "    }\n",
       "</style>\n",
       "<table border=\"1\" class=\"dataframe\">\n",
       "  <thead>\n",
       "    <tr style=\"text-align: right;\">\n",
       "      <th></th>\n",
       "    </tr>\n",
       "  </thead>\n",
       "  <tbody>\n",
       "  </tbody>\n",
       "</table>\n",
       "</div>"
      ],
      "text/plain": [
       "Empty DataFrame\n",
       "Columns: []\n",
       "Index: []"
      ]
     },
     "execution_count": 79,
     "metadata": {},
     "output_type": "execute_result"
    }
   ],
   "source": [
    "df = pd.json_normalize(experiments)\n",
    "df.drop(columns=[col for col in df.columns if \"fuzzy\" in col], inplace=True)\n",
    "print(f\"{len(df)} experiments before preprocessing\")\n",
    "df.head()"
   ]
  },
  {
   "cell_type": "code",
   "execution_count": 80,
   "metadata": {},
   "outputs": [],
   "source": [
    "if 'params.qa.top_p' not in df.columns:\n",
    "    df['params.qa.top_p'] = 0.999\n",
    "\n",
    "df['params.qa.top_p'] = df['params.qa.top_p'].map(lambda x: 0.999 if x > 0.99 else x)"
   ]
  },
  {
   "cell_type": "code",
   "execution_count": 81,
   "metadata": {},
   "outputs": [],
   "source": [
    "param_cols = [col for col in df.columns if col.startswith(\"params.\")]\n",
    "metric_cols = [col for col in df.columns if col.startswith(\"metrics.\")]"
   ]
  },
  {
   "cell_type": "code",
   "execution_count": 82,
   "metadata": {},
   "outputs": [
    {
     "name": "stdout",
     "output_type": "stream",
     "text": [
      "0 experiments after dropping nan\n"
     ]
    }
   ],
   "source": [
    "df.dropna(subset=metric_cols[:2], inplace=True, how=\"any\")\n",
    "print(f\"{len(df)} experiments after dropping nan\")"
   ]
  },
  {
   "cell_type": "code",
   "execution_count": 83,
   "metadata": {},
   "outputs": [
    {
     "name": "stdout",
     "output_type": "stream",
     "text": [
      "0 experiments after dropping duplicates\n"
     ]
    }
   ],
   "source": [
    "df.drop_duplicates(subset=param_cols + metric_cols[:2], keep='last', inplace=True)\n",
    "print(f\"{len(df)} experiments after dropping duplicates\")"
   ]
  },
  {
   "cell_type": "code",
   "execution_count": 84,
   "metadata": {},
   "outputs": [
    {
     "data": {
      "text/html": [
       "<div>\n",
       "<style scoped>\n",
       "    .dataframe tbody tr th:only-of-type {\n",
       "        vertical-align: middle;\n",
       "    }\n",
       "\n",
       "    .dataframe tbody tr th {\n",
       "        vertical-align: top;\n",
       "    }\n",
       "\n",
       "    .dataframe thead th {\n",
       "        text-align: right;\n",
       "    }\n",
       "</style>\n",
       "<table border=\"1\" class=\"dataframe\">\n",
       "  <thead>\n",
       "    <tr style=\"text-align: right;\">\n",
       "      <th></th>\n",
       "      <th>params.qa.top_p</th>\n",
       "    </tr>\n",
       "  </thead>\n",
       "  <tbody>\n",
       "  </tbody>\n",
       "</table>\n",
       "</div>"
      ],
      "text/plain": [
       "Empty DataFrame\n",
       "Columns: [params.qa.top_p]\n",
       "Index: []"
      ]
     },
     "execution_count": 84,
     "metadata": {},
     "output_type": "execute_result"
    }
   ],
   "source": [
    "df.head()"
   ]
  },
  {
   "cell_type": "code",
   "execution_count": 85,
   "metadata": {},
   "outputs": [],
   "source": [
    "def parse_qa_technique(row):\n",
    "    model = row['params.qa.model']\n",
    "    if 'r1' in model:\n",
    "        base_technique = 'REASONING'\n",
    "    else:\n",
    "        base_technique = row[\"params.qa.system_prompt\"].split(\"/\")[0].replace(\".txt\", \"\").upper()\n",
    "    sc = int(row[\"params.qa.n_sc\"])\n",
    "    sc_suffix = f\"-SC({sc})\" if sc > 1 else \"\"\n",
    "    return f\"{base_technique}{sc_suffix}\"\n",
    "\n",
    "df[\"params.qa.technique\"] = df.apply(parse_qa_technique, axis=1)"
   ]
  },
  {
   "cell_type": "code",
   "execution_count": 86,
   "metadata": {},
   "outputs": [],
   "source": [
    "def remove_ext(filename):\n",
    "    return filename.split(\".\", 1)[0]\n",
    "\n",
    "def parse_instruction(row):\n",
    "    sp = remove_ext(row[\"params.qa.system_prompt\"]).lower()\n",
    "    up = remove_ext(row[\"params.qa.user_prompt_template\"]).lower().replace(\".txt\", \"\")\n",
    "    fs = remove_ext(row[\"params.qa.few_shot_examples\"]).lower()\n",
    "    return f\"{sp}:{up}:{fs}\"\n",
    "\n",
    "if len(df):\n",
    "    df[\"params.qa.instruction\"] = df.apply(parse_instruction, axis=1)"
   ]
  },
  {
   "cell_type": "code",
   "execution_count": 87,
   "metadata": {},
   "outputs": [],
   "source": [
    "# make temperature 1 decimal\n",
    "if len(df):\n",
    "    df[\"params.qa.temperature\"] = df[\"params.qa.temperature\"].round(1)"
   ]
  },
  {
   "cell_type": "code",
   "execution_count": 88,
   "metadata": {},
   "outputs": [
    {
     "name": "stdout",
     "output_type": "stream",
     "text": [
      "- params.qa.top_p: []\n",
      "\n"
     ]
    }
   ],
   "source": [
    "for col in param_cols:\n",
    "    values = list(df[col].unique())\n",
    "    print(f\"- {col}: {values}\")\n",
    "    print()"
   ]
  },
  {
   "cell_type": "code",
   "execution_count": 89,
   "metadata": {},
   "outputs": [],
   "source": [
    "df.to_json('exps.jsonl', orient='records', lines=True)"
   ]
  },
  {
   "cell_type": "markdown",
   "metadata": {},
   "source": [
    "## Setup remaining experiments"
   ]
  },
  {
   "cell_type": "code",
   "execution_count": 90,
   "metadata": {},
   "outputs": [],
   "source": [
    "def produce_experiment_configs(common_params, varying_params):\n",
    "    # Generate all possible combinations of parameters\n",
    "    varying_params = {**common_params, **varying_params}\n",
    "    keys = varying_params.keys()\n",
    "    values = varying_params.values()\n",
    "    for instance in itertools.product(*values):\n",
    "        yield dict(zip(keys, instance))"
   ]
  },
  {
   "cell_type": "code",
   "execution_count": 91,
   "metadata": {},
   "outputs": [],
   "source": [
    "def produce_all_experiment_configs(common_params: dict, varying_params_list: list[dict]):\n",
    "    for params in varying_params_list:\n",
    "        for exp_config in produce_experiment_configs(common_params, params):\n",
    "            yield exp_config"
   ]
  },
  {
   "cell_type": "code",
   "execution_count": 92,
   "metadata": {},
   "outputs": [],
   "source": [
    "common_params = {\n",
    "    \"params.dataset.path\": [\"bdsaglam/drop-musique-mini\"],\n",
    "    \"params.dataset.name\": [\"default\"],\n",
    "    \"params.dataset.split\": [\"validation\"],\n",
    "    \"params.qa.n_sc\": [\n",
    "        1,\n",
    "        5,\n",
    "    ],\n",
    "    \"params.qa.n_shot\": [\n",
    "        0,\n",
    "        1,\n",
    "        3,\n",
    "        5,\n",
    "    ],\n",
    "    \"params.run\": [\n",
    "        1,\n",
    "        2,\n",
    "        3,\n",
    "    ],\n",
    "}"
   ]
  },
  {
   "cell_type": "code",
   "execution_count": 93,
   "metadata": {},
   "outputs": [],
   "source": [
    "varying_params_list = [\n",
    "    {\n",
    "        \"params.qa.model\": [\n",
    "            \"llama-3.3-70b\",\n",
    "        ],\n",
    "        \"params.qa.temperature\": [0.0],\n",
    "        \"params.qa.top_p\": [0.999],\n",
    "        \"params.qa.system_prompt\": [\"direct/format-few-drop.txt\"],\n",
    "        \"params.qa.user_prompt_template\": [\"cq.txt\"],\n",
    "        \"params.qa.few_shot_examples\": [\"drop/direct.json\"],\n",
    "    },\n",
    "    {\n",
    "        \"params.qa.model\": [\n",
    "            \"llama-3.3-70b\",\n",
    "        ],\n",
    "        \"params.qa.temperature\": [\n",
    "            0.5,\n",
    "        ],\n",
    "        \"params.qa.top_p\": [\n",
    "            0.95,\n",
    "        ],\n",
    "        \"params.qa.system_prompt\": [\"direct/format-few-drop.txt\"],\n",
    "        \"params.qa.user_prompt_template\": [\"cq.txt\"],\n",
    "        \"params.qa.few_shot_examples\": [\"drop/direct.json\"],\n",
    "    },\n",
    "    {\n",
    "        \"params.qa.model\": [\n",
    "            \"llama-3.3-70b\",\n",
    "        ],\n",
    "        \"params.qa.temperature\": [\n",
    "            0.0,\n",
    "        ],\n",
    "        \"params.qa.top_p\": [0.999],\n",
    "        \"params.qa.system_prompt\": [\"ccot/format-thought-drop.txt\"],\n",
    "        \"params.qa.user_prompt_template\": [\"cq.txt\"],\n",
    "        \"params.qa.few_shot_examples\": [\"drop/ccot.json\"],\n",
    "    },\n",
    "    {\n",
    "        \"params.qa.model\": [\n",
    "            \"llama-3.3-70b\",\n",
    "        ],\n",
    "        \"params.qa.temperature\": [\n",
    "            0.5,\n",
    "        ],\n",
    "        \"params.qa.top_p\": [\n",
    "            0.95,\n",
    "        ],\n",
    "        \"params.qa.system_prompt\": [\"ccot/format-thought-drop.txt\"],\n",
    "        \"params.qa.user_prompt_template\": [\"cq.txt\"],\n",
    "        \"params.qa.few_shot_examples\": [\"drop/ccot.json\"],\n",
    "    },\n",
    "    # {\n",
    "    #     \"params.qa.model\": [\n",
    "    #         \"deepseek-r1-llama-70b\",\n",
    "    #     ],\n",
    "    #     \"params.qa.temperature\": [\n",
    "    #         0.5,\n",
    "    #     ],\n",
    "    #     \"params.qa.top_p\": [\n",
    "    #         0.95,\n",
    "    #     ],\n",
    "    #     \"params.qa.system_prompt\": [\"empty.txt\"],\n",
    "    #     \"params.qa.user_prompt_template\": [\"icq-format-drop.txt\"],\n",
    "    #     \"params.qa.few_shot_examples\": [\"drop/reasoning.json\"],\n",
    "    # },\n",
    "]"
   ]
  },
  {
   "cell_type": "code",
   "execution_count": 94,
   "metadata": {},
   "outputs": [
    {
     "name": "stdout",
     "output_type": "stream",
     "text": [
      "96 experiment configurations\n",
      "['params.dataset.path', 'params.dataset.name', 'params.dataset.split', 'params.qa.n_sc', 'params.qa.n_shot', 'params.run', 'params.qa.model', 'params.qa.temperature', 'params.qa.top_p', 'params.qa.system_prompt', 'params.qa.user_prompt_template', 'params.qa.few_shot_examples']\n"
     ]
    }
   ],
   "source": [
    "exp_configs = list(produce_all_experiment_configs(common_params, varying_params_list))\n",
    "target_params = list(exp_configs[0].keys())\n",
    "print(f\"{len(exp_configs)} experiment configurations\")\n",
    "print(target_params)"
   ]
  },
  {
   "cell_type": "code",
   "execution_count": 95,
   "metadata": {},
   "outputs": [
    {
     "name": "stdout",
     "output_type": "stream",
     "text": [
      "Existing exps: 0\n"
     ]
    }
   ],
   "source": [
    "if len(df):\n",
    "    existing_configs = df[target_params].to_dict(orient=\"records\")\n",
    "    existing_configs[0]\n",
    "else:\n",
    "    existing_configs = []\n",
    "\n",
    "print(\"Existing exps:\", len(existing_configs))"
   ]
  },
  {
   "cell_type": "code",
   "execution_count": 96,
   "metadata": {},
   "outputs": [],
   "source": [
    "pairs = []\n",
    "for exp_config in exp_configs:\n",
    "    for existing_config in existing_configs:\n",
    "        if len(sorted(exp_config.items())) != len(sorted(existing_config.items())):\n",
    "            pairs.append((\n",
    "                sorted(exp_config.items()), \n",
    "                sorted(existing_config.items())\n",
    "            ))\n",
    "assert len(pairs) == 0, pairs"
   ]
  },
  {
   "cell_type": "code",
   "execution_count": 97,
   "metadata": {},
   "outputs": [
    {
     "name": "stdout",
     "output_type": "stream",
     "text": [
      "96 missing configurations\n"
     ]
    }
   ],
   "source": [
    "# find the missing configurations\n",
    "missing_configs = [\n",
    "    dict(kv)\n",
    "    for kv in list(\n",
    "        {tuple(sorted(config.items())) for config in exp_configs}\n",
    "        - {tuple(sorted(config.items())) for config in existing_configs}\n",
    "    )\n",
    "]\n",
    "print(f\"{len(missing_configs)} missing configurations\")"
   ]
  },
  {
   "cell_type": "code",
   "execution_count": 98,
   "metadata": {},
   "outputs": [],
   "source": [
    "def make_command(exp_config):\n",
    "    lines = [\"dvc exp run --queue\"]\n",
    "    for target_param in target_params:\n",
    "        arg_name = target_param.split(\".\", 1)[-1]\n",
    "        arg_value = exp_config[target_param]\n",
    "        if isinstance(arg_value, str) and '[' in arg_value:\n",
    "            arg_value = f'\"{arg_value}\"'\n",
    "        lines.append(f\"-S {arg_name}='{arg_value}'\")\n",
    "\n",
    "    command = \" \\\\\\n    \".join(lines)\n",
    "    return command"
   ]
  },
  {
   "cell_type": "code",
   "execution_count": 99,
   "metadata": {},
   "outputs": [],
   "source": [
    "with open(\"run.sh\", \"w\") as f:\n",
    "    f.write(\"#!/bin/sh\\n\\n\")\n",
    "    for exp_config in missing_configs:\n",
    "        f.write(make_command(exp_config))\n",
    "        f.write(\"\\n\\n\")"
   ]
  },
  {
   "cell_type": "markdown",
   "metadata": {},
   "source": [
    "## Inspect"
   ]
  },
  {
   "cell_type": "code",
   "execution_count": 100,
   "metadata": {},
   "outputs": [
    {
     "data": {
      "text/html": [
       "<div>\n",
       "<style scoped>\n",
       "    .dataframe tbody tr th:only-of-type {\n",
       "        vertical-align: middle;\n",
       "    }\n",
       "\n",
       "    .dataframe tbody tr th {\n",
       "        vertical-align: top;\n",
       "    }\n",
       "\n",
       "    .dataframe thead th {\n",
       "        text-align: right;\n",
       "    }\n",
       "</style>\n",
       "<table border=\"1\" class=\"dataframe\">\n",
       "  <thead>\n",
       "    <tr style=\"text-align: right;\">\n",
       "      <th></th>\n",
       "      <th>params.qa.top_p</th>\n",
       "      <th>params.qa.technique</th>\n",
       "    </tr>\n",
       "  </thead>\n",
       "  <tbody>\n",
       "  </tbody>\n",
       "</table>\n",
       "</div>"
      ],
      "text/plain": [
       "Empty DataFrame\n",
       "Columns: [params.qa.top_p, params.qa.technique]\n",
       "Index: []"
      ]
     },
     "execution_count": 100,
     "metadata": {},
     "output_type": "execute_result"
    }
   ],
   "source": [
    "df"
   ]
  },
  {
   "cell_type": "code",
   "execution_count": null,
   "metadata": {},
   "outputs": [],
   "source": []
  }
 ],
 "metadata": {
  "kernelspec": {
   "display_name": "thesis",
   "language": "python",
   "name": "python3"
  },
  "language_info": {
   "codemirror_mode": {
    "name": "ipython",
    "version": 3
   },
   "file_extension": ".py",
   "mimetype": "text/x-python",
   "name": "python",
   "nbconvert_exporter": "python",
   "pygments_lexer": "ipython3",
   "version": "3.10.16"
  }
 },
 "nbformat": 4,
 "nbformat_minor": 2
}
