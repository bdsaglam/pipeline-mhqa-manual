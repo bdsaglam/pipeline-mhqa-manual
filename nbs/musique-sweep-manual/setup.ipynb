{
 "cells": [
  {
   "cell_type": "code",
   "execution_count": 45,
   "metadata": {},
   "outputs": [],
   "source": [
    "import itertools\n",
    "import json\n",
    "from pathlib import Path\n",
    "\n",
    "import pandas as pd"
   ]
  },
  {
   "cell_type": "code",
   "execution_count": 46,
   "metadata": {},
   "outputs": [],
   "source": [
    "def product_experiment_configs(params_record):\n",
    "    # Generate all possible combinations of parameters\n",
    "    keys = params_record.keys()\n",
    "    values = params_record.values()\n",
    "    for instance in itertools.product(*values):\n",
    "        yield dict(zip(keys, instance))"
   ]
  },
  {
   "cell_type": "code",
   "execution_count": 47,
   "metadata": {},
   "outputs": [
    {
     "name": "stdout",
     "output_type": "stream",
     "text": [
      "15 experiment configurations\n"
     ]
    }
   ],
   "source": [
    "common_params = {\n",
    "    \"params.dataset.path\": [\"bdsaglam/musique-sweep\"],\n",
    "    \"params.dataset.split\": [\"train\"],\n",
    "    \"params.qa.temperature\": [\n",
    "        # 0.1,\n",
    "        0.5,\n",
    "        # 0.7,\n",
    "        # 1.0,\n",
    "        # 1.5,\n",
    "    ],\n",
    "    \"params.qa.user_prompt_template\": [\"cq.txt\"],\n",
    "    \"params.qa.n_shot\": [\n",
    "        0,\n",
    "        1,\n",
    "        2,\n",
    "        # 3,\n",
    "        # 6,\n",
    "        # 9,\n",
    "    ],\n",
    "    \"params.run\": [\n",
    "        1,\n",
    "        # 2,\n",
    "        # 3,\n",
    "    ],\n",
    "}\n",
    "params_records = [\n",
    "    {\n",
    "        \"params.qa.system_prompt\": [\n",
    "            \"direct/format-few.txt\",\n",
    "            # \"direct/excellent-format-few.txt\",\n",
    "        ],\n",
    "        \"params.qa.few_shot_examples\": [\"manual/direct.json\"],\n",
    "    },\n",
    "    {\n",
    "        \"params.qa.system_prompt\": [\n",
    "            \"cot/format-thought.txt\",\n",
    "            # \"cot/excellent-format-thought.txt\",\n",
    "        ],\n",
    "        \"params.qa.few_shot_examples\": [\"manual/cot.json\"],\n",
    "    },\n",
    "     {\n",
    "        \"params.qa.system_prompt\": [\n",
    "            \"cot/original.txt\",\n",
    "        ],\n",
    "        \"params.qa.few_shot_examples\": [\"manual/cot-original.json\"],\n",
    "    },\n",
    "    {\n",
    "        \"params.qa.system_prompt\": [\n",
    "            \"ccot/format-thought.txt\",\n",
    "            # \"ccot/excellent-format-thought.txt\",\n",
    "        ],\n",
    "        \"params.qa.few_shot_examples\": [\"manual/ccot.json\"],\n",
    "    },\n",
    "    {\n",
    "        \"params.qa.system_prompt\": [\n",
    "            \"cte/format-triplets-few.txt\",\n",
    "            # \"cte/excellent-format-triplets-few.txt\",\n",
    "        ],\n",
    "        \"params.qa.few_shot_examples\": [\"manual/cte.json\"],\n",
    "    },\n",
    "]\n",
    "\n",
    "exp_configs = [\n",
    "    exp_config\n",
    "    for params_record in params_records\n",
    "    for exp_config in product_experiment_configs({**common_params, **params_record})\n",
    "]\n",
    "print(f\"{len(exp_configs)} experiment configurations\")"
   ]
  },
  {
   "cell_type": "code",
   "execution_count": 48,
   "metadata": {},
   "outputs": [
    {
     "data": {
      "text/plain": [
       "dict_keys(['params.dataset.path', 'params.dataset.split', 'params.qa.temperature', 'params.qa.user_prompt_template', 'params.qa.n_shot', 'params.run', 'params.qa.system_prompt', 'params.qa.few_shot_examples'])"
      ]
     },
     "execution_count": 48,
     "metadata": {},
     "output_type": "execute_result"
    }
   ],
   "source": [
    "target_params = exp_configs[0].keys()\n",
    "target_params"
   ]
  },
  {
   "cell_type": "code",
   "execution_count": 49,
   "metadata": {},
   "outputs": [
    {
     "name": "stdout",
     "output_type": "stream",
     "text": [
      "14 experiments\n"
     ]
    },
    {
     "data": {
      "text/plain": [
       "{'id': 'workspace',\n",
       " 'name': None,\n",
       " 'params.dataset.path': 'bdsaglam/musique-sweep',\n",
       " 'params.dataset.name': 'answerable',\n",
       " 'params.dataset.split': 'train',\n",
       " 'params.qa.model': 'llama-3-70b-tgi',\n",
       " 'params.qa.temperature': 0.5,\n",
       " 'params.qa.system_prompt': 'ccot/format-thought.txt',\n",
       " 'params.qa.user_prompt_template': 'cq.txt',\n",
       " 'params.qa.few_shot_examples': 'manual/ccot.json',\n",
       " 'params.qa.n_shot': 2,\n",
       " 'params.run': 1,\n",
       " 'metrics.exact_match': 0.6533333333,\n",
       " 'metrics.f1': 0.7498126503,\n",
       " 'metrics.2hops.exact_match': 0.74,\n",
       " 'metrics.2hops.f1': 0.8350714286,\n",
       " 'metrics.3hops.exact_match': 0.61,\n",
       " 'metrics.3hops.f1': 0.7027950938,\n",
       " 'metrics.4hops.exact_match': 0.61,\n",
       " 'metrics.4hops.f1': 0.7115714286,\n",
       " 'metrics.gen_token_count.all.count': 300.0,\n",
       " 'metrics.gen_token_count.all.mean': 46.4966666667,\n",
       " 'metrics.gen_token_count.all.std': 13.9465051384,\n",
       " 'metrics.gen_token_count.all.min': 16.0,\n",
       " 'metrics.gen_token_count.all.25%': 36.0,\n",
       " 'metrics.gen_token_count.all.50%': 45.0,\n",
       " 'metrics.gen_token_count.all.75%': 53.0,\n",
       " 'metrics.gen_token_count.all.max': 113.0,\n",
       " 'metrics.gen_token_count.success.count': 223.0,\n",
       " 'metrics.gen_token_count.success.mean': 44.533632287,\n",
       " 'metrics.gen_token_count.success.std': 12.5061242219,\n",
       " 'metrics.gen_token_count.success.min': 16.0,\n",
       " 'metrics.gen_token_count.success.25%': 35.0,\n",
       " 'metrics.gen_token_count.success.50%': 44.0,\n",
       " 'metrics.gen_token_count.success.75%': 51.5,\n",
       " 'metrics.gen_token_count.success.max': 83.0,\n",
       " 'metrics.gen_token_count.fail.count': 77.0,\n",
       " 'metrics.gen_token_count.fail.mean': 52.1818181818,\n",
       " 'metrics.gen_token_count.fail.std': 16.2575709268,\n",
       " 'metrics.gen_token_count.fail.min': 23.0,\n",
       " 'metrics.gen_token_count.fail.25%': 42.0,\n",
       " 'metrics.gen_token_count.fail.50%': 49.0,\n",
       " 'metrics.gen_token_count.fail.75%': 61.0,\n",
       " 'metrics.gen_token_count.fail.max': 113.0,\n",
       " 'params.qa.technique': 'ccot'}"
      ]
     },
     "execution_count": 49,
     "metadata": {},
     "output_type": "execute_result"
    }
   ],
   "source": [
    "results_path = Path(\"exps.jsonl\")\n",
    "if results_path.exists():\n",
    "    with open(results_path) as f:\n",
    "        experiments = [json.loads(line) for line in f]\n",
    "else:\n",
    "    experiments = []\n",
    "\n",
    "print(f\"{len(experiments)} experiments\")\n",
    "next(iter(experiments), None)"
   ]
  },
  {
   "cell_type": "code",
   "execution_count": 50,
   "metadata": {},
   "outputs": [
    {
     "name": "stdout",
     "output_type": "stream",
     "text": [
      "13 experiments after preprocessing\n"
     ]
    }
   ],
   "source": [
    "df = pd.DataFrame(experiments)\n",
    "\n",
    "param_cols = [col for col in df.columns if col.startswith(\"params.\")]\n",
    "metric_cols = [col for col in df.columns if col.startswith(\"metrics.\")]\n",
    "\n",
    "df.dropna(subset=param_cols, inplace=True, how=\"any\")\n",
    "df.drop_duplicates(subset=param_cols, inplace=True)\n",
    "\n",
    "print(f\"{len(df)} experiments after preprocessing\")"
   ]
  },
  {
   "cell_type": "code",
   "execution_count": 51,
   "metadata": {},
   "outputs": [
    {
     "data": {
      "text/plain": [
       "{'params.dataset.path': 'bdsaglam/musique-sweep',\n",
       " 'params.dataset.split': 'train',\n",
       " 'params.qa.temperature': 0.5,\n",
       " 'params.qa.user_prompt_template': 'cq.txt',\n",
       " 'params.qa.n_shot': 2,\n",
       " 'params.run': 1,\n",
       " 'params.qa.system_prompt': 'ccot/format-thought.txt',\n",
       " 'params.qa.few_shot_examples': 'manual/ccot.json'}"
      ]
     },
     "execution_count": 51,
     "metadata": {},
     "output_type": "execute_result"
    }
   ],
   "source": [
    "existing_configs = df[target_params].to_dict(orient=\"records\")\n",
    "existing_configs[0]"
   ]
  },
  {
   "cell_type": "code",
   "execution_count": 52,
   "metadata": {},
   "outputs": [
    {
     "data": {
      "text/plain": [
       "['params.dataset.path',\n",
       " 'params.dataset.split',\n",
       " 'params.qa.temperature',\n",
       " 'params.qa.user_prompt_template',\n",
       " 'params.qa.n_shot',\n",
       " 'params.qa.system_prompt',\n",
       " 'params.qa.few_shot_examples']"
      ]
     },
     "execution_count": 52,
     "metadata": {},
     "output_type": "execute_result"
    }
   ],
   "source": [
    "target_params = list({**common_params, **params_records[0]}.keys())\n",
    "target_params.remove(\"params.run\")\n",
    "target_params"
   ]
  },
  {
   "cell_type": "code",
   "execution_count": 53,
   "metadata": {},
   "outputs": [
    {
     "name": "stdout",
     "output_type": "stream",
     "text": [
      "2 missing configurations\n"
     ]
    },
    {
     "data": {
      "text/plain": [
       "{'params.dataset.path': 'bdsaglam/musique-sweep',\n",
       " 'params.dataset.split': 'train',\n",
       " 'params.qa.few_shot_examples': 'manual/ccot.json',\n",
       " 'params.qa.n_shot': 1,\n",
       " 'params.qa.system_prompt': 'ccot/format-thought.txt',\n",
       " 'params.qa.temperature': 0.5,\n",
       " 'params.qa.user_prompt_template': 'cq.txt',\n",
       " 'params.run': 1}"
      ]
     },
     "execution_count": 53,
     "metadata": {},
     "output_type": "execute_result"
    }
   ],
   "source": [
    "# find the missing configurations\n",
    "missing_configs = [\n",
    "    dict(kv)\n",
    "    for kv in list(\n",
    "        {tuple(sorted(config.items())) for config in exp_configs}\n",
    "        - {tuple(sorted(config.items())) for config in existing_configs}\n",
    "    )\n",
    "]\n",
    "print(f\"{len(missing_configs)} missing configurations\")\n",
    "next(iter(missing_configs), None)\n"
   ]
  },
  {
   "cell_type": "code",
   "execution_count": 54,
   "metadata": {},
   "outputs": [],
   "source": [
    "def make_command(exp_config):\n",
    "    run = exp_config[\"params.run\"]\n",
    "    lines = [\"dvc exp run --queue\", f\"-S run={run}\"]\n",
    "    for target_param in target_params:\n",
    "        arg_name = target_param.split(\".\", 1)[-1]\n",
    "        arg_value = exp_config[target_param]\n",
    "        lines.append(f\"-S {arg_name}='{arg_value}'\")\n",
    "\n",
    "    command = \" \\\\\\n    \".join(lines)\n",
    "    return command"
   ]
  },
  {
   "cell_type": "code",
   "execution_count": 55,
   "metadata": {},
   "outputs": [],
   "source": [
    "with open(\"run.sh\", \"w\") as f:\n",
    "    f.write(\"#!/bin/sh\\n\")\n",
    "    for exp_config in missing_configs:\n",
    "        f.write(make_command(exp_config))\n",
    "        f.write(\"\\n\\n\")"
   ]
  },
  {
   "cell_type": "code",
   "execution_count": null,
   "metadata": {},
   "outputs": [],
   "source": []
  }
 ],
 "metadata": {
  "kernelspec": {
   "display_name": "thesis",
   "language": "python",
   "name": "python3"
  },
  "language_info": {
   "codemirror_mode": {
    "name": "ipython",
    "version": 3
   },
   "file_extension": ".py",
   "mimetype": "text/x-python",
   "name": "python",
   "nbconvert_exporter": "python",
   "pygments_lexer": "ipython3",
   "version": "3.10.16"
  }
 },
 "nbformat": 4,
 "nbformat_minor": 2
}
