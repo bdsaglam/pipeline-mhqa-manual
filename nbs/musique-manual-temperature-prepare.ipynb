{
 "cells": [
  {
   "cell_type": "code",
   "execution_count": 13,
   "metadata": {},
   "outputs": [],
   "source": [
    "import json\n",
    "import numpy as np\n",
    "import pandas as pd \n",
    "import matplotlib.pyplot as plt"
   ]
  },
  {
   "cell_type": "code",
   "execution_count": 14,
   "metadata": {},
   "outputs": [
    {
     "name": "stdout",
     "output_type": "stream",
     "text": [
      "843 experiments\n"
     ]
    },
    {
     "data": {
      "text/plain": [
       "{'commit': 'workspace',\n",
       " 'id': 'workspace',\n",
       " 'name': None,\n",
       " 'params': {'dataset': {'path': 'bdsaglam/musique',\n",
       "   'name': 'answerable',\n",
       "   'split': 'validation'},\n",
       "  'qa': {'model': 'llama-3-70b-tgi',\n",
       "   'temperature': 0.1,\n",
       "   'system_prompt': 'no-role.txt',\n",
       "   'user_prompt_template': 'cq.txt',\n",
       "   'few_shot_examples': 'empty.json'},\n",
       "  'run': 1},\n",
       " 'metrics': {}}"
      ]
     },
     "execution_count": 14,
     "metadata": {},
     "output_type": "execute_result"
    }
   ],
   "source": [
    "from bellem.dvc.experiment import load_experiments\n",
    "\n",
    "filenames = [\n",
    "    \"temperature-sweep-1.json\",\n",
    "    \"temperature-sweep-2.json\",\n",
    "    \"temperature-sweep-3.json\",\n",
    "    \"temperature-sweep-4.json\",\n",
    "]\n",
    "\n",
    "experiments = [exp for filename in filenames for exp in load_experiments(filename)]\n",
    "print(f\"{len(experiments)} experiments\")\n",
    "experiments[0]"
   ]
  },
  {
   "cell_type": "code",
   "execution_count": 15,
   "metadata": {},
   "outputs": [
    {
     "name": "stdout",
     "output_type": "stream",
     "text": [
      "381 experiments after preprocessing\n"
     ]
    }
   ],
   "source": [
    "df = pd.json_normalize(experiments).drop(columns=[\"commit\", \"id\", \"name\"])\n",
    "mask = (df[\"params.dataset.path\"] == \"bdsaglam/musique\") & (\n",
    "    df[\"params.qa.system_prompt\"] != \"no-role.txt\"\n",
    ")\n",
    "df = df.loc[mask].copy()\n",
    "df.drop(columns=[col for col in df.columns if \"fuzzy\" in col], inplace=True)\n",
    "\n",
    "param_cols = [col for col in df.columns if col.startswith(\"params.\")]\n",
    "metric_cols = [col for col in df.columns if col.startswith(\"metrics.\")]\n",
    "df.dropna(subset=param_cols + metric_cols, inplace=True, how=\"any\")\n",
    "df.drop_duplicates(subset=param_cols, inplace=True)\n",
    "\n",
    "print(f\"{len(df)} experiments after preprocessing\")"
   ]
  },
  {
   "cell_type": "code",
   "execution_count": 16,
   "metadata": {},
   "outputs": [],
   "source": [
    "def parse_qa_technique(system_prompt_filename):\n",
    "    if \"cte\" in system_prompt_filename:\n",
    "        return \"CTE\"\n",
    "    if \"cot\" in system_prompt_filename:\n",
    "        return \"COT\"\n",
    "    return \"Standard\"\n",
    "\n",
    "df[\"params.qa.technique\"] = df[\"params.qa.system_prompt\"].map(parse_qa_technique)"
   ]
  },
  {
   "cell_type": "code",
   "execution_count": 17,
   "metadata": {},
   "outputs": [],
   "source": [
    "import re\n",
    "\n",
    "def parse_n_shot(x):\n",
    "    if 'empty' in x:\n",
    "        return 0\n",
    "    # match the digit in the string\n",
    "    x = re.search(r'\\d+', x).group()\n",
    "    return int(x)\n",
    "\n",
    "assert parse_n_shot('empty.json') == 0\n",
    "assert parse_n_shot('cot-2-shot.json') == 2"
   ]
  },
  {
   "cell_type": "code",
   "execution_count": 18,
   "metadata": {},
   "outputs": [],
   "source": [
    "df['params.qa.n_shot'] = df['params.qa.few_shot_examples'].map(parse_n_shot)"
   ]
  },
  {
   "cell_type": "code",
   "execution_count": 19,
   "metadata": {},
   "outputs": [],
   "source": [
    "def remove_ext(filename):\n",
    "    return filename.replace(\".txt\", \"\")\n",
    "\n",
    "df[\"params.qa.system_prompt\"] = df[\"params.qa.system_prompt\"].map(remove_ext)\n",
    "df[\"params.qa.user_prompt_template\"] = df[\"params.qa.user_prompt_template\"].map(remove_ext)"
   ]
  },
  {
   "cell_type": "code",
   "execution_count": 28,
   "metadata": {},
   "outputs": [
    {
     "data": {
      "text/html": [
       "<div>\n",
       "<style scoped>\n",
       "    .dataframe tbody tr th:only-of-type {\n",
       "        vertical-align: middle;\n",
       "    }\n",
       "\n",
       "    .dataframe tbody tr th {\n",
       "        vertical-align: top;\n",
       "    }\n",
       "\n",
       "    .dataframe thead th {\n",
       "        text-align: right;\n",
       "    }\n",
       "</style>\n",
       "<table border=\"1\" class=\"dataframe\">\n",
       "  <thead>\n",
       "    <tr style=\"text-align: right;\">\n",
       "      <th></th>\n",
       "      <th>params.qa.system_prompt</th>\n",
       "      <th>params.qa.user_prompt_template</th>\n",
       "      <th>params.qa.few_shot_examples</th>\n",
       "      <th>params.qa.temperature</th>\n",
       "      <th>params.run</th>\n",
       "    </tr>\n",
       "  </thead>\n",
       "  <tbody>\n",
       "    <tr>\n",
       "      <th>37</th>\n",
       "      <td>cte/excellent-format-few</td>\n",
       "      <td>cq</td>\n",
       "      <td>empty.json</td>\n",
       "      <td>1.0</td>\n",
       "      <td>(2, 3)</td>\n",
       "    </tr>\n",
       "    <tr>\n",
       "      <th>39</th>\n",
       "      <td>cte/excellent-format-few</td>\n",
       "      <td>cq</td>\n",
       "      <td>empty.json</td>\n",
       "      <td>2.0</td>\n",
       "      <td>(1, 2)</td>\n",
       "    </tr>\n",
       "    <tr>\n",
       "      <th>53</th>\n",
       "      <td>cte/format-few</td>\n",
       "      <td>cq</td>\n",
       "      <td>empty.json</td>\n",
       "      <td>1.0</td>\n",
       "      <td>(1, 3)</td>\n",
       "    </tr>\n",
       "  </tbody>\n",
       "</table>\n",
       "</div>"
      ],
      "text/plain": [
       "     params.qa.system_prompt params.qa.user_prompt_template  \\\n",
       "37  cte/excellent-format-few                             cq   \n",
       "39  cte/excellent-format-few                             cq   \n",
       "53            cte/format-few                             cq   \n",
       "\n",
       "   params.qa.few_shot_examples  params.qa.temperature params.run  \n",
       "37                  empty.json                    1.0     (2, 3)  \n",
       "39                  empty.json                    2.0     (1, 2)  \n",
       "53                  empty.json                    1.0     (1, 3)  "
      ]
     },
     "execution_count": 28,
     "metadata": {},
     "output_type": "execute_result"
    }
   ],
   "source": [
    "def sorted_tuple(x):\n",
    "    return tuple(sorted(x))\n",
    "\n",
    "run_counts = (\n",
    "    df.groupby([\"params.qa.system_prompt\", \"params.qa.user_prompt_template\", \"params.qa.few_shot_examples\", \"params.qa.temperature\"])[\n",
    "        \"params.run\"\n",
    "    ]\n",
    "    .aggregate(sorted_tuple)\n",
    "    .reset_index()\n",
    ")\n",
    "run_counts.loc[run_counts[\"params.run\"].map(len) < 3]"
   ]
  },
  {
   "cell_type": "code",
   "execution_count": 29,
   "metadata": {},
   "outputs": [
    {
     "data": {
      "text/html": [
       "<div>\n",
       "<style scoped>\n",
       "    .dataframe tbody tr th:only-of-type {\n",
       "        vertical-align: middle;\n",
       "    }\n",
       "\n",
       "    .dataframe tbody tr th {\n",
       "        vertical-align: top;\n",
       "    }\n",
       "\n",
       "    .dataframe thead th {\n",
       "        text-align: right;\n",
       "    }\n",
       "</style>\n",
       "<table border=\"1\" class=\"dataframe\">\n",
       "  <thead>\n",
       "    <tr style=\"text-align: right;\">\n",
       "      <th></th>\n",
       "      <th>params.qa.system_prompt</th>\n",
       "      <th>params.qa.user_prompt_template</th>\n",
       "      <th>params.qa.few_shot_examples</th>\n",
       "      <th>params.qa.temperature</th>\n",
       "      <th>params.run</th>\n",
       "    </tr>\n",
       "  </thead>\n",
       "  <tbody>\n",
       "  </tbody>\n",
       "</table>\n",
       "</div>"
      ],
      "text/plain": [
       "Empty DataFrame\n",
       "Columns: [params.qa.system_prompt, params.qa.user_prompt_template, params.qa.few_shot_examples, params.qa.temperature, params.run]\n",
       "Index: []"
      ]
     },
     "execution_count": 29,
     "metadata": {},
     "output_type": "execute_result"
    }
   ],
   "source": [
    "run_counts.loc[run_counts[\"params.run\"].map(len) > 3]"
   ]
  },
  {
   "cell_type": "code",
   "execution_count": 30,
   "metadata": {},
   "outputs": [
    {
     "name": "stdout",
     "output_type": "stream",
     "text": [
      "# params.qa.system_prompt\n",
      "['cot/excellent-format-reasoning' 'cot/format-minimal'\n",
      " 'cot/format-reasoning' 'cot/format-think' 'cte/excellent-format-few'\n",
      " 'cte/excellent-format-fewest' 'cte/format-few' 'cte/format-relevant-few'\n",
      " 'standard/excellent-few' 'standard/excellent-fewest'\n",
      " 'standard/helpful-output-format-few' 'standard/minimal'\n",
      " 'standard/minimal-output-format' 'standard/minimal-output-format-few'\n",
      " 'standard/minimal-output-format-few-no-prio'\n",
      " 'standard/minimal-output-format-fewest']\n",
      "# params.qa.user_prompt_template\n",
      "['cq']\n",
      "# params.qa.few_shot_examples\n",
      "['empty.json']\n",
      "# params.qa.temperature\n",
      "[0.  0.1 0.3 0.5 0.7 1.  1.5 2. ]\n",
      "# params.run\n",
      "[(1, 2, 3) (2, 3) (1, 2) (1, 3)]\n"
     ]
    }
   ],
   "source": [
    "for col in run_counts.columns:\n",
    "    print(f\"# {col}\")\n",
    "    print(run_counts[col].unique())"
   ]
  },
  {
   "cell_type": "code",
   "execution_count": 22,
   "metadata": {},
   "outputs": [],
   "source": [
    "df.to_json('temperature-sweep.jsonl', orient='records', lines=True)"
   ]
  }
 ],
 "metadata": {
  "kernelspec": {
   "display_name": "thesis",
   "language": "python",
   "name": "python3"
  },
  "language_info": {
   "codemirror_mode": {
    "name": "ipython",
    "version": 3
   },
   "file_extension": ".py",
   "mimetype": "text/x-python",
   "name": "python",
   "nbconvert_exporter": "python",
   "pygments_lexer": "ipython3",
   "version": "3.10.16"
  }
 },
 "nbformat": 4,
 "nbformat_minor": 2
}
