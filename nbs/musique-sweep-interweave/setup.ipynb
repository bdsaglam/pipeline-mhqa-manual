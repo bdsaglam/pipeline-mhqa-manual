{
 "cells": [
  {
   "cell_type": "code",
   "execution_count": 14,
   "metadata": {},
   "outputs": [],
   "source": [
    "import itertools\n",
    "import json\n",
    "from pathlib import Path\n",
    "\n",
    "import pandas as pd"
   ]
  },
  {
   "cell_type": "code",
   "execution_count": 15,
   "metadata": {},
   "outputs": [],
   "source": [
    "def product_experiment_configs(params_record):\n",
    "    # Generate all possible combinations of parameters\n",
    "    keys = params_record.keys()\n",
    "    values = params_record.values()\n",
    "    for instance in itertools.product(*values):\n",
    "        yield dict(zip(keys, instance))"
   ]
  },
  {
   "cell_type": "code",
   "execution_count": 16,
   "metadata": {},
   "outputs": [
    {
     "name": "stdout",
     "output_type": "stream",
     "text": [
      "540 experiment configurations\n"
     ]
    }
   ],
   "source": [
    "common_params = {\n",
    "    \"params.dataset.path\": [\"bdsaglam/musique-sweep\"],\n",
    "    \"params.dataset.split\": [\"train\"],\n",
    "    \"params.qa.temperature\": [0.1, 0.5, 0.7, 1.0, 1.5],\n",
    "    \"params.qa.user_prompt_template\": [\"cq.txt\"],\n",
    "    \"params.qa.n_shot\": [0, 1, 2, 3, 6, 9],\n",
    "    \"params.run\": [1, 2, 3],\n",
    "}\n",
    "params_records = [\n",
    "    {\n",
    "        \"params.qa.system_prompt\": [\n",
    "            \"direct/format-few.txt\",\n",
    "            \"direct/excellent-format-few.txt\",\n",
    "        ],\n",
    "        \"params.qa.few_shot_examples\": [\"auto-interweave/direct.json\"],\n",
    "    },\n",
    "    {\n",
    "        \"params.qa.system_prompt\": [\n",
    "            \"cot/format-thought.txt\",\n",
    "            \"cot/excellent-format-thought.txt\",\n",
    "        ],\n",
    "        \"params.qa.few_shot_examples\": [\"auto-interweave/cot.json\"],\n",
    "    },\n",
    "    {\n",
    "        \"params.qa.system_prompt\": [\n",
    "            \"ccot/format-thought.txt\",\n",
    "            \"ccot/excellent-format-thought.txt\",\n",
    "        ],\n",
    "        \"params.qa.few_shot_examples\": [\"auto-interweave/ccot.json\"],\n",
    "    },\n",
    "    # {\n",
    "    #     \"params.qa.system_prompt\": [\n",
    "    #         \"cte/format-triplets-few.txt\",\n",
    "    #         \"cte/excellent-format-triplets-few.txt\",\n",
    "    #     ],\n",
    "    #     \"params.qa.few_shot_examples\": [\"auto-interweave/cte.json\"],\n",
    "    # },\n",
    "]\n",
    "\n",
    "exp_configs = [\n",
    "    exp_config\n",
    "    for params_record in params_records\n",
    "    for exp_config in product_experiment_configs({**common_params, **params_record})\n",
    "]\n",
    "print(f\"{len(exp_configs)} experiment configurations\")"
   ]
  },
  {
   "cell_type": "code",
   "execution_count": 17,
   "metadata": {},
   "outputs": [
    {
     "data": {
      "text/plain": [
       "dict_keys(['params.dataset.path', 'params.dataset.split', 'params.qa.temperature', 'params.qa.user_prompt_template', 'params.qa.n_shot', 'params.run', 'params.qa.system_prompt', 'params.qa.few_shot_examples'])"
      ]
     },
     "execution_count": 17,
     "metadata": {},
     "output_type": "execute_result"
    }
   ],
   "source": [
    "target_params = exp_configs[0].keys()\n",
    "target_params"
   ]
  },
  {
   "cell_type": "code",
   "execution_count": 18,
   "metadata": {},
   "outputs": [
    {
     "name": "stdout",
     "output_type": "stream",
     "text": [
      "499 experiments\n"
     ]
    },
    {
     "data": {
      "text/plain": [
       "{'id': '402ac0f6ae24febd83b5d3889c958f02114ce7a5',\n",
       " 'name': 'oiled-lulu',\n",
       " 'params.dataset.path': 'bdsaglam/musique-sweep',\n",
       " 'params.dataset.name': 'answerable',\n",
       " 'params.dataset.split': 'train',\n",
       " 'params.qa.model': 'llama-3-70b-tgi',\n",
       " 'params.qa.temperature': 1.5,\n",
       " 'params.qa.system_prompt': 'cot/excellent-format-thought.txt',\n",
       " 'params.qa.user_prompt_template': 'cq.txt',\n",
       " 'params.qa.few_shot_examples': 'auto-interweave/cot.json',\n",
       " 'params.qa.n_shot': 9,\n",
       " 'params.run': 3,\n",
       " 'metrics.exact_match': 0.0033333333,\n",
       " 'metrics.f1': 0.0047530612,\n",
       " 'metrics.2hops.exact_match': 0.01,\n",
       " 'metrics.2hops.f1': 0.0100122699,\n",
       " 'metrics.3hops.exact_match': 0.0,\n",
       " 'metrics.3hops.f1': 0.0,\n",
       " 'metrics.4hops.exact_match': 0.0,\n",
       " 'metrics.4hops.f1': 0.0042469136,\n",
       " 'metrics.gen_token_count.all.count': 300.0,\n",
       " 'metrics.gen_token_count.all.mean': 182.0866666667,\n",
       " 'metrics.gen_token_count.all.std': 493.3772419069,\n",
       " 'metrics.gen_token_count.all.min': 0.0,\n",
       " 'metrics.gen_token_count.all.25%': 7.0,\n",
       " 'metrics.gen_token_count.all.50%': 22.0,\n",
       " 'metrics.gen_token_count.all.75%': 71.0,\n",
       " 'metrics.gen_token_count.all.max': 3784.0,\n",
       " 'metrics.gen_token_count.success.count': 1.0,\n",
       " 'metrics.gen_token_count.success.mean': 59.0,\n",
       " 'metrics.gen_token_count.success.std': None,\n",
       " 'metrics.gen_token_count.success.min': 59.0,\n",
       " 'metrics.gen_token_count.success.25%': 59.0,\n",
       " 'metrics.gen_token_count.success.50%': 59.0,\n",
       " 'metrics.gen_token_count.success.75%': 59.0,\n",
       " 'metrics.gen_token_count.success.max': 59.0,\n",
       " 'metrics.gen_token_count.fail.count': 299.0,\n",
       " 'metrics.gen_token_count.fail.mean': 182.4983277592,\n",
       " 'metrics.gen_token_count.fail.std': 494.1527517998,\n",
       " 'metrics.gen_token_count.fail.min': 0.0,\n",
       " 'metrics.gen_token_count.fail.25%': 7.0,\n",
       " 'metrics.gen_token_count.fail.50%': 22.0,\n",
       " 'metrics.gen_token_count.fail.75%': 73.0,\n",
       " 'metrics.gen_token_count.fail.max': 3784.0,\n",
       " 'params.qa.technique': 'cot'}"
      ]
     },
     "execution_count": 18,
     "metadata": {},
     "output_type": "execute_result"
    }
   ],
   "source": [
    "results_path = Path(\"results.jsonl\")\n",
    "if results_path.exists():\n",
    "    with open(results_path) as f:\n",
    "        experiments = [json.loads(line) for line in f]\n",
    "else:\n",
    "    experiments = []\n",
    "\n",
    "print(f\"{len(experiments)} experiments\")\n",
    "next(iter(experiments), None)"
   ]
  },
  {
   "cell_type": "code",
   "execution_count": 19,
   "metadata": {},
   "outputs": [
    {
     "name": "stdout",
     "output_type": "stream",
     "text": [
      "491 experiments after preprocessing\n"
     ]
    }
   ],
   "source": [
    "df = pd.DataFrame(experiments)\n",
    "\n",
    "param_cols = [col for col in df.columns if col.startswith(\"params.\")]\n",
    "metric_cols = [col for col in df.columns if col.startswith(\"metrics.\")]\n",
    "\n",
    "df.dropna(subset=param_cols, inplace=True, how=\"any\")\n",
    "df.drop_duplicates(subset=param_cols, inplace=True)\n",
    "\n",
    "print(f\"{len(df)} experiments after preprocessing\")"
   ]
  },
  {
   "cell_type": "code",
   "execution_count": 20,
   "metadata": {},
   "outputs": [
    {
     "data": {
      "text/plain": [
       "{'params.dataset.path': 'bdsaglam/musique-sweep',\n",
       " 'params.dataset.split': 'train',\n",
       " 'params.qa.temperature': 1.5,\n",
       " 'params.qa.user_prompt_template': 'cq.txt',\n",
       " 'params.qa.n_shot': 9,\n",
       " 'params.run': 3,\n",
       " 'params.qa.system_prompt': 'cot/excellent-format-thought.txt',\n",
       " 'params.qa.few_shot_examples': 'auto-interweave/cot.json'}"
      ]
     },
     "execution_count": 20,
     "metadata": {},
     "output_type": "execute_result"
    }
   ],
   "source": [
    "existing_configs = df[target_params].to_dict(orient=\"records\")\n",
    "existing_configs[0]"
   ]
  },
  {
   "cell_type": "code",
   "execution_count": 21,
   "metadata": {},
   "outputs": [
    {
     "data": {
      "text/plain": [
       "['params.dataset.path',\n",
       " 'params.dataset.split',\n",
       " 'params.qa.temperature',\n",
       " 'params.qa.user_prompt_template',\n",
       " 'params.qa.n_shot',\n",
       " 'params.qa.system_prompt',\n",
       " 'params.qa.few_shot_examples']"
      ]
     },
     "execution_count": 21,
     "metadata": {},
     "output_type": "execute_result"
    }
   ],
   "source": [
    "target_params = list({**common_params, **params_records[0]}.keys())\n",
    "target_params.remove(\"params.run\")\n",
    "target_params"
   ]
  },
  {
   "cell_type": "code",
   "execution_count": 22,
   "metadata": {},
   "outputs": [
    {
     "data": {
      "text/html": [
       "<div>\n",
       "<style scoped>\n",
       "    .dataframe tbody tr th:only-of-type {\n",
       "        vertical-align: middle;\n",
       "    }\n",
       "\n",
       "    .dataframe tbody tr th {\n",
       "        vertical-align: top;\n",
       "    }\n",
       "\n",
       "    .dataframe thead th {\n",
       "        text-align: right;\n",
       "    }\n",
       "</style>\n",
       "<table border=\"1\" class=\"dataframe\">\n",
       "  <thead>\n",
       "    <tr style=\"text-align: right;\">\n",
       "      <th></th>\n",
       "      <th>params.dataset.path</th>\n",
       "      <th>params.dataset.split</th>\n",
       "      <th>params.qa.temperature</th>\n",
       "      <th>params.qa.user_prompt_template</th>\n",
       "      <th>params.qa.n_shot</th>\n",
       "      <th>params.qa.system_prompt</th>\n",
       "      <th>params.qa.few_shot_examples</th>\n",
       "      <th>params.run</th>\n",
       "    </tr>\n",
       "  </thead>\n",
       "  <tbody>\n",
       "    <tr>\n",
       "      <th>0</th>\n",
       "      <td>bdsaglam/musique-sweep</td>\n",
       "      <td>train</td>\n",
       "      <td>0.1</td>\n",
       "      <td>cq.txt</td>\n",
       "      <td>0</td>\n",
       "      <td>ccot/excellent-format-thought.txt</td>\n",
       "      <td>auto-interweave/ccot.json</td>\n",
       "      <td>(2,)</td>\n",
       "    </tr>\n",
       "    <tr>\n",
       "      <th>2</th>\n",
       "      <td>bdsaglam/musique-sweep</td>\n",
       "      <td>train</td>\n",
       "      <td>0.1</td>\n",
       "      <td>cq.txt</td>\n",
       "      <td>0</td>\n",
       "      <td>cot/format-thought.txt</td>\n",
       "      <td>auto-interweave/cot.json</td>\n",
       "      <td>(1, 3)</td>\n",
       "    </tr>\n",
       "    <tr>\n",
       "      <th>3</th>\n",
       "      <td>bdsaglam/musique-sweep</td>\n",
       "      <td>train</td>\n",
       "      <td>0.1</td>\n",
       "      <td>cq.txt</td>\n",
       "      <td>0</td>\n",
       "      <td>cte/excellent-format-triplets-few.txt</td>\n",
       "      <td>auto-interweave/cte.json</td>\n",
       "      <td>(1,)</td>\n",
       "    </tr>\n",
       "    <tr>\n",
       "      <th>6</th>\n",
       "      <td>bdsaglam/musique-sweep</td>\n",
       "      <td>train</td>\n",
       "      <td>0.1</td>\n",
       "      <td>cq.txt</td>\n",
       "      <td>1</td>\n",
       "      <td>ccot/excellent-format-thought.txt</td>\n",
       "      <td>auto-interweave/ccot.json</td>\n",
       "      <td>(1, 3)</td>\n",
       "    </tr>\n",
       "    <tr>\n",
       "      <th>7</th>\n",
       "      <td>bdsaglam/musique-sweep</td>\n",
       "      <td>train</td>\n",
       "      <td>0.1</td>\n",
       "      <td>cq.txt</td>\n",
       "      <td>1</td>\n",
       "      <td>ccot/format-thought.txt</td>\n",
       "      <td>auto-interweave/ccot.json</td>\n",
       "      <td>(1,)</td>\n",
       "    </tr>\n",
       "    <tr>\n",
       "      <th>...</th>\n",
       "      <td>...</td>\n",
       "      <td>...</td>\n",
       "      <td>...</td>\n",
       "      <td>...</td>\n",
       "      <td>...</td>\n",
       "      <td>...</td>\n",
       "      <td>...</td>\n",
       "      <td>...</td>\n",
       "    </tr>\n",
       "    <tr>\n",
       "      <th>232</th>\n",
       "      <td>bdsaglam/musique-sweep</td>\n",
       "      <td>train</td>\n",
       "      <td>2.0</td>\n",
       "      <td>cq.txt</td>\n",
       "      <td>6</td>\n",
       "      <td>cot/format-thought.txt</td>\n",
       "      <td>auto-interweave/cot.json</td>\n",
       "      <td>(1,)</td>\n",
       "    </tr>\n",
       "    <tr>\n",
       "      <th>233</th>\n",
       "      <td>bdsaglam/musique-sweep</td>\n",
       "      <td>train</td>\n",
       "      <td>2.0</td>\n",
       "      <td>cq.txt</td>\n",
       "      <td>6</td>\n",
       "      <td>direct/excellent-format-few.txt</td>\n",
       "      <td>auto-interweave/direct.json</td>\n",
       "      <td>(2,)</td>\n",
       "    </tr>\n",
       "    <tr>\n",
       "      <th>234</th>\n",
       "      <td>bdsaglam/musique-sweep</td>\n",
       "      <td>train</td>\n",
       "      <td>2.0</td>\n",
       "      <td>cq.txt</td>\n",
       "      <td>9</td>\n",
       "      <td>ccot/excellent-format-thought.txt</td>\n",
       "      <td>auto-interweave/ccot.json</td>\n",
       "      <td>(2,)</td>\n",
       "    </tr>\n",
       "    <tr>\n",
       "      <th>235</th>\n",
       "      <td>bdsaglam/musique-sweep</td>\n",
       "      <td>train</td>\n",
       "      <td>2.0</td>\n",
       "      <td>cq.txt</td>\n",
       "      <td>9</td>\n",
       "      <td>ccot/format-thought.txt</td>\n",
       "      <td>auto-interweave/ccot.json</td>\n",
       "      <td>(2,)</td>\n",
       "    </tr>\n",
       "    <tr>\n",
       "      <th>236</th>\n",
       "      <td>bdsaglam/musique-sweep</td>\n",
       "      <td>train</td>\n",
       "      <td>2.0</td>\n",
       "      <td>cq.txt</td>\n",
       "      <td>9</td>\n",
       "      <td>cot/format-thought.txt</td>\n",
       "      <td>auto-interweave/cot.json</td>\n",
       "      <td>(3,)</td>\n",
       "    </tr>\n",
       "  </tbody>\n",
       "</table>\n",
       "<p>128 rows × 8 columns</p>\n",
       "</div>"
      ],
      "text/plain": [
       "        params.dataset.path params.dataset.split  params.qa.temperature  \\\n",
       "0    bdsaglam/musique-sweep                train                    0.1   \n",
       "2    bdsaglam/musique-sweep                train                    0.1   \n",
       "3    bdsaglam/musique-sweep                train                    0.1   \n",
       "6    bdsaglam/musique-sweep                train                    0.1   \n",
       "7    bdsaglam/musique-sweep                train                    0.1   \n",
       "..                      ...                  ...                    ...   \n",
       "232  bdsaglam/musique-sweep                train                    2.0   \n",
       "233  bdsaglam/musique-sweep                train                    2.0   \n",
       "234  bdsaglam/musique-sweep                train                    2.0   \n",
       "235  bdsaglam/musique-sweep                train                    2.0   \n",
       "236  bdsaglam/musique-sweep                train                    2.0   \n",
       "\n",
       "    params.qa.user_prompt_template  params.qa.n_shot  \\\n",
       "0                           cq.txt                 0   \n",
       "2                           cq.txt                 0   \n",
       "3                           cq.txt                 0   \n",
       "6                           cq.txt                 1   \n",
       "7                           cq.txt                 1   \n",
       "..                             ...               ...   \n",
       "232                         cq.txt                 6   \n",
       "233                         cq.txt                 6   \n",
       "234                         cq.txt                 9   \n",
       "235                         cq.txt                 9   \n",
       "236                         cq.txt                 9   \n",
       "\n",
       "                   params.qa.system_prompt  params.qa.few_shot_examples  \\\n",
       "0        ccot/excellent-format-thought.txt    auto-interweave/ccot.json   \n",
       "2                   cot/format-thought.txt     auto-interweave/cot.json   \n",
       "3    cte/excellent-format-triplets-few.txt     auto-interweave/cte.json   \n",
       "6        ccot/excellent-format-thought.txt    auto-interweave/ccot.json   \n",
       "7                  ccot/format-thought.txt    auto-interweave/ccot.json   \n",
       "..                                     ...                          ...   \n",
       "232                 cot/format-thought.txt     auto-interweave/cot.json   \n",
       "233        direct/excellent-format-few.txt  auto-interweave/direct.json   \n",
       "234      ccot/excellent-format-thought.txt    auto-interweave/ccot.json   \n",
       "235                ccot/format-thought.txt    auto-interweave/ccot.json   \n",
       "236                 cot/format-thought.txt     auto-interweave/cot.json   \n",
       "\n",
       "    params.run  \n",
       "0         (2,)  \n",
       "2       (1, 3)  \n",
       "3         (1,)  \n",
       "6       (1, 3)  \n",
       "7         (1,)  \n",
       "..         ...  \n",
       "232       (1,)  \n",
       "233       (2,)  \n",
       "234       (2,)  \n",
       "235       (2,)  \n",
       "236       (3,)  \n",
       "\n",
       "[128 rows x 8 columns]"
      ]
     },
     "execution_count": 22,
     "metadata": {},
     "output_type": "execute_result"
    }
   ],
   "source": [
    "run_counts = df.groupby(target_params)[\"params.run\"].aggregate(tuple).reset_index()\n",
    "mask = run_counts[\"params.run\"].map(len) != 3\n",
    "run_counts.loc[mask]"
   ]
  },
  {
   "cell_type": "code",
   "execution_count": 23,
   "metadata": {},
   "outputs": [
    {
     "name": "stdout",
     "output_type": "stream",
     "text": [
      "139 missing configurations\n"
     ]
    },
    {
     "data": {
      "text/plain": [
       "{'params.dataset.path': 'bdsaglam/musique-sweep',\n",
       " 'params.dataset.split': 'train',\n",
       " 'params.qa.few_shot_examples': 'auto-interweave/ccot.json',\n",
       " 'params.qa.n_shot': 1,\n",
       " 'params.qa.system_prompt': 'ccot/excellent-format-thought.txt',\n",
       " 'params.qa.temperature': 0.5,\n",
       " 'params.qa.user_prompt_template': 'cq.txt',\n",
       " 'params.run': 1}"
      ]
     },
     "execution_count": 23,
     "metadata": {},
     "output_type": "execute_result"
    }
   ],
   "source": [
    "# find the missing configurations\n",
    "missing_configs = [\n",
    "    dict(kv)\n",
    "    for kv in list(\n",
    "        {tuple(sorted(config.items())) for config in exp_configs}\n",
    "        - {tuple(sorted(config.items())) for config in existing_configs}\n",
    "    )\n",
    "]\n",
    "print(f\"{len(missing_configs)} missing configurations\")\n",
    "next(iter(missing_configs), None)\n"
   ]
  },
  {
   "cell_type": "code",
   "execution_count": 24,
   "metadata": {},
   "outputs": [],
   "source": [
    "def make_command(exp_config):\n",
    "    run = exp_config[\"params.run\"]\n",
    "    lines = [\"dvc exp run --queue\", f\"-S run={run}\"]\n",
    "    for target_param in target_params:\n",
    "        arg_name = target_param.split(\".\", 1)[-1]\n",
    "        arg_value = exp_config[target_param]\n",
    "        lines.append(f\"-S {arg_name}='{arg_value}'\")\n",
    "\n",
    "    command = \" \\\\\\n    \".join(lines)\n",
    "    return command"
   ]
  },
  {
   "cell_type": "code",
   "execution_count": 25,
   "metadata": {},
   "outputs": [],
   "source": [
    "with open(\"run.sh\", \"w\") as f:\n",
    "    f.write(\"#!/bin/sh\\n\")\n",
    "    for exp_config in missing_configs:\n",
    "        f.write(make_command(exp_config))\n",
    "        f.write(\"\\n\\n\")"
   ]
  },
  {
   "cell_type": "code",
   "execution_count": 26,
   "metadata": {},
   "outputs": [],
   "source": [
    "# len([exp for exp in experiments if exp['params.qa.technique'] == 'cte'])"
   ]
  },
  {
   "cell_type": "code",
   "execution_count": null,
   "metadata": {},
   "outputs": [],
   "source": []
  }
 ],
 "metadata": {
  "kernelspec": {
   "display_name": "thesis",
   "language": "python",
   "name": "python3"
  },
  "language_info": {
   "codemirror_mode": {
    "name": "ipython",
    "version": 3
   },
   "file_extension": ".py",
   "mimetype": "text/x-python",
   "name": "python",
   "nbconvert_exporter": "python",
   "pygments_lexer": "ipython3",
   "version": "3.10.16"
  }
 },
 "nbformat": 4,
 "nbformat_minor": 2
}
