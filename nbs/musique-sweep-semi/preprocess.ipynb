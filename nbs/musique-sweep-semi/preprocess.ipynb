{
 "cells": [
  {
   "cell_type": "code",
   "execution_count": 99,
   "metadata": {},
   "outputs": [],
   "source": [
    "import json\n",
    "from pathlib import Path\n",
    "\n",
    "import pandas as pd"
   ]
  },
  {
   "cell_type": "code",
   "execution_count": 100,
   "metadata": {},
   "outputs": [
    {
     "name": "stdout",
     "output_type": "stream",
     "text": [
      "312 experiments\n"
     ]
    },
    {
     "data": {
      "text/plain": [
       "{'commit': 'c9ffff5dd2706e29c13cbc66cd0551cfb9dcdd1b',\n",
       " 'id': '5bf0f42a3be03329be9d148689ff94f29ae6eebe',\n",
       " 'name': 'irate-cons',\n",
       " 'params': {'dataset': {'path': 'bdsaglam/musique-sweep',\n",
       "   'name': 'answerable',\n",
       "   'split': 'train'},\n",
       "  'qa': {'model': 'llama-3-70b-tgi',\n",
       "   'temperature': 0.1,\n",
       "   'system_prompt': 'cot/original.txt',\n",
       "   'user_prompt_template': 'cq.txt',\n",
       "   'few_shot_examples': 'semi/cot-original.json',\n",
       "   'n_shot': 0},\n",
       "  'run': 2},\n",
       " 'metrics': {'exact_match': 0.6033333333333334,\n",
       "  'f1': 0.7033493455861877,\n",
       "  'fuzzy_match': 0.6766666666666666,\n",
       "  '2hops': {'exact_match': 0.71,\n",
       "   'f1': 0.8188099415204678,\n",
       "   'fuzzy_match': 0.81},\n",
       "  '3hops': {'exact_match': 0.58,\n",
       "   'f1': 0.6703333333333333,\n",
       "   'fuzzy_match': 0.64},\n",
       "  '4hops': {'exact_match': 0.52,\n",
       "   'f1': 0.6209047619047618,\n",
       "   'fuzzy_match': 0.58}}}"
      ]
     },
     "execution_count": 100,
     "metadata": {},
     "output_type": "execute_result"
    }
   ],
   "source": [
    "from bellem.dvc.experiment import load_experiments\n",
    "\n",
    "filepaths = list(Path(\"../../tmp/musique-sweep-semi/\").glob(\"*.json\"))\n",
    "experiments = [exp for fp in filepaths for exp in load_experiments(fp)]\n",
    "print(f\"{len(experiments)} experiments\")\n",
    "experiments[1]"
   ]
  },
  {
   "cell_type": "code",
   "execution_count": 101,
   "metadata": {},
   "outputs": [
    {
     "name": "stdout",
     "output_type": "stream",
     "text": [
      "287 experiments after preprocessing\n"
     ]
    }
   ],
   "source": [
    "df = pd.json_normalize(experiments).drop(columns=[\"commit\"])\n",
    "mask = (\n",
    "    (df[\"params.dataset.path\"] == \"bdsaglam/musique-sweep\")  &\n",
    "    (df[\"params.qa.few_shot_examples\"].str.contains(\"semi\")) \n",
    ")\n",
    "\n",
    "df = df.loc[mask].copy()\n",
    "df.drop(columns=[col for col in df.columns if \"fuzzy\" in col], inplace=True)\n",
    "\n",
    "df['params.qa.n_sc'] = df['params.qa.n_sc'].fillna(1)\n",
    "\n",
    "param_cols = [col for col in df.columns if col.startswith(\"params.\")]\n",
    "metric_cols = [col for col in df.columns if col.startswith(\"metrics.\")]\n",
    "df.dropna(subset=metric_cols, inplace=True, how=\"any\")\n",
    "df.drop_duplicates(subset=param_cols + metric_cols, inplace=True)\n",
    "\n",
    "print(f\"{len(df)} experiments after preprocessing\")"
   ]
  },
  {
   "cell_type": "code",
   "execution_count": 102,
   "metadata": {},
   "outputs": [],
   "source": [
    "def parse_qa_technique(row):\n",
    "    base_technique = row[\"params.qa.system_prompt\"].split(\"/\")[0].upper()\n",
    "    sc = row[\"params.qa.n_sc\"]\n",
    "    sc_suffix = f\"-SC{sc}\" if sc > 1 else \"\"\n",
    "    return f\"{base_technique}{sc_suffix}\"\n",
    "\n",
    "df[\"params.qa.technique\"] = df.apply(parse_qa_technique, axis=1)"
   ]
  },
  {
   "cell_type": "code",
   "execution_count": 103,
   "metadata": {},
   "outputs": [
    {
     "data": {
      "text/html": [
       "<div>\n",
       "<style scoped>\n",
       "    .dataframe tbody tr th:only-of-type {\n",
       "        vertical-align: middle;\n",
       "    }\n",
       "\n",
       "    .dataframe tbody tr th {\n",
       "        vertical-align: top;\n",
       "    }\n",
       "\n",
       "    .dataframe thead th {\n",
       "        text-align: right;\n",
       "    }\n",
       "</style>\n",
       "<table border=\"1\" class=\"dataframe\">\n",
       "  <thead>\n",
       "    <tr style=\"text-align: right;\">\n",
       "      <th></th>\n",
       "      <th>params.qa.system_prompt</th>\n",
       "      <th>params.qa.user_prompt_template</th>\n",
       "      <th>params.qa.few_shot_examples</th>\n",
       "      <th>params.qa.n_shot</th>\n",
       "      <th>params.qa.n_sc</th>\n",
       "      <th>params.qa.temperature</th>\n",
       "      <th>params.run</th>\n",
       "    </tr>\n",
       "  </thead>\n",
       "  <tbody>\n",
       "    <tr>\n",
       "      <th>32</th>\n",
       "      <td>cok/adapted.txt</td>\n",
       "      <td>cq.txt</td>\n",
       "      <td>semi/cok.json</td>\n",
       "      <td>2</td>\n",
       "      <td>1.0</td>\n",
       "      <td>0.7</td>\n",
       "      <td>(1, 3)</td>\n",
       "    </tr>\n",
       "  </tbody>\n",
       "</table>\n",
       "</div>"
      ],
      "text/plain": [
       "   params.qa.system_prompt params.qa.user_prompt_template  \\\n",
       "32         cok/adapted.txt                         cq.txt   \n",
       "\n",
       "   params.qa.few_shot_examples  params.qa.n_shot  params.qa.n_sc  \\\n",
       "32               semi/cok.json                 2             1.0   \n",
       "\n",
       "    params.qa.temperature params.run  \n",
       "32                    0.7     (1, 3)  "
      ]
     },
     "execution_count": 103,
     "metadata": {},
     "output_type": "execute_result"
    }
   ],
   "source": [
    "def sorted_tuple(x):\n",
    "    return tuple(sorted(x))\n",
    "\n",
    "\n",
    "run_counts = (\n",
    "    df.groupby(\n",
    "        [\n",
    "            \"params.qa.system_prompt\",\n",
    "            \"params.qa.user_prompt_template\",\n",
    "            \"params.qa.few_shot_examples\",\n",
    "            \"params.qa.n_shot\",\n",
    "            \"params.qa.n_sc\",\n",
    "            \"params.qa.temperature\",\n",
    "        ]\n",
    "    )[\"params.run\"]\n",
    "    .aggregate(sorted_tuple)\n",
    "    .reset_index()\n",
    ")\n",
    "run_counts.loc[run_counts[\"params.run\"].map(len) != 3]"
   ]
  },
  {
   "cell_type": "code",
   "execution_count": 104,
   "metadata": {},
   "outputs": [
    {
     "name": "stdout",
     "output_type": "stream",
     "text": [
      "- params.qa.system_prompt\n",
      "\tccot/format-thought.txt\n",
      "\tccot/original.txt\n",
      "\tcok/adapted.txt\n",
      "\tcok/original.txt\n",
      "\tcot/format-thought.txt\n",
      "\tcot/original.txt\n",
      "\tcte/format-triplets-few.txt\n",
      "\tdirect/format-few.txt\n",
      "- params.qa.user_prompt_template\n",
      "\tcq.txt\n",
      "- params.qa.few_shot_examples\n",
      "\tsemi/ccot.json\n",
      "\tsemi/ccot-original.json\n",
      "\tsemi/cok.json\n",
      "\tsemi/cot.json\n",
      "\tsemi/cot-original.json\n",
      "\tsemi/cte.json\n",
      "\tsemi/direct.json\n",
      "- params.qa.n_shot\n",
      "\t0\n",
      "\t1\n",
      "\t2\n",
      "\t3\n",
      "- params.qa.n_sc\n",
      "\t1.0\n",
      "- params.qa.temperature\n",
      "\t0.1\n",
      "\t0.5\n",
      "\t0.7\n",
      "- params.run\n",
      "\t(1, 2, 3)\n",
      "\t(1, 3)\n"
     ]
    }
   ],
   "source": [
    "for col in run_counts.columns:\n",
    "    print(f\"- {col}\")\n",
    "    for value in run_counts[col].unique():\n",
    "        print(f\"\\t{value}\")"
   ]
  },
  {
   "cell_type": "code",
   "execution_count": 105,
   "metadata": {},
   "outputs": [],
   "source": [
    "df.to_json('exps.jsonl', orient='records', lines=True)"
   ]
  },
  {
   "cell_type": "code",
   "execution_count": null,
   "metadata": {},
   "outputs": [],
   "source": []
  }
 ],
 "metadata": {
  "kernelspec": {
   "display_name": "thesis",
   "language": "python",
   "name": "python3"
  },
  "language_info": {
   "codemirror_mode": {
    "name": "ipython",
    "version": 3
   },
   "file_extension": ".py",
   "mimetype": "text/x-python",
   "name": "python",
   "nbconvert_exporter": "python",
   "pygments_lexer": "ipython3",
   "version": "3.10.16"
  }
 },
 "nbformat": 4,
 "nbformat_minor": 2
}
