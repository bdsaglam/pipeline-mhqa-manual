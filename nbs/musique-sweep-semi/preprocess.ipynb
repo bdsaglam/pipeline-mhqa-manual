{
 "cells": [
  {
   "cell_type": "code",
   "execution_count": 1,
   "metadata": {},
   "outputs": [],
   "source": [
    "import json\n",
    "from pathlib import Path\n",
    "\n",
    "import pandas as pd"
   ]
  },
  {
   "cell_type": "code",
   "execution_count": 2,
   "metadata": {},
   "outputs": [
    {
     "name": "stdout",
     "output_type": "stream",
     "text": [
      "45 experiments\n"
     ]
    },
    {
     "data": {
      "text/plain": [
       "{'commit': 'workspace',\n",
       " 'id': 'workspace',\n",
       " 'name': None,\n",
       " 'params': {'dataset': {'path': 'bdsaglam/musique-sweep',\n",
       "   'name': 'answerable',\n",
       "   'split': 'train'},\n",
       "  'qa': {'model': 'llama-3-70b-tgi',\n",
       "   'temperature': 0.5,\n",
       "   'system_prompt': 'direct/format-few.txt',\n",
       "   'user_prompt_template': 'cq.txt',\n",
       "   'few_shot_examples': 'manual/direct.json',\n",
       "   'n_shot': 0},\n",
       "  'run': 1},\n",
       " 'metrics': {}}"
      ]
     },
     "execution_count": 2,
     "metadata": {},
     "output_type": "execute_result"
    }
   ],
   "source": [
    "from bellem.dvc.experiment import load_experiments\n",
    "\n",
    "filepaths = list(Path(\"../../tmp/musique-sweep-semi/\").glob(\"*.json\"))\n",
    "experiments = [exp for fp in filepaths for exp in load_experiments(fp)]\n",
    "print(f\"{len(experiments)} experiments\")\n",
    "experiments[0]"
   ]
  },
  {
   "cell_type": "code",
   "execution_count": 3,
   "metadata": {},
   "outputs": [
    {
     "name": "stdout",
     "output_type": "stream",
     "text": [
      "27 experiments after preprocessing\n"
     ]
    }
   ],
   "source": [
    "df = pd.json_normalize(experiments).drop(columns=[\"commit\"])\n",
    "mask = (\n",
    "    (df[\"params.dataset.path\"] == \"bdsaglam/musique-sweep\")  &\n",
    "    (df[\"params.qa.few_shot_examples\"].str.contains(\"semi\")) \n",
    ")\n",
    "\n",
    "df = df.loc[mask].copy()\n",
    "df.drop(columns=[col for col in df.columns if \"fuzzy\" in col], inplace=True)\n",
    "\n",
    "param_cols = [col for col in df.columns if col.startswith(\"params.\")]\n",
    "metric_cols = [col for col in df.columns if col.startswith(\"metrics.\")]\n",
    "df.dropna(subset=param_cols, inplace=True, how=\"any\")\n",
    "df.drop_duplicates(subset=param_cols + metric_cols, inplace=True)\n",
    "\n",
    "print(f\"{len(df)} experiments after preprocessing\")"
   ]
  },
  {
   "cell_type": "code",
   "execution_count": 4,
   "metadata": {},
   "outputs": [],
   "source": [
    "def parse_qa_technique(system_prompt_filename):\n",
    "    return system_prompt_filename.split(\"/\")[0]\n",
    "\n",
    "df[\"params.qa.technique\"] = df[\"params.qa.system_prompt\"].map(parse_qa_technique)"
   ]
  },
  {
   "cell_type": "code",
   "execution_count": 5,
   "metadata": {},
   "outputs": [
    {
     "data": {
      "text/html": [
       "<div>\n",
       "<style scoped>\n",
       "    .dataframe tbody tr th:only-of-type {\n",
       "        vertical-align: middle;\n",
       "    }\n",
       "\n",
       "    .dataframe tbody tr th {\n",
       "        vertical-align: top;\n",
       "    }\n",
       "\n",
       "    .dataframe thead th {\n",
       "        text-align: right;\n",
       "    }\n",
       "</style>\n",
       "<table border=\"1\" class=\"dataframe\">\n",
       "  <thead>\n",
       "    <tr style=\"text-align: right;\">\n",
       "      <th></th>\n",
       "      <th>params.qa.system_prompt</th>\n",
       "      <th>params.qa.user_prompt_template</th>\n",
       "      <th>params.qa.few_shot_examples</th>\n",
       "      <th>params.qa.n_shot</th>\n",
       "      <th>params.qa.temperature</th>\n",
       "      <th>params.run</th>\n",
       "    </tr>\n",
       "  </thead>\n",
       "  <tbody>\n",
       "    <tr>\n",
       "      <th>0</th>\n",
       "      <td>ccot/format-thought.txt</td>\n",
       "      <td>cq.txt</td>\n",
       "      <td>semi/ccot.json</td>\n",
       "      <td>0</td>\n",
       "      <td>0.1</td>\n",
       "      <td>(3,)</td>\n",
       "    </tr>\n",
       "    <tr>\n",
       "      <th>2</th>\n",
       "      <td>ccot/original.txt</td>\n",
       "      <td>cq.txt</td>\n",
       "      <td>semi/ccot-original.json</td>\n",
       "      <td>0</td>\n",
       "      <td>0.1</td>\n",
       "      <td>(2, 3)</td>\n",
       "    </tr>\n",
       "    <tr>\n",
       "      <th>4</th>\n",
       "      <td>cot/format-thought.txt</td>\n",
       "      <td>cq.txt</td>\n",
       "      <td>semi/cot.json</td>\n",
       "      <td>0</td>\n",
       "      <td>0.1</td>\n",
       "      <td>(2,)</td>\n",
       "    </tr>\n",
       "    <tr>\n",
       "      <th>6</th>\n",
       "      <td>cot/original.txt</td>\n",
       "      <td>cq.txt</td>\n",
       "      <td>semi/cot-original.json</td>\n",
       "      <td>0</td>\n",
       "      <td>0.1</td>\n",
       "      <td>(3,)</td>\n",
       "    </tr>\n",
       "    <tr>\n",
       "      <th>10</th>\n",
       "      <td>direct/format-few.txt</td>\n",
       "      <td>cq.txt</td>\n",
       "      <td>semi/direct.json</td>\n",
       "      <td>0</td>\n",
       "      <td>0.1</td>\n",
       "      <td>(3,)</td>\n",
       "    </tr>\n",
       "  </tbody>\n",
       "</table>\n",
       "</div>"
      ],
      "text/plain": [
       "    params.qa.system_prompt params.qa.user_prompt_template  \\\n",
       "0   ccot/format-thought.txt                         cq.txt   \n",
       "2         ccot/original.txt                         cq.txt   \n",
       "4    cot/format-thought.txt                         cq.txt   \n",
       "6          cot/original.txt                         cq.txt   \n",
       "10    direct/format-few.txt                         cq.txt   \n",
       "\n",
       "   params.qa.few_shot_examples  params.qa.n_shot  params.qa.temperature  \\\n",
       "0               semi/ccot.json                 0                    0.1   \n",
       "2      semi/ccot-original.json                 0                    0.1   \n",
       "4                semi/cot.json                 0                    0.1   \n",
       "6       semi/cot-original.json                 0                    0.1   \n",
       "10            semi/direct.json                 0                    0.1   \n",
       "\n",
       "   params.run  \n",
       "0        (3,)  \n",
       "2      (2, 3)  \n",
       "4        (2,)  \n",
       "6        (3,)  \n",
       "10       (3,)  "
      ]
     },
     "execution_count": 5,
     "metadata": {},
     "output_type": "execute_result"
    }
   ],
   "source": [
    "def sorted_tuple(x):\n",
    "    return tuple(sorted(x))\n",
    "\n",
    "\n",
    "run_counts = (\n",
    "    df.groupby(\n",
    "        [\n",
    "            \"params.qa.system_prompt\",\n",
    "            \"params.qa.user_prompt_template\",\n",
    "            \"params.qa.few_shot_examples\",\n",
    "            \"params.qa.n_shot\",\n",
    "            \"params.qa.temperature\",\n",
    "        ]\n",
    "    )[\"params.run\"]\n",
    "    .aggregate(sorted_tuple)\n",
    "    .reset_index()\n",
    ")\n",
    "run_counts.loc[run_counts[\"params.run\"].map(len) != 3]"
   ]
  },
  {
   "cell_type": "code",
   "execution_count": 6,
   "metadata": {},
   "outputs": [
    {
     "name": "stdout",
     "output_type": "stream",
     "text": [
      "- params.qa.system_prompt\n",
      "\tccot/format-thought.txt\n",
      "\tccot/original.txt\n",
      "\tcot/format-thought.txt\n",
      "\tcot/original.txt\n",
      "\tcte/format-triplets-few.txt\n",
      "\tdirect/format-few.txt\n",
      "- params.qa.user_prompt_template\n",
      "\tcq.txt\n",
      "- params.qa.few_shot_examples\n",
      "\tsemi/ccot.json\n",
      "\tsemi/ccot-original.json\n",
      "\tsemi/cot.json\n",
      "\tsemi/cot-original.json\n",
      "\tsemi/cte.json\n",
      "\tsemi/direct.json\n",
      "- params.qa.n_shot\n",
      "\t0\n",
      "\t1\n",
      "- params.qa.temperature\n",
      "\t0.1\n",
      "- params.run\n",
      "\t(3,)\n",
      "\t(1, 2, 3)\n",
      "\t(2, 3)\n",
      "\t(2,)\n"
     ]
    }
   ],
   "source": [
    "for col in run_counts.columns:\n",
    "    print(f\"- {col}\")\n",
    "    for value in run_counts[col].unique():\n",
    "        print(f\"\\t{value}\")"
   ]
  },
  {
   "cell_type": "code",
   "execution_count": 7,
   "metadata": {},
   "outputs": [],
   "source": [
    "df.to_json('exps.jsonl', orient='records', lines=True)"
   ]
  },
  {
   "cell_type": "code",
   "execution_count": null,
   "metadata": {},
   "outputs": [],
   "source": []
  }
 ],
 "metadata": {
  "kernelspec": {
   "display_name": "thesis",
   "language": "python",
   "name": "python3"
  },
  "language_info": {
   "codemirror_mode": {
    "name": "ipython",
    "version": 3
   },
   "file_extension": ".py",
   "mimetype": "text/x-python",
   "name": "python",
   "nbconvert_exporter": "python",
   "pygments_lexer": "ipython3",
   "version": "3.10.16"
  }
 },
 "nbformat": 4,
 "nbformat_minor": 2
}
