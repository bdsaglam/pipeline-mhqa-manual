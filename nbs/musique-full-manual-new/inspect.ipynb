{
 "cells": [
  {
   "cell_type": "code",
   "execution_count": 8,
   "metadata": {},
   "outputs": [],
   "source": [
    "import random\n",
    "import textwrap\n",
    "from pathlib import Path\n",
    "\n",
    "import matplotlib.pyplot as plt\n",
    "import pandas as pd\n",
    "from ipywidgets import HBox, widgets\n"
   ]
  },
  {
   "cell_type": "code",
   "execution_count": 9,
   "metadata": {},
   "outputs": [],
   "source": [
    "import tiktoken\n",
    "\n",
    "encoder = tiktoken.encoding_for_model(\"gpt-4o\")\n",
    "\n",
    "\n",
    "def count_tokens(text: str) -> int:\n",
    "    return len(encoder.encode(text))"
   ]
  },
  {
   "cell_type": "code",
   "execution_count": 10,
   "metadata": {},
   "outputs": [
    {
     "name": "stdout",
     "output_type": "stream",
     "text": [
      "2417\n"
     ]
    },
    {
     "data": {
      "text/html": [
       "<div>\n",
       "<style scoped>\n",
       "    .dataframe tbody tr th:only-of-type {\n",
       "        vertical-align: middle;\n",
       "    }\n",
       "\n",
       "    .dataframe tbody tr th {\n",
       "        vertical-align: top;\n",
       "    }\n",
       "\n",
       "    .dataframe thead th {\n",
       "        text-align: right;\n",
       "    }\n",
       "</style>\n",
       "<table border=\"1\" class=\"dataframe\">\n",
       "  <thead>\n",
       "    <tr style=\"text-align: right;\">\n",
       "      <th></th>\n",
       "      <th>id</th>\n",
       "      <th>n_hops</th>\n",
       "      <th>answer</th>\n",
       "      <th>hops</th>\n",
       "      <th>predicted_answer</th>\n",
       "      <th>reference_answers</th>\n",
       "      <th>exact_match</th>\n",
       "      <th>f1</th>\n",
       "      <th>fuzzy_match</th>\n",
       "    </tr>\n",
       "  </thead>\n",
       "  <tbody>\n",
       "    <tr>\n",
       "      <th>0</th>\n",
       "      <td>2hop__460946_294723</td>\n",
       "      <td>2</td>\n",
       "      <td>Miquette Giraudy</td>\n",
       "      <td>[{'question': 'Who is the spouse of the Green ...</td>\n",
       "      <td>Miquette Giraudy</td>\n",
       "      <td>[Miquette Giraudy]</td>\n",
       "      <td>1</td>\n",
       "      <td>1.000000</td>\n",
       "      <td>1</td>\n",
       "    </tr>\n",
       "    <tr>\n",
       "      <th>1</th>\n",
       "      <td>2hop__252311_366220</td>\n",
       "      <td>2</td>\n",
       "      <td>Mike Medavoy</td>\n",
       "      <td>[{'question': 'Who founded the company that di...</td>\n",
       "      <td>Mike Medavoy</td>\n",
       "      <td>[Mike Medavoy]</td>\n",
       "      <td>1</td>\n",
       "      <td>1.000000</td>\n",
       "      <td>1</td>\n",
       "    </tr>\n",
       "    <tr>\n",
       "      <th>2</th>\n",
       "      <td>2hop__701895_752697</td>\n",
       "      <td>2</td>\n",
       "      <td>Municipality of Nuevo Laredo</td>\n",
       "      <td>[{'question': 'What administrative territorial...</td>\n",
       "      <td>Municipality of Nuevo Laredo</td>\n",
       "      <td>[Tamaulipas]</td>\n",
       "      <td>0</td>\n",
       "      <td>0.000000</td>\n",
       "      <td>0</td>\n",
       "    </tr>\n",
       "    <tr>\n",
       "      <th>3</th>\n",
       "      <td>2hop__259228_793698</td>\n",
       "      <td>2</td>\n",
       "      <td>Cologne, Germany</td>\n",
       "      <td>[{'question': 'Where is Ulrich Walter's employ...</td>\n",
       "      <td>Cologne, Germany</td>\n",
       "      <td>[Cologne]</td>\n",
       "      <td>0</td>\n",
       "      <td>0.666667</td>\n",
       "      <td>0</td>\n",
       "    </tr>\n",
       "    <tr>\n",
       "      <th>4</th>\n",
       "      <td>2hop__481349_302087</td>\n",
       "      <td>2</td>\n",
       "      <td>Bombardier Inc.</td>\n",
       "      <td>[{'question': 'Which company owns the manufact...</td>\n",
       "      <td>Bombardier Inc.</td>\n",
       "      <td>[Bombardier Inc., Bombardier]</td>\n",
       "      <td>1</td>\n",
       "      <td>1.000000</td>\n",
       "      <td>1</td>\n",
       "    </tr>\n",
       "  </tbody>\n",
       "</table>\n",
       "</div>"
      ],
      "text/plain": [
       "                    id  n_hops                        answer  \\\n",
       "0  2hop__460946_294723       2              Miquette Giraudy   \n",
       "1  2hop__252311_366220       2                  Mike Medavoy   \n",
       "2  2hop__701895_752697       2  Municipality of Nuevo Laredo   \n",
       "3  2hop__259228_793698       2              Cologne, Germany   \n",
       "4  2hop__481349_302087       2               Bombardier Inc.   \n",
       "\n",
       "                                                hops  \\\n",
       "0  [{'question': 'Who is the spouse of the Green ...   \n",
       "1  [{'question': 'Who founded the company that di...   \n",
       "2  [{'question': 'What administrative territorial...   \n",
       "3  [{'question': 'Where is Ulrich Walter's employ...   \n",
       "4  [{'question': 'Which company owns the manufact...   \n",
       "\n",
       "               predicted_answer              reference_answers  exact_match  \\\n",
       "0              Miquette Giraudy             [Miquette Giraudy]            1   \n",
       "1                  Mike Medavoy                 [Mike Medavoy]            1   \n",
       "2  Municipality of Nuevo Laredo                   [Tamaulipas]            0   \n",
       "3              Cologne, Germany                      [Cologne]            0   \n",
       "4               Bombardier Inc.  [Bombardier Inc., Bombardier]            1   \n",
       "\n",
       "         f1  fuzzy_match  \n",
       "0  1.000000            1  \n",
       "1  1.000000            1  \n",
       "2  0.000000            0  \n",
       "3  0.666667            0  \n",
       "4  1.000000            1  "
      ]
     },
     "execution_count": 10,
     "metadata": {},
     "output_type": "execute_result"
    }
   ],
   "source": [
    "df = pd.read_json('deepseek-70b-best-results.jsonl', lines=True)\n",
    "print(len(df))\n",
    "df.head()"
   ]
  },
  {
   "cell_type": "code",
   "execution_count": 11,
   "metadata": {},
   "outputs": [
    {
     "data": {
      "text/plain": [
       "{'question': 'Who is the spouse of the Green performer?',\n",
       " 'query': 'Who is the spouse of the Green performer?',\n",
       " 'retrieved_docs': [{'text': '# Miquette Giraudy\\nMiquette Giraudy (born 9 February 1953, Nice, France) is a keyboard player and vocalist, best known for her work in Gong and with her partner Steve Hillage. She and Hillage currently form the core of the ambient band System 7. In addition to her performances in music, she has also worked as an actress, film editor and writer. In each role, she has used different stage names.',\n",
       "   'is_supporting': True,\n",
       "   'parent_id': '2hop__460946_294723',\n",
       "   'idx': 5},\n",
       "  {'text': '# Green (Steve Hillage album)\\nGreen is the fourth studio album by British progressive rock musician Steve Hillage. Written in spring 1977 at the same time as his previous album, the funk-inflected \"Motivation Radio\" (1977), \"Green\" was originally going to be released as \"The Green Album\" as a companion to \"The Red Album\" (the originally intended name for \"Motivation Radio\"). However, this plan was dropped and after a US tour in late 1977, \"Green\" was recorded alone, primarily in Dorking, Surrey, and in London.',\n",
       "   'is_supporting': True,\n",
       "   'parent_id': '2hop__460946_294723',\n",
       "   'idx': 10}],\n",
       " 'context': '# Miquette Giraudy\\nMiquette Giraudy (born 9 February 1953, Nice, France) is a keyboard player and vocalist, best known for her work in Gong and with her partner Steve Hillage. She and Hillage currently form the core of the ambient band System 7. In addition to her performances in music, she has also worked as an actress, film editor and writer. In each role, she has used different stage names.\\n\\n# Green (Steve Hillage album)\\nGreen is the fourth studio album by British progressive rock musician Steve Hillage. Written in spring 1977 at the same time as his previous album, the funk-inflected \"Motivation Radio\" (1977), \"Green\" was originally going to be released as \"The Green Album\" as a companion to \"The Red Album\" (the originally intended name for \"Motivation Radio\"). However, this plan was dropped and after a US tour in late 1977, \"Green\" was recorded alone, primarily in Dorking, Surrey, and in London.',\n",
       " 'answer': 'Miquette Giraudy',\n",
       " 'qa_result': {'answer': 'Miquette Giraudy',\n",
       "  'generation': '<think>\\nOkay, I need to figure out who the spouse of the Green performer is. Let\\'s start by breaking down the question. The question is asking about the spouse, which means the husband or wife, of the person who performed the album Green. \\n\\nLooking at the context information provided, I see two main sections. The first is about Miquette Giraudy, and the second is about the album Green by Steve Hillage. \\n\\nFrom the first section, Miquette Giraudy is described as a keyboard player and vocalist known for her work in Gong and with her partner Steve Hillage. It also mentions that she and Hillage form the core of the ambient band System 7. So, Miquette Giraudy is Steve Hillage\\'s partner.\\n\\nThe second section is about the album Green, which is by Steve Hillage. So, the performer of Green is Steve Hillage. Since Miquette Giraudy is his partner, and the question is about his spouse, it\\'s reasonable to infer that they are married, even though the term \"partner\" is used. Sometimes \"partner\" can mean spouse, especially in the context of long-term relationships.\\n\\nTherefore, putting it together, the spouse of Steve Hillage, who is the performer of Green, is Miquette Giraudy.\\n</think>\\n\\nThe spouse of Steve Hillage, the performer of the album Green, is Miquette Giraudy.\\n\\nAnswer: Miquette Giraudy'}}"
      ]
     },
     "execution_count": 11,
     "metadata": {},
     "output_type": "execute_result"
    }
   ],
   "source": [
    "row = df.iloc[0]\n",
    "row['hops'][0]"
   ]
  },
  {
   "cell_type": "code",
   "execution_count": 12,
   "metadata": {},
   "outputs": [],
   "source": [
    "df['generation'] = df['hops'].apply(lambda x: x[0]['qa_result']['generation'])\n",
    "df['gen_token_count'] = df['generation'].apply(lambda x: count_tokens(x))"
   ]
  },
  {
   "cell_type": "code",
   "execution_count": 13,
   "metadata": {},
   "outputs": [
    {
     "name": "stdout",
     "output_type": "stream",
     "text": [
      "Fail: 738\n",
      "Success: 1679\n",
      "Total: 2417\n",
      "Mean F1: 0.706\n"
     ]
    }
   ],
   "source": [
    "success_mask = df['f1'] > 0.5\n",
    "fail_df = df[~success_mask]\n",
    "success_df = df[success_mask]\n",
    "print(\"Fail:\", len(fail_df))\n",
    "print(\"Success:\", len(success_df))\n",
    "print(\"Total:\", len(df))\n",
    "print(\"Mean F1:\", f\"{df['f1'].mean():.3f}\")"
   ]
  },
  {
   "cell_type": "code",
   "execution_count": 14,
   "metadata": {},
   "outputs": [
    {
     "data": {
      "text/html": [
       "<div>\n",
       "<style scoped>\n",
       "    .dataframe tbody tr th:only-of-type {\n",
       "        vertical-align: middle;\n",
       "    }\n",
       "\n",
       "    .dataframe tbody tr th {\n",
       "        vertical-align: top;\n",
       "    }\n",
       "\n",
       "    .dataframe thead tr th {\n",
       "        text-align: left;\n",
       "    }\n",
       "\n",
       "    .dataframe thead tr:last-of-type th {\n",
       "        text-align: right;\n",
       "    }\n",
       "</style>\n",
       "<table border=\"1\" class=\"dataframe\">\n",
       "  <thead>\n",
       "    <tr>\n",
       "      <th></th>\n",
       "      <th colspan=\"2\" halign=\"left\">exact_match</th>\n",
       "      <th colspan=\"2\" halign=\"left\">f1</th>\n",
       "    </tr>\n",
       "    <tr>\n",
       "      <th></th>\n",
       "      <th>mean</th>\n",
       "      <th>count</th>\n",
       "      <th>mean</th>\n",
       "      <th>count</th>\n",
       "    </tr>\n",
       "    <tr>\n",
       "      <th>n_hops</th>\n",
       "      <th></th>\n",
       "      <th></th>\n",
       "      <th></th>\n",
       "      <th></th>\n",
       "    </tr>\n",
       "  </thead>\n",
       "  <tbody>\n",
       "    <tr>\n",
       "      <th>2</th>\n",
       "      <td>0.599042</td>\n",
       "      <td>1252</td>\n",
       "      <td>0.750479</td>\n",
       "      <td>1252</td>\n",
       "    </tr>\n",
       "    <tr>\n",
       "      <th>3</th>\n",
       "      <td>0.555263</td>\n",
       "      <td>760</td>\n",
       "      <td>0.692036</td>\n",
       "      <td>760</td>\n",
       "    </tr>\n",
       "    <tr>\n",
       "      <th>4</th>\n",
       "      <td>0.503704</td>\n",
       "      <td>405</td>\n",
       "      <td>0.597067</td>\n",
       "      <td>405</td>\n",
       "    </tr>\n",
       "  </tbody>\n",
       "</table>\n",
       "</div>"
      ],
      "text/plain": [
       "       exact_match              f1      \n",
       "              mean count      mean count\n",
       "n_hops                                  \n",
       "2         0.599042  1252  0.750479  1252\n",
       "3         0.555263   760  0.692036   760\n",
       "4         0.503704   405  0.597067   405"
      ]
     },
     "execution_count": 14,
     "metadata": {},
     "output_type": "execute_result"
    }
   ],
   "source": [
    "df.groupby('n_hops')[['exact_match', 'f1']].agg(['mean', 'count'])"
   ]
  },
  {
   "cell_type": "code",
   "execution_count": 15,
   "metadata": {},
   "outputs": [
    {
     "data": {
      "text/plain": [
       "(17, '0.007')"
      ]
     },
     "execution_count": 15,
     "metadata": {},
     "output_type": "execute_result"
    }
   ],
   "source": [
    "answered_mask = df['generation'].str.lower().str.contains('answer:')\n",
    "len(df.loc[~answered_mask]), f\"{len(df.loc[~answered_mask]) / len(df):.3f}\""
   ]
  },
  {
   "cell_type": "code",
   "execution_count": 16,
   "metadata": {},
   "outputs": [
    {
     "data": {
      "image/png": "[encoded data removed]",
      "text/plain": [
       "<Figure size 640x480 with 1 Axes>"
      ]
     },
     "metadata": {},
     "output_type": "display_data"
    }
   ],
   "source": [
    "# Plot the histogram\n",
    "ax = df['gen_token_count'].hist(bins=50)\n",
    "\n",
    "# Add lines for min, median, and max\n",
    "min_val = df['gen_token_count'].min()\n",
    "median_val = df['gen_token_count'].median()\n",
    "max_val = df['gen_token_count'].max()\n",
    "\n",
    "plt.axvline(min_val, color='r', linestyle='dashed', linewidth=1, label=f'Min: {min_val}')\n",
    "plt.axvline(median_val, color='g', linestyle='dashed', linewidth=1, label=f'Median: {median_val}')\n",
    "plt.axvline(max_val, color='b', linestyle='dashed', linewidth=1, label=f'Max: {max_val}')\n",
    "\n",
    "# Add legend\n",
    "plt.legend()\n",
    "\n",
    "# Show plot\n",
    "plt.show()"
   ]
  },
  {
   "cell_type": "code",
   "execution_count": 17,
   "metadata": {},
   "outputs": [],
   "source": [
    "def fixedwidth(text):\n",
    "    return \"\\n\".join(textwrap.wrap(text, width=80, replace_whitespace=False))\n",
    "\n",
    "def format_row(row):\n",
    "    context = row['hops'][0]['context']\n",
    "    question = row['hops'][0]['question']\n",
    "    generation = row['hops'][0]['qa_result']['generation']\n",
    "\n",
    "    output = []\n",
    "    output.append(f\"{row['id']} - {row['n_hops']} hops\")\n",
    "    output.append(\"=\"*80)\n",
    "    output.append(fixedwidth(context))\n",
    "    output.append(\"=\"*80)\n",
    "    output.append(\"Q: \" + question)\n",
    "    output.append(\"Reference Answers: \" + str(row['reference_answers']))\n",
    "    output.append(\"Predicted Answer: \" + row['predicted_answer'])\n",
    "    output.append(\"-\"*80)\n",
    "    output.append(\"Generation\")\n",
    "    output.append(\"-\"*80)\n",
    "    output.append(generation)\n",
    "    output.append(\"-\"*80)\n",
    "    output.append(\"# Scores\")\n",
    "    output.append(\"EM: {:.3f}\".format(row['exact_match']))\n",
    "    output.append(\"F1: {:.3f}\".format(row['f1']))\n",
    "    if 'analysis' in row:\n",
    "        output.append(\"\")\n",
    "        output.append(\"# Analysis\")\n",
    "        output.append(fixedwidth(row['analysis']))\n",
    "    return \"\\n\".join(output)\n",
    "\n",
    "def present_row(row):\n",
    "    print(format_row(row))\n",
    "\n",
    "\n",
    "def create_browse_app(df):\n",
    "    def browse_failed(i=0):\n",
    "        row = df.iloc[i]\n",
    "        present_row(row)\n",
    "\n",
    "    index = widgets.IntText(value=0, description='Index:')\n",
    "    left_button = widgets.Button(description='Previous')\n",
    "    right_button = widgets.Button(description='Next')\n",
    "\n",
    "    def on_left_button_clicked(b):\n",
    "        if index.value > 0:\n",
    "            index.value -= 1\n",
    "\n",
    "    def on_right_button_clicked(b):\n",
    "        if index.value < len(df) - 1:\n",
    "            index.value += 1\n",
    "\n",
    "    left_button.on_click(on_left_button_clicked)\n",
    "    right_button.on_click(on_right_button_clicked)\n",
    "\n",
    "    ui = HBox([left_button, index, right_button])\n",
    "    out = widgets.interactive_output(browse_failed, {'i': index})\n",
    "\n",
    "    display(ui, out)\n"
   ]
  },
  {
   "cell_type": "code",
   "execution_count": 18,
   "metadata": {},
   "outputs": [
    {
     "data": {
      "application/vnd.jupyter.widget-view+json": {
       "model_id": "e18b46d214c24789827df350227a14e8",
       "version_major": 2,
       "version_minor": 0
      },
      "text/plain": [
       "HBox(children=(Button(description='Previous', style=ButtonStyle()), IntText(value=0, description='Index:'), Bu…"
      ]
     },
     "metadata": {},
     "output_type": "display_data"
    },
    {
     "data": {
      "application/vnd.jupyter.widget-view+json": {
       "model_id": "9f2b94279c3740b2a9edbc64f6564cfb",
       "version_major": 2,
       "version_minor": 0
      },
      "text/plain": [
       "Output()"
      ]
     },
     "metadata": {},
     "output_type": "display_data"
    }
   ],
   "source": [
    "inspect_df = fail_df.sort_values('f1')\n",
    "create_browse_app(inspect_df)"
   ]
  },
  {
   "cell_type": "code",
   "execution_count": 19,
   "metadata": {},
   "outputs": [
    {
     "data": {
      "application/vnd.jupyter.widget-view+json": {
       "model_id": "0991f523fffb4d9c80ae2279efab1ad7",
       "version_major": 2,
       "version_minor": 0
      },
      "text/plain": [
       "HBox(children=(Button(description='Previous', style=ButtonStyle()), IntText(value=0, description='Index:'), Bu…"
      ]
     },
     "metadata": {},
     "output_type": "display_data"
    },
    {
     "data": {
      "application/vnd.jupyter.widget-view+json": {
       "model_id": "160f895731d441f9bbf10a7d99e205d7",
       "version_major": 2,
       "version_minor": 0
      },
      "text/plain": [
       "Output()"
      ]
     },
     "metadata": {},
     "output_type": "display_data"
    }
   ],
   "source": [
    "unanswered_df = df.loc[~answered_mask]\n",
    "create_browse_app(unanswered_df)"
   ]
  },
  {
   "cell_type": "code",
   "execution_count": 20,
   "metadata": {},
   "outputs": [
    {
     "data": {
      "application/vnd.jupyter.widget-view+json": {
       "model_id": "bfe45c38c4884f1a9a85efa9c42c79a8",
       "version_major": 2,
       "version_minor": 0
      },
      "text/plain": [
       "HBox(children=(Button(description='Previous', style=ButtonStyle()), IntText(value=0, description='Index:'), Bu…"
      ]
     },
     "metadata": {},
     "output_type": "display_data"
    },
    {
     "data": {
      "application/vnd.jupyter.widget-view+json": {
       "model_id": "f648ce75cd7a4546ae187d03de68939b",
       "version_major": 2,
       "version_minor": 0
      },
      "text/plain": [
       "Output()"
      ]
     },
     "metadata": {},
     "output_type": "display_data"
    }
   ],
   "source": [
    "answered_failed_df = df.loc[answered_mask & ~success_mask]\n",
    "create_browse_app(answered_failed_df)"
   ]
  },
  {
   "cell_type": "code",
   "execution_count": null,
   "metadata": {},
   "outputs": [],
   "source": []
  }
 ],
 "metadata": {
  "kernelspec": {
   "display_name": "thesis",
   "language": "python",
   "name": "python3"
  },
  "language_info": {
   "codemirror_mode": {
    "name": "ipython",
    "version": 3
   },
   "file_extension": ".py",
   "mimetype": "text/x-python",
   "name": "python",
   "nbconvert_exporter": "python",
   "pygments_lexer": "ipython3",
   "version": "3.10.16"
  }
 },
 "nbformat": 4,
 "nbformat_minor": 4
}
