{
 "cells": [
  {
   "cell_type": "code",
   "execution_count": 9,
   "metadata": {},
   "outputs": [],
   "source": [
    "import random\n",
    "import textwrap\n",
    "from pathlib import Path\n",
    "\n",
    "import pandas as pd\n",
    "from ipywidgets import HBox, widgets\n",
    "\n",
    "from bellem.musique.eval import compute_scores\n"
   ]
  },
  {
   "cell_type": "code",
   "execution_count": 2,
   "metadata": {},
   "outputs": [
    {
     "name": "stdout",
     "output_type": "stream",
     "text": [
      "2417\n"
     ]
    },
    {
     "data": {
      "text/html": [
       "<div>\n",
       "<style scoped>\n",
       "    .dataframe tbody tr th:only-of-type {\n",
       "        vertical-align: middle;\n",
       "    }\n",
       "\n",
       "    .dataframe tbody tr th {\n",
       "        vertical-align: top;\n",
       "    }\n",
       "\n",
       "    .dataframe thead th {\n",
       "        text-align: right;\n",
       "    }\n",
       "</style>\n",
       "<table border=\"1\" class=\"dataframe\">\n",
       "  <thead>\n",
       "    <tr style=\"text-align: right;\">\n",
       "      <th></th>\n",
       "      <th>id</th>\n",
       "      <th>n_hops</th>\n",
       "      <th>answer</th>\n",
       "      <th>hops</th>\n",
       "      <th>predicted_answer</th>\n",
       "      <th>reference_answers</th>\n",
       "      <th>exact_match</th>\n",
       "      <th>f1</th>\n",
       "      <th>fuzzy_match</th>\n",
       "    </tr>\n",
       "  </thead>\n",
       "  <tbody>\n",
       "    <tr>\n",
       "      <th>0</th>\n",
       "      <td>2hop__460946_294723</td>\n",
       "      <td>2</td>\n",
       "      <td>Miquette Giraudy</td>\n",
       "      <td>[{'question': 'Who is the spouse of the Green ...</td>\n",
       "      <td>Miquette Giraudy</td>\n",
       "      <td>[Miquette Giraudy]</td>\n",
       "      <td>1</td>\n",
       "      <td>1.000000</td>\n",
       "      <td>1</td>\n",
       "    </tr>\n",
       "    <tr>\n",
       "      <th>1</th>\n",
       "      <td>2hop__252311_366220</td>\n",
       "      <td>2</td>\n",
       "      <td>Mike Medavoy</td>\n",
       "      <td>[{'question': 'Who founded the company that di...</td>\n",
       "      <td>Mike Medavoy</td>\n",
       "      <td>[Mike Medavoy]</td>\n",
       "      <td>1</td>\n",
       "      <td>1.000000</td>\n",
       "      <td>1</td>\n",
       "    </tr>\n",
       "    <tr>\n",
       "      <th>2</th>\n",
       "      <td>2hop__701895_752697</td>\n",
       "      <td>2</td>\n",
       "      <td>Municipality of Nuevo Laredo</td>\n",
       "      <td>[{'question': 'What administrative territorial...</td>\n",
       "      <td>Municipality of Nuevo Laredo</td>\n",
       "      <td>[Tamaulipas]</td>\n",
       "      <td>0</td>\n",
       "      <td>0.000000</td>\n",
       "      <td>0</td>\n",
       "    </tr>\n",
       "    <tr>\n",
       "      <th>3</th>\n",
       "      <td>2hop__259228_793698</td>\n",
       "      <td>2</td>\n",
       "      <td>Cologne, Germany</td>\n",
       "      <td>[{'question': 'Where is Ulrich Walter's employ...</td>\n",
       "      <td>Cologne, Germany</td>\n",
       "      <td>[Cologne]</td>\n",
       "      <td>0</td>\n",
       "      <td>0.666667</td>\n",
       "      <td>0</td>\n",
       "    </tr>\n",
       "    <tr>\n",
       "      <th>4</th>\n",
       "      <td>2hop__481349_302087</td>\n",
       "      <td>2</td>\n",
       "      <td>Bombardier Inc.</td>\n",
       "      <td>[{'question': 'Which company owns the manufact...</td>\n",
       "      <td>Bombardier Inc.</td>\n",
       "      <td>[Bombardier Inc., Bombardier]</td>\n",
       "      <td>1</td>\n",
       "      <td>1.000000</td>\n",
       "      <td>1</td>\n",
       "    </tr>\n",
       "  </tbody>\n",
       "</table>\n",
       "</div>"
      ],
      "text/plain": [
       "                    id  n_hops                        answer  \\\n",
       "0  2hop__460946_294723       2              Miquette Giraudy   \n",
       "1  2hop__252311_366220       2                  Mike Medavoy   \n",
       "2  2hop__701895_752697       2  Municipality of Nuevo Laredo   \n",
       "3  2hop__259228_793698       2              Cologne, Germany   \n",
       "4  2hop__481349_302087       2               Bombardier Inc.   \n",
       "\n",
       "                                                hops  \\\n",
       "0  [{'question': 'Who is the spouse of the Green ...   \n",
       "1  [{'question': 'Who founded the company that di...   \n",
       "2  [{'question': 'What administrative territorial...   \n",
       "3  [{'question': 'Where is Ulrich Walter's employ...   \n",
       "4  [{'question': 'Which company owns the manufact...   \n",
       "\n",
       "               predicted_answer              reference_answers  exact_match  \\\n",
       "0              Miquette Giraudy             [Miquette Giraudy]            1   \n",
       "1                  Mike Medavoy                 [Mike Medavoy]            1   \n",
       "2  Municipality of Nuevo Laredo                   [Tamaulipas]            0   \n",
       "3              Cologne, Germany                      [Cologne]            0   \n",
       "4               Bombardier Inc.  [Bombardier Inc., Bombardier]            1   \n",
       "\n",
       "         f1  fuzzy_match  \n",
       "0  1.000000            1  \n",
       "1  1.000000            1  \n",
       "2  0.000000            0  \n",
       "3  0.666667            0  \n",
       "4  1.000000            1  "
      ]
     },
     "execution_count": 2,
     "metadata": {},
     "output_type": "execute_result"
    }
   ],
   "source": [
    "df = pd.read_json('deepseek-70b-best-results.jsonl', lines=True)\n",
    "print(len(df))\n",
    "df.head()"
   ]
  },
  {
   "cell_type": "code",
   "execution_count": 3,
   "metadata": {},
   "outputs": [],
   "source": [
    "df['generation'] = df['hops'].apply(lambda x: x[0]['qa_result']['generation'])"
   ]
  },
  {
   "cell_type": "code",
   "execution_count": 20,
   "metadata": {},
   "outputs": [],
   "source": [
    "def evaluate_row(row):\n",
    "    predicted_answer = row['predicted_answer']\n",
    "    reference_answers = row['reference_answers']\n",
    "    return compute_scores(predicted_answer, reference_answers)\n",
    "    \n",
    "def report_performance(dataf):\n",
    "    score_records = dataf.apply(evaluate_row, axis=1)\n",
    "    dataf['exact_match'] = [record['exact_match'] for record in score_records]\n",
    "    dataf['f1'] = [record['f1'] for record in score_records]\n",
    "    return dataf.groupby('n_hops')[['exact_match', 'f1']].agg(['mean', 'count'])"
   ]
  },
  {
   "cell_type": "code",
   "execution_count": 21,
   "metadata": {},
   "outputs": [
    {
     "data": {
      "text/html": [
       "<div>\n",
       "<style scoped>\n",
       "    .dataframe tbody tr th:only-of-type {\n",
       "        vertical-align: middle;\n",
       "    }\n",
       "\n",
       "    .dataframe tbody tr th {\n",
       "        vertical-align: top;\n",
       "    }\n",
       "\n",
       "    .dataframe thead tr th {\n",
       "        text-align: left;\n",
       "    }\n",
       "\n",
       "    .dataframe thead tr:last-of-type th {\n",
       "        text-align: right;\n",
       "    }\n",
       "</style>\n",
       "<table border=\"1\" class=\"dataframe\">\n",
       "  <thead>\n",
       "    <tr>\n",
       "      <th></th>\n",
       "      <th colspan=\"2\" halign=\"left\">exact_match</th>\n",
       "      <th colspan=\"2\" halign=\"left\">f1</th>\n",
       "    </tr>\n",
       "    <tr>\n",
       "      <th></th>\n",
       "      <th>mean</th>\n",
       "      <th>count</th>\n",
       "      <th>mean</th>\n",
       "      <th>count</th>\n",
       "    </tr>\n",
       "    <tr>\n",
       "      <th>n_hops</th>\n",
       "      <th></th>\n",
       "      <th></th>\n",
       "      <th></th>\n",
       "      <th></th>\n",
       "    </tr>\n",
       "  </thead>\n",
       "  <tbody>\n",
       "    <tr>\n",
       "      <th>2</th>\n",
       "      <td>0.599042</td>\n",
       "      <td>1252</td>\n",
       "      <td>0.750479</td>\n",
       "      <td>1252</td>\n",
       "    </tr>\n",
       "    <tr>\n",
       "      <th>3</th>\n",
       "      <td>0.555263</td>\n",
       "      <td>760</td>\n",
       "      <td>0.692036</td>\n",
       "      <td>760</td>\n",
       "    </tr>\n",
       "    <tr>\n",
       "      <th>4</th>\n",
       "      <td>0.503704</td>\n",
       "      <td>405</td>\n",
       "      <td>0.597067</td>\n",
       "      <td>405</td>\n",
       "    </tr>\n",
       "  </tbody>\n",
       "</table>\n",
       "</div>"
      ],
      "text/plain": [
       "       exact_match              f1      \n",
       "              mean count      mean count\n",
       "n_hops                                  \n",
       "2         0.599042  1252  0.750479  1252\n",
       "3         0.555263   760  0.692036   760\n",
       "4         0.503704   405  0.597067   405"
      ]
     },
     "execution_count": 21,
     "metadata": {},
     "output_type": "execute_result"
    }
   ],
   "source": [
    "report_performance(df)"
   ]
  },
  {
   "cell_type": "code",
   "execution_count": 22,
   "metadata": {},
   "outputs": [],
   "source": [
    "def parse_answer(generation):\n",
    "    if 'Answer:' in generation:\n",
    "        return generation.split('Answer:')[1].strip()\n",
    "    \n",
    "    last_line = generation.splitlines()[-1]\n",
    "    return last_line.strip()"
   ]
  },
  {
   "cell_type": "code",
   "execution_count": 23,
   "metadata": {},
   "outputs": [],
   "source": [
    "df_new = df.copy()"
   ]
  },
  {
   "cell_type": "code",
   "execution_count": 24,
   "metadata": {},
   "outputs": [
    {
     "data": {
      "text/html": [
       "<div>\n",
       "<style scoped>\n",
       "    .dataframe tbody tr th:only-of-type {\n",
       "        vertical-align: middle;\n",
       "    }\n",
       "\n",
       "    .dataframe tbody tr th {\n",
       "        vertical-align: top;\n",
       "    }\n",
       "\n",
       "    .dataframe thead tr th {\n",
       "        text-align: left;\n",
       "    }\n",
       "\n",
       "    .dataframe thead tr:last-of-type th {\n",
       "        text-align: right;\n",
       "    }\n",
       "</style>\n",
       "<table border=\"1\" class=\"dataframe\">\n",
       "  <thead>\n",
       "    <tr>\n",
       "      <th></th>\n",
       "      <th colspan=\"2\" halign=\"left\">exact_match</th>\n",
       "      <th colspan=\"2\" halign=\"left\">f1</th>\n",
       "    </tr>\n",
       "    <tr>\n",
       "      <th></th>\n",
       "      <th>mean</th>\n",
       "      <th>count</th>\n",
       "      <th>mean</th>\n",
       "      <th>count</th>\n",
       "    </tr>\n",
       "    <tr>\n",
       "      <th>n_hops</th>\n",
       "      <th></th>\n",
       "      <th></th>\n",
       "      <th></th>\n",
       "      <th></th>\n",
       "    </tr>\n",
       "  </thead>\n",
       "  <tbody>\n",
       "    <tr>\n",
       "      <th>2</th>\n",
       "      <td>0.601438</td>\n",
       "      <td>1252</td>\n",
       "      <td>0.753711</td>\n",
       "      <td>1252</td>\n",
       "    </tr>\n",
       "    <tr>\n",
       "      <th>3</th>\n",
       "      <td>0.555263</td>\n",
       "      <td>760</td>\n",
       "      <td>0.692475</td>\n",
       "      <td>760</td>\n",
       "    </tr>\n",
       "    <tr>\n",
       "      <th>4</th>\n",
       "      <td>0.503704</td>\n",
       "      <td>405</td>\n",
       "      <td>0.597067</td>\n",
       "      <td>405</td>\n",
       "    </tr>\n",
       "  </tbody>\n",
       "</table>\n",
       "</div>"
      ],
      "text/plain": [
       "       exact_match              f1      \n",
       "              mean count      mean count\n",
       "n_hops                                  \n",
       "2         0.601438  1252  0.753711  1252\n",
       "3         0.555263   760  0.692475   760\n",
       "4         0.503704   405  0.597067   405"
      ]
     },
     "execution_count": 24,
     "metadata": {},
     "output_type": "execute_result"
    }
   ],
   "source": [
    "df_new['predicted_answer'] = df_new['generation'].apply(parse_answer)\n",
    "report_performance(df_new)"
   ]
  },
  {
   "cell_type": "markdown",
   "metadata": {},
   "source": [
    "## Inspect"
   ]
  },
  {
   "cell_type": "code",
   "execution_count": 16,
   "metadata": {},
   "outputs": [],
   "source": [
    "def fixedwidth(text):\n",
    "    return \"\\n\".join(textwrap.wrap(text, width=80, replace_whitespace=False))\n",
    "\n",
    "def format_row(row):\n",
    "    context = row['hops'][0]['context']\n",
    "    question = row['hops'][0]['question']\n",
    "    generation = row['hops'][0]['qa_result']['generation']\n",
    "\n",
    "    output = []\n",
    "    output.append(f\"{row['id']} - {row['n_hops']} hops\")\n",
    "    output.append(\"=\"*80)\n",
    "    output.append(fixedwidth(context))\n",
    "    output.append(\"=\"*80)\n",
    "    output.append(\"Q: \" + question)\n",
    "    output.append(\"Reference Answers: \" + str(row['reference_answers']))\n",
    "    output.append(\"Predicted Answer: \" + row['predicted_answer'])\n",
    "    output.append(\"-\"*80)\n",
    "    output.append(\"Generation\")\n",
    "    output.append(\"-\"*80)\n",
    "    output.append(generation)\n",
    "    output.append(\"-\"*80)\n",
    "    output.append(\"# Scores\")\n",
    "    output.append(\"EM: {:.3f}\".format(row['exact_match']))\n",
    "    output.append(\"F1: {:.3f}\".format(row['f1']))\n",
    "    if 'analysis' in row:\n",
    "        output.append(\"\")\n",
    "        output.append(\"# Analysis\")\n",
    "        output.append(fixedwidth(row['analysis']))\n",
    "    return \"\\n\".join(output)\n",
    "\n",
    "def present_row(row):\n",
    "    print(format_row(row))\n",
    "\n",
    "\n",
    "def create_browse_app(df):\n",
    "    def browse_failed(i=0):\n",
    "        row = df.iloc[i]\n",
    "        present_row(row)\n",
    "\n",
    "    index = widgets.IntText(value=0, description='Index:')\n",
    "    left_button = widgets.Button(description='Previous')\n",
    "    right_button = widgets.Button(description='Next')\n",
    "\n",
    "    def on_left_button_clicked(b):\n",
    "        if index.value > 0:\n",
    "            index.value -= 1\n",
    "\n",
    "    def on_right_button_clicked(b):\n",
    "        if index.value < len(df) - 1:\n",
    "            index.value += 1\n",
    "\n",
    "    left_button.on_click(on_left_button_clicked)\n",
    "    right_button.on_click(on_right_button_clicked)\n",
    "\n",
    "    ui = HBox([left_button, index, right_button])\n",
    "    out = widgets.interactive_output(browse_failed, {'i': index})\n",
    "\n",
    "    display(ui, out)\n"
   ]
  },
  {
   "cell_type": "code",
   "execution_count": 25,
   "metadata": {},
   "outputs": [
    {
     "data": {
      "text/plain": [
       "(17, '0.007')"
      ]
     },
     "execution_count": 25,
     "metadata": {},
     "output_type": "execute_result"
    }
   ],
   "source": [
    "answered_mask = df['generation'].str.lower().str.contains('answer:')\n",
    "len(df.loc[~answered_mask]), f\"{len(df.loc[~answered_mask]) / len(df):.3f}\""
   ]
  },
  {
   "cell_type": "code",
   "execution_count": 26,
   "metadata": {},
   "outputs": [
    {
     "data": {
      "application/vnd.jupyter.widget-view+json": {
       "model_id": "f66842382ca54591a6bc2878b9a6d3c8",
       "version_major": 2,
       "version_minor": 0
      },
      "text/plain": [
       "HBox(children=(Button(description='Previous', style=ButtonStyle()), IntText(value=0, description='Index:'), Bu…"
      ]
     },
     "metadata": {},
     "output_type": "display_data"
    },
    {
     "data": {
      "application/vnd.jupyter.widget-view+json": {
       "model_id": "f6fda966070946ec94aacd9a3010a347",
       "version_major": 2,
       "version_minor": 0
      },
      "text/plain": [
       "Output()"
      ]
     },
     "metadata": {},
     "output_type": "display_data"
    }
   ],
   "source": [
    "unanswered_df = df.loc[~answered_mask]\n",
    "create_browse_app(unanswered_df)"
   ]
  },
  {
   "cell_type": "code",
   "execution_count": 29,
   "metadata": {},
   "outputs": [
    {
     "data": {
      "text/html": [
       "<div>\n",
       "<style scoped>\n",
       "    .dataframe tbody tr th:only-of-type {\n",
       "        vertical-align: middle;\n",
       "    }\n",
       "\n",
       "    .dataframe tbody tr th {\n",
       "        vertical-align: top;\n",
       "    }\n",
       "\n",
       "    .dataframe thead th {\n",
       "        text-align: right;\n",
       "    }\n",
       "</style>\n",
       "<table border=\"1\" class=\"dataframe\">\n",
       "  <thead>\n",
       "    <tr style=\"text-align: right;\">\n",
       "      <th></th>\n",
       "      <th>id</th>\n",
       "      <th>n_hops</th>\n",
       "      <th>answer</th>\n",
       "      <th>hops</th>\n",
       "      <th>predicted_answer</th>\n",
       "      <th>reference_answers</th>\n",
       "      <th>exact_match</th>\n",
       "      <th>f1</th>\n",
       "      <th>fuzzy_match</th>\n",
       "      <th>generation</th>\n",
       "    </tr>\n",
       "  </thead>\n",
       "  <tbody>\n",
       "    <tr>\n",
       "      <th>690</th>\n",
       "      <td>2hop__215896_460425</td>\n",
       "      <td>2</td>\n",
       "      <td></td>\n",
       "      <td>[{'question': 'What is the location of formati...</td>\n",
       "      <td>Fort Lee, New Jersey</td>\n",
       "      <td>[Fort Lee]</td>\n",
       "      <td>0</td>\n",
       "      <td>0.666667</td>\n",
       "      <td>0</td>\n",
       "      <td>&lt;think&gt;\\nOkay, I need to figure out where the ...</td>\n",
       "    </tr>\n",
       "  </tbody>\n",
       "</table>\n",
       "</div>"
      ],
      "text/plain": [
       "                      id  n_hops answer  \\\n",
       "690  2hop__215896_460425       2          \n",
       "\n",
       "                                                  hops      predicted_answer  \\\n",
       "690  [{'question': 'What is the location of formati...  Fort Lee, New Jersey   \n",
       "\n",
       "    reference_answers  exact_match        f1  fuzzy_match  \\\n",
       "690        [Fort Lee]            0  0.666667            0   \n",
       "\n",
       "                                            generation  \n",
       "690  <think>\\nOkay, I need to figure out where the ...  "
      ]
     },
     "execution_count": 29,
     "metadata": {},
     "output_type": "execute_result"
    }
   ],
   "source": [
    "df_new[df_new['id']=='2hop__215896_460425']"
   ]
  },
  {
   "cell_type": "code",
   "execution_count": 30,
   "metadata": {},
   "outputs": [
    {
     "data": {
      "application/vnd.jupyter.widget-view+json": {
       "model_id": "02e7ed1aa0fc45129c4c4e072acf6e2b",
       "version_major": 2,
       "version_minor": 0
      },
      "text/plain": [
       "HBox(children=(Button(description='Previous', style=ButtonStyle()), IntText(value=0, description='Index:'), Bu…"
      ]
     },
     "metadata": {},
     "output_type": "display_data"
    },
    {
     "data": {
      "application/vnd.jupyter.widget-view+json": {
       "model_id": "515966f3b1b14e908227cbdf3cdda639",
       "version_major": 2,
       "version_minor": 0
      },
      "text/plain": [
       "Output()"
      ]
     },
     "metadata": {},
     "output_type": "display_data"
    }
   ],
   "source": [
    "create_browse_app(df)"
   ]
  },
  {
   "cell_type": "code",
   "execution_count": null,
   "metadata": {},
   "outputs": [],
   "source": []
  }
 ],
 "metadata": {
  "kernelspec": {
   "display_name": "thesis",
   "language": "python",
   "name": "python3"
  },
  "language_info": {
   "codemirror_mode": {
    "name": "ipython",
    "version": 3
   },
   "file_extension": ".py",
   "mimetype": "text/x-python",
   "name": "python",
   "nbconvert_exporter": "python",
   "pygments_lexer": "ipython3",
   "version": "3.10.16"
  }
 },
 "nbformat": 4,
 "nbformat_minor": 4
}
