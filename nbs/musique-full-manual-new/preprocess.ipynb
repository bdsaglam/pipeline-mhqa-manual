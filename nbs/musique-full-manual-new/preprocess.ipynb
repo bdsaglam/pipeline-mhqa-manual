{
 "cells": [
  {
   "cell_type": "code",
   "execution_count": 32,
   "metadata": {},
   "outputs": [],
   "source": [
    "import json\n",
    "from pathlib import Path\n",
    "\n",
    "import pandas as pd"
   ]
  },
  {
   "cell_type": "code",
   "execution_count": 33,
   "metadata": {},
   "outputs": [
    {
     "name": "stdout",
     "output_type": "stream",
     "text": [
      "404 experiments\n"
     ]
    }
   ],
   "source": [
    "from bellem.dvc.experiment import load_experiments\n",
    "\n",
    "filepaths = list(Path(\"../../tmp/musique-full-manual-new/\").glob(\"*.json\"))\n",
    "experiments = [exp for fp in filepaths for exp in load_experiments(fp)]\n",
    "print(f\"{len(experiments)} experiments\")\n",
    "# experiments[1]"
   ]
  },
  {
   "cell_type": "code",
   "execution_count": 34,
   "metadata": {},
   "outputs": [
    {
     "name": "stdout",
     "output_type": "stream",
     "text": [
      "383 experiments after preprocessing\n"
     ]
    }
   ],
   "source": [
    "df = pd.json_normalize(experiments).drop(columns=[\"commit\"])\n",
    "mask = (\n",
    "    (df[\"params.dataset.path\"] == \"bdsaglam/musique\")\n",
    "    & (df[\"metrics.f1\"] > 0.3)\n",
    ")\n",
    "\n",
    "df = df.loc[mask].copy()\n",
    "df.drop(columns=[col for col in df.columns if \"fuzzy\" in col], inplace=True)\n",
    "\n",
    "param_cols = [col for col in df.columns if col.startswith(\"params.\")]\n",
    "metric_cols = [col for col in df.columns if col.startswith(\"metrics.\")]\n",
    "df.dropna(subset=metric_cols[:2], inplace=True, how=\"any\")\n",
    "df.drop_duplicates(subset=param_cols + metric_cols, inplace=True)\n",
    "\n",
    "print(f\"{len(df)} experiments after preprocessing\")"
   ]
  },
  {
   "cell_type": "code",
   "execution_count": 35,
   "metadata": {},
   "outputs": [],
   "source": [
    "def parse_qa_technique(row):\n",
    "    base_technique = row[\"params.qa.system_prompt\"].split(\"/\")[0].replace(\".txt\", \"\").upper()\n",
    "    sc = int(row[\"params.qa.n_sc\"])\n",
    "    sc_suffix = f\"-SC({sc})\" if sc > 1 else \"\"\n",
    "    return f\"{base_technique}{sc_suffix}\"\n",
    "\n",
    "df[\"params.qa.technique\"] = df.apply(parse_qa_technique, axis=1)"
   ]
  },
  {
   "cell_type": "code",
   "execution_count": 36,
   "metadata": {},
   "outputs": [],
   "source": [
    "def sorted_tuple(x):\n",
    "    return tuple(sorted(x))\n",
    "\n",
    "\n",
    "run_counts = (\n",
    "    df.groupby(\n",
    "        [\n",
    "            \"params.qa.system_prompt\",\n",
    "            \"params.qa.user_prompt_template\",\n",
    "            \"params.qa.few_shot_examples\",\n",
    "            \"params.qa.n_shot\",\n",
    "            \"params.qa.n_sc\",\n",
    "            \"params.qa.temperature\",\n",
    "        ]\n",
    "    )[\"params.run\"]\n",
    "    .aggregate(sorted_tuple)\n",
    "    .reset_index()\n",
    ")\n",
    "# run_counts.loc[run_counts[\"params.run\"].map(len) != 3]"
   ]
  },
  {
   "cell_type": "code",
   "execution_count": 37,
   "metadata": {},
   "outputs": [
    {
     "name": "stdout",
     "output_type": "stream",
     "text": [
      "- params.qa.system_prompt\n",
      "\tccot/format-thought.txt\n",
      "\tcok/adapted.txt\n",
      "\tcot/format-thought.txt\n",
      "\tcte/format-sro-triples-few.txt\n",
      "\tcte/format-triples-ere-few.txt\n",
      "\tcte/format-triples-few.txt\n",
      "\tdirect/format-few.txt\n",
      "\tempty.txt\n",
      "- params.qa.user_prompt_template\n",
      "\tcq.txt\n",
      "\ticq-format.txt\n",
      "- params.qa.few_shot_examples\n",
      "\tmanual/ccot.json\n",
      "\tmanual/cok.json\n",
      "\tmanual/cot.json\n",
      "\tmanual/cte-triples.json\n",
      "\tempty.json\n",
      "\tmanual/direct.json\n",
      "\tsemi/direct.json\n",
      "- params.qa.n_shot\n",
      "\t0\n",
      "\t1\n",
      "- params.qa.n_sc\n",
      "\t1\n",
      "- params.qa.temperature\n",
      "\t0.0\n",
      "\t0.5\n",
      "\t1.0\n",
      "- params.run\n",
      "\t(1, 1, 1, 2, 2, 2, 3, 3, 3)\n",
      "\t(1, 1, 1, 2, 2, 2, 3, 3)\n",
      "\t(1, 1, 2, 2, 3, 3)\n",
      "\t(1, 1, 1, 2, 2, 3, 3)\n",
      "\t(1, 1, 1, 1, 2, 2, 2, 2, 3, 3, 3, 3)\n",
      "\t(1,)\n"
     ]
    }
   ],
   "source": [
    "for col in run_counts.columns:\n",
    "    print(f\"- {col}\")\n",
    "    for value in run_counts[col].unique():\n",
    "        print(f\"\\t{value}\")"
   ]
  },
  {
   "cell_type": "code",
   "execution_count": 38,
   "metadata": {},
   "outputs": [],
   "source": [
    "df.to_json('exps.jsonl', orient='records', lines=True)"
   ]
  }
 ],
 "metadata": {
  "kernelspec": {
   "display_name": "thesis",
   "language": "python",
   "name": "python3"
  },
  "language_info": {
   "codemirror_mode": {
    "name": "ipython",
    "version": 3
   },
   "file_extension": ".py",
   "mimetype": "text/x-python",
   "name": "python",
   "nbconvert_exporter": "python",
   "pygments_lexer": "ipython3",
   "version": "3.10.16"
  }
 },
 "nbformat": 4,
 "nbformat_minor": 2
}
