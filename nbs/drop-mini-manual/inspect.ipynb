{
 "cells": [
  {
   "cell_type": "code",
   "execution_count": 1,
   "metadata": {},
   "outputs": [],
   "source": [
    "import random\n",
    "import textwrap\n",
    "from pathlib import Path\n",
    "\n",
    "import matplotlib.pyplot as plt\n",
    "import pandas as pd\n",
    "from ipywidgets import HBox, widgets\n"
   ]
  },
  {
   "cell_type": "code",
   "execution_count": 2,
   "metadata": {},
   "outputs": [],
   "source": [
    "import tiktoken\n",
    "\n",
    "encoder = tiktoken.encoding_for_model(\"gpt-4o\")\n",
    "\n",
    "\n",
    "def count_tokens(text: str) -> int:\n",
    "    return len(encoder.encode(text))"
   ]
  },
  {
   "cell_type": "code",
   "execution_count": null,
   "metadata": {},
   "outputs": [],
   "source": [
    "df = pd.read_json('results/results-hated-fore.jsonl', lines=True)\n",
    "print(len(df))\n",
    "df.head()"
   ]
  },
  {
   "cell_type": "code",
   "execution_count": null,
   "metadata": {},
   "outputs": [],
   "source": [
    "row = df.iloc[0]\n",
    "row['hops'][0]"
   ]
  },
  {
   "cell_type": "code",
   "execution_count": 5,
   "metadata": {},
   "outputs": [],
   "source": [
    "df['generation'] = df['hops'].apply(lambda x: x[0]['qa_result']['generation'])\n",
    "df['gen_token_count'] = df['generation'].apply(lambda x: count_tokens(x))"
   ]
  },
  {
   "cell_type": "code",
   "execution_count": null,
   "metadata": {},
   "outputs": [],
   "source": [
    "success_mask = df['f1'] > 0.5\n",
    "fail_df = df[~success_mask]\n",
    "success_df = df[success_mask]\n",
    "print(\"Fail:\", len(fail_df))\n",
    "print(\"Success:\", len(success_df))\n",
    "print(\"Total:\", len(df))\n",
    "print(\"Mean F1:\", f\"{df['f1'].mean():.3f}\")"
   ]
  },
  {
   "cell_type": "code",
   "execution_count": null,
   "metadata": {},
   "outputs": [],
   "source": [
    "answered_mask = df['generation'].str.lower().str.contains('answer:')\n",
    "len(df.loc[~answered_mask]), f\"{len(df.loc[~answered_mask]) / len(df):.3f}\""
   ]
  },
  {
   "cell_type": "code",
   "execution_count": null,
   "metadata": {},
   "outputs": [],
   "source": [
    "# Plot the histogram\n",
    "ax = df['gen_token_count'].hist(bins=50)\n",
    "\n",
    "# Add lines for min, median, and max\n",
    "min_val = df['gen_token_count'].min()\n",
    "median_val = df['gen_token_count'].median()\n",
    "max_val = df['gen_token_count'].max()\n",
    "\n",
    "plt.axvline(min_val, color='r', linestyle='dashed', linewidth=1, label=f'Min: {min_val}')\n",
    "plt.axvline(median_val, color='g', linestyle='dashed', linewidth=1, label=f'Median: {median_val}')\n",
    "plt.axvline(max_val, color='b', linestyle='dashed', linewidth=1, label=f'Max: {max_val}')\n",
    "\n",
    "# Add legend\n",
    "plt.legend()\n",
    "\n",
    "# Show plot\n",
    "plt.show()"
   ]
  },
  {
   "cell_type": "code",
   "execution_count": 9,
   "metadata": {},
   "outputs": [],
   "source": [
    "def fixedwidth(text):\n",
    "    return \"\\n\".join(textwrap.wrap(text, width=80, replace_whitespace=False))\n",
    "\n",
    "def format_row(row):\n",
    "    context = row['hops'][0]['context']\n",
    "    question = row['hops'][0]['question']\n",
    "    generation = row['hops'][0]['qa_result']['generation']\n",
    "\n",
    "    output = []\n",
    "    output.append(f\"{row['id']} - {row['n_hops']} hops\")\n",
    "    output.append(\"=\"*80)\n",
    "    output.append(fixedwidth(context))\n",
    "    output.append(\"=\"*80)\n",
    "    output.append(\"Q: \" + question)\n",
    "    output.append(\"Reference Answers: \" + str(row['reference_answers']))\n",
    "    output.append(\"Predicted Answer: \" + row['predicted_answer'])\n",
    "    output.append(\"-\"*80)\n",
    "    output.append(\"Generation\")\n",
    "    output.append(\"-\"*80)\n",
    "    output.append(generation)\n",
    "    output.append(\"-\"*80)\n",
    "    output.append(\"# Scores\")\n",
    "    output.append(\"EM: {:.3f}\".format(row['exact_match']))\n",
    "    output.append(\"F1: {:.3f}\".format(row['f1']))\n",
    "    if 'analysis' in row:\n",
    "        output.append(\"\")\n",
    "        output.append(\"# Analysis\")\n",
    "        output.append(fixedwidth(row['analysis']))\n",
    "    return \"\\n\".join(output)\n",
    "\n",
    "def present_row(row):\n",
    "    print(format_row(row))\n",
    "\n",
    "\n",
    "def create_browse_app(df):\n",
    "    def browse_failed(i=0):\n",
    "        row = df.iloc[i]\n",
    "        present_row(row)\n",
    "\n",
    "    index = widgets.IntText(value=0, description='Index:')\n",
    "    left_button = widgets.Button(description='Previous')\n",
    "    right_button = widgets.Button(description='Next')\n",
    "\n",
    "    def on_left_button_clicked(b):\n",
    "        if index.value > 0:\n",
    "            index.value -= 1\n",
    "\n",
    "    def on_right_button_clicked(b):\n",
    "        if index.value < len(df) - 1:\n",
    "            index.value += 1\n",
    "\n",
    "    left_button.on_click(on_left_button_clicked)\n",
    "    right_button.on_click(on_right_button_clicked)\n",
    "\n",
    "    ui = HBox([left_button, index, right_button])\n",
    "    out = widgets.interactive_output(browse_failed, {'i': index})\n",
    "\n",
    "    display(ui, out)\n"
   ]
  },
  {
   "cell_type": "code",
   "execution_count": null,
   "metadata": {},
   "outputs": [],
   "source": [
    "inspect_df = fail_df.sort_values('f1')\n",
    "create_browse_app(inspect_df)"
   ]
  },
  {
   "cell_type": "code",
   "execution_count": null,
   "metadata": {},
   "outputs": [],
   "source": [
    "unanswered_df = df.loc[~answered_mask]\n",
    "create_browse_app(unanswered_df)"
   ]
  },
  {
   "cell_type": "code",
   "execution_count": null,
   "metadata": {},
   "outputs": [],
   "source": [
    "answered_failed_df = df.loc[answered_mask & ~success_mask]\n",
    "create_browse_app(answered_failed_df)"
   ]
  },
  {
   "cell_type": "code",
   "execution_count": null,
   "metadata": {},
   "outputs": [],
   "source": []
  }
 ],
 "metadata": {
  "kernelspec": {
   "display_name": "thesis",
   "language": "python",
   "name": "python3"
  },
  "language_info": {
   "codemirror_mode": {
    "name": "ipython",
    "version": 3
   },
   "file_extension": ".py",
   "mimetype": "text/x-python",
   "name": "python",
   "nbconvert_exporter": "python",
   "pygments_lexer": "ipython3",
   "version": "3.10.16"
  }
 },
 "nbformat": 4,
 "nbformat_minor": 4
}
