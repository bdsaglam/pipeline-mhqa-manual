{
 "cells": [
  {
   "cell_type": "code",
   "execution_count": 1,
   "metadata": {},
   "outputs": [],
   "source": [
    "import random\n",
    "import textwrap\n",
    "from pathlib import Path\n",
    "\n",
    "import matplotlib.pyplot as plt\n",
    "import pandas as pd\n",
    "from ipywidgets import HBox, widgets\n"
   ]
  },
  {
   "cell_type": "code",
   "execution_count": 2,
   "metadata": {},
   "outputs": [],
   "source": [
    "import tiktoken\n",
    "\n",
    "encoder = tiktoken.encoding_for_model(\"gpt-4o\")\n",
    "\n",
    "\n",
    "def count_tokens(text: str) -> int:\n",
    "    return len(encoder.encode(text))"
   ]
  },
  {
   "cell_type": "code",
   "execution_count": 3,
   "metadata": {},
   "outputs": [
    {
     "name": "stdout",
     "output_type": "stream",
     "text": [
      "100\n"
     ]
    },
    {
     "data": {
      "text/html": [
       "<div>\n",
       "<style scoped>\n",
       "    .dataframe tbody tr th:only-of-type {\n",
       "        vertical-align: middle;\n",
       "    }\n",
       "\n",
       "    .dataframe tbody tr th {\n",
       "        vertical-align: top;\n",
       "    }\n",
       "\n",
       "    .dataframe thead th {\n",
       "        text-align: right;\n",
       "    }\n",
       "</style>\n",
       "<table border=\"1\" class=\"dataframe\">\n",
       "  <thead>\n",
       "    <tr style=\"text-align: right;\">\n",
       "      <th></th>\n",
       "      <th>id</th>\n",
       "      <th>n_hops</th>\n",
       "      <th>answer</th>\n",
       "      <th>hops</th>\n",
       "      <th>predicted_answer</th>\n",
       "      <th>reference_answers</th>\n",
       "      <th>exact_match</th>\n",
       "      <th>f1</th>\n",
       "      <th>fuzzy_match</th>\n",
       "    </tr>\n",
       "  </thead>\n",
       "  <tbody>\n",
       "    <tr>\n",
       "      <th>0</th>\n",
       "      <td>nfl_1703-3a00b508-4c51-400b-9384-b07a5a3d9243</td>\n",
       "      <td>0</td>\n",
       "      <td>Geno Hayes and Aqib Talib each returned interc...</td>\n",
       "      <td>[{'question': 'Which players returned an inter...</td>\n",
       "      <td>Geno Hayes and Aqib Talib each returned interc...</td>\n",
       "      <td>[Geno Hayes returning an interception, 41 yard...</td>\n",
       "      <td>0</td>\n",
       "      <td>0.400000</td>\n",
       "      <td>0</td>\n",
       "    </tr>\n",
       "    <tr>\n",
       "      <th>1</th>\n",
       "      <td>nfl_3018-762534df-e45d-4fa6-a52f-f42aca01da50</td>\n",
       "      <td>0</td>\n",
       "      <td>The Eagles played 16 games in the season.</td>\n",
       "      <td>[{'question': 'How many games did Eagles play ...</td>\n",
       "      <td>The Eagles played 16 games in the season.</td>\n",
       "      <td>[11]</td>\n",
       "      <td>0</td>\n",
       "      <td>0.000000</td>\n",
       "      <td>0</td>\n",
       "    </tr>\n",
       "    <tr>\n",
       "      <th>2</th>\n",
       "      <td>nfl_1820-fc25086b-04e2-4fcb-add9-55f71eadfa46</td>\n",
       "      <td>0</td>\n",
       "      <td>32 yards.</td>\n",
       "      <td>[{'question': 'How many yards longer was David...</td>\n",
       "      <td>32 yards.</td>\n",
       "      <td>[32]</td>\n",
       "      <td>0</td>\n",
       "      <td>0.666667</td>\n",
       "      <td>0</td>\n",
       "    </tr>\n",
       "    <tr>\n",
       "      <th>3</th>\n",
       "      <td>nfl_817-f70fdd88-3525-4d9f-b647-cf4ac374126b</td>\n",
       "      <td>0</td>\n",
       "      <td>Jeff Wilkins and Joe Nedney each scored at lea...</td>\n",
       "      <td>[{'question': 'Which players scored at least t...</td>\n",
       "      <td>Jeff Wilkins and Joe Nedney each scored at lea...</td>\n",
       "      <td>[Jeff Wilkins, Joe Nedney]</td>\n",
       "      <td>0</td>\n",
       "      <td>0.500000</td>\n",
       "      <td>0</td>\n",
       "    </tr>\n",
       "    <tr>\n",
       "      <th>4</th>\n",
       "      <td>nfl_3030-26e97c4e-769b-4731-8256-3f7d1d47013a</td>\n",
       "      <td>0</td>\n",
       "      <td>6 points.</td>\n",
       "      <td>[{'question': 'How many points did the Bengals...</td>\n",
       "      <td>6 points.</td>\n",
       "      <td>[6]</td>\n",
       "      <td>0</td>\n",
       "      <td>0.666667</td>\n",
       "      <td>0</td>\n",
       "    </tr>\n",
       "  </tbody>\n",
       "</table>\n",
       "</div>"
      ],
      "text/plain": [
       "                                              id  n_hops  \\\n",
       "0  nfl_1703-3a00b508-4c51-400b-9384-b07a5a3d9243       0   \n",
       "1  nfl_3018-762534df-e45d-4fa6-a52f-f42aca01da50       0   \n",
       "2  nfl_1820-fc25086b-04e2-4fcb-add9-55f71eadfa46       0   \n",
       "3   nfl_817-f70fdd88-3525-4d9f-b647-cf4ac374126b       0   \n",
       "4  nfl_3030-26e97c4e-769b-4731-8256-3f7d1d47013a       0   \n",
       "\n",
       "                                              answer  \\\n",
       "0  Geno Hayes and Aqib Talib each returned interc...   \n",
       "1          The Eagles played 16 games in the season.   \n",
       "2                                          32 yards.   \n",
       "3  Jeff Wilkins and Joe Nedney each scored at lea...   \n",
       "4                                          6 points.   \n",
       "\n",
       "                                                hops  \\\n",
       "0  [{'question': 'Which players returned an inter...   \n",
       "1  [{'question': 'How many games did Eagles play ...   \n",
       "2  [{'question': 'How many yards longer was David...   \n",
       "3  [{'question': 'Which players scored at least t...   \n",
       "4  [{'question': 'How many points did the Bengals...   \n",
       "\n",
       "                                    predicted_answer  \\\n",
       "0  Geno Hayes and Aqib Talib each returned interc...   \n",
       "1          The Eagles played 16 games in the season.   \n",
       "2                                          32 yards.   \n",
       "3  Jeff Wilkins and Joe Nedney each scored at lea...   \n",
       "4                                          6 points.   \n",
       "\n",
       "                                   reference_answers  exact_match        f1  \\\n",
       "0  [Geno Hayes returning an interception, 41 yard...            0  0.400000   \n",
       "1                                               [11]            0  0.000000   \n",
       "2                                               [32]            0  0.666667   \n",
       "3                         [Jeff Wilkins, Joe Nedney]            0  0.500000   \n",
       "4                                                [6]            0  0.666667   \n",
       "\n",
       "   fuzzy_match  \n",
       "0            0  \n",
       "1            0  \n",
       "2            0  \n",
       "3            0  \n",
       "4            0  "
      ]
     },
     "execution_count": 3,
     "metadata": {},
     "output_type": "execute_result"
    }
   ],
   "source": [
    "df = pd.read_json('results/results-hated-fore.jsonl', lines=True)\n",
    "print(len(df))\n",
    "df.head()"
   ]
  },
  {
   "cell_type": "code",
   "execution_count": 4,
   "metadata": {},
   "outputs": [
    {
     "data": {
      "text/plain": [
       "{'question': 'Which players returned an interception for a touchdown?',\n",
       " 'query': 'Which players returned an interception for a touchdown?',\n",
       " 'retrieved_docs': [{'text': \"# \\nThe Cardinals' seventh game was an NFC duel with the Buccaneers at University of Phoenix Stadium. In the first quarter the Cardinals took the lead when QB Max Hall made a 3-yard TD pass to WR Larry Fitzgerald. The Buccaneers replied with OLB Geno Hayes returning an interception 41 yards for a touchdown. The Cardinals led again in the second quarter with RB Beanie Wells getting a 1-yard TD run, but the Buccaneers went on a scoring rally with QB Josh Freeman making a 47-yard TD pass to WR Mike Williams, and CB Aqib Talib returning an interception 45 yards for a touchdown. This was followed by kicker Connor Barth hitting a 21-yard field goal, and in the third quarter with RB LeGarrette Blount getting a 15-yard TD run. The Cardinals also went on a rally to take the lead back with RB LaRod Stephens-Howling making a 30-yard TD run, which was followed by ILB Gerald Hayes recovering a fumble and running 21 yards to the endzone for a touchdown. Then QB Derek Anderson found Fitzgerald on a 5-yard TD pass. The Buccaneers scored once more to take the win with Blount getting a 1-yard TD run. With the loss, Arizona recorded back to back losses for the first time since the 2008 season, and fell to 3-4.\",\n",
       "   'is_supporting': True,\n",
       "   'parent_id': 'nfl_1703-3a00b508-4c51-400b-9384-b07a5a3d9243',\n",
       "   'idx': 0}],\n",
       " 'context': \"# \\nThe Cardinals' seventh game was an NFC duel with the Buccaneers at University of Phoenix Stadium. In the first quarter the Cardinals took the lead when QB Max Hall made a 3-yard TD pass to WR Larry Fitzgerald. The Buccaneers replied with OLB Geno Hayes returning an interception 41 yards for a touchdown. The Cardinals led again in the second quarter with RB Beanie Wells getting a 1-yard TD run, but the Buccaneers went on a scoring rally with QB Josh Freeman making a 47-yard TD pass to WR Mike Williams, and CB Aqib Talib returning an interception 45 yards for a touchdown. This was followed by kicker Connor Barth hitting a 21-yard field goal, and in the third quarter with RB LeGarrette Blount getting a 15-yard TD run. The Cardinals also went on a rally to take the lead back with RB LaRod Stephens-Howling making a 30-yard TD run, which was followed by ILB Gerald Hayes recovering a fumble and running 21 yards to the endzone for a touchdown. Then QB Derek Anderson found Fitzgerald on a 5-yard TD pass. The Buccaneers scored once more to take the win with Blount getting a 1-yard TD run. With the loss, Arizona recorded back to back losses for the first time since the 2008 season, and fell to 3-4.\",\n",
       " 'answer': 'Geno Hayes and Aqib Talib each returned interceptions for touchdowns during the game.',\n",
       " 'qa_result': {'answer': 'Geno Hayes and Aqib Talib each returned interceptions for touchdowns during the game.',\n",
       "  'generation': \"Okay, so I need to figure out which players returned an interception for a touchdown in the Cardinals' seventh game against the Buccaneers. Let me go through the context step by step.\\n\\nFirst, the game was an NFC duel between the Cardinals and the Buccaneers at University of Phoenix Stadium. The context describes the scoring plays in each quarter.\\n\\nIn the first quarter, the Cardinals took the lead with a TD pass from Max Hall to Larry Fitzgerald. Then the Buccaneers responded with Geno Hayes returning an interception 41 yards for a touchdown. So that's one interception return for a TD by Geno Hayes.\\n\\nMoving to the second quarter, the Cardinals scored again with Beanie Wells' TD run. The Buccaneers then had a scoring rally: Josh Freeman threw a 47-yard TD pass to Mike Williams, and Aqib Talib returned an interception 45 yards for another touchdown. So here, Aqib Talib also had an interception return for a TD.\\n\\nIn the third quarter, the Cardinals tied the game with LaRod Stephens-Howling's 30-yard TD run. Then Gerald Hayes recovered a fumble and ran 21 yards for another touchdown. Wait, Gerald Hayes is an ILB, so that's a fumble recovery, not an interception. So that doesn't count for the question.\\n\\nFinally, the Buccaneers scored again with Blount's 1-yard TD run, securing their win. \\n\\nSo, from the context, two players returned interceptions for touchdowns: Geno Hayes and Aqib Talib. Each of them had interception returns for TDs during the game.\\n</think>\\n\\nGeno Hayes and Aqib Talib each returned interceptions for touchdowns during the game.\"}}"
      ]
     },
     "execution_count": 4,
     "metadata": {},
     "output_type": "execute_result"
    }
   ],
   "source": [
    "row = df.iloc[0]\n",
    "row['hops'][0]"
   ]
  },
  {
   "cell_type": "code",
   "execution_count": 5,
   "metadata": {},
   "outputs": [],
   "source": [
    "df['generation'] = df['hops'].apply(lambda x: x[0]['qa_result']['generation'])\n",
    "df['gen_token_count'] = df['generation'].apply(lambda x: count_tokens(x))"
   ]
  },
  {
   "cell_type": "code",
   "execution_count": 6,
   "metadata": {},
   "outputs": [
    {
     "name": "stdout",
     "output_type": "stream",
     "text": [
      "Fail: 59\n",
      "Success: 41\n",
      "Total: 100\n",
      "Mean F1: 0.414\n"
     ]
    }
   ],
   "source": [
    "success_mask = df['f1'] > 0.5\n",
    "fail_df = df[~success_mask]\n",
    "success_df = df[success_mask]\n",
    "print(\"Fail:\", len(fail_df))\n",
    "print(\"Success:\", len(success_df))\n",
    "print(\"Total:\", len(df))\n",
    "print(\"Mean F1:\", f\"{df['f1'].mean():.3f}\")"
   ]
  },
  {
   "cell_type": "code",
   "execution_count": 7,
   "metadata": {},
   "outputs": [
    {
     "data": {
      "text/plain": [
       "(18, '0.180')"
      ]
     },
     "execution_count": 7,
     "metadata": {},
     "output_type": "execute_result"
    }
   ],
   "source": [
    "answered_mask = df['generation'].str.lower().str.contains('answer:')\n",
    "len(df.loc[~answered_mask]), f\"{len(df.loc[~answered_mask]) / len(df):.3f}\""
   ]
  },
  {
   "cell_type": "code",
   "execution_count": 8,
   "metadata": {},
   "outputs": [
    {
     "data": {
      "image/png": "[encoded data removed]",
      "text/plain": [
       "<Figure size 640x480 with 1 Axes>"
      ]
     },
     "metadata": {},
     "output_type": "display_data"
    }
   ],
   "source": [
    "# Plot the histogram\n",
    "ax = df['gen_token_count'].hist(bins=50)\n",
    "\n",
    "# Add lines for min, median, and max\n",
    "min_val = df['gen_token_count'].min()\n",
    "median_val = df['gen_token_count'].median()\n",
    "max_val = df['gen_token_count'].max()\n",
    "\n",
    "plt.axvline(min_val, color='r', linestyle='dashed', linewidth=1, label=f'Min: {min_val}')\n",
    "plt.axvline(median_val, color='g', linestyle='dashed', linewidth=1, label=f'Median: {median_val}')\n",
    "plt.axvline(max_val, color='b', linestyle='dashed', linewidth=1, label=f'Max: {max_val}')\n",
    "\n",
    "# Add legend\n",
    "plt.legend()\n",
    "\n",
    "# Show plot\n",
    "plt.show()"
   ]
  },
  {
   "cell_type": "code",
   "execution_count": 9,
   "metadata": {},
   "outputs": [],
   "source": [
    "def fixedwidth(text):\n",
    "    return \"\\n\".join(textwrap.wrap(text, width=80, replace_whitespace=False))\n",
    "\n",
    "def format_row(row):\n",
    "    context = row['hops'][0]['context']\n",
    "    question = row['hops'][0]['question']\n",
    "    generation = row['hops'][0]['qa_result']['generation']\n",
    "\n",
    "    output = []\n",
    "    output.append(f\"{row['id']} - {row['n_hops']} hops\")\n",
    "    output.append(\"=\"*80)\n",
    "    output.append(fixedwidth(context))\n",
    "    output.append(\"=\"*80)\n",
    "    output.append(\"Q: \" + question)\n",
    "    output.append(\"Reference Answers: \" + str(row['reference_answers']))\n",
    "    output.append(\"Predicted Answer: \" + row['predicted_answer'])\n",
    "    output.append(\"-\"*80)\n",
    "    output.append(\"Generation\")\n",
    "    output.append(\"-\"*80)\n",
    "    output.append(generation)\n",
    "    output.append(\"-\"*80)\n",
    "    output.append(\"# Scores\")\n",
    "    output.append(\"EM: {:.3f}\".format(row['exact_match']))\n",
    "    output.append(\"F1: {:.3f}\".format(row['f1']))\n",
    "    if 'analysis' in row:\n",
    "        output.append(\"\")\n",
    "        output.append(\"# Analysis\")\n",
    "        output.append(fixedwidth(row['analysis']))\n",
    "    return \"\\n\".join(output)\n",
    "\n",
    "def present_row(row):\n",
    "    print(format_row(row))\n",
    "\n",
    "\n",
    "def create_browse_app(df):\n",
    "    def browse_failed(i=0):\n",
    "        row = df.iloc[i]\n",
    "        present_row(row)\n",
    "\n",
    "    index = widgets.IntText(value=0, description='Index:')\n",
    "    left_button = widgets.Button(description='Previous')\n",
    "    right_button = widgets.Button(description='Next')\n",
    "\n",
    "    def on_left_button_clicked(b):\n",
    "        if index.value > 0:\n",
    "            index.value -= 1\n",
    "\n",
    "    def on_right_button_clicked(b):\n",
    "        if index.value < len(df) - 1:\n",
    "            index.value += 1\n",
    "\n",
    "    left_button.on_click(on_left_button_clicked)\n",
    "    right_button.on_click(on_right_button_clicked)\n",
    "\n",
    "    ui = HBox([left_button, index, right_button])\n",
    "    out = widgets.interactive_output(browse_failed, {'i': index})\n",
    "\n",
    "    display(ui, out)\n"
   ]
  },
  {
   "cell_type": "code",
   "execution_count": 10,
   "metadata": {},
   "outputs": [
    {
     "data": {
      "application/vnd.jupyter.widget-view+json": {
       "model_id": "76ca6fc41c5a470ea4e36ebfc30859fa",
       "version_major": 2,
       "version_minor": 0
      },
      "text/plain": [
       "HBox(children=(Button(description='Previous', style=ButtonStyle()), IntText(value=0, description='Index:'), Bu…"
      ]
     },
     "metadata": {},
     "output_type": "display_data"
    },
    {
     "data": {
      "application/vnd.jupyter.widget-view+json": {
       "model_id": "248d60d7630f4f729faad1712c7d5167",
       "version_major": 2,
       "version_minor": 0
      },
      "text/plain": [
       "Output()"
      ]
     },
     "metadata": {},
     "output_type": "display_data"
    }
   ],
   "source": [
    "inspect_df = fail_df.sort_values('f1')\n",
    "create_browse_app(inspect_df)"
   ]
  },
  {
   "cell_type": "code",
   "execution_count": 11,
   "metadata": {},
   "outputs": [
    {
     "data": {
      "application/vnd.jupyter.widget-view+json": {
       "model_id": "e841f3159d4b4a98810d4e10fe233033",
       "version_major": 2,
       "version_minor": 0
      },
      "text/plain": [
       "HBox(children=(Button(description='Previous', style=ButtonStyle()), IntText(value=0, description='Index:'), Bu…"
      ]
     },
     "metadata": {},
     "output_type": "display_data"
    },
    {
     "data": {
      "application/vnd.jupyter.widget-view+json": {
       "model_id": "24816464dfc342ad9a996d09fd71aa88",
       "version_major": 2,
       "version_minor": 0
      },
      "text/plain": [
       "Output()"
      ]
     },
     "metadata": {},
     "output_type": "display_data"
    }
   ],
   "source": [
    "unanswered_df = df.loc[~answered_mask]\n",
    "create_browse_app(unanswered_df)"
   ]
  },
  {
   "cell_type": "code",
   "execution_count": 12,
   "metadata": {},
   "outputs": [
    {
     "data": {
      "application/vnd.jupyter.widget-view+json": {
       "model_id": "cb0608ddfe6c458581dcd38224e46ca6",
       "version_major": 2,
       "version_minor": 0
      },
      "text/plain": [
       "HBox(children=(Button(description='Previous', style=ButtonStyle()), IntText(value=0, description='Index:'), Bu…"
      ]
     },
     "metadata": {},
     "output_type": "display_data"
    },
    {
     "data": {
      "application/vnd.jupyter.widget-view+json": {
       "model_id": "bdf56b1393194befb816366a5763a6df",
       "version_major": 2,
       "version_minor": 0
      },
      "text/plain": [
       "Output()"
      ]
     },
     "metadata": {},
     "output_type": "display_data"
    }
   ],
   "source": [
    "answered_failed_df = df.loc[answered_mask & ~success_mask]\n",
    "create_browse_app(answered_failed_df)"
   ]
  },
  {
   "cell_type": "code",
   "execution_count": null,
   "metadata": {},
   "outputs": [],
   "source": []
  }
 ],
 "metadata": {
  "kernelspec": {
   "display_name": "Python 3 (ipykernel)",
   "language": "python",
   "name": "python3"
  },
  "language_info": {
   "codemirror_mode": {
    "name": "ipython",
    "version": 3
   },
   "file_extension": ".py",
   "mimetype": "text/x-python",
   "name": "python",
   "nbconvert_exporter": "python",
   "pygments_lexer": "ipython3",
   "version": "3.10.16"
  }
 },
 "nbformat": 4,
 "nbformat_minor": 4
}
